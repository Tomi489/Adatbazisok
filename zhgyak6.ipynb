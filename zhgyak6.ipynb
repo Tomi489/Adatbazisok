{
    "metadata": {
        "kernelspec": {
            "name": "SQL",
            "display_name": "SQL",
            "language": "sql"
        },
        "language_info": {
            "name": "sql",
            "version": ""
        }
    },
    "nbformat_minor": 2,
    "nbformat": 4,
    "cells": [
        {
            "cell_type": "code",
            "source": [
                "SELECT  IIF(v.USERNEV is NULL, 'Végösszeg' , v.USERNEV), v.USERNEV, COUNT(DISTINCT szh.SZALLAS_ID) \r\n",
                "FROM Vendeg v \r\n",
                " LEFT JOIN Foglalas f On v.USERNEV=f.UGYFEL_FK\r\n",
                " LEFT JOIN Szoba sz On f.SZOBA_FK=sz.SZOBA_ID\r\n",
                " LEFT JOIN Szallashely szh ON sz.SZALLAS_FK =szh.SZALLAS_ID\r\n",
                " GROUP BY Rollup(v.USERNEV)"
            ],
            "metadata": {
                "azdata_cell_guid": "f23c6617-10cb-474b-914f-353b7ec56bfc",
                "language": "sql"
            },
            "outputs": [
                {
                    "output_type": "display_data",
                    "data": {
                        "text/html": "Warning: Null value is eliminated by an aggregate or other SET operation."
                    },
                    "metadata": {}
                },
                {
                    "output_type": "display_data",
                    "data": {
                        "text/html": "(197 rows affected)"
                    },
                    "metadata": {}
                },
                {
                    "output_type": "display_data",
                    "data": {
                        "text/html": "Total execution time: 00:00:00.020"
                    },
                    "metadata": {}
                },
                {
                    "output_type": "execute_result",
                    "metadata": {},
                    "execution_count": 2,
                    "data": {
                        "application/vnd.dataresource+json": {
                            "schema": {
                                "fields": [
                                    {
                                        "name": "(No column name)"
                                    },
                                    {
                                        "name": "USERNEV"
                                    },
                                    {
                                        "name": "(No column name)"
                                    }
                                ]
                            },
                            "data": [
                                {
                                    "(No column name)": "2",
                                    "USERNEV": "adam1"
                                },
                                {
                                    "(No column name)": "2",
                                    "USERNEV": "adam3"
                                },
                                {
                                    "(No column name)": "5",
                                    "USERNEV": "adam4"
                                },
                                {
                                    "(No column name)": "4",
                                    "USERNEV": "agnes"
                                },
                                {
                                    "(No column name)": "3",
                                    "USERNEV": "agnes3"
                                },
                                {
                                    "(No column name)": "5",
                                    "USERNEV": "AGNESH"
                                },
                                {
                                    "(No column name)": "3",
                                    "USERNEV": "AGNESK"
                                },
                                {
                                    "(No column name)": "7",
                                    "USERNEV": "akos"
                                },
                                {
                                    "(No column name)": "3",
                                    "USERNEV": "aladar"
                                },
                                {
                                    "(No column name)": "6",
                                    "USERNEV": "alexandra"
                                },
                                {
                                    "(No column name)": "4",
                                    "USERNEV": "andi"
                                },
                                {
                                    "(No column name)": "3",
                                    "USERNEV": "andras2"
                                },
                                {
                                    "(No column name)": "6",
                                    "USERNEV": "andras21"
                                },
                                {
                                    "(No column name)": "5",
                                    "USERNEV": "andras3"
                                },
                                {
                                    "(No column name)": "2",
                                    "USERNEV": "andras4"
                                },
                                {
                                    "(No column name)": "5",
                                    "USERNEV": "andras41"
                                },
                                {
                                    "(No column name)": "3",
                                    "USERNEV": "ANDRASE"
                                },
                                {
                                    "(No column name)": "1",
                                    "USERNEV": "ANDRASN"
                                },
                                {
                                    "(No column name)": "4",
                                    "USERNEV": "andrea"
                                },
                                {
                                    "(No column name)": "1",
                                    "USERNEV": "andrea3"
                                },
                                {
                                    "(No column name)": "2",
                                    "USERNEV": "andrea4"
                                },
                                {
                                    "(No column name)": "2",
                                    "USERNEV": "ANDREAT"
                                },
                                {
                                    "(No column name)": "6",
                                    "USERNEV": "anett3"
                                },
                                {
                                    "(No column name)": "3",
                                    "USERNEV": "aniko"
                                },
                                {
                                    "(No column name)": "3",
                                    "USERNEV": "aniko4"
                                },
                                {
                                    "(No column name)": "6",
                                    "USERNEV": "ANIKOS"
                                },
                                {
                                    "(No column name)": "4",
                                    "USERNEV": "anita"
                                },
                                {
                                    "(No column name)": "1",
                                    "USERNEV": "annamaria1"
                                },
                                {
                                    "(No column name)": "5",
                                    "USERNEV": "ANNAMARIAR"
                                },
                                {
                                    "(No column name)": "5",
                                    "USERNEV": "aron2"
                                },
                                {
                                    "(No column name)": "8",
                                    "USERNEV": "ARONK"
                                },
                                {
                                    "(No column name)": "4",
                                    "USERNEV": "arpad2"
                                },
                                {
                                    "(No column name)": "3",
                                    "USERNEV": "ARPADH"
                                },
                                {
                                    "(No column name)": "5",
                                    "USERNEV": "ARPADM"
                                },
                                {
                                    "(No column name)": "3",
                                    "USERNEV": "attila"
                                },
                                {
                                    "(No column name)": "5",
                                    "USERNEV": "attila1"
                                },
                                {
                                    "(No column name)": "3",
                                    "USERNEV": "attila4"
                                },
                                {
                                    "(No column name)": "2",
                                    "USERNEV": "ATTILAO"
                                },
                                {
                                    "(No column name)": "6",
                                    "USERNEV": "balazs1"
                                },
                                {
                                    "(No column name)": "8",
                                    "USERNEV": "balazs2"
                                },
                                {
                                    "(No column name)": "4",
                                    "USERNEV": "balazs3"
                                },
                                {
                                    "(No column name)": "3",
                                    "USERNEV": "balint"
                                },
                                {
                                    "(No column name)": "9",
                                    "USERNEV": "balint1"
                                },
                                {
                                    "(No column name)": "1",
                                    "USERNEV": "balint2"
                                },
                                {
                                    "(No column name)": "2",
                                    "USERNEV": "balu"
                                },
                                {
                                    "(No column name)": "4",
                                    "USERNEV": "beata4"
                                },
                                {
                                    "(No column name)": "7",
                                    "USERNEV": "BEATRIXK"
                                },
                                {
                                    "(No column name)": "5",
                                    "USERNEV": "BEATRIXS"
                                },
                                {
                                    "(No column name)": "3",
                                    "USERNEV": "BELAF"
                                },
                                {
                                    "(No column name)": "6",
                                    "USERNEV": "bence"
                                },
                                {
                                    "(No column name)": "4",
                                    "USERNEV": "BENCEB"
                                },
                                {
                                    "(No column name)": "5",
                                    "USERNEV": "bernadett1"
                                },
                                {
                                    "(No column name)": "5",
                                    "USERNEV": "bernadett2"
                                },
                                {
                                    "(No column name)": "6",
                                    "USERNEV": "BERNADETTO"
                                },
                                {
                                    "(No column name)": "4",
                                    "USERNEV": "bertalan"
                                },
                                {
                                    "(No column name)": "4",
                                    "USERNEV": "brigitta"
                                },
                                {
                                    "(No column name)": "4",
                                    "USERNEV": "brigitta3"
                                },
                                {
                                    "(No column name)": "6",
                                    "USERNEV": "csongor3"
                                },
                                {
                                    "(No column name)": "6",
                                    "USERNEV": "dani"
                                },
                                {
                                    "(No column name)": "5",
                                    "USERNEV": "daniel"
                                },
                                {
                                    "(No column name)": "5",
                                    "USERNEV": "daniel1"
                                },
                                {
                                    "(No column name)": "6",
                                    "USERNEV": "david"
                                },
                                {
                                    "(No column name)": "5",
                                    "USERNEV": "david1"
                                },
                                {
                                    "(No column name)": "1",
                                    "USERNEV": "david4"
                                },
                                {
                                    "(No column name)": "4",
                                    "USERNEV": "debora"
                                },
                                {
                                    "(No column name)": "3",
                                    "USERNEV": "denes"
                                },
                                {
                                    "(No column name)": "4",
                                    "USERNEV": "dora3"
                                },
                                {
                                    "(No column name)": "5",
                                    "USERNEV": "edit"
                                },
                                {
                                    "(No column name)": "3",
                                    "USERNEV": "emese"
                                },
                                {
                                    "(No column name)": "4",
                                    "USERNEV": "eszter"
                                },
                                {
                                    "(No column name)": "5",
                                    "USERNEV": "eszter2"
                                },
                                {
                                    "(No column name)": "3",
                                    "USERNEV": "eszter4"
                                },
                                {
                                    "(No column name)": "3",
                                    "USERNEV": "ESZTERE"
                                },
                                {
                                    "(No column name)": "2",
                                    "USERNEV": "eva"
                                },
                                {
                                    "(No column name)": "3",
                                    "USERNEV": "eva2"
                                },
                                {
                                    "(No column name)": "4",
                                    "USERNEV": "EVAV"
                                },
                                {
                                    "(No column name)": "4",
                                    "USERNEV": "ferenc1"
                                },
                                {
                                    "(No column name)": "5",
                                    "USERNEV": "fruzsina4"
                                },
                                {
                                    "(No column name)": "5",
                                    "USERNEV": "gabor1"
                                },
                                {
                                    "(No column name)": "4",
                                    "USERNEV": "gabor4"
                                },
                                {
                                    "(No column name)": "0",
                                    "USERNEV": "GABORS"
                                },
                                {
                                    "(No column name)": "4",
                                    "USERNEV": "gabriella1"
                                },
                                {
                                    "(No column name)": "1",
                                    "USERNEV": "gabriella10"
                                },
                                {
                                    "(No column name)": "4",
                                    "USERNEV": "georgij"
                                },
                                {
                                    "(No column name)": "5",
                                    "USERNEV": "gusztav"
                                },
                                {
                                    "(No column name)": "7",
                                    "USERNEV": "GYONGYIK"
                                },
                                {
                                    "(No column name)": "3",
                                    "USERNEV": "GYORGYO"
                                },
                                {
                                    "(No column name)": "3",
                                    "USERNEV": "henrik3"
                                },
                                {
                                    "(No column name)": "2",
                                    "USERNEV": "IBOLYAA"
                                },
                                {
                                    "(No column name)": "2",
                                    "USERNEV": "ilona3"
                                },
                                {
                                    "(No column name)": "2",
                                    "USERNEV": "imre"
                                },
                                {
                                    "(No column name)": "4",
                                    "USERNEV": "imre1"
                                },
                                {
                                    "(No column name)": "3",
                                    "USERNEV": "istvan"
                                },
                                {
                                    "(No column name)": "4",
                                    "USERNEV": "istvan1"
                                },
                                {
                                    "(No column name)": "2",
                                    "USERNEV": "ISTVANV"
                                },
                                {
                                    "(No column name)": "5",
                                    "USERNEV": "janos3"
                                },
                                {
                                    "(No column name)": "3",
                                    "USERNEV": "JANOSG"
                                },
                                {
                                    "(No column name)": "3",
                                    "USERNEV": "JANOSP"
                                },
                                {
                                    "(No column name)": "3",
                                    "USERNEV": "jozsef"
                                },
                                {
                                    "(No column name)": "3",
                                    "USERNEV": "jozsef2"
                                },
                                {
                                    "(No column name)": "5",
                                    "USERNEV": "JOZSEFG"
                                },
                                {
                                    "(No column name)": "3",
                                    "USERNEV": "JUDITH"
                                },
                                {
                                    "(No column name)": "2",
                                    "USERNEV": "julia"
                                },
                                {
                                    "(No column name)": "2",
                                    "USERNEV": "julia4"
                                },
                                {
                                    "(No column name)": "4",
                                    "USERNEV": "julianna4"
                                },
                                {
                                    "(No column name)": "5",
                                    "USERNEV": "kata"
                                },
                                {
                                    "(No column name)": "6",
                                    "USERNEV": "katalin"
                                },
                                {
                                    "(No column name)": "3",
                                    "USERNEV": "katalin4"
                                },
                                {
                                    "(No column name)": "4",
                                    "USERNEV": "kati"
                                },
                                {
                                    "(No column name)": "4",
                                    "USERNEV": "katka"
                                },
                                {
                                    "(No column name)": "3",
                                    "USERNEV": "klaudia2"
                                },
                                {
                                    "(No column name)": "3",
                                    "USERNEV": "kornel4"
                                },
                                {
                                    "(No column name)": "2",
                                    "USERNEV": "kristof4"
                                },
                                {
                                    "(No column name)": "6",
                                    "USERNEV": "kriszti"
                                },
                                {
                                    "(No column name)": "6",
                                    "USERNEV": "krisztian4"
                                },
                                {
                                    "(No column name)": "6",
                                    "USERNEV": "KRISZTIANM"
                                },
                                {
                                    "(No column name)": "5",
                                    "USERNEV": "krisztina"
                                },
                                {
                                    "(No column name)": "4",
                                    "USERNEV": "krisztina1"
                                },
                                {
                                    "(No column name)": "5",
                                    "USERNEV": "KRISZTINAG"
                                },
                                {
                                    "(No column name)": "3",
                                    "USERNEV": "lajos"
                                },
                                {
                                    "(No column name)": "5",
                                    "USERNEV": "lala"
                                },
                                {
                                    "(No column name)": "1",
                                    "USERNEV": "laszlo1"
                                },
                                {
                                    "(No column name)": "5",
                                    "USERNEV": "laszlo2"
                                },
                                {
                                    "(No column name)": "3",
                                    "USERNEV": "LASZLOA"
                                },
                                {
                                    "(No column name)": "5",
                                    "USERNEV": "LASZLON"
                                },
                                {
                                    "(No column name)": "6",
                                    "USERNEV": "maria1"
                                },
                                {
                                    "(No column name)": "3",
                                    "USERNEV": "mark"
                                },
                                {
                                    "(No column name)": "2",
                                    "USERNEV": "MARKH"
                                },
                                {
                                    "(No column name)": "6",
                                    "USERNEV": "marton"
                                },
                                {
                                    "(No column name)": "3",
                                    "USERNEV": "MATEK"
                                },
                                {
                                    "(No column name)": "2",
                                    "USERNEV": "matyas2"
                                },
                                {
                                    "(No column name)": "5",
                                    "USERNEV": "MATYASS"
                                },
                                {
                                    "(No column name)": "4",
                                    "USERNEV": "MIHALYJ"
                                },
                                {
                                    "(No column name)": "3",
                                    "USERNEV": "miklos2"
                                },
                                {
                                    "(No column name)": "3",
                                    "USERNEV": "MIKLOSB"
                                },
                                {
                                    "(No column name)": "5",
                                    "USERNEV": "MONIKAM"
                                },
                                {
                                    "(No column name)": "2",
                                    "USERNEV": "NANDORF"
                                },
                                {
                                    "(No column name)": "4",
                                    "USERNEV": "nikolett3"
                                },
                                {
                                    "(No column name)": "4",
                                    "USERNEV": "nikoletta4"
                                },
                                {
                                    "(No column name)": "4",
                                    "USERNEV": "NIKOLETTAT"
                                },
                                {
                                    "(No column name)": "4",
                                    "USERNEV": "norbert"
                                },
                                {
                                    "(No column name)": "5",
                                    "USERNEV": "norbert2"
                                },
                                {
                                    "(No column name)": "5",
                                    "USERNEV": "norbert4"
                                },
                                {
                                    "(No column name)": "2",
                                    "USERNEV": "norbert5"
                                },
                                {
                                    "(No column name)": "3",
                                    "USERNEV": "pal"
                                },
                                {
                                    "(No column name)": "3",
                                    "USERNEV": "peter1"
                                },
                                {
                                    "(No column name)": "4",
                                    "USERNEV": "peter2"
                                },
                                {
                                    "(No column name)": "3",
                                    "USERNEV": "peter3"
                                },
                                {
                                    "(No column name)": "7",
                                    "USERNEV": "peter4"
                                },
                                {
                                    "(No column name)": "3",
                                    "USERNEV": "PETERB"
                                },
                                {
                                    "(No column name)": "4",
                                    "USERNEV": "polla"
                                },
                                {
                                    "(No column name)": "4",
                                    "USERNEV": "rajmond4"
                                },
                                {
                                    "(No column name)": "4",
                                    "USERNEV": "reka4"
                                },
                                {
                                    "(No column name)": "5",
                                    "USERNEV": "RENATAK"
                                },
                                {
                                    "(No column name)": "3",
                                    "USERNEV": "RENATAS"
                                },
                                {
                                    "(No column name)": "4",
                                    "USERNEV": "robert2"
                                },
                                {
                                    "(No column name)": "4",
                                    "USERNEV": "ROBERTI"
                                },
                                {
                                    "(No column name)": "2",
                                    "USERNEV": "ROBERTP"
                                },
                                {
                                    "(No column name)": "3",
                                    "USERNEV": "roland"
                                },
                                {
                                    "(No column name)": "4",
                                    "USERNEV": "roland1"
                                },
                                {
                                    "(No column name)": "3",
                                    "USERNEV": "roza2"
                                },
                                {
                                    "(No column name)": "4",
                                    "USERNEV": "sandor"
                                },
                                {
                                    "(No column name)": "3",
                                    "USERNEV": "sandor3"
                                },
                                {
                                    "(No column name)": "3",
                                    "USERNEV": "sandor4"
                                },
                                {
                                    "(No column name)": "9",
                                    "USERNEV": "sara"
                                },
                                {
                                    "(No column name)": "3",
                                    "USERNEV": "SEBASTIANF"
                                },
                                {
                                    "(No column name)": "2",
                                    "USERNEV": "sebestyen"
                                },
                                {
                                    "(No column name)": "1",
                                    "USERNEV": "szabolcs"
                                },
                                {
                                    "(No column name)": "4",
                                    "USERNEV": "SZABOLCSM"
                                },
                                {
                                    "(No column name)": "5",
                                    "USERNEV": "SZILARDS"
                                },
                                {
                                    "(No column name)": "6",
                                    "USERNEV": "szilvia1"
                                },
                                {
                                    "(No column name)": "2",
                                    "USERNEV": "tamara2"
                                },
                                {
                                    "(No column name)": "4",
                                    "USERNEV": "tamas"
                                },
                                {
                                    "(No column name)": "6",
                                    "USERNEV": "TAMASF"
                                },
                                {
                                    "(No column name)": "2",
                                    "USERNEV": "tibor"
                                },
                                {
                                    "(No column name)": "1",
                                    "USERNEV": "tibor2"
                                },
                                {
                                    "(No column name)": "4",
                                    "USERNEV": "tihamer"
                                },
                                {
                                    "(No column name)": "1",
                                    "USERNEV": "timea"
                                },
                                {
                                    "(No column name)": "5",
                                    "USERNEV": "timea2"
                                },
                                {
                                    "(No column name)": "7",
                                    "USERNEV": "tunde"
                                },
                                {
                                    "(No column name)": "5",
                                    "USERNEV": "valentin"
                                },
                                {
                                    "(No column name)": "4",
                                    "USERNEV": "veronika4"
                                },
                                {
                                    "(No column name)": "4",
                                    "USERNEV": "VIKTORIAU"
                                },
                                {
                                    "(No column name)": "2",
                                    "USERNEV": "VIKTORK"
                                },
                                {
                                    "(No column name)": "5",
                                    "USERNEV": "vivien3"
                                },
                                {
                                    "(No column name)": "2",
                                    "USERNEV": "zoltan"
                                },
                                {
                                    "(No column name)": "5",
                                    "USERNEV": "zoltan4"
                                },
                                {
                                    "(No column name)": "3",
                                    "USERNEV": "ZOLTANP"
                                },
                                {
                                    "(No column name)": "2",
                                    "USERNEV": "ZOLTANT"
                                },
                                {
                                    "(No column name)": "2",
                                    "USERNEV": "zsofi1"
                                },
                                {
                                    "(No column name)": "2",
                                    "USERNEV": "zsolt1"
                                },
                                {
                                    "(No column name)": "6",
                                    "USERNEV": "ZSOLTJ"
                                },
                                {
                                    "(No column name)": "2",
                                    "USERNEV": "zsuzsa"
                                },
                                {
                                    "(No column name)": "4",
                                    "USERNEV": "zsuzsa3"
                                },
                                {
                                    "(No column name)": "4",
                                    "USERNEV": "zsuzsanna"
                                },
                                {
                                    "(No column name)": "5",
                                    "USERNEV": "ZSUZSAV"
                                },
                                {
                                    "(No column name)": "12",
                                    "USERNEV": "NULL"
                                }
                            ]
                        },
                        "text/html": [
                            "<table>",
                            "<tr><th>(No column name)</th><th>USERNEV</th><th>(No column name)</th></tr>",
                            "<tr><td>adam1</td><td>adam1</td><td>2</td></tr>",
                            "<tr><td>adam3</td><td>adam3</td><td>2</td></tr>",
                            "<tr><td>adam4</td><td>adam4</td><td>5</td></tr>",
                            "<tr><td>agnes</td><td>agnes</td><td>4</td></tr>",
                            "<tr><td>agnes3</td><td>agnes3</td><td>3</td></tr>",
                            "<tr><td>AGNESH</td><td>AGNESH</td><td>5</td></tr>",
                            "<tr><td>AGNESK</td><td>AGNESK</td><td>3</td></tr>",
                            "<tr><td>akos</td><td>akos</td><td>7</td></tr>",
                            "<tr><td>aladar</td><td>aladar</td><td>3</td></tr>",
                            "<tr><td>alexandra</td><td>alexandra</td><td>6</td></tr>",
                            "<tr><td>andi</td><td>andi</td><td>4</td></tr>",
                            "<tr><td>andras2</td><td>andras2</td><td>3</td></tr>",
                            "<tr><td>andras21</td><td>andras21</td><td>6</td></tr>",
                            "<tr><td>andras3</td><td>andras3</td><td>5</td></tr>",
                            "<tr><td>andras4</td><td>andras4</td><td>2</td></tr>",
                            "<tr><td>andras41</td><td>andras41</td><td>5</td></tr>",
                            "<tr><td>ANDRASE</td><td>ANDRASE</td><td>3</td></tr>",
                            "<tr><td>ANDRASN</td><td>ANDRASN</td><td>1</td></tr>",
                            "<tr><td>andrea</td><td>andrea</td><td>4</td></tr>",
                            "<tr><td>andrea3</td><td>andrea3</td><td>1</td></tr>",
                            "<tr><td>andrea4</td><td>andrea4</td><td>2</td></tr>",
                            "<tr><td>ANDREAT</td><td>ANDREAT</td><td>2</td></tr>",
                            "<tr><td>anett3</td><td>anett3</td><td>6</td></tr>",
                            "<tr><td>aniko</td><td>aniko</td><td>3</td></tr>",
                            "<tr><td>aniko4</td><td>aniko4</td><td>3</td></tr>",
                            "<tr><td>ANIKOS</td><td>ANIKOS</td><td>6</td></tr>",
                            "<tr><td>anita</td><td>anita</td><td>4</td></tr>",
                            "<tr><td>annamaria1</td><td>annamaria1</td><td>1</td></tr>",
                            "<tr><td>ANNAMARIAR</td><td>ANNAMARIAR</td><td>5</td></tr>",
                            "<tr><td>aron2</td><td>aron2</td><td>5</td></tr>",
                            "<tr><td>ARONK</td><td>ARONK</td><td>8</td></tr>",
                            "<tr><td>arpad2</td><td>arpad2</td><td>4</td></tr>",
                            "<tr><td>ARPADH</td><td>ARPADH</td><td>3</td></tr>",
                            "<tr><td>ARPADM</td><td>ARPADM</td><td>5</td></tr>",
                            "<tr><td>attila</td><td>attila</td><td>3</td></tr>",
                            "<tr><td>attila1</td><td>attila1</td><td>5</td></tr>",
                            "<tr><td>attila4</td><td>attila4</td><td>3</td></tr>",
                            "<tr><td>ATTILAO</td><td>ATTILAO</td><td>2</td></tr>",
                            "<tr><td>balazs1</td><td>balazs1</td><td>6</td></tr>",
                            "<tr><td>balazs2</td><td>balazs2</td><td>8</td></tr>",
                            "<tr><td>balazs3</td><td>balazs3</td><td>4</td></tr>",
                            "<tr><td>balint</td><td>balint</td><td>3</td></tr>",
                            "<tr><td>balint1</td><td>balint1</td><td>9</td></tr>",
                            "<tr><td>balint2</td><td>balint2</td><td>1</td></tr>",
                            "<tr><td>balu</td><td>balu</td><td>2</td></tr>",
                            "<tr><td>beata4</td><td>beata4</td><td>4</td></tr>",
                            "<tr><td>BEATRIXK</td><td>BEATRIXK</td><td>7</td></tr>",
                            "<tr><td>BEATRIXS</td><td>BEATRIXS</td><td>5</td></tr>",
                            "<tr><td>BELAF</td><td>BELAF</td><td>3</td></tr>",
                            "<tr><td>bence</td><td>bence</td><td>6</td></tr>",
                            "<tr><td>BENCEB</td><td>BENCEB</td><td>4</td></tr>",
                            "<tr><td>bernadett1</td><td>bernadett1</td><td>5</td></tr>",
                            "<tr><td>bernadett2</td><td>bernadett2</td><td>5</td></tr>",
                            "<tr><td>BERNADETTO</td><td>BERNADETTO</td><td>6</td></tr>",
                            "<tr><td>bertalan</td><td>bertalan</td><td>4</td></tr>",
                            "<tr><td>brigitta</td><td>brigitta</td><td>4</td></tr>",
                            "<tr><td>brigitta3</td><td>brigitta3</td><td>4</td></tr>",
                            "<tr><td>csongor3</td><td>csongor3</td><td>6</td></tr>",
                            "<tr><td>dani</td><td>dani</td><td>6</td></tr>",
                            "<tr><td>daniel</td><td>daniel</td><td>5</td></tr>",
                            "<tr><td>daniel1</td><td>daniel1</td><td>5</td></tr>",
                            "<tr><td>david</td><td>david</td><td>6</td></tr>",
                            "<tr><td>david1</td><td>david1</td><td>5</td></tr>",
                            "<tr><td>david4</td><td>david4</td><td>1</td></tr>",
                            "<tr><td>debora</td><td>debora</td><td>4</td></tr>",
                            "<tr><td>denes</td><td>denes</td><td>3</td></tr>",
                            "<tr><td>dora3</td><td>dora3</td><td>4</td></tr>",
                            "<tr><td>edit</td><td>edit</td><td>5</td></tr>",
                            "<tr><td>emese</td><td>emese</td><td>3</td></tr>",
                            "<tr><td>eszter</td><td>eszter</td><td>4</td></tr>",
                            "<tr><td>eszter2</td><td>eszter2</td><td>5</td></tr>",
                            "<tr><td>eszter4</td><td>eszter4</td><td>3</td></tr>",
                            "<tr><td>ESZTERE</td><td>ESZTERE</td><td>3</td></tr>",
                            "<tr><td>eva</td><td>eva</td><td>2</td></tr>",
                            "<tr><td>eva2</td><td>eva2</td><td>3</td></tr>",
                            "<tr><td>EVAV</td><td>EVAV</td><td>4</td></tr>",
                            "<tr><td>ferenc1</td><td>ferenc1</td><td>4</td></tr>",
                            "<tr><td>fruzsina4</td><td>fruzsina4</td><td>5</td></tr>",
                            "<tr><td>gabor1</td><td>gabor1</td><td>5</td></tr>",
                            "<tr><td>gabor4</td><td>gabor4</td><td>4</td></tr>",
                            "<tr><td>GABORS</td><td>GABORS</td><td>0</td></tr>",
                            "<tr><td>gabriella1</td><td>gabriella1</td><td>4</td></tr>",
                            "<tr><td>gabriella10</td><td>gabriella10</td><td>1</td></tr>",
                            "<tr><td>georgij</td><td>georgij</td><td>4</td></tr>",
                            "<tr><td>gusztav</td><td>gusztav</td><td>5</td></tr>",
                            "<tr><td>GYONGYIK</td><td>GYONGYIK</td><td>7</td></tr>",
                            "<tr><td>GYORGYO</td><td>GYORGYO</td><td>3</td></tr>",
                            "<tr><td>henrik3</td><td>henrik3</td><td>3</td></tr>",
                            "<tr><td>IBOLYAA</td><td>IBOLYAA</td><td>2</td></tr>",
                            "<tr><td>ilona3</td><td>ilona3</td><td>2</td></tr>",
                            "<tr><td>imre</td><td>imre</td><td>2</td></tr>",
                            "<tr><td>imre1</td><td>imre1</td><td>4</td></tr>",
                            "<tr><td>istvan</td><td>istvan</td><td>3</td></tr>",
                            "<tr><td>istvan1</td><td>istvan1</td><td>4</td></tr>",
                            "<tr><td>ISTVANV</td><td>ISTVANV</td><td>2</td></tr>",
                            "<tr><td>janos3</td><td>janos3</td><td>5</td></tr>",
                            "<tr><td>JANOSG</td><td>JANOSG</td><td>3</td></tr>",
                            "<tr><td>JANOSP</td><td>JANOSP</td><td>3</td></tr>",
                            "<tr><td>jozsef</td><td>jozsef</td><td>3</td></tr>",
                            "<tr><td>jozsef2</td><td>jozsef2</td><td>3</td></tr>",
                            "<tr><td>JOZSEFG</td><td>JOZSEFG</td><td>5</td></tr>",
                            "<tr><td>JUDITH</td><td>JUDITH</td><td>3</td></tr>",
                            "<tr><td>julia</td><td>julia</td><td>2</td></tr>",
                            "<tr><td>julia4</td><td>julia4</td><td>2</td></tr>",
                            "<tr><td>julianna4</td><td>julianna4</td><td>4</td></tr>",
                            "<tr><td>kata</td><td>kata</td><td>5</td></tr>",
                            "<tr><td>katalin</td><td>katalin</td><td>6</td></tr>",
                            "<tr><td>katalin4</td><td>katalin4</td><td>3</td></tr>",
                            "<tr><td>kati</td><td>kati</td><td>4</td></tr>",
                            "<tr><td>katka</td><td>katka</td><td>4</td></tr>",
                            "<tr><td>klaudia2</td><td>klaudia2</td><td>3</td></tr>",
                            "<tr><td>kornel4</td><td>kornel4</td><td>3</td></tr>",
                            "<tr><td>kristof4</td><td>kristof4</td><td>2</td></tr>",
                            "<tr><td>kriszti</td><td>kriszti</td><td>6</td></tr>",
                            "<tr><td>krisztian4</td><td>krisztian4</td><td>6</td></tr>",
                            "<tr><td>KRISZTIANM</td><td>KRISZTIANM</td><td>6</td></tr>",
                            "<tr><td>krisztina</td><td>krisztina</td><td>5</td></tr>",
                            "<tr><td>krisztina1</td><td>krisztina1</td><td>4</td></tr>",
                            "<tr><td>KRISZTINAG</td><td>KRISZTINAG</td><td>5</td></tr>",
                            "<tr><td>lajos</td><td>lajos</td><td>3</td></tr>",
                            "<tr><td>lala</td><td>lala</td><td>5</td></tr>",
                            "<tr><td>laszlo1</td><td>laszlo1</td><td>1</td></tr>",
                            "<tr><td>laszlo2</td><td>laszlo2</td><td>5</td></tr>",
                            "<tr><td>LASZLOA</td><td>LASZLOA</td><td>3</td></tr>",
                            "<tr><td>LASZLON</td><td>LASZLON</td><td>5</td></tr>",
                            "<tr><td>maria1</td><td>maria1</td><td>6</td></tr>",
                            "<tr><td>mark</td><td>mark</td><td>3</td></tr>",
                            "<tr><td>MARKH</td><td>MARKH</td><td>2</td></tr>",
                            "<tr><td>marton</td><td>marton</td><td>6</td></tr>",
                            "<tr><td>MATEK</td><td>MATEK</td><td>3</td></tr>",
                            "<tr><td>matyas2</td><td>matyas2</td><td>2</td></tr>",
                            "<tr><td>MATYASS</td><td>MATYASS</td><td>5</td></tr>",
                            "<tr><td>MIHALYJ</td><td>MIHALYJ</td><td>4</td></tr>",
                            "<tr><td>miklos2</td><td>miklos2</td><td>3</td></tr>",
                            "<tr><td>MIKLOSB</td><td>MIKLOSB</td><td>3</td></tr>",
                            "<tr><td>MONIKAM</td><td>MONIKAM</td><td>5</td></tr>",
                            "<tr><td>NANDORF</td><td>NANDORF</td><td>2</td></tr>",
                            "<tr><td>nikolett3</td><td>nikolett3</td><td>4</td></tr>",
                            "<tr><td>nikoletta4</td><td>nikoletta4</td><td>4</td></tr>",
                            "<tr><td>NIKOLETTAT</td><td>NIKOLETTAT</td><td>4</td></tr>",
                            "<tr><td>norbert</td><td>norbert</td><td>4</td></tr>",
                            "<tr><td>norbert2</td><td>norbert2</td><td>5</td></tr>",
                            "<tr><td>norbert4</td><td>norbert4</td><td>5</td></tr>",
                            "<tr><td>norbert5</td><td>norbert5</td><td>2</td></tr>",
                            "<tr><td>pal</td><td>pal</td><td>3</td></tr>",
                            "<tr><td>peter1</td><td>peter1</td><td>3</td></tr>",
                            "<tr><td>peter2</td><td>peter2</td><td>4</td></tr>",
                            "<tr><td>peter3</td><td>peter3</td><td>3</td></tr>",
                            "<tr><td>peter4</td><td>peter4</td><td>7</td></tr>",
                            "<tr><td>PETERB</td><td>PETERB</td><td>3</td></tr>",
                            "<tr><td>polla</td><td>polla</td><td>4</td></tr>",
                            "<tr><td>rajmond4</td><td>rajmond4</td><td>4</td></tr>",
                            "<tr><td>reka4</td><td>reka4</td><td>4</td></tr>",
                            "<tr><td>RENATAK</td><td>RENATAK</td><td>5</td></tr>",
                            "<tr><td>RENATAS</td><td>RENATAS</td><td>3</td></tr>",
                            "<tr><td>robert2</td><td>robert2</td><td>4</td></tr>",
                            "<tr><td>ROBERTI</td><td>ROBERTI</td><td>4</td></tr>",
                            "<tr><td>ROBERTP</td><td>ROBERTP</td><td>2</td></tr>",
                            "<tr><td>roland</td><td>roland</td><td>3</td></tr>",
                            "<tr><td>roland1</td><td>roland1</td><td>4</td></tr>",
                            "<tr><td>roza2</td><td>roza2</td><td>3</td></tr>",
                            "<tr><td>sandor</td><td>sandor</td><td>4</td></tr>",
                            "<tr><td>sandor3</td><td>sandor3</td><td>3</td></tr>",
                            "<tr><td>sandor4</td><td>sandor4</td><td>3</td></tr>",
                            "<tr><td>sara</td><td>sara</td><td>9</td></tr>",
                            "<tr><td>SEBASTIANF</td><td>SEBASTIANF</td><td>3</td></tr>",
                            "<tr><td>sebestyen</td><td>sebestyen</td><td>2</td></tr>",
                            "<tr><td>szabolcs</td><td>szabolcs</td><td>1</td></tr>",
                            "<tr><td>SZABOLCSM</td><td>SZABOLCSM</td><td>4</td></tr>",
                            "<tr><td>SZILARDS</td><td>SZILARDS</td><td>5</td></tr>",
                            "<tr><td>szilvia1</td><td>szilvia1</td><td>6</td></tr>",
                            "<tr><td>tamara2</td><td>tamara2</td><td>2</td></tr>",
                            "<tr><td>tamas</td><td>tamas</td><td>4</td></tr>",
                            "<tr><td>TAMASF</td><td>TAMASF</td><td>6</td></tr>",
                            "<tr><td>tibor</td><td>tibor</td><td>2</td></tr>",
                            "<tr><td>tibor2</td><td>tibor2</td><td>1</td></tr>",
                            "<tr><td>tihamer</td><td>tihamer</td><td>4</td></tr>",
                            "<tr><td>timea</td><td>timea</td><td>1</td></tr>",
                            "<tr><td>timea2</td><td>timea2</td><td>5</td></tr>",
                            "<tr><td>tunde</td><td>tunde</td><td>7</td></tr>",
                            "<tr><td>valentin</td><td>valentin</td><td>5</td></tr>",
                            "<tr><td>veronika4</td><td>veronika4</td><td>4</td></tr>",
                            "<tr><td>VIKTORIAU</td><td>VIKTORIAU</td><td>4</td></tr>",
                            "<tr><td>VIKTORK</td><td>VIKTORK</td><td>2</td></tr>",
                            "<tr><td>vivien3</td><td>vivien3</td><td>5</td></tr>",
                            "<tr><td>zoltan</td><td>zoltan</td><td>2</td></tr>",
                            "<tr><td>zoltan4</td><td>zoltan4</td><td>5</td></tr>",
                            "<tr><td>ZOLTANP</td><td>ZOLTANP</td><td>3</td></tr>",
                            "<tr><td>ZOLTANT</td><td>ZOLTANT</td><td>2</td></tr>",
                            "<tr><td>zsofi1</td><td>zsofi1</td><td>2</td></tr>",
                            "<tr><td>zsolt1</td><td>zsolt1</td><td>2</td></tr>",
                            "<tr><td>ZSOLTJ</td><td>ZSOLTJ</td><td>6</td></tr>",
                            "<tr><td>zsuzsa</td><td>zsuzsa</td><td>2</td></tr>",
                            "<tr><td>zsuzsa3</td><td>zsuzsa3</td><td>4</td></tr>",
                            "<tr><td>zsuzsanna</td><td>zsuzsanna</td><td>4</td></tr>",
                            "<tr><td>ZSUZSAV</td><td>ZSUZSAV</td><td>5</td></tr>",
                            "<tr><td>Végösszeg</td><td>NULL</td><td>12</td></tr>",
                            "</table>"
                        ]
                    }
                }
            ],
            "execution_count": 2
        }
    ]
}