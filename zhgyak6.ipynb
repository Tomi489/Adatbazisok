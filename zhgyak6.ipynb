{
    "metadata": {
        "kernelspec": {
            "name": "SQL",
            "display_name": "SQL",
            "language": "sql"
        },
        "language_info": {
            "name": "sql",
            "version": ""
        }
    },
    "nbformat_minor": 2,
    "nbformat": 4,
    "cells": [
        {
            "cell_type": "code",
            "source": [
                "SELECT UGYFEL_FK, v.nev\r\n",
                "FROM Vendeg v JOIN Foglalas f ON v.USERNEV=f.UGYFEL_FK\r\n",
                "WHERE NOT EXISTs(\r\n",
                "    SELECT *\r\n",
                "    FROM Foglalas\r\n",
                "    WHERE FELNOTT_SZAM+GYERMEK_SZAM<>2 AND  v.USERNEV = UGYFEL_FK\r\n",
                ")"
            ],
            "metadata": {
                "azdata_cell_guid": "71064855-f46d-41fb-a389-ed35967c1ef2",
                "language": "sql"
            },
            "outputs": [
                {
                    "output_type": "display_data",
                    "data": {
                        "text/html": "(21 rows affected)"
                    },
                    "metadata": {}
                },
                {
                    "output_type": "display_data",
                    "data": {
                        "text/html": "Total execution time: 00:00:00.016"
                    },
                    "metadata": {}
                },
                {
                    "output_type": "execute_result",
                    "execution_count": 40,
                    "data": {
                        "application/vnd.dataresource+json": {
                            "schema": {
                                "fields": [
                                    {
                                        "name": "UGYFEL_FK"
                                    },
                                    {
                                        "name": "nev"
                                    }
                                ]
                            },
                            "data": [
                                {
                                    "UGYFEL_FK": "kristof4",
                                    "nev": "Poprádi Kristóf"
                                },
                                {
                                    "UGYFEL_FK": "MIKLOSB",
                                    "nev": "Balla Miklós"
                                },
                                {
                                    "UGYFEL_FK": "ESZTERE",
                                    "nev": "Érsek Eszter"
                                },
                                {
                                    "UGYFEL_FK": "balu",
                                    "nev": "Endresz Bálint"
                                },
                                {
                                    "UGYFEL_FK": "ESZTERE",
                                    "nev": "Érsek Eszter"
                                },
                                {
                                    "UGYFEL_FK": "MIKLOSB",
                                    "nev": "Balla Miklós"
                                },
                                {
                                    "UGYFEL_FK": "jozsef",
                                    "nev": "Gergely József"
                                },
                                {
                                    "UGYFEL_FK": "andras4",
                                    "nev": "Back András"
                                },
                                {
                                    "UGYFEL_FK": "kristof4",
                                    "nev": "Poprádi Kristóf"
                                },
                                {
                                    "UGYFEL_FK": "jozsef",
                                    "nev": "Gergely József"
                                },
                                {
                                    "UGYFEL_FK": "tibor2",
                                    "nev": "Dániel Tibor"
                                },
                                {
                                    "UGYFEL_FK": "ESZTERE",
                                    "nev": "Érsek Eszter"
                                },
                                {
                                    "UGYFEL_FK": "andras4",
                                    "nev": "Back András"
                                },
                                {
                                    "UGYFEL_FK": "ANDRASN",
                                    "nev": "Nagy András"
                                },
                                {
                                    "UGYFEL_FK": "szabolcs",
                                    "nev": "Bodor Szabolcs"
                                },
                                {
                                    "UGYFEL_FK": "MIKLOSB",
                                    "nev": "Balla Miklós"
                                },
                                {
                                    "UGYFEL_FK": "jozsef",
                                    "nev": "Gergely József"
                                },
                                {
                                    "UGYFEL_FK": "balu",
                                    "nev": "Endresz Bálint"
                                },
                                {
                                    "UGYFEL_FK": "timea",
                                    "nev": "Papós Tímea"
                                },
                                {
                                    "UGYFEL_FK": "andras4",
                                    "nev": "Back András"
                                },
                                {
                                    "UGYFEL_FK": "ESZTERE",
                                    "nev": "Érsek Eszter"
                                }
                            ]
                        },
                        "text/html": "<table><tr><th>UGYFEL_FK</th><th>nev</th></tr><tr><td>kristof4</td><td>Poprádi Kristóf</td></tr><tr><td>MIKLOSB</td><td>Balla Miklós</td></tr><tr><td>ESZTERE</td><td>Érsek Eszter</td></tr><tr><td>balu</td><td>Endresz Bálint</td></tr><tr><td>ESZTERE</td><td>Érsek Eszter</td></tr><tr><td>MIKLOSB</td><td>Balla Miklós</td></tr><tr><td>jozsef</td><td>Gergely József</td></tr><tr><td>andras4</td><td>Back András</td></tr><tr><td>kristof4</td><td>Poprádi Kristóf</td></tr><tr><td>jozsef</td><td>Gergely József</td></tr><tr><td>tibor2</td><td>Dániel Tibor</td></tr><tr><td>ESZTERE</td><td>Érsek Eszter</td></tr><tr><td>andras4</td><td>Back András</td></tr><tr><td>ANDRASN</td><td>Nagy András</td></tr><tr><td>szabolcs</td><td>Bodor Szabolcs</td></tr><tr><td>MIKLOSB</td><td>Balla Miklós</td></tr><tr><td>jozsef</td><td>Gergely József</td></tr><tr><td>balu</td><td>Endresz Bálint</td></tr><tr><td>timea</td><td>Papós Tímea</td></tr><tr><td>andras4</td><td>Back András</td></tr><tr><td>ESZTERE</td><td>Érsek Eszter</td></tr></table>"
                    },
                    "metadata": {}
                }
            ],
            "execution_count": 40
        }
    ]
}