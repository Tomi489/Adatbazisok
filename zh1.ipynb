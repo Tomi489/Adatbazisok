{
    "metadata": {
        "kernelspec": {
            "name": "SQL",
            "display_name": "SQL",
            "language": "sql"
        },
        "language_info": {
            "name": "sql",
            "version": ""
        }
    },
    "nbformat_minor": 2,
    "nbformat": 4,
    "cells": [
        {
            "cell_type": "code",
            "source": [
                "SELECT\r\n",
                "  SZALLAS_NEV,\r\n",
                "  ROGZITETTE,\r\n",
                "  CIM\r\n",
                "FROM szallashely\r\n",
                "WHERE MONTH(ROGZ_IDO)=3\r\n",
                "AND HELY LIKE '%Balaton%'\r\n",
                "ORDER BY CSILLAGOK_SZAMA DESC;\r\n",
                ""
            ],
            "metadata": {
                "azdata_cell_guid": "7d6ae92d-4daa-4f49-b1d2-fa0908feec0c",
                "language": "sql"
            },
            "outputs": [
                {
                    "output_type": "display_data",
                    "data": {
                        "text/html": "(7 rows affected)"
                    },
                    "metadata": {}
                },
                {
                    "output_type": "display_data",
                    "data": {
                        "text/html": "Total execution time: 00:00:00.021"
                    },
                    "metadata": {}
                },
                {
                    "output_type": "execute_result",
                    "metadata": {},
                    "execution_count": 10,
                    "data": {
                        "application/vnd.dataresource+json": {
                            "schema": {
                                "fields": [
                                    {
                                        "name": "SZALLAS_NEV"
                                    },
                                    {
                                        "name": "ROGZITETTE"
                                    },
                                    {
                                        "name": "CIM"
                                    }
                                ]
                            },
                            "data": [
                                {
                                    "SZALLAS_NEV": "Hotel Három Hattyú",
                                    "ROGZITETTE": "Béla",
                                    "CIM": "8623 Balatonföldvár, Rákóczi Ferenc út 45."
                                },
                                {
                                    "SZALLAS_NEV": "Jáde panzió",
                                    "ROGZITETTE": "Mari",
                                    "CIM": "8624 Balatonföldvár, Kiss u.2."
                                },
                                {
                                    "SZALLAS_NEV": "Kentaur Hotel",
                                    "ROGZITETTE": "Béla",
                                    "CIM": "8600 Siófok (Széplak), Akácfa utca 1"
                                },
                                {
                                    "SZALLAS_NEV": "Tímárház Panzió",
                                    "ROGZITETTE": "Béla",
                                    "CIM": "8600 Siófok, Virág utca 1"
                                },
                                {
                                    "SZALLAS_NEV": "Családi Ház",
                                    "ROGZITETTE": "Béla",
                                    "CIM": "8630 Balatonboglár, József Attila utca 25"
                                },
                                {
                                    "SZALLAS_NEV": "Szieszta Apartmanház",
                                    "ROGZITETTE": "Mari",
                                    "CIM": "8630 Balatonboglár, Dózsa György utca 108"
                                },
                                {
                                    "SZALLAS_NEV": "Partiszél Vendégház",
                                    "ROGZITETTE": "Béla",
                                    "CIM": "8220 Balatonalmádi Neptun u. 23."
                                }
                            ]
                        },
                        "text/html": [
                            "<table>",
                            "<tr><th>SZALLAS_NEV</th><th>ROGZITETTE</th><th>CIM</th></tr>",
                            "<tr><td>Hotel Három Hattyú</td><td>Béla</td><td>8623 Balatonföldvár, Rákóczi Ferenc út 45.</td></tr>",
                            "<tr><td>Jáde panzió</td><td>Mari</td><td>8624 Balatonföldvár, Kiss u.2.</td></tr>",
                            "<tr><td>Kentaur Hotel</td><td>Béla</td><td>8600 Siófok (Széplak), Akácfa utca 1</td></tr>",
                            "<tr><td>Tímárház Panzió</td><td>Béla</td><td>8600 Siófok, Virág utca 1</td></tr>",
                            "<tr><td>Családi Ház</td><td>Béla</td><td>8630 Balatonboglár, József Attila utca 25</td></tr>",
                            "<tr><td>Szieszta Apartmanház</td><td>Mari</td><td>8630 Balatonboglár, Dózsa György utca 108</td></tr>",
                            "<tr><td>Partiszél Vendégház</td><td>Béla</td><td>8220 Balatonalmádi Neptun u. 23.</td></tr>",
                            "</table>"
                        ]
                    }
                }
            ],
            "execution_count": 10
        },
        {
            "cell_type": "code",
            "source": [
                "SELECT\r\n",
                "  SZOBA_FK,\r\n",
                "  COUNT(*) AS foglalas_szam\r\n",
                "FROM foglalas\r\n",
                "WHERE FELNOTT_SZAM > GYERMEK_SZAM\r\n",
                "GROUP BY SZOBA_FK\r\n",
                "HAVING COUNT(*) >= 2\r\n",
                "ORDER BY COUNT(*) ASC;"
            ],
            "metadata": {
                "azdata_cell_guid": "b688168a-29b7-49d1-932f-7961c5895ce0",
                "language": "sql",
                "tags": []
            },
            "outputs": [
                {
                    "output_type": "display_data",
                    "data": {
                        "text/html": "(163 rows affected)"
                    },
                    "metadata": {}
                },
                {
                    "output_type": "display_data",
                    "data": {
                        "text/html": "Total execution time: 00:00:00.031"
                    },
                    "metadata": {}
                },
                {
                    "output_type": "execute_result",
                    "metadata": {},
                    "execution_count": 22,
                    "data": {
                        "application/vnd.dataresource+json": {
                            "schema": {
                                "fields": [
                                    {
                                        "name": "SZOBA_FK"
                                    },
                                    {
                                        "name": "foglalas_szam"
                                    }
                                ]
                            },
                            "data": [
                                {
                                    "SZOBA_FK": "5",
                                    "foglalas_szam": "2"
                                },
                                {
                                    "SZOBA_FK": "17",
                                    "foglalas_szam": "2"
                                },
                                {
                                    "SZOBA_FK": "22",
                                    "foglalas_szam": "2"
                                },
                                {
                                    "SZOBA_FK": "30",
                                    "foglalas_szam": "2"
                                },
                                {
                                    "SZOBA_FK": "37",
                                    "foglalas_szam": "2"
                                },
                                {
                                    "SZOBA_FK": "47",
                                    "foglalas_szam": "2"
                                },
                                {
                                    "SZOBA_FK": "71",
                                    "foglalas_szam": "2"
                                },
                                {
                                    "SZOBA_FK": "72",
                                    "foglalas_szam": "2"
                                },
                                {
                                    "SZOBA_FK": "75",
                                    "foglalas_szam": "2"
                                },
                                {
                                    "SZOBA_FK": "76",
                                    "foglalas_szam": "2"
                                },
                                {
                                    "SZOBA_FK": "67",
                                    "foglalas_szam": "2"
                                },
                                {
                                    "SZOBA_FK": "69",
                                    "foglalas_szam": "2"
                                },
                                {
                                    "SZOBA_FK": "85",
                                    "foglalas_szam": "2"
                                },
                                {
                                    "SZOBA_FK": "91",
                                    "foglalas_szam": "2"
                                },
                                {
                                    "SZOBA_FK": "100",
                                    "foglalas_szam": "2"
                                },
                                {
                                    "SZOBA_FK": "109",
                                    "foglalas_szam": "2"
                                },
                                {
                                    "SZOBA_FK": "113",
                                    "foglalas_szam": "2"
                                },
                                {
                                    "SZOBA_FK": "118",
                                    "foglalas_szam": "2"
                                },
                                {
                                    "SZOBA_FK": "120",
                                    "foglalas_szam": "2"
                                },
                                {
                                    "SZOBA_FK": "136",
                                    "foglalas_szam": "2"
                                },
                                {
                                    "SZOBA_FK": "137",
                                    "foglalas_szam": "2"
                                },
                                {
                                    "SZOBA_FK": "144",
                                    "foglalas_szam": "2"
                                },
                                {
                                    "SZOBA_FK": "151",
                                    "foglalas_szam": "2"
                                },
                                {
                                    "SZOBA_FK": "156",
                                    "foglalas_szam": "2"
                                },
                                {
                                    "SZOBA_FK": "157",
                                    "foglalas_szam": "2"
                                },
                                {
                                    "SZOBA_FK": "160",
                                    "foglalas_szam": "2"
                                },
                                {
                                    "SZOBA_FK": "162",
                                    "foglalas_szam": "2"
                                },
                                {
                                    "SZOBA_FK": "167",
                                    "foglalas_szam": "2"
                                },
                                {
                                    "SZOBA_FK": "176",
                                    "foglalas_szam": "2"
                                },
                                {
                                    "SZOBA_FK": "179",
                                    "foglalas_szam": "2"
                                },
                                {
                                    "SZOBA_FK": "188",
                                    "foglalas_szam": "2"
                                },
                                {
                                    "SZOBA_FK": "193",
                                    "foglalas_szam": "2"
                                },
                                {
                                    "SZOBA_FK": "196",
                                    "foglalas_szam": "2"
                                },
                                {
                                    "SZOBA_FK": "175",
                                    "foglalas_szam": "3"
                                },
                                {
                                    "SZOBA_FK": "173",
                                    "foglalas_szam": "3"
                                },
                                {
                                    "SZOBA_FK": "183",
                                    "foglalas_szam": "3"
                                },
                                {
                                    "SZOBA_FK": "191",
                                    "foglalas_szam": "3"
                                },
                                {
                                    "SZOBA_FK": "169",
                                    "foglalas_szam": "3"
                                },
                                {
                                    "SZOBA_FK": "170",
                                    "foglalas_szam": "3"
                                },
                                {
                                    "SZOBA_FK": "166",
                                    "foglalas_szam": "3"
                                },
                                {
                                    "SZOBA_FK": "161",
                                    "foglalas_szam": "3"
                                },
                                {
                                    "SZOBA_FK": "158",
                                    "foglalas_szam": "3"
                                },
                                {
                                    "SZOBA_FK": "154",
                                    "foglalas_szam": "3"
                                },
                                {
                                    "SZOBA_FK": "155",
                                    "foglalas_szam": "3"
                                },
                                {
                                    "SZOBA_FK": "152",
                                    "foglalas_szam": "3"
                                },
                                {
                                    "SZOBA_FK": "146",
                                    "foglalas_szam": "3"
                                },
                                {
                                    "SZOBA_FK": "129",
                                    "foglalas_szam": "3"
                                },
                                {
                                    "SZOBA_FK": "135",
                                    "foglalas_szam": "3"
                                },
                                {
                                    "SZOBA_FK": "122",
                                    "foglalas_szam": "3"
                                },
                                {
                                    "SZOBA_FK": "104",
                                    "foglalas_szam": "3"
                                },
                                {
                                    "SZOBA_FK": "84",
                                    "foglalas_szam": "3"
                                },
                                {
                                    "SZOBA_FK": "90",
                                    "foglalas_szam": "3"
                                },
                                {
                                    "SZOBA_FK": "93",
                                    "foglalas_szam": "3"
                                },
                                {
                                    "SZOBA_FK": "95",
                                    "foglalas_szam": "3"
                                },
                                {
                                    "SZOBA_FK": "81",
                                    "foglalas_szam": "3"
                                },
                                {
                                    "SZOBA_FK": "77",
                                    "foglalas_szam": "3"
                                },
                                {
                                    "SZOBA_FK": "78",
                                    "foglalas_szam": "3"
                                },
                                {
                                    "SZOBA_FK": "46",
                                    "foglalas_szam": "3"
                                },
                                {
                                    "SZOBA_FK": "50",
                                    "foglalas_szam": "3"
                                },
                                {
                                    "SZOBA_FK": "51",
                                    "foglalas_szam": "3"
                                },
                                {
                                    "SZOBA_FK": "55",
                                    "foglalas_szam": "3"
                                },
                                {
                                    "SZOBA_FK": "57",
                                    "foglalas_szam": "3"
                                },
                                {
                                    "SZOBA_FK": "62",
                                    "foglalas_szam": "3"
                                },
                                {
                                    "SZOBA_FK": "63",
                                    "foglalas_szam": "3"
                                },
                                {
                                    "SZOBA_FK": "66",
                                    "foglalas_szam": "3"
                                },
                                {
                                    "SZOBA_FK": "29",
                                    "foglalas_szam": "3"
                                },
                                {
                                    "SZOBA_FK": "40",
                                    "foglalas_szam": "3"
                                },
                                {
                                    "SZOBA_FK": "33",
                                    "foglalas_szam": "3"
                                },
                                {
                                    "SZOBA_FK": "34",
                                    "foglalas_szam": "3"
                                },
                                {
                                    "SZOBA_FK": "23",
                                    "foglalas_szam": "3"
                                },
                                {
                                    "SZOBA_FK": "24",
                                    "foglalas_szam": "3"
                                },
                                {
                                    "SZOBA_FK": "18",
                                    "foglalas_szam": "3"
                                },
                                {
                                    "SZOBA_FK": "3",
                                    "foglalas_szam": "3"
                                },
                                {
                                    "SZOBA_FK": "9",
                                    "foglalas_szam": "4"
                                },
                                {
                                    "SZOBA_FK": "10",
                                    "foglalas_szam": "4"
                                },
                                {
                                    "SZOBA_FK": "11",
                                    "foglalas_szam": "4"
                                },
                                {
                                    "SZOBA_FK": "19",
                                    "foglalas_szam": "4"
                                },
                                {
                                    "SZOBA_FK": "13",
                                    "foglalas_szam": "4"
                                },
                                {
                                    "SZOBA_FK": "14",
                                    "foglalas_szam": "4"
                                },
                                {
                                    "SZOBA_FK": "15",
                                    "foglalas_szam": "4"
                                },
                                {
                                    "SZOBA_FK": "43",
                                    "foglalas_szam": "4"
                                },
                                {
                                    "SZOBA_FK": "36",
                                    "foglalas_szam": "4"
                                },
                                {
                                    "SZOBA_FK": "54",
                                    "foglalas_szam": "4"
                                },
                                {
                                    "SZOBA_FK": "59",
                                    "foglalas_szam": "4"
                                },
                                {
                                    "SZOBA_FK": "61",
                                    "foglalas_szam": "4"
                                },
                                {
                                    "SZOBA_FK": "39",
                                    "foglalas_szam": "4"
                                },
                                {
                                    "SZOBA_FK": "45",
                                    "foglalas_szam": "4"
                                },
                                {
                                    "SZOBA_FK": "79",
                                    "foglalas_szam": "4"
                                },
                                {
                                    "SZOBA_FK": "73",
                                    "foglalas_szam": "4"
                                },
                                {
                                    "SZOBA_FK": "86",
                                    "foglalas_szam": "4"
                                },
                                {
                                    "SZOBA_FK": "106",
                                    "foglalas_szam": "4"
                                },
                                {
                                    "SZOBA_FK": "107",
                                    "foglalas_szam": "4"
                                },
                                {
                                    "SZOBA_FK": "98",
                                    "foglalas_szam": "4"
                                },
                                {
                                    "SZOBA_FK": "99",
                                    "foglalas_szam": "4"
                                },
                                {
                                    "SZOBA_FK": "124",
                                    "foglalas_szam": "4"
                                },
                                {
                                    "SZOBA_FK": "126",
                                    "foglalas_szam": "4"
                                },
                                {
                                    "SZOBA_FK": "131",
                                    "foglalas_szam": "4"
                                },
                                {
                                    "SZOBA_FK": "132",
                                    "foglalas_szam": "4"
                                },
                                {
                                    "SZOBA_FK": "133",
                                    "foglalas_szam": "4"
                                },
                                {
                                    "SZOBA_FK": "134",
                                    "foglalas_szam": "4"
                                },
                                {
                                    "SZOBA_FK": "119",
                                    "foglalas_szam": "4"
                                },
                                {
                                    "SZOBA_FK": "112",
                                    "foglalas_szam": "4"
                                },
                                {
                                    "SZOBA_FK": "117",
                                    "foglalas_szam": "4"
                                },
                                {
                                    "SZOBA_FK": "153",
                                    "foglalas_szam": "4"
                                },
                                {
                                    "SZOBA_FK": "141",
                                    "foglalas_szam": "4"
                                },
                                {
                                    "SZOBA_FK": "164",
                                    "foglalas_szam": "4"
                                },
                                {
                                    "SZOBA_FK": "184",
                                    "foglalas_szam": "4"
                                },
                                {
                                    "SZOBA_FK": "174",
                                    "foglalas_szam": "4"
                                },
                                {
                                    "SZOBA_FK": "181",
                                    "foglalas_szam": "5"
                                },
                                {
                                    "SZOBA_FK": "190",
                                    "foglalas_szam": "5"
                                },
                                {
                                    "SZOBA_FK": "195",
                                    "foglalas_szam": "5"
                                },
                                {
                                    "SZOBA_FK": "165",
                                    "foglalas_szam": "5"
                                },
                                {
                                    "SZOBA_FK": "140",
                                    "foglalas_szam": "5"
                                },
                                {
                                    "SZOBA_FK": "171",
                                    "foglalas_szam": "5"
                                },
                                {
                                    "SZOBA_FK": "163",
                                    "foglalas_szam": "5"
                                },
                                {
                                    "SZOBA_FK": "143",
                                    "foglalas_szam": "5"
                                },
                                {
                                    "SZOBA_FK": "148",
                                    "foglalas_szam": "5"
                                },
                                {
                                    "SZOBA_FK": "149",
                                    "foglalas_szam": "5"
                                },
                                {
                                    "SZOBA_FK": "130",
                                    "foglalas_szam": "5"
                                },
                                {
                                    "SZOBA_FK": "138",
                                    "foglalas_szam": "5"
                                },
                                {
                                    "SZOBA_FK": "97",
                                    "foglalas_szam": "5"
                                },
                                {
                                    "SZOBA_FK": "115",
                                    "foglalas_szam": "5"
                                },
                                {
                                    "SZOBA_FK": "121",
                                    "foglalas_szam": "5"
                                },
                                {
                                    "SZOBA_FK": "127",
                                    "foglalas_szam": "5"
                                },
                                {
                                    "SZOBA_FK": "123",
                                    "foglalas_szam": "5"
                                },
                                {
                                    "SZOBA_FK": "110",
                                    "foglalas_szam": "5"
                                },
                                {
                                    "SZOBA_FK": "92",
                                    "foglalas_szam": "5"
                                },
                                {
                                    "SZOBA_FK": "87",
                                    "foglalas_szam": "5"
                                },
                                {
                                    "SZOBA_FK": "88",
                                    "foglalas_szam": "5"
                                },
                                {
                                    "SZOBA_FK": "82",
                                    "foglalas_szam": "5"
                                },
                                {
                                    "SZOBA_FK": "83",
                                    "foglalas_szam": "5"
                                },
                                {
                                    "SZOBA_FK": "80",
                                    "foglalas_szam": "5"
                                },
                                {
                                    "SZOBA_FK": "52",
                                    "foglalas_szam": "5"
                                },
                                {
                                    "SZOBA_FK": "49",
                                    "foglalas_szam": "5"
                                },
                                {
                                    "SZOBA_FK": "64",
                                    "foglalas_szam": "5"
                                },
                                {
                                    "SZOBA_FK": "38",
                                    "foglalas_szam": "5"
                                },
                                {
                                    "SZOBA_FK": "42",
                                    "foglalas_szam": "5"
                                },
                                {
                                    "SZOBA_FK": "27",
                                    "foglalas_szam": "5"
                                },
                                {
                                    "SZOBA_FK": "28",
                                    "foglalas_szam": "5"
                                },
                                {
                                    "SZOBA_FK": "8",
                                    "foglalas_szam": "5"
                                },
                                {
                                    "SZOBA_FK": "20",
                                    "foglalas_szam": "5"
                                },
                                {
                                    "SZOBA_FK": "4",
                                    "foglalas_szam": "5"
                                },
                                {
                                    "SZOBA_FK": "6",
                                    "foglalas_szam": "5"
                                },
                                {
                                    "SZOBA_FK": "7",
                                    "foglalas_szam": "6"
                                },
                                {
                                    "SZOBA_FK": "35",
                                    "foglalas_szam": "6"
                                },
                                {
                                    "SZOBA_FK": "44",
                                    "foglalas_szam": "6"
                                },
                                {
                                    "SZOBA_FK": "48",
                                    "foglalas_szam": "6"
                                },
                                {
                                    "SZOBA_FK": "96",
                                    "foglalas_szam": "6"
                                },
                                {
                                    "SZOBA_FK": "94",
                                    "foglalas_szam": "6"
                                },
                                {
                                    "SZOBA_FK": "139",
                                    "foglalas_szam": "6"
                                },
                                {
                                    "SZOBA_FK": "150",
                                    "foglalas_szam": "6"
                                },
                                {
                                    "SZOBA_FK": "172",
                                    "foglalas_szam": "6"
                                },
                                {
                                    "SZOBA_FK": "197",
                                    "foglalas_szam": "6"
                                },
                                {
                                    "SZOBA_FK": "187",
                                    "foglalas_szam": "6"
                                },
                                {
                                    "SZOBA_FK": "198",
                                    "foglalas_szam": "7"
                                },
                                {
                                    "SZOBA_FK": "12",
                                    "foglalas_szam": "7"
                                },
                                {
                                    "SZOBA_FK": "1",
                                    "foglalas_szam": "7"
                                },
                                {
                                    "SZOBA_FK": "58",
                                    "foglalas_szam": "8"
                                },
                                {
                                    "SZOBA_FK": "74",
                                    "foglalas_szam": "8"
                                },
                                {
                                    "SZOBA_FK": "70",
                                    "foglalas_szam": "8"
                                },
                                {
                                    "SZOBA_FK": "89",
                                    "foglalas_szam": "8"
                                },
                                {
                                    "SZOBA_FK": "185",
                                    "foglalas_szam": "10"
                                },
                                {
                                    "SZOBA_FK": "182",
                                    "foglalas_szam": "11"
                                }
                            ]
                        },
                        "text/html": [
                            "<table>",
                            "<tr><th>SZOBA_FK</th><th>foglalas_szam</th></tr>",
                            "<tr><td>5</td><td>2</td></tr>",
                            "<tr><td>17</td><td>2</td></tr>",
                            "<tr><td>22</td><td>2</td></tr>",
                            "<tr><td>30</td><td>2</td></tr>",
                            "<tr><td>37</td><td>2</td></tr>",
                            "<tr><td>47</td><td>2</td></tr>",
                            "<tr><td>71</td><td>2</td></tr>",
                            "<tr><td>72</td><td>2</td></tr>",
                            "<tr><td>75</td><td>2</td></tr>",
                            "<tr><td>76</td><td>2</td></tr>",
                            "<tr><td>67</td><td>2</td></tr>",
                            "<tr><td>69</td><td>2</td></tr>",
                            "<tr><td>85</td><td>2</td></tr>",
                            "<tr><td>91</td><td>2</td></tr>",
                            "<tr><td>100</td><td>2</td></tr>",
                            "<tr><td>109</td><td>2</td></tr>",
                            "<tr><td>113</td><td>2</td></tr>",
                            "<tr><td>118</td><td>2</td></tr>",
                            "<tr><td>120</td><td>2</td></tr>",
                            "<tr><td>136</td><td>2</td></tr>",
                            "<tr><td>137</td><td>2</td></tr>",
                            "<tr><td>144</td><td>2</td></tr>",
                            "<tr><td>151</td><td>2</td></tr>",
                            "<tr><td>156</td><td>2</td></tr>",
                            "<tr><td>157</td><td>2</td></tr>",
                            "<tr><td>160</td><td>2</td></tr>",
                            "<tr><td>162</td><td>2</td></tr>",
                            "<tr><td>167</td><td>2</td></tr>",
                            "<tr><td>176</td><td>2</td></tr>",
                            "<tr><td>179</td><td>2</td></tr>",
                            "<tr><td>188</td><td>2</td></tr>",
                            "<tr><td>193</td><td>2</td></tr>",
                            "<tr><td>196</td><td>2</td></tr>",
                            "<tr><td>175</td><td>3</td></tr>",
                            "<tr><td>173</td><td>3</td></tr>",
                            "<tr><td>183</td><td>3</td></tr>",
                            "<tr><td>191</td><td>3</td></tr>",
                            "<tr><td>169</td><td>3</td></tr>",
                            "<tr><td>170</td><td>3</td></tr>",
                            "<tr><td>166</td><td>3</td></tr>",
                            "<tr><td>161</td><td>3</td></tr>",
                            "<tr><td>158</td><td>3</td></tr>",
                            "<tr><td>154</td><td>3</td></tr>",
                            "<tr><td>155</td><td>3</td></tr>",
                            "<tr><td>152</td><td>3</td></tr>",
                            "<tr><td>146</td><td>3</td></tr>",
                            "<tr><td>129</td><td>3</td></tr>",
                            "<tr><td>135</td><td>3</td></tr>",
                            "<tr><td>122</td><td>3</td></tr>",
                            "<tr><td>104</td><td>3</td></tr>",
                            "<tr><td>84</td><td>3</td></tr>",
                            "<tr><td>90</td><td>3</td></tr>",
                            "<tr><td>93</td><td>3</td></tr>",
                            "<tr><td>95</td><td>3</td></tr>",
                            "<tr><td>81</td><td>3</td></tr>",
                            "<tr><td>77</td><td>3</td></tr>",
                            "<tr><td>78</td><td>3</td></tr>",
                            "<tr><td>46</td><td>3</td></tr>",
                            "<tr><td>50</td><td>3</td></tr>",
                            "<tr><td>51</td><td>3</td></tr>",
                            "<tr><td>55</td><td>3</td></tr>",
                            "<tr><td>57</td><td>3</td></tr>",
                            "<tr><td>62</td><td>3</td></tr>",
                            "<tr><td>63</td><td>3</td></tr>",
                            "<tr><td>66</td><td>3</td></tr>",
                            "<tr><td>29</td><td>3</td></tr>",
                            "<tr><td>40</td><td>3</td></tr>",
                            "<tr><td>33</td><td>3</td></tr>",
                            "<tr><td>34</td><td>3</td></tr>",
                            "<tr><td>23</td><td>3</td></tr>",
                            "<tr><td>24</td><td>3</td></tr>",
                            "<tr><td>18</td><td>3</td></tr>",
                            "<tr><td>3</td><td>3</td></tr>",
                            "<tr><td>9</td><td>4</td></tr>",
                            "<tr><td>10</td><td>4</td></tr>",
                            "<tr><td>11</td><td>4</td></tr>",
                            "<tr><td>19</td><td>4</td></tr>",
                            "<tr><td>13</td><td>4</td></tr>",
                            "<tr><td>14</td><td>4</td></tr>",
                            "<tr><td>15</td><td>4</td></tr>",
                            "<tr><td>43</td><td>4</td></tr>",
                            "<tr><td>36</td><td>4</td></tr>",
                            "<tr><td>54</td><td>4</td></tr>",
                            "<tr><td>59</td><td>4</td></tr>",
                            "<tr><td>61</td><td>4</td></tr>",
                            "<tr><td>39</td><td>4</td></tr>",
                            "<tr><td>45</td><td>4</td></tr>",
                            "<tr><td>79</td><td>4</td></tr>",
                            "<tr><td>73</td><td>4</td></tr>",
                            "<tr><td>86</td><td>4</td></tr>",
                            "<tr><td>106</td><td>4</td></tr>",
                            "<tr><td>107</td><td>4</td></tr>",
                            "<tr><td>98</td><td>4</td></tr>",
                            "<tr><td>99</td><td>4</td></tr>",
                            "<tr><td>124</td><td>4</td></tr>",
                            "<tr><td>126</td><td>4</td></tr>",
                            "<tr><td>131</td><td>4</td></tr>",
                            "<tr><td>132</td><td>4</td></tr>",
                            "<tr><td>133</td><td>4</td></tr>",
                            "<tr><td>134</td><td>4</td></tr>",
                            "<tr><td>119</td><td>4</td></tr>",
                            "<tr><td>112</td><td>4</td></tr>",
                            "<tr><td>117</td><td>4</td></tr>",
                            "<tr><td>153</td><td>4</td></tr>",
                            "<tr><td>141</td><td>4</td></tr>",
                            "<tr><td>164</td><td>4</td></tr>",
                            "<tr><td>184</td><td>4</td></tr>",
                            "<tr><td>174</td><td>4</td></tr>",
                            "<tr><td>181</td><td>5</td></tr>",
                            "<tr><td>190</td><td>5</td></tr>",
                            "<tr><td>195</td><td>5</td></tr>",
                            "<tr><td>165</td><td>5</td></tr>",
                            "<tr><td>140</td><td>5</td></tr>",
                            "<tr><td>171</td><td>5</td></tr>",
                            "<tr><td>163</td><td>5</td></tr>",
                            "<tr><td>143</td><td>5</td></tr>",
                            "<tr><td>148</td><td>5</td></tr>",
                            "<tr><td>149</td><td>5</td></tr>",
                            "<tr><td>130</td><td>5</td></tr>",
                            "<tr><td>138</td><td>5</td></tr>",
                            "<tr><td>97</td><td>5</td></tr>",
                            "<tr><td>115</td><td>5</td></tr>",
                            "<tr><td>121</td><td>5</td></tr>",
                            "<tr><td>127</td><td>5</td></tr>",
                            "<tr><td>123</td><td>5</td></tr>",
                            "<tr><td>110</td><td>5</td></tr>",
                            "<tr><td>92</td><td>5</td></tr>",
                            "<tr><td>87</td><td>5</td></tr>",
                            "<tr><td>88</td><td>5</td></tr>",
                            "<tr><td>82</td><td>5</td></tr>",
                            "<tr><td>83</td><td>5</td></tr>",
                            "<tr><td>80</td><td>5</td></tr>",
                            "<tr><td>52</td><td>5</td></tr>",
                            "<tr><td>49</td><td>5</td></tr>",
                            "<tr><td>64</td><td>5</td></tr>",
                            "<tr><td>38</td><td>5</td></tr>",
                            "<tr><td>42</td><td>5</td></tr>",
                            "<tr><td>27</td><td>5</td></tr>",
                            "<tr><td>28</td><td>5</td></tr>",
                            "<tr><td>8</td><td>5</td></tr>",
                            "<tr><td>20</td><td>5</td></tr>",
                            "<tr><td>4</td><td>5</td></tr>",
                            "<tr><td>6</td><td>5</td></tr>",
                            "<tr><td>7</td><td>6</td></tr>",
                            "<tr><td>35</td><td>6</td></tr>",
                            "<tr><td>44</td><td>6</td></tr>",
                            "<tr><td>48</td><td>6</td></tr>",
                            "<tr><td>96</td><td>6</td></tr>",
                            "<tr><td>94</td><td>6</td></tr>",
                            "<tr><td>139</td><td>6</td></tr>",
                            "<tr><td>150</td><td>6</td></tr>",
                            "<tr><td>172</td><td>6</td></tr>",
                            "<tr><td>197</td><td>6</td></tr>",
                            "<tr><td>187</td><td>6</td></tr>",
                            "<tr><td>198</td><td>7</td></tr>",
                            "<tr><td>12</td><td>7</td></tr>",
                            "<tr><td>1</td><td>7</td></tr>",
                            "<tr><td>58</td><td>8</td></tr>",
                            "<tr><td>74</td><td>8</td></tr>",
                            "<tr><td>70</td><td>8</td></tr>",
                            "<tr><td>89</td><td>8</td></tr>",
                            "<tr><td>185</td><td>10</td></tr>",
                            "<tr><td>182</td><td>11</td></tr>",
                            "</table>"
                        ]
                    }
                }
            ],
            "execution_count": 22
        },
        {
            "cell_type": "code",
            "source": [
                "SELECT SZOBA_ID,\r\n",
                "SZOBA_SZAMA,\r\n",
                "FEROHELY,\r\n",
                "POTAGY,\r\n",
                "KLIMAS,\r\n",
                "CASE WHEN szallashely.tipus = 'panzio' THEN 'Igen' ELSE 'Nem' END AS panzio\r\n",
                "FROM Szoba LEFT JOIN Foglalas ON Szoba.SZOBA_ID=Foglalas.SZOBA_FK\r\n",
                "JOIN Szallashely ON Szallashely.SZALLAS_ID=Szoba.SZALLAS_FK"
            ],
            "metadata": {
                "language": "sql",
                "azdata_cell_guid": "ea48a79f-d1fb-41a5-94a8-c9bd1a115713"
            },
            "outputs": [
                {
                    "output_type": "display_data",
                    "data": {
                        "text/html": "(1139 rows affected)"
                    },
                    "metadata": {}
                },
                {
                    "output_type": "display_data",
                    "data": {
                        "text/html": "Total execution time: 00:00:00.016"
                    },
                    "metadata": {}
                },
                {
                    "output_type": "execute_result",
                    "metadata": {},
                    "execution_count": 31,
                    "data": {
                        "application/vnd.dataresource+json": {
                            "schema": {
                                "fields": [
                                    {
                                        "name": "SZOBA_ID"
                                    },
                                    {
                                        "name": "SZOBA_SZAMA"
                                    },
                                    {
                                        "name": "FEROHELY"
                                    },
                                    {
                                        "name": "POTAGY"
                                    },
                                    {
                                        "name": "KLIMAS"
                                    },
                                    {
                                        "name": "panzio"
                                    }
                                ]
                            },
                            "data": [
                                {
                                    "SZOBA_ID": "1",
                                    "SZOBA_SZAMA": "1",
                                    "FEROHELY": "3",
                                    "POTAGY": "0",
                                    "KLIMAS": "n",
                                    "panzio": "Nem"
                                },
                                {
                                    "SZOBA_ID": "1",
                                    "SZOBA_SZAMA": "1",
                                    "FEROHELY": "3",
                                    "POTAGY": "0",
                                    "KLIMAS": "n",
                                    "panzio": "Nem"
                                },
                                {
                                    "SZOBA_ID": "1",
                                    "SZOBA_SZAMA": "1",
                                    "FEROHELY": "3",
                                    "POTAGY": "0",
                                    "KLIMAS": "n",
                                    "panzio": "Nem"
                                },
                                {
                                    "SZOBA_ID": "1",
                                    "SZOBA_SZAMA": "1",
                                    "FEROHELY": "3",
                                    "POTAGY": "0",
                                    "KLIMAS": "n",
                                    "panzio": "Nem"
                                },
                                {
                                    "SZOBA_ID": "1",
                                    "SZOBA_SZAMA": "1",
                                    "FEROHELY": "3",
                                    "POTAGY": "0",
                                    "KLIMAS": "n",
                                    "panzio": "Nem"
                                },
                                {
                                    "SZOBA_ID": "1",
                                    "SZOBA_SZAMA": "1",
                                    "FEROHELY": "3",
                                    "POTAGY": "0",
                                    "KLIMAS": "n",
                                    "panzio": "Nem"
                                },
                                {
                                    "SZOBA_ID": "1",
                                    "SZOBA_SZAMA": "1",
                                    "FEROHELY": "3",
                                    "POTAGY": "0",
                                    "KLIMAS": "n",
                                    "panzio": "Nem"
                                },
                                {
                                    "SZOBA_ID": "1",
                                    "SZOBA_SZAMA": "1",
                                    "FEROHELY": "3",
                                    "POTAGY": "0",
                                    "KLIMAS": "n",
                                    "panzio": "Nem"
                                },
                                {
                                    "SZOBA_ID": "1",
                                    "SZOBA_SZAMA": "1",
                                    "FEROHELY": "3",
                                    "POTAGY": "0",
                                    "KLIMAS": "n",
                                    "panzio": "Nem"
                                },
                                {
                                    "SZOBA_ID": "1",
                                    "SZOBA_SZAMA": "1",
                                    "FEROHELY": "3",
                                    "POTAGY": "0",
                                    "KLIMAS": "n",
                                    "panzio": "Nem"
                                },
                                {
                                    "SZOBA_ID": "1",
                                    "SZOBA_SZAMA": "1",
                                    "FEROHELY": "3",
                                    "POTAGY": "0",
                                    "KLIMAS": "n",
                                    "panzio": "Nem"
                                },
                                {
                                    "SZOBA_ID": "1",
                                    "SZOBA_SZAMA": "1",
                                    "FEROHELY": "3",
                                    "POTAGY": "0",
                                    "KLIMAS": "n",
                                    "panzio": "Nem"
                                },
                                {
                                    "SZOBA_ID": "1",
                                    "SZOBA_SZAMA": "1",
                                    "FEROHELY": "3",
                                    "POTAGY": "0",
                                    "KLIMAS": "n",
                                    "panzio": "Nem"
                                },
                                {
                                    "SZOBA_ID": "2",
                                    "SZOBA_SZAMA": "2",
                                    "FEROHELY": "3",
                                    "POTAGY": "1",
                                    "KLIMAS": "i",
                                    "panzio": "Nem"
                                },
                                {
                                    "SZOBA_ID": "2",
                                    "SZOBA_SZAMA": "2",
                                    "FEROHELY": "3",
                                    "POTAGY": "1",
                                    "KLIMAS": "i",
                                    "panzio": "Nem"
                                },
                                {
                                    "SZOBA_ID": "3",
                                    "SZOBA_SZAMA": "3",
                                    "FEROHELY": "3",
                                    "POTAGY": "1",
                                    "KLIMAS": "i",
                                    "panzio": "Nem"
                                },
                                {
                                    "SZOBA_ID": "3",
                                    "SZOBA_SZAMA": "3",
                                    "FEROHELY": "3",
                                    "POTAGY": "1",
                                    "KLIMAS": "i",
                                    "panzio": "Nem"
                                },
                                {
                                    "SZOBA_ID": "3",
                                    "SZOBA_SZAMA": "3",
                                    "FEROHELY": "3",
                                    "POTAGY": "1",
                                    "KLIMAS": "i",
                                    "panzio": "Nem"
                                },
                                {
                                    "SZOBA_ID": "3",
                                    "SZOBA_SZAMA": "3",
                                    "FEROHELY": "3",
                                    "POTAGY": "1",
                                    "KLIMAS": "i",
                                    "panzio": "Nem"
                                },
                                {
                                    "SZOBA_ID": "3",
                                    "SZOBA_SZAMA": "3",
                                    "FEROHELY": "3",
                                    "POTAGY": "1",
                                    "KLIMAS": "i",
                                    "panzio": "Nem"
                                },
                                {
                                    "SZOBA_ID": "3",
                                    "SZOBA_SZAMA": "3",
                                    "FEROHELY": "3",
                                    "POTAGY": "1",
                                    "KLIMAS": "i",
                                    "panzio": "Nem"
                                },
                                {
                                    "SZOBA_ID": "3",
                                    "SZOBA_SZAMA": "3",
                                    "FEROHELY": "3",
                                    "POTAGY": "1",
                                    "KLIMAS": "i",
                                    "panzio": "Nem"
                                },
                                {
                                    "SZOBA_ID": "3",
                                    "SZOBA_SZAMA": "3",
                                    "FEROHELY": "3",
                                    "POTAGY": "1",
                                    "KLIMAS": "i",
                                    "panzio": "Nem"
                                },
                                {
                                    "SZOBA_ID": "4",
                                    "SZOBA_SZAMA": "4",
                                    "FEROHELY": "2",
                                    "POTAGY": "1",
                                    "KLIMAS": "i",
                                    "panzio": "Nem"
                                },
                                {
                                    "SZOBA_ID": "4",
                                    "SZOBA_SZAMA": "4",
                                    "FEROHELY": "2",
                                    "POTAGY": "1",
                                    "KLIMAS": "i",
                                    "panzio": "Nem"
                                },
                                {
                                    "SZOBA_ID": "4",
                                    "SZOBA_SZAMA": "4",
                                    "FEROHELY": "2",
                                    "POTAGY": "1",
                                    "KLIMAS": "i",
                                    "panzio": "Nem"
                                },
                                {
                                    "SZOBA_ID": "4",
                                    "SZOBA_SZAMA": "4",
                                    "FEROHELY": "2",
                                    "POTAGY": "1",
                                    "KLIMAS": "i",
                                    "panzio": "Nem"
                                },
                                {
                                    "SZOBA_ID": "4",
                                    "SZOBA_SZAMA": "4",
                                    "FEROHELY": "2",
                                    "POTAGY": "1",
                                    "KLIMAS": "i",
                                    "panzio": "Nem"
                                },
                                {
                                    "SZOBA_ID": "4",
                                    "SZOBA_SZAMA": "4",
                                    "FEROHELY": "2",
                                    "POTAGY": "1",
                                    "KLIMAS": "i",
                                    "panzio": "Nem"
                                },
                                {
                                    "SZOBA_ID": "5",
                                    "SZOBA_SZAMA": "5",
                                    "FEROHELY": "2",
                                    "POTAGY": "0",
                                    "KLIMAS": "i",
                                    "panzio": "Nem"
                                },
                                {
                                    "SZOBA_ID": "5",
                                    "SZOBA_SZAMA": "5",
                                    "FEROHELY": "2",
                                    "POTAGY": "0",
                                    "KLIMAS": "i",
                                    "panzio": "Nem"
                                },
                                {
                                    "SZOBA_ID": "5",
                                    "SZOBA_SZAMA": "5",
                                    "FEROHELY": "2",
                                    "POTAGY": "0",
                                    "KLIMAS": "i",
                                    "panzio": "Nem"
                                },
                                {
                                    "SZOBA_ID": "5",
                                    "SZOBA_SZAMA": "5",
                                    "FEROHELY": "2",
                                    "POTAGY": "0",
                                    "KLIMAS": "i",
                                    "panzio": "Nem"
                                },
                                {
                                    "SZOBA_ID": "6",
                                    "SZOBA_SZAMA": "6",
                                    "FEROHELY": "3",
                                    "POTAGY": "0",
                                    "KLIMAS": "i",
                                    "panzio": "Nem"
                                },
                                {
                                    "SZOBA_ID": "6",
                                    "SZOBA_SZAMA": "6",
                                    "FEROHELY": "3",
                                    "POTAGY": "0",
                                    "KLIMAS": "i",
                                    "panzio": "Nem"
                                },
                                {
                                    "SZOBA_ID": "6",
                                    "SZOBA_SZAMA": "6",
                                    "FEROHELY": "3",
                                    "POTAGY": "0",
                                    "KLIMAS": "i",
                                    "panzio": "Nem"
                                },
                                {
                                    "SZOBA_ID": "6",
                                    "SZOBA_SZAMA": "6",
                                    "FEROHELY": "3",
                                    "POTAGY": "0",
                                    "KLIMAS": "i",
                                    "panzio": "Nem"
                                },
                                {
                                    "SZOBA_ID": "6",
                                    "SZOBA_SZAMA": "6",
                                    "FEROHELY": "3",
                                    "POTAGY": "0",
                                    "KLIMAS": "i",
                                    "panzio": "Nem"
                                },
                                {
                                    "SZOBA_ID": "6",
                                    "SZOBA_SZAMA": "6",
                                    "FEROHELY": "3",
                                    "POTAGY": "0",
                                    "KLIMAS": "i",
                                    "panzio": "Nem"
                                },
                                {
                                    "SZOBA_ID": "7",
                                    "SZOBA_SZAMA": "7",
                                    "FEROHELY": "2",
                                    "POTAGY": "0",
                                    "KLIMAS": "i",
                                    "panzio": "Nem"
                                },
                                {
                                    "SZOBA_ID": "7",
                                    "SZOBA_SZAMA": "7",
                                    "FEROHELY": "2",
                                    "POTAGY": "0",
                                    "KLIMAS": "i",
                                    "panzio": "Nem"
                                },
                                {
                                    "SZOBA_ID": "7",
                                    "SZOBA_SZAMA": "7",
                                    "FEROHELY": "2",
                                    "POTAGY": "0",
                                    "KLIMAS": "i",
                                    "panzio": "Nem"
                                },
                                {
                                    "SZOBA_ID": "7",
                                    "SZOBA_SZAMA": "7",
                                    "FEROHELY": "2",
                                    "POTAGY": "0",
                                    "KLIMAS": "i",
                                    "panzio": "Nem"
                                },
                                {
                                    "SZOBA_ID": "7",
                                    "SZOBA_SZAMA": "7",
                                    "FEROHELY": "2",
                                    "POTAGY": "0",
                                    "KLIMAS": "i",
                                    "panzio": "Nem"
                                },
                                {
                                    "SZOBA_ID": "7",
                                    "SZOBA_SZAMA": "7",
                                    "FEROHELY": "2",
                                    "POTAGY": "0",
                                    "KLIMAS": "i",
                                    "panzio": "Nem"
                                },
                                {
                                    "SZOBA_ID": "8",
                                    "SZOBA_SZAMA": "8",
                                    "FEROHELY": "3",
                                    "POTAGY": "0",
                                    "KLIMAS": "n",
                                    "panzio": "Nem"
                                },
                                {
                                    "SZOBA_ID": "8",
                                    "SZOBA_SZAMA": "8",
                                    "FEROHELY": "3",
                                    "POTAGY": "0",
                                    "KLIMAS": "n",
                                    "panzio": "Nem"
                                },
                                {
                                    "SZOBA_ID": "8",
                                    "SZOBA_SZAMA": "8",
                                    "FEROHELY": "3",
                                    "POTAGY": "0",
                                    "KLIMAS": "n",
                                    "panzio": "Nem"
                                },
                                {
                                    "SZOBA_ID": "8",
                                    "SZOBA_SZAMA": "8",
                                    "FEROHELY": "3",
                                    "POTAGY": "0",
                                    "KLIMAS": "n",
                                    "panzio": "Nem"
                                },
                                {
                                    "SZOBA_ID": "8",
                                    "SZOBA_SZAMA": "8",
                                    "FEROHELY": "3",
                                    "POTAGY": "0",
                                    "KLIMAS": "n",
                                    "panzio": "Nem"
                                },
                                {
                                    "SZOBA_ID": "9",
                                    "SZOBA_SZAMA": "9",
                                    "FEROHELY": "3",
                                    "POTAGY": "1",
                                    "KLIMAS": "i",
                                    "panzio": "Nem"
                                },
                                {
                                    "SZOBA_ID": "9",
                                    "SZOBA_SZAMA": "9",
                                    "FEROHELY": "3",
                                    "POTAGY": "1",
                                    "KLIMAS": "i",
                                    "panzio": "Nem"
                                },
                                {
                                    "SZOBA_ID": "9",
                                    "SZOBA_SZAMA": "9",
                                    "FEROHELY": "3",
                                    "POTAGY": "1",
                                    "KLIMAS": "i",
                                    "panzio": "Nem"
                                },
                                {
                                    "SZOBA_ID": "9",
                                    "SZOBA_SZAMA": "9",
                                    "FEROHELY": "3",
                                    "POTAGY": "1",
                                    "KLIMAS": "i",
                                    "panzio": "Nem"
                                },
                                {
                                    "SZOBA_ID": "9",
                                    "SZOBA_SZAMA": "9",
                                    "FEROHELY": "3",
                                    "POTAGY": "1",
                                    "KLIMAS": "i",
                                    "panzio": "Nem"
                                },
                                {
                                    "SZOBA_ID": "9",
                                    "SZOBA_SZAMA": "9",
                                    "FEROHELY": "3",
                                    "POTAGY": "1",
                                    "KLIMAS": "i",
                                    "panzio": "Nem"
                                },
                                {
                                    "SZOBA_ID": "10",
                                    "SZOBA_SZAMA": "10",
                                    "FEROHELY": "3",
                                    "POTAGY": "0",
                                    "KLIMAS": "i",
                                    "panzio": "Nem"
                                },
                                {
                                    "SZOBA_ID": "10",
                                    "SZOBA_SZAMA": "10",
                                    "FEROHELY": "3",
                                    "POTAGY": "0",
                                    "KLIMAS": "i",
                                    "panzio": "Nem"
                                },
                                {
                                    "SZOBA_ID": "10",
                                    "SZOBA_SZAMA": "10",
                                    "FEROHELY": "3",
                                    "POTAGY": "0",
                                    "KLIMAS": "i",
                                    "panzio": "Nem"
                                },
                                {
                                    "SZOBA_ID": "10",
                                    "SZOBA_SZAMA": "10",
                                    "FEROHELY": "3",
                                    "POTAGY": "0",
                                    "KLIMAS": "i",
                                    "panzio": "Nem"
                                },
                                {
                                    "SZOBA_ID": "11",
                                    "SZOBA_SZAMA": "11",
                                    "FEROHELY": "2",
                                    "POTAGY": "1",
                                    "KLIMAS": "i",
                                    "panzio": "Nem"
                                },
                                {
                                    "SZOBA_ID": "11",
                                    "SZOBA_SZAMA": "11",
                                    "FEROHELY": "2",
                                    "POTAGY": "1",
                                    "KLIMAS": "i",
                                    "panzio": "Nem"
                                },
                                {
                                    "SZOBA_ID": "11",
                                    "SZOBA_SZAMA": "11",
                                    "FEROHELY": "2",
                                    "POTAGY": "1",
                                    "KLIMAS": "i",
                                    "panzio": "Nem"
                                },
                                {
                                    "SZOBA_ID": "11",
                                    "SZOBA_SZAMA": "11",
                                    "FEROHELY": "2",
                                    "POTAGY": "1",
                                    "KLIMAS": "i",
                                    "panzio": "Nem"
                                },
                                {
                                    "SZOBA_ID": "12",
                                    "SZOBA_SZAMA": "12",
                                    "FEROHELY": "2",
                                    "POTAGY": "1",
                                    "KLIMAS": "i",
                                    "panzio": "Nem"
                                },
                                {
                                    "SZOBA_ID": "12",
                                    "SZOBA_SZAMA": "12",
                                    "FEROHELY": "2",
                                    "POTAGY": "1",
                                    "KLIMAS": "i",
                                    "panzio": "Nem"
                                },
                                {
                                    "SZOBA_ID": "12",
                                    "SZOBA_SZAMA": "12",
                                    "FEROHELY": "2",
                                    "POTAGY": "1",
                                    "KLIMAS": "i",
                                    "panzio": "Nem"
                                },
                                {
                                    "SZOBA_ID": "12",
                                    "SZOBA_SZAMA": "12",
                                    "FEROHELY": "2",
                                    "POTAGY": "1",
                                    "KLIMAS": "i",
                                    "panzio": "Nem"
                                },
                                {
                                    "SZOBA_ID": "12",
                                    "SZOBA_SZAMA": "12",
                                    "FEROHELY": "2",
                                    "POTAGY": "1",
                                    "KLIMAS": "i",
                                    "panzio": "Nem"
                                },
                                {
                                    "SZOBA_ID": "12",
                                    "SZOBA_SZAMA": "12",
                                    "FEROHELY": "2",
                                    "POTAGY": "1",
                                    "KLIMAS": "i",
                                    "panzio": "Nem"
                                },
                                {
                                    "SZOBA_ID": "12",
                                    "SZOBA_SZAMA": "12",
                                    "FEROHELY": "2",
                                    "POTAGY": "1",
                                    "KLIMAS": "i",
                                    "panzio": "Nem"
                                },
                                {
                                    "SZOBA_ID": "12",
                                    "SZOBA_SZAMA": "12",
                                    "FEROHELY": "2",
                                    "POTAGY": "1",
                                    "KLIMAS": "i",
                                    "panzio": "Nem"
                                },
                                {
                                    "SZOBA_ID": "12",
                                    "SZOBA_SZAMA": "12",
                                    "FEROHELY": "2",
                                    "POTAGY": "1",
                                    "KLIMAS": "i",
                                    "panzio": "Nem"
                                },
                                {
                                    "SZOBA_ID": "13",
                                    "SZOBA_SZAMA": "1",
                                    "FEROHELY": "3",
                                    "POTAGY": "0",
                                    "KLIMAS": "i",
                                    "panzio": "Nem"
                                },
                                {
                                    "SZOBA_ID": "13",
                                    "SZOBA_SZAMA": "1",
                                    "FEROHELY": "3",
                                    "POTAGY": "0",
                                    "KLIMAS": "i",
                                    "panzio": "Nem"
                                },
                                {
                                    "SZOBA_ID": "13",
                                    "SZOBA_SZAMA": "1",
                                    "FEROHELY": "3",
                                    "POTAGY": "0",
                                    "KLIMAS": "i",
                                    "panzio": "Nem"
                                },
                                {
                                    "SZOBA_ID": "13",
                                    "SZOBA_SZAMA": "1",
                                    "FEROHELY": "3",
                                    "POTAGY": "0",
                                    "KLIMAS": "i",
                                    "panzio": "Nem"
                                },
                                {
                                    "SZOBA_ID": "14",
                                    "SZOBA_SZAMA": "2",
                                    "FEROHELY": "3",
                                    "POTAGY": "2",
                                    "KLIMAS": "i",
                                    "panzio": "Nem"
                                },
                                {
                                    "SZOBA_ID": "14",
                                    "SZOBA_SZAMA": "2",
                                    "FEROHELY": "3",
                                    "POTAGY": "2",
                                    "KLIMAS": "i",
                                    "panzio": "Nem"
                                },
                                {
                                    "SZOBA_ID": "14",
                                    "SZOBA_SZAMA": "2",
                                    "FEROHELY": "3",
                                    "POTAGY": "2",
                                    "KLIMAS": "i",
                                    "panzio": "Nem"
                                },
                                {
                                    "SZOBA_ID": "14",
                                    "SZOBA_SZAMA": "2",
                                    "FEROHELY": "3",
                                    "POTAGY": "2",
                                    "KLIMAS": "i",
                                    "panzio": "Nem"
                                },
                                {
                                    "SZOBA_ID": "15",
                                    "SZOBA_SZAMA": "3",
                                    "FEROHELY": "2",
                                    "POTAGY": "1",
                                    "KLIMAS": "i",
                                    "panzio": "Nem"
                                },
                                {
                                    "SZOBA_ID": "15",
                                    "SZOBA_SZAMA": "3",
                                    "FEROHELY": "2",
                                    "POTAGY": "1",
                                    "KLIMAS": "i",
                                    "panzio": "Nem"
                                },
                                {
                                    "SZOBA_ID": "15",
                                    "SZOBA_SZAMA": "3",
                                    "FEROHELY": "2",
                                    "POTAGY": "1",
                                    "KLIMAS": "i",
                                    "panzio": "Nem"
                                },
                                {
                                    "SZOBA_ID": "15",
                                    "SZOBA_SZAMA": "3",
                                    "FEROHELY": "2",
                                    "POTAGY": "1",
                                    "KLIMAS": "i",
                                    "panzio": "Nem"
                                },
                                {
                                    "SZOBA_ID": "15",
                                    "SZOBA_SZAMA": "3",
                                    "FEROHELY": "2",
                                    "POTAGY": "1",
                                    "KLIMAS": "i",
                                    "panzio": "Nem"
                                },
                                {
                                    "SZOBA_ID": "15",
                                    "SZOBA_SZAMA": "3",
                                    "FEROHELY": "2",
                                    "POTAGY": "1",
                                    "KLIMAS": "i",
                                    "panzio": "Nem"
                                },
                                {
                                    "SZOBA_ID": "16",
                                    "SZOBA_SZAMA": "4",
                                    "FEROHELY": "3",
                                    "POTAGY": "1",
                                    "KLIMAS": "i",
                                    "panzio": "Nem"
                                },
                                {
                                    "SZOBA_ID": "16",
                                    "SZOBA_SZAMA": "4",
                                    "FEROHELY": "3",
                                    "POTAGY": "1",
                                    "KLIMAS": "i",
                                    "panzio": "Nem"
                                },
                                {
                                    "SZOBA_ID": "16",
                                    "SZOBA_SZAMA": "4",
                                    "FEROHELY": "3",
                                    "POTAGY": "1",
                                    "KLIMAS": "i",
                                    "panzio": "Nem"
                                },
                                {
                                    "SZOBA_ID": "16",
                                    "SZOBA_SZAMA": "4",
                                    "FEROHELY": "3",
                                    "POTAGY": "1",
                                    "KLIMAS": "i",
                                    "panzio": "Nem"
                                },
                                {
                                    "SZOBA_ID": "16",
                                    "SZOBA_SZAMA": "4",
                                    "FEROHELY": "3",
                                    "POTAGY": "1",
                                    "KLIMAS": "i",
                                    "panzio": "Nem"
                                },
                                {
                                    "SZOBA_ID": "17",
                                    "SZOBA_SZAMA": "1",
                                    "FEROHELY": "3",
                                    "POTAGY": "1",
                                    "KLIMAS": "i",
                                    "panzio": "Nem"
                                },
                                {
                                    "SZOBA_ID": "17",
                                    "SZOBA_SZAMA": "1",
                                    "FEROHELY": "3",
                                    "POTAGY": "1",
                                    "KLIMAS": "i",
                                    "panzio": "Nem"
                                },
                                {
                                    "SZOBA_ID": "17",
                                    "SZOBA_SZAMA": "1",
                                    "FEROHELY": "3",
                                    "POTAGY": "1",
                                    "KLIMAS": "i",
                                    "panzio": "Nem"
                                },
                                {
                                    "SZOBA_ID": "17",
                                    "SZOBA_SZAMA": "1",
                                    "FEROHELY": "3",
                                    "POTAGY": "1",
                                    "KLIMAS": "i",
                                    "panzio": "Nem"
                                },
                                {
                                    "SZOBA_ID": "17",
                                    "SZOBA_SZAMA": "1",
                                    "FEROHELY": "3",
                                    "POTAGY": "1",
                                    "KLIMAS": "i",
                                    "panzio": "Nem"
                                },
                                {
                                    "SZOBA_ID": "17",
                                    "SZOBA_SZAMA": "1",
                                    "FEROHELY": "3",
                                    "POTAGY": "1",
                                    "KLIMAS": "i",
                                    "panzio": "Nem"
                                },
                                {
                                    "SZOBA_ID": "18",
                                    "SZOBA_SZAMA": "2",
                                    "FEROHELY": "3",
                                    "POTAGY": "2",
                                    "KLIMAS": "n",
                                    "panzio": "Nem"
                                },
                                {
                                    "SZOBA_ID": "18",
                                    "SZOBA_SZAMA": "2",
                                    "FEROHELY": "3",
                                    "POTAGY": "2",
                                    "KLIMAS": "n",
                                    "panzio": "Nem"
                                },
                                {
                                    "SZOBA_ID": "18",
                                    "SZOBA_SZAMA": "2",
                                    "FEROHELY": "3",
                                    "POTAGY": "2",
                                    "KLIMAS": "n",
                                    "panzio": "Nem"
                                },
                                {
                                    "SZOBA_ID": "18",
                                    "SZOBA_SZAMA": "2",
                                    "FEROHELY": "3",
                                    "POTAGY": "2",
                                    "KLIMAS": "n",
                                    "panzio": "Nem"
                                },
                                {
                                    "SZOBA_ID": "18",
                                    "SZOBA_SZAMA": "2",
                                    "FEROHELY": "3",
                                    "POTAGY": "2",
                                    "KLIMAS": "n",
                                    "panzio": "Nem"
                                },
                                {
                                    "SZOBA_ID": "18",
                                    "SZOBA_SZAMA": "2",
                                    "FEROHELY": "3",
                                    "POTAGY": "2",
                                    "KLIMAS": "n",
                                    "panzio": "Nem"
                                },
                                {
                                    "SZOBA_ID": "19",
                                    "SZOBA_SZAMA": "3",
                                    "FEROHELY": "2",
                                    "POTAGY": "1",
                                    "KLIMAS": "i",
                                    "panzio": "Nem"
                                },
                                {
                                    "SZOBA_ID": "19",
                                    "SZOBA_SZAMA": "3",
                                    "FEROHELY": "2",
                                    "POTAGY": "1",
                                    "KLIMAS": "i",
                                    "panzio": "Nem"
                                },
                                {
                                    "SZOBA_ID": "19",
                                    "SZOBA_SZAMA": "3",
                                    "FEROHELY": "2",
                                    "POTAGY": "1",
                                    "KLIMAS": "i",
                                    "panzio": "Nem"
                                },
                                {
                                    "SZOBA_ID": "19",
                                    "SZOBA_SZAMA": "3",
                                    "FEROHELY": "2",
                                    "POTAGY": "1",
                                    "KLIMAS": "i",
                                    "panzio": "Nem"
                                },
                                {
                                    "SZOBA_ID": "19",
                                    "SZOBA_SZAMA": "3",
                                    "FEROHELY": "2",
                                    "POTAGY": "1",
                                    "KLIMAS": "i",
                                    "panzio": "Nem"
                                },
                                {
                                    "SZOBA_ID": "19",
                                    "SZOBA_SZAMA": "3",
                                    "FEROHELY": "2",
                                    "POTAGY": "1",
                                    "KLIMAS": "i",
                                    "panzio": "Nem"
                                },
                                {
                                    "SZOBA_ID": "20",
                                    "SZOBA_SZAMA": "4",
                                    "FEROHELY": "3",
                                    "POTAGY": "0",
                                    "KLIMAS": "i",
                                    "panzio": "Nem"
                                },
                                {
                                    "SZOBA_ID": "20",
                                    "SZOBA_SZAMA": "4",
                                    "FEROHELY": "3",
                                    "POTAGY": "0",
                                    "KLIMAS": "i",
                                    "panzio": "Nem"
                                },
                                {
                                    "SZOBA_ID": "20",
                                    "SZOBA_SZAMA": "4",
                                    "FEROHELY": "3",
                                    "POTAGY": "0",
                                    "KLIMAS": "i",
                                    "panzio": "Nem"
                                },
                                {
                                    "SZOBA_ID": "20",
                                    "SZOBA_SZAMA": "4",
                                    "FEROHELY": "3",
                                    "POTAGY": "0",
                                    "KLIMAS": "i",
                                    "panzio": "Nem"
                                },
                                {
                                    "SZOBA_ID": "20",
                                    "SZOBA_SZAMA": "4",
                                    "FEROHELY": "3",
                                    "POTAGY": "0",
                                    "KLIMAS": "i",
                                    "panzio": "Nem"
                                },
                                {
                                    "SZOBA_ID": "21",
                                    "SZOBA_SZAMA": "5",
                                    "FEROHELY": "2",
                                    "POTAGY": "1",
                                    "KLIMAS": "i",
                                    "panzio": "Nem"
                                },
                                {
                                    "SZOBA_ID": "21",
                                    "SZOBA_SZAMA": "5",
                                    "FEROHELY": "2",
                                    "POTAGY": "1",
                                    "KLIMAS": "i",
                                    "panzio": "Nem"
                                },
                                {
                                    "SZOBA_ID": "21",
                                    "SZOBA_SZAMA": "5",
                                    "FEROHELY": "2",
                                    "POTAGY": "1",
                                    "KLIMAS": "i",
                                    "panzio": "Nem"
                                },
                                {
                                    "SZOBA_ID": "21",
                                    "SZOBA_SZAMA": "5",
                                    "FEROHELY": "2",
                                    "POTAGY": "1",
                                    "KLIMAS": "i",
                                    "panzio": "Nem"
                                },
                                {
                                    "SZOBA_ID": "22",
                                    "SZOBA_SZAMA": "6",
                                    "FEROHELY": "3",
                                    "POTAGY": "2",
                                    "KLIMAS": "n",
                                    "panzio": "Nem"
                                },
                                {
                                    "SZOBA_ID": "22",
                                    "SZOBA_SZAMA": "6",
                                    "FEROHELY": "3",
                                    "POTAGY": "2",
                                    "KLIMAS": "n",
                                    "panzio": "Nem"
                                },
                                {
                                    "SZOBA_ID": "22",
                                    "SZOBA_SZAMA": "6",
                                    "FEROHELY": "3",
                                    "POTAGY": "2",
                                    "KLIMAS": "n",
                                    "panzio": "Nem"
                                },
                                {
                                    "SZOBA_ID": "22",
                                    "SZOBA_SZAMA": "6",
                                    "FEROHELY": "3",
                                    "POTAGY": "2",
                                    "KLIMAS": "n",
                                    "panzio": "Nem"
                                },
                                {
                                    "SZOBA_ID": "22",
                                    "SZOBA_SZAMA": "6",
                                    "FEROHELY": "3",
                                    "POTAGY": "2",
                                    "KLIMAS": "n",
                                    "panzio": "Nem"
                                },
                                {
                                    "SZOBA_ID": "22",
                                    "SZOBA_SZAMA": "6",
                                    "FEROHELY": "3",
                                    "POTAGY": "2",
                                    "KLIMAS": "n",
                                    "panzio": "Nem"
                                },
                                {
                                    "SZOBA_ID": "23",
                                    "SZOBA_SZAMA": "7",
                                    "FEROHELY": "2",
                                    "POTAGY": "0",
                                    "KLIMAS": "n",
                                    "panzio": "Nem"
                                },
                                {
                                    "SZOBA_ID": "23",
                                    "SZOBA_SZAMA": "7",
                                    "FEROHELY": "2",
                                    "POTAGY": "0",
                                    "KLIMAS": "n",
                                    "panzio": "Nem"
                                },
                                {
                                    "SZOBA_ID": "23",
                                    "SZOBA_SZAMA": "7",
                                    "FEROHELY": "2",
                                    "POTAGY": "0",
                                    "KLIMAS": "n",
                                    "panzio": "Nem"
                                },
                                {
                                    "SZOBA_ID": "24",
                                    "SZOBA_SZAMA": "8",
                                    "FEROHELY": "4",
                                    "POTAGY": "1",
                                    "KLIMAS": "i",
                                    "panzio": "Nem"
                                },
                                {
                                    "SZOBA_ID": "24",
                                    "SZOBA_SZAMA": "8",
                                    "FEROHELY": "4",
                                    "POTAGY": "1",
                                    "KLIMAS": "i",
                                    "panzio": "Nem"
                                },
                                {
                                    "SZOBA_ID": "24",
                                    "SZOBA_SZAMA": "8",
                                    "FEROHELY": "4",
                                    "POTAGY": "1",
                                    "KLIMAS": "i",
                                    "panzio": "Nem"
                                },
                                {
                                    "SZOBA_ID": "25",
                                    "SZOBA_SZAMA": "1",
                                    "FEROHELY": "3",
                                    "POTAGY": "1",
                                    "KLIMAS": "n",
                                    "panzio": "Nem"
                                },
                                {
                                    "SZOBA_ID": "25",
                                    "SZOBA_SZAMA": "1",
                                    "FEROHELY": "3",
                                    "POTAGY": "1",
                                    "KLIMAS": "n",
                                    "panzio": "Nem"
                                },
                                {
                                    "SZOBA_ID": "26",
                                    "SZOBA_SZAMA": "2",
                                    "FEROHELY": "2",
                                    "POTAGY": "1",
                                    "KLIMAS": "i",
                                    "panzio": "Nem"
                                },
                                {
                                    "SZOBA_ID": "26",
                                    "SZOBA_SZAMA": "2",
                                    "FEROHELY": "2",
                                    "POTAGY": "1",
                                    "KLIMAS": "i",
                                    "panzio": "Nem"
                                },
                                {
                                    "SZOBA_ID": "27",
                                    "SZOBA_SZAMA": "3",
                                    "FEROHELY": "3",
                                    "POTAGY": "1",
                                    "KLIMAS": "n",
                                    "panzio": "Nem"
                                },
                                {
                                    "SZOBA_ID": "27",
                                    "SZOBA_SZAMA": "3",
                                    "FEROHELY": "3",
                                    "POTAGY": "1",
                                    "KLIMAS": "n",
                                    "panzio": "Nem"
                                },
                                {
                                    "SZOBA_ID": "27",
                                    "SZOBA_SZAMA": "3",
                                    "FEROHELY": "3",
                                    "POTAGY": "1",
                                    "KLIMAS": "n",
                                    "panzio": "Nem"
                                },
                                {
                                    "SZOBA_ID": "27",
                                    "SZOBA_SZAMA": "3",
                                    "FEROHELY": "3",
                                    "POTAGY": "1",
                                    "KLIMAS": "n",
                                    "panzio": "Nem"
                                },
                                {
                                    "SZOBA_ID": "27",
                                    "SZOBA_SZAMA": "3",
                                    "FEROHELY": "3",
                                    "POTAGY": "1",
                                    "KLIMAS": "n",
                                    "panzio": "Nem"
                                },
                                {
                                    "SZOBA_ID": "27",
                                    "SZOBA_SZAMA": "3",
                                    "FEROHELY": "3",
                                    "POTAGY": "1",
                                    "KLIMAS": "n",
                                    "panzio": "Nem"
                                },
                                {
                                    "SZOBA_ID": "27",
                                    "SZOBA_SZAMA": "3",
                                    "FEROHELY": "3",
                                    "POTAGY": "1",
                                    "KLIMAS": "n",
                                    "panzio": "Nem"
                                },
                                {
                                    "SZOBA_ID": "28",
                                    "SZOBA_SZAMA": "4",
                                    "FEROHELY": "2",
                                    "POTAGY": "1",
                                    "KLIMAS": "i",
                                    "panzio": "Nem"
                                },
                                {
                                    "SZOBA_ID": "28",
                                    "SZOBA_SZAMA": "4",
                                    "FEROHELY": "2",
                                    "POTAGY": "1",
                                    "KLIMAS": "i",
                                    "panzio": "Nem"
                                },
                                {
                                    "SZOBA_ID": "28",
                                    "SZOBA_SZAMA": "4",
                                    "FEROHELY": "2",
                                    "POTAGY": "1",
                                    "KLIMAS": "i",
                                    "panzio": "Nem"
                                },
                                {
                                    "SZOBA_ID": "28",
                                    "SZOBA_SZAMA": "4",
                                    "FEROHELY": "2",
                                    "POTAGY": "1",
                                    "KLIMAS": "i",
                                    "panzio": "Nem"
                                },
                                {
                                    "SZOBA_ID": "28",
                                    "SZOBA_SZAMA": "4",
                                    "FEROHELY": "2",
                                    "POTAGY": "1",
                                    "KLIMAS": "i",
                                    "panzio": "Nem"
                                },
                                {
                                    "SZOBA_ID": "28",
                                    "SZOBA_SZAMA": "4",
                                    "FEROHELY": "2",
                                    "POTAGY": "1",
                                    "KLIMAS": "i",
                                    "panzio": "Nem"
                                },
                                {
                                    "SZOBA_ID": "29",
                                    "SZOBA_SZAMA": "5",
                                    "FEROHELY": "2",
                                    "POTAGY": "0",
                                    "KLIMAS": "n",
                                    "panzio": "Nem"
                                },
                                {
                                    "SZOBA_ID": "29",
                                    "SZOBA_SZAMA": "5",
                                    "FEROHELY": "2",
                                    "POTAGY": "0",
                                    "KLIMAS": "n",
                                    "panzio": "Nem"
                                },
                                {
                                    "SZOBA_ID": "29",
                                    "SZOBA_SZAMA": "5",
                                    "FEROHELY": "2",
                                    "POTAGY": "0",
                                    "KLIMAS": "n",
                                    "panzio": "Nem"
                                },
                                {
                                    "SZOBA_ID": "29",
                                    "SZOBA_SZAMA": "5",
                                    "FEROHELY": "2",
                                    "POTAGY": "0",
                                    "KLIMAS": "n",
                                    "panzio": "Nem"
                                },
                                {
                                    "SZOBA_ID": "29",
                                    "SZOBA_SZAMA": "5",
                                    "FEROHELY": "2",
                                    "POTAGY": "0",
                                    "KLIMAS": "n",
                                    "panzio": "Nem"
                                },
                                {
                                    "SZOBA_ID": "29",
                                    "SZOBA_SZAMA": "5",
                                    "FEROHELY": "2",
                                    "POTAGY": "0",
                                    "KLIMAS": "n",
                                    "panzio": "Nem"
                                },
                                {
                                    "SZOBA_ID": "30",
                                    "SZOBA_SZAMA": "6",
                                    "FEROHELY": "3",
                                    "POTAGY": "1",
                                    "KLIMAS": "i",
                                    "panzio": "Nem"
                                },
                                {
                                    "SZOBA_ID": "30",
                                    "SZOBA_SZAMA": "6",
                                    "FEROHELY": "3",
                                    "POTAGY": "1",
                                    "KLIMAS": "i",
                                    "panzio": "Nem"
                                },
                                {
                                    "SZOBA_ID": "30",
                                    "SZOBA_SZAMA": "6",
                                    "FEROHELY": "3",
                                    "POTAGY": "1",
                                    "KLIMAS": "i",
                                    "panzio": "Nem"
                                },
                                {
                                    "SZOBA_ID": "31",
                                    "SZOBA_SZAMA": "7",
                                    "FEROHELY": "3",
                                    "POTAGY": "1",
                                    "KLIMAS": "i",
                                    "panzio": "Nem"
                                },
                                {
                                    "SZOBA_ID": "31",
                                    "SZOBA_SZAMA": "7",
                                    "FEROHELY": "3",
                                    "POTAGY": "1",
                                    "KLIMAS": "i",
                                    "panzio": "Nem"
                                },
                                {
                                    "SZOBA_ID": "31",
                                    "SZOBA_SZAMA": "7",
                                    "FEROHELY": "3",
                                    "POTAGY": "1",
                                    "KLIMAS": "i",
                                    "panzio": "Nem"
                                },
                                {
                                    "SZOBA_ID": "32",
                                    "SZOBA_SZAMA": "8",
                                    "FEROHELY": "2",
                                    "POTAGY": "0",
                                    "KLIMAS": "i",
                                    "panzio": "Nem"
                                },
                                {
                                    "SZOBA_ID": "33",
                                    "SZOBA_SZAMA": "9",
                                    "FEROHELY": "2",
                                    "POTAGY": "2",
                                    "KLIMAS": "i",
                                    "panzio": "Nem"
                                },
                                {
                                    "SZOBA_ID": "33",
                                    "SZOBA_SZAMA": "9",
                                    "FEROHELY": "2",
                                    "POTAGY": "2",
                                    "KLIMAS": "i",
                                    "panzio": "Nem"
                                },
                                {
                                    "SZOBA_ID": "33",
                                    "SZOBA_SZAMA": "9",
                                    "FEROHELY": "2",
                                    "POTAGY": "2",
                                    "KLIMAS": "i",
                                    "panzio": "Nem"
                                },
                                {
                                    "SZOBA_ID": "33",
                                    "SZOBA_SZAMA": "9",
                                    "FEROHELY": "2",
                                    "POTAGY": "2",
                                    "KLIMAS": "i",
                                    "panzio": "Nem"
                                },
                                {
                                    "SZOBA_ID": "33",
                                    "SZOBA_SZAMA": "9",
                                    "FEROHELY": "2",
                                    "POTAGY": "2",
                                    "KLIMAS": "i",
                                    "panzio": "Nem"
                                },
                                {
                                    "SZOBA_ID": "33",
                                    "SZOBA_SZAMA": "9",
                                    "FEROHELY": "2",
                                    "POTAGY": "2",
                                    "KLIMAS": "i",
                                    "panzio": "Nem"
                                },
                                {
                                    "SZOBA_ID": "34",
                                    "SZOBA_SZAMA": "10",
                                    "FEROHELY": "3",
                                    "POTAGY": "1",
                                    "KLIMAS": "i",
                                    "panzio": "Nem"
                                },
                                {
                                    "SZOBA_ID": "34",
                                    "SZOBA_SZAMA": "10",
                                    "FEROHELY": "3",
                                    "POTAGY": "1",
                                    "KLIMAS": "i",
                                    "panzio": "Nem"
                                },
                                {
                                    "SZOBA_ID": "34",
                                    "SZOBA_SZAMA": "10",
                                    "FEROHELY": "3",
                                    "POTAGY": "1",
                                    "KLIMAS": "i",
                                    "panzio": "Nem"
                                },
                                {
                                    "SZOBA_ID": "34",
                                    "SZOBA_SZAMA": "10",
                                    "FEROHELY": "3",
                                    "POTAGY": "1",
                                    "KLIMAS": "i",
                                    "panzio": "Nem"
                                },
                                {
                                    "SZOBA_ID": "35",
                                    "SZOBA_SZAMA": "11",
                                    "FEROHELY": "3",
                                    "POTAGY": "0",
                                    "KLIMAS": "i",
                                    "panzio": "Nem"
                                },
                                {
                                    "SZOBA_ID": "35",
                                    "SZOBA_SZAMA": "11",
                                    "FEROHELY": "3",
                                    "POTAGY": "0",
                                    "KLIMAS": "i",
                                    "panzio": "Nem"
                                },
                                {
                                    "SZOBA_ID": "35",
                                    "SZOBA_SZAMA": "11",
                                    "FEROHELY": "3",
                                    "POTAGY": "0",
                                    "KLIMAS": "i",
                                    "panzio": "Nem"
                                },
                                {
                                    "SZOBA_ID": "35",
                                    "SZOBA_SZAMA": "11",
                                    "FEROHELY": "3",
                                    "POTAGY": "0",
                                    "KLIMAS": "i",
                                    "panzio": "Nem"
                                },
                                {
                                    "SZOBA_ID": "35",
                                    "SZOBA_SZAMA": "11",
                                    "FEROHELY": "3",
                                    "POTAGY": "0",
                                    "KLIMAS": "i",
                                    "panzio": "Nem"
                                },
                                {
                                    "SZOBA_ID": "35",
                                    "SZOBA_SZAMA": "11",
                                    "FEROHELY": "3",
                                    "POTAGY": "0",
                                    "KLIMAS": "i",
                                    "panzio": "Nem"
                                },
                                {
                                    "SZOBA_ID": "35",
                                    "SZOBA_SZAMA": "11",
                                    "FEROHELY": "3",
                                    "POTAGY": "0",
                                    "KLIMAS": "i",
                                    "panzio": "Nem"
                                },
                                {
                                    "SZOBA_ID": "35",
                                    "SZOBA_SZAMA": "11",
                                    "FEROHELY": "3",
                                    "POTAGY": "0",
                                    "KLIMAS": "i",
                                    "panzio": "Nem"
                                },
                                {
                                    "SZOBA_ID": "35",
                                    "SZOBA_SZAMA": "11",
                                    "FEROHELY": "3",
                                    "POTAGY": "0",
                                    "KLIMAS": "i",
                                    "panzio": "Nem"
                                },
                                {
                                    "SZOBA_ID": "36",
                                    "SZOBA_SZAMA": "12",
                                    "FEROHELY": "3",
                                    "POTAGY": "2",
                                    "KLIMAS": "i",
                                    "panzio": "Nem"
                                },
                                {
                                    "SZOBA_ID": "36",
                                    "SZOBA_SZAMA": "12",
                                    "FEROHELY": "3",
                                    "POTAGY": "2",
                                    "KLIMAS": "i",
                                    "panzio": "Nem"
                                },
                                {
                                    "SZOBA_ID": "36",
                                    "SZOBA_SZAMA": "12",
                                    "FEROHELY": "3",
                                    "POTAGY": "2",
                                    "KLIMAS": "i",
                                    "panzio": "Nem"
                                },
                                {
                                    "SZOBA_ID": "36",
                                    "SZOBA_SZAMA": "12",
                                    "FEROHELY": "3",
                                    "POTAGY": "2",
                                    "KLIMAS": "i",
                                    "panzio": "Nem"
                                },
                                {
                                    "SZOBA_ID": "36",
                                    "SZOBA_SZAMA": "12",
                                    "FEROHELY": "3",
                                    "POTAGY": "2",
                                    "KLIMAS": "i",
                                    "panzio": "Nem"
                                },
                                {
                                    "SZOBA_ID": "36",
                                    "SZOBA_SZAMA": "12",
                                    "FEROHELY": "3",
                                    "POTAGY": "2",
                                    "KLIMAS": "i",
                                    "panzio": "Nem"
                                },
                                {
                                    "SZOBA_ID": "37",
                                    "SZOBA_SZAMA": "13",
                                    "FEROHELY": "2",
                                    "POTAGY": "1",
                                    "KLIMAS": "i",
                                    "panzio": "Nem"
                                },
                                {
                                    "SZOBA_ID": "37",
                                    "SZOBA_SZAMA": "13",
                                    "FEROHELY": "2",
                                    "POTAGY": "1",
                                    "KLIMAS": "i",
                                    "panzio": "Nem"
                                },
                                {
                                    "SZOBA_ID": "37",
                                    "SZOBA_SZAMA": "13",
                                    "FEROHELY": "2",
                                    "POTAGY": "1",
                                    "KLIMAS": "i",
                                    "panzio": "Nem"
                                },
                                {
                                    "SZOBA_ID": "38",
                                    "SZOBA_SZAMA": "14",
                                    "FEROHELY": "2",
                                    "POTAGY": "1",
                                    "KLIMAS": "i",
                                    "panzio": "Nem"
                                },
                                {
                                    "SZOBA_ID": "38",
                                    "SZOBA_SZAMA": "14",
                                    "FEROHELY": "2",
                                    "POTAGY": "1",
                                    "KLIMAS": "i",
                                    "panzio": "Nem"
                                },
                                {
                                    "SZOBA_ID": "38",
                                    "SZOBA_SZAMA": "14",
                                    "FEROHELY": "2",
                                    "POTAGY": "1",
                                    "KLIMAS": "i",
                                    "panzio": "Nem"
                                },
                                {
                                    "SZOBA_ID": "38",
                                    "SZOBA_SZAMA": "14",
                                    "FEROHELY": "2",
                                    "POTAGY": "1",
                                    "KLIMAS": "i",
                                    "panzio": "Nem"
                                },
                                {
                                    "SZOBA_ID": "38",
                                    "SZOBA_SZAMA": "14",
                                    "FEROHELY": "2",
                                    "POTAGY": "1",
                                    "KLIMAS": "i",
                                    "panzio": "Nem"
                                },
                                {
                                    "SZOBA_ID": "38",
                                    "SZOBA_SZAMA": "14",
                                    "FEROHELY": "2",
                                    "POTAGY": "1",
                                    "KLIMAS": "i",
                                    "panzio": "Nem"
                                },
                                {
                                    "SZOBA_ID": "38",
                                    "SZOBA_SZAMA": "14",
                                    "FEROHELY": "2",
                                    "POTAGY": "1",
                                    "KLIMAS": "i",
                                    "panzio": "Nem"
                                },
                                {
                                    "SZOBA_ID": "38",
                                    "SZOBA_SZAMA": "14",
                                    "FEROHELY": "2",
                                    "POTAGY": "1",
                                    "KLIMAS": "i",
                                    "panzio": "Nem"
                                },
                                {
                                    "SZOBA_ID": "39",
                                    "SZOBA_SZAMA": "15",
                                    "FEROHELY": "2",
                                    "POTAGY": "0",
                                    "KLIMAS": "i",
                                    "panzio": "Nem"
                                },
                                {
                                    "SZOBA_ID": "39",
                                    "SZOBA_SZAMA": "15",
                                    "FEROHELY": "2",
                                    "POTAGY": "0",
                                    "KLIMAS": "i",
                                    "panzio": "Nem"
                                },
                                {
                                    "SZOBA_ID": "39",
                                    "SZOBA_SZAMA": "15",
                                    "FEROHELY": "2",
                                    "POTAGY": "0",
                                    "KLIMAS": "i",
                                    "panzio": "Nem"
                                },
                                {
                                    "SZOBA_ID": "39",
                                    "SZOBA_SZAMA": "15",
                                    "FEROHELY": "2",
                                    "POTAGY": "0",
                                    "KLIMAS": "i",
                                    "panzio": "Nem"
                                },
                                {
                                    "SZOBA_ID": "39",
                                    "SZOBA_SZAMA": "15",
                                    "FEROHELY": "2",
                                    "POTAGY": "0",
                                    "KLIMAS": "i",
                                    "panzio": "Nem"
                                },
                                {
                                    "SZOBA_ID": "39",
                                    "SZOBA_SZAMA": "15",
                                    "FEROHELY": "2",
                                    "POTAGY": "0",
                                    "KLIMAS": "i",
                                    "panzio": "Nem"
                                },
                                {
                                    "SZOBA_ID": "39",
                                    "SZOBA_SZAMA": "15",
                                    "FEROHELY": "2",
                                    "POTAGY": "0",
                                    "KLIMAS": "i",
                                    "panzio": "Nem"
                                },
                                {
                                    "SZOBA_ID": "40",
                                    "SZOBA_SZAMA": "1",
                                    "FEROHELY": "3",
                                    "POTAGY": "0",
                                    "KLIMAS": "i",
                                    "panzio": "Nem"
                                },
                                {
                                    "SZOBA_ID": "40",
                                    "SZOBA_SZAMA": "1",
                                    "FEROHELY": "3",
                                    "POTAGY": "0",
                                    "KLIMAS": "i",
                                    "panzio": "Nem"
                                },
                                {
                                    "SZOBA_ID": "40",
                                    "SZOBA_SZAMA": "1",
                                    "FEROHELY": "3",
                                    "POTAGY": "0",
                                    "KLIMAS": "i",
                                    "panzio": "Nem"
                                },
                                {
                                    "SZOBA_ID": "40",
                                    "SZOBA_SZAMA": "1",
                                    "FEROHELY": "3",
                                    "POTAGY": "0",
                                    "KLIMAS": "i",
                                    "panzio": "Nem"
                                },
                                {
                                    "SZOBA_ID": "41",
                                    "SZOBA_SZAMA": "2",
                                    "FEROHELY": "3",
                                    "POTAGY": "0",
                                    "KLIMAS": "n",
                                    "panzio": "Nem"
                                },
                                {
                                    "SZOBA_ID": "41",
                                    "SZOBA_SZAMA": "2",
                                    "FEROHELY": "3",
                                    "POTAGY": "0",
                                    "KLIMAS": "n",
                                    "panzio": "Nem"
                                },
                                {
                                    "SZOBA_ID": "42",
                                    "SZOBA_SZAMA": "3",
                                    "FEROHELY": "2",
                                    "POTAGY": "1",
                                    "KLIMAS": "i",
                                    "panzio": "Nem"
                                },
                                {
                                    "SZOBA_ID": "42",
                                    "SZOBA_SZAMA": "3",
                                    "FEROHELY": "2",
                                    "POTAGY": "1",
                                    "KLIMAS": "i",
                                    "panzio": "Nem"
                                },
                                {
                                    "SZOBA_ID": "42",
                                    "SZOBA_SZAMA": "3",
                                    "FEROHELY": "2",
                                    "POTAGY": "1",
                                    "KLIMAS": "i",
                                    "panzio": "Nem"
                                },
                                {
                                    "SZOBA_ID": "42",
                                    "SZOBA_SZAMA": "3",
                                    "FEROHELY": "2",
                                    "POTAGY": "1",
                                    "KLIMAS": "i",
                                    "panzio": "Nem"
                                },
                                {
                                    "SZOBA_ID": "42",
                                    "SZOBA_SZAMA": "3",
                                    "FEROHELY": "2",
                                    "POTAGY": "1",
                                    "KLIMAS": "i",
                                    "panzio": "Nem"
                                },
                                {
                                    "SZOBA_ID": "42",
                                    "SZOBA_SZAMA": "3",
                                    "FEROHELY": "2",
                                    "POTAGY": "1",
                                    "KLIMAS": "i",
                                    "panzio": "Nem"
                                },
                                {
                                    "SZOBA_ID": "43",
                                    "SZOBA_SZAMA": "4",
                                    "FEROHELY": "3",
                                    "POTAGY": "0",
                                    "KLIMAS": "i",
                                    "panzio": "Nem"
                                },
                                {
                                    "SZOBA_ID": "43",
                                    "SZOBA_SZAMA": "4",
                                    "FEROHELY": "3",
                                    "POTAGY": "0",
                                    "KLIMAS": "i",
                                    "panzio": "Nem"
                                },
                                {
                                    "SZOBA_ID": "43",
                                    "SZOBA_SZAMA": "4",
                                    "FEROHELY": "3",
                                    "POTAGY": "0",
                                    "KLIMAS": "i",
                                    "panzio": "Nem"
                                },
                                {
                                    "SZOBA_ID": "43",
                                    "SZOBA_SZAMA": "4",
                                    "FEROHELY": "3",
                                    "POTAGY": "0",
                                    "KLIMAS": "i",
                                    "panzio": "Nem"
                                },
                                {
                                    "SZOBA_ID": "43",
                                    "SZOBA_SZAMA": "4",
                                    "FEROHELY": "3",
                                    "POTAGY": "0",
                                    "KLIMAS": "i",
                                    "panzio": "Nem"
                                },
                                {
                                    "SZOBA_ID": "43",
                                    "SZOBA_SZAMA": "4",
                                    "FEROHELY": "3",
                                    "POTAGY": "0",
                                    "KLIMAS": "i",
                                    "panzio": "Nem"
                                },
                                {
                                    "SZOBA_ID": "43",
                                    "SZOBA_SZAMA": "4",
                                    "FEROHELY": "3",
                                    "POTAGY": "0",
                                    "KLIMAS": "i",
                                    "panzio": "Nem"
                                },
                                {
                                    "SZOBA_ID": "43",
                                    "SZOBA_SZAMA": "4",
                                    "FEROHELY": "3",
                                    "POTAGY": "0",
                                    "KLIMAS": "i",
                                    "panzio": "Nem"
                                },
                                {
                                    "SZOBA_ID": "44",
                                    "SZOBA_SZAMA": "5",
                                    "FEROHELY": "3",
                                    "POTAGY": "0",
                                    "KLIMAS": "i",
                                    "panzio": "Nem"
                                },
                                {
                                    "SZOBA_ID": "44",
                                    "SZOBA_SZAMA": "5",
                                    "FEROHELY": "3",
                                    "POTAGY": "0",
                                    "KLIMAS": "i",
                                    "panzio": "Nem"
                                },
                                {
                                    "SZOBA_ID": "44",
                                    "SZOBA_SZAMA": "5",
                                    "FEROHELY": "3",
                                    "POTAGY": "0",
                                    "KLIMAS": "i",
                                    "panzio": "Nem"
                                },
                                {
                                    "SZOBA_ID": "44",
                                    "SZOBA_SZAMA": "5",
                                    "FEROHELY": "3",
                                    "POTAGY": "0",
                                    "KLIMAS": "i",
                                    "panzio": "Nem"
                                },
                                {
                                    "SZOBA_ID": "44",
                                    "SZOBA_SZAMA": "5",
                                    "FEROHELY": "3",
                                    "POTAGY": "0",
                                    "KLIMAS": "i",
                                    "panzio": "Nem"
                                },
                                {
                                    "SZOBA_ID": "44",
                                    "SZOBA_SZAMA": "5",
                                    "FEROHELY": "3",
                                    "POTAGY": "0",
                                    "KLIMAS": "i",
                                    "panzio": "Nem"
                                },
                                {
                                    "SZOBA_ID": "45",
                                    "SZOBA_SZAMA": "6",
                                    "FEROHELY": "2",
                                    "POTAGY": "0",
                                    "KLIMAS": "n",
                                    "panzio": "Nem"
                                },
                                {
                                    "SZOBA_ID": "45",
                                    "SZOBA_SZAMA": "6",
                                    "FEROHELY": "2",
                                    "POTAGY": "0",
                                    "KLIMAS": "n",
                                    "panzio": "Nem"
                                },
                                {
                                    "SZOBA_ID": "45",
                                    "SZOBA_SZAMA": "6",
                                    "FEROHELY": "2",
                                    "POTAGY": "0",
                                    "KLIMAS": "n",
                                    "panzio": "Nem"
                                },
                                {
                                    "SZOBA_ID": "45",
                                    "SZOBA_SZAMA": "6",
                                    "FEROHELY": "2",
                                    "POTAGY": "0",
                                    "KLIMAS": "n",
                                    "panzio": "Nem"
                                },
                                {
                                    "SZOBA_ID": "45",
                                    "SZOBA_SZAMA": "6",
                                    "FEROHELY": "2",
                                    "POTAGY": "0",
                                    "KLIMAS": "n",
                                    "panzio": "Nem"
                                },
                                {
                                    "SZOBA_ID": "46",
                                    "SZOBA_SZAMA": "7",
                                    "FEROHELY": "3",
                                    "POTAGY": "0",
                                    "KLIMAS": "i",
                                    "panzio": "Nem"
                                },
                                {
                                    "SZOBA_ID": "46",
                                    "SZOBA_SZAMA": "7",
                                    "FEROHELY": "3",
                                    "POTAGY": "0",
                                    "KLIMAS": "i",
                                    "panzio": "Nem"
                                },
                                {
                                    "SZOBA_ID": "46",
                                    "SZOBA_SZAMA": "7",
                                    "FEROHELY": "3",
                                    "POTAGY": "0",
                                    "KLIMAS": "i",
                                    "panzio": "Nem"
                                },
                                {
                                    "SZOBA_ID": "46",
                                    "SZOBA_SZAMA": "7",
                                    "FEROHELY": "3",
                                    "POTAGY": "0",
                                    "KLIMAS": "i",
                                    "panzio": "Nem"
                                },
                                {
                                    "SZOBA_ID": "47",
                                    "SZOBA_SZAMA": "8",
                                    "FEROHELY": "2",
                                    "POTAGY": "0",
                                    "KLIMAS": "i",
                                    "panzio": "Nem"
                                },
                                {
                                    "SZOBA_ID": "47",
                                    "SZOBA_SZAMA": "8",
                                    "FEROHELY": "2",
                                    "POTAGY": "0",
                                    "KLIMAS": "i",
                                    "panzio": "Nem"
                                },
                                {
                                    "SZOBA_ID": "48",
                                    "SZOBA_SZAMA": "9",
                                    "FEROHELY": "3",
                                    "POTAGY": "0",
                                    "KLIMAS": "i",
                                    "panzio": "Nem"
                                },
                                {
                                    "SZOBA_ID": "48",
                                    "SZOBA_SZAMA": "9",
                                    "FEROHELY": "3",
                                    "POTAGY": "0",
                                    "KLIMAS": "i",
                                    "panzio": "Nem"
                                },
                                {
                                    "SZOBA_ID": "48",
                                    "SZOBA_SZAMA": "9",
                                    "FEROHELY": "3",
                                    "POTAGY": "0",
                                    "KLIMAS": "i",
                                    "panzio": "Nem"
                                },
                                {
                                    "SZOBA_ID": "48",
                                    "SZOBA_SZAMA": "9",
                                    "FEROHELY": "3",
                                    "POTAGY": "0",
                                    "KLIMAS": "i",
                                    "panzio": "Nem"
                                },
                                {
                                    "SZOBA_ID": "48",
                                    "SZOBA_SZAMA": "9",
                                    "FEROHELY": "3",
                                    "POTAGY": "0",
                                    "KLIMAS": "i",
                                    "panzio": "Nem"
                                },
                                {
                                    "SZOBA_ID": "48",
                                    "SZOBA_SZAMA": "9",
                                    "FEROHELY": "3",
                                    "POTAGY": "0",
                                    "KLIMAS": "i",
                                    "panzio": "Nem"
                                },
                                {
                                    "SZOBA_ID": "48",
                                    "SZOBA_SZAMA": "9",
                                    "FEROHELY": "3",
                                    "POTAGY": "0",
                                    "KLIMAS": "i",
                                    "panzio": "Nem"
                                },
                                {
                                    "SZOBA_ID": "48",
                                    "SZOBA_SZAMA": "9",
                                    "FEROHELY": "3",
                                    "POTAGY": "0",
                                    "KLIMAS": "i",
                                    "panzio": "Nem"
                                },
                                {
                                    "SZOBA_ID": "48",
                                    "SZOBA_SZAMA": "9",
                                    "FEROHELY": "3",
                                    "POTAGY": "0",
                                    "KLIMAS": "i",
                                    "panzio": "Nem"
                                },
                                {
                                    "SZOBA_ID": "49",
                                    "SZOBA_SZAMA": "10",
                                    "FEROHELY": "3",
                                    "POTAGY": "0",
                                    "KLIMAS": "i",
                                    "panzio": "Nem"
                                },
                                {
                                    "SZOBA_ID": "49",
                                    "SZOBA_SZAMA": "10",
                                    "FEROHELY": "3",
                                    "POTAGY": "0",
                                    "KLIMAS": "i",
                                    "panzio": "Nem"
                                },
                                {
                                    "SZOBA_ID": "49",
                                    "SZOBA_SZAMA": "10",
                                    "FEROHELY": "3",
                                    "POTAGY": "0",
                                    "KLIMAS": "i",
                                    "panzio": "Nem"
                                },
                                {
                                    "SZOBA_ID": "49",
                                    "SZOBA_SZAMA": "10",
                                    "FEROHELY": "3",
                                    "POTAGY": "0",
                                    "KLIMAS": "i",
                                    "panzio": "Nem"
                                },
                                {
                                    "SZOBA_ID": "49",
                                    "SZOBA_SZAMA": "10",
                                    "FEROHELY": "3",
                                    "POTAGY": "0",
                                    "KLIMAS": "i",
                                    "panzio": "Nem"
                                },
                                {
                                    "SZOBA_ID": "49",
                                    "SZOBA_SZAMA": "10",
                                    "FEROHELY": "3",
                                    "POTAGY": "0",
                                    "KLIMAS": "i",
                                    "panzio": "Nem"
                                },
                                {
                                    "SZOBA_ID": "49",
                                    "SZOBA_SZAMA": "10",
                                    "FEROHELY": "3",
                                    "POTAGY": "0",
                                    "KLIMAS": "i",
                                    "panzio": "Nem"
                                },
                                {
                                    "SZOBA_ID": "50",
                                    "SZOBA_SZAMA": "1",
                                    "FEROHELY": "2",
                                    "POTAGY": "0",
                                    "KLIMAS": "n",
                                    "panzio": "Nem"
                                },
                                {
                                    "SZOBA_ID": "50",
                                    "SZOBA_SZAMA": "1",
                                    "FEROHELY": "2",
                                    "POTAGY": "0",
                                    "KLIMAS": "n",
                                    "panzio": "Nem"
                                },
                                {
                                    "SZOBA_ID": "50",
                                    "SZOBA_SZAMA": "1",
                                    "FEROHELY": "2",
                                    "POTAGY": "0",
                                    "KLIMAS": "n",
                                    "panzio": "Nem"
                                },
                                {
                                    "SZOBA_ID": "50",
                                    "SZOBA_SZAMA": "1",
                                    "FEROHELY": "2",
                                    "POTAGY": "0",
                                    "KLIMAS": "n",
                                    "panzio": "Nem"
                                },
                                {
                                    "SZOBA_ID": "51",
                                    "SZOBA_SZAMA": "2",
                                    "FEROHELY": "3",
                                    "POTAGY": "1",
                                    "KLIMAS": "i",
                                    "panzio": "Nem"
                                },
                                {
                                    "SZOBA_ID": "51",
                                    "SZOBA_SZAMA": "2",
                                    "FEROHELY": "3",
                                    "POTAGY": "1",
                                    "KLIMAS": "i",
                                    "panzio": "Nem"
                                },
                                {
                                    "SZOBA_ID": "51",
                                    "SZOBA_SZAMA": "2",
                                    "FEROHELY": "3",
                                    "POTAGY": "1",
                                    "KLIMAS": "i",
                                    "panzio": "Nem"
                                },
                                {
                                    "SZOBA_ID": "51",
                                    "SZOBA_SZAMA": "2",
                                    "FEROHELY": "3",
                                    "POTAGY": "1",
                                    "KLIMAS": "i",
                                    "panzio": "Nem"
                                },
                                {
                                    "SZOBA_ID": "51",
                                    "SZOBA_SZAMA": "2",
                                    "FEROHELY": "3",
                                    "POTAGY": "1",
                                    "KLIMAS": "i",
                                    "panzio": "Nem"
                                },
                                {
                                    "SZOBA_ID": "52",
                                    "SZOBA_SZAMA": "3",
                                    "FEROHELY": "2",
                                    "POTAGY": "1",
                                    "KLIMAS": "i",
                                    "panzio": "Nem"
                                },
                                {
                                    "SZOBA_ID": "52",
                                    "SZOBA_SZAMA": "3",
                                    "FEROHELY": "2",
                                    "POTAGY": "1",
                                    "KLIMAS": "i",
                                    "panzio": "Nem"
                                },
                                {
                                    "SZOBA_ID": "52",
                                    "SZOBA_SZAMA": "3",
                                    "FEROHELY": "2",
                                    "POTAGY": "1",
                                    "KLIMAS": "i",
                                    "panzio": "Nem"
                                },
                                {
                                    "SZOBA_ID": "52",
                                    "SZOBA_SZAMA": "3",
                                    "FEROHELY": "2",
                                    "POTAGY": "1",
                                    "KLIMAS": "i",
                                    "panzio": "Nem"
                                },
                                {
                                    "SZOBA_ID": "52",
                                    "SZOBA_SZAMA": "3",
                                    "FEROHELY": "2",
                                    "POTAGY": "1",
                                    "KLIMAS": "i",
                                    "panzio": "Nem"
                                },
                                {
                                    "SZOBA_ID": "53",
                                    "SZOBA_SZAMA": "4",
                                    "FEROHELY": "2",
                                    "POTAGY": "1",
                                    "KLIMAS": "i",
                                    "panzio": "Nem"
                                },
                                {
                                    "SZOBA_ID": "53",
                                    "SZOBA_SZAMA": "4",
                                    "FEROHELY": "2",
                                    "POTAGY": "1",
                                    "KLIMAS": "i",
                                    "panzio": "Nem"
                                },
                                {
                                    "SZOBA_ID": "54",
                                    "SZOBA_SZAMA": "5",
                                    "FEROHELY": "3",
                                    "POTAGY": "0",
                                    "KLIMAS": "n",
                                    "panzio": "Nem"
                                },
                                {
                                    "SZOBA_ID": "54",
                                    "SZOBA_SZAMA": "5",
                                    "FEROHELY": "3",
                                    "POTAGY": "0",
                                    "KLIMAS": "n",
                                    "panzio": "Nem"
                                },
                                {
                                    "SZOBA_ID": "54",
                                    "SZOBA_SZAMA": "5",
                                    "FEROHELY": "3",
                                    "POTAGY": "0",
                                    "KLIMAS": "n",
                                    "panzio": "Nem"
                                },
                                {
                                    "SZOBA_ID": "54",
                                    "SZOBA_SZAMA": "5",
                                    "FEROHELY": "3",
                                    "POTAGY": "0",
                                    "KLIMAS": "n",
                                    "panzio": "Nem"
                                },
                                {
                                    "SZOBA_ID": "54",
                                    "SZOBA_SZAMA": "5",
                                    "FEROHELY": "3",
                                    "POTAGY": "0",
                                    "KLIMAS": "n",
                                    "panzio": "Nem"
                                },
                                {
                                    "SZOBA_ID": "54",
                                    "SZOBA_SZAMA": "5",
                                    "FEROHELY": "3",
                                    "POTAGY": "0",
                                    "KLIMAS": "n",
                                    "panzio": "Nem"
                                },
                                {
                                    "SZOBA_ID": "55",
                                    "SZOBA_SZAMA": "6",
                                    "FEROHELY": "2",
                                    "POTAGY": "1",
                                    "KLIMAS": "i",
                                    "panzio": "Nem"
                                },
                                {
                                    "SZOBA_ID": "55",
                                    "SZOBA_SZAMA": "6",
                                    "FEROHELY": "2",
                                    "POTAGY": "1",
                                    "KLIMAS": "i",
                                    "panzio": "Nem"
                                },
                                {
                                    "SZOBA_ID": "55",
                                    "SZOBA_SZAMA": "6",
                                    "FEROHELY": "2",
                                    "POTAGY": "1",
                                    "KLIMAS": "i",
                                    "panzio": "Nem"
                                },
                                {
                                    "SZOBA_ID": "55",
                                    "SZOBA_SZAMA": "6",
                                    "FEROHELY": "2",
                                    "POTAGY": "1",
                                    "KLIMAS": "i",
                                    "panzio": "Nem"
                                },
                                {
                                    "SZOBA_ID": "55",
                                    "SZOBA_SZAMA": "6",
                                    "FEROHELY": "2",
                                    "POTAGY": "1",
                                    "KLIMAS": "i",
                                    "panzio": "Nem"
                                },
                                {
                                    "SZOBA_ID": "55",
                                    "SZOBA_SZAMA": "6",
                                    "FEROHELY": "2",
                                    "POTAGY": "1",
                                    "KLIMAS": "i",
                                    "panzio": "Nem"
                                },
                                {
                                    "SZOBA_ID": "55",
                                    "SZOBA_SZAMA": "6",
                                    "FEROHELY": "2",
                                    "POTAGY": "1",
                                    "KLIMAS": "i",
                                    "panzio": "Nem"
                                },
                                {
                                    "SZOBA_ID": "55",
                                    "SZOBA_SZAMA": "6",
                                    "FEROHELY": "2",
                                    "POTAGY": "1",
                                    "KLIMAS": "i",
                                    "panzio": "Nem"
                                },
                                {
                                    "SZOBA_ID": "56",
                                    "SZOBA_SZAMA": "7",
                                    "FEROHELY": "2",
                                    "POTAGY": "0",
                                    "KLIMAS": "i",
                                    "panzio": "Nem"
                                },
                                {
                                    "SZOBA_ID": "56",
                                    "SZOBA_SZAMA": "7",
                                    "FEROHELY": "2",
                                    "POTAGY": "0",
                                    "KLIMAS": "i",
                                    "panzio": "Nem"
                                },
                                {
                                    "SZOBA_ID": "57",
                                    "SZOBA_SZAMA": "8",
                                    "FEROHELY": "2",
                                    "POTAGY": "0",
                                    "KLIMAS": "n",
                                    "panzio": "Nem"
                                },
                                {
                                    "SZOBA_ID": "57",
                                    "SZOBA_SZAMA": "8",
                                    "FEROHELY": "2",
                                    "POTAGY": "0",
                                    "KLIMAS": "n",
                                    "panzio": "Nem"
                                },
                                {
                                    "SZOBA_ID": "57",
                                    "SZOBA_SZAMA": "8",
                                    "FEROHELY": "2",
                                    "POTAGY": "0",
                                    "KLIMAS": "n",
                                    "panzio": "Nem"
                                },
                                {
                                    "SZOBA_ID": "57",
                                    "SZOBA_SZAMA": "8",
                                    "FEROHELY": "2",
                                    "POTAGY": "0",
                                    "KLIMAS": "n",
                                    "panzio": "Nem"
                                },
                                {
                                    "SZOBA_ID": "58",
                                    "SZOBA_SZAMA": "9",
                                    "FEROHELY": "2",
                                    "POTAGY": "1",
                                    "KLIMAS": "i",
                                    "panzio": "Nem"
                                },
                                {
                                    "SZOBA_ID": "58",
                                    "SZOBA_SZAMA": "9",
                                    "FEROHELY": "2",
                                    "POTAGY": "1",
                                    "KLIMAS": "i",
                                    "panzio": "Nem"
                                },
                                {
                                    "SZOBA_ID": "58",
                                    "SZOBA_SZAMA": "9",
                                    "FEROHELY": "2",
                                    "POTAGY": "1",
                                    "KLIMAS": "i",
                                    "panzio": "Nem"
                                },
                                {
                                    "SZOBA_ID": "58",
                                    "SZOBA_SZAMA": "9",
                                    "FEROHELY": "2",
                                    "POTAGY": "1",
                                    "KLIMAS": "i",
                                    "panzio": "Nem"
                                },
                                {
                                    "SZOBA_ID": "58",
                                    "SZOBA_SZAMA": "9",
                                    "FEROHELY": "2",
                                    "POTAGY": "1",
                                    "KLIMAS": "i",
                                    "panzio": "Nem"
                                },
                                {
                                    "SZOBA_ID": "58",
                                    "SZOBA_SZAMA": "9",
                                    "FEROHELY": "2",
                                    "POTAGY": "1",
                                    "KLIMAS": "i",
                                    "panzio": "Nem"
                                },
                                {
                                    "SZOBA_ID": "58",
                                    "SZOBA_SZAMA": "9",
                                    "FEROHELY": "2",
                                    "POTAGY": "1",
                                    "KLIMAS": "i",
                                    "panzio": "Nem"
                                },
                                {
                                    "SZOBA_ID": "58",
                                    "SZOBA_SZAMA": "9",
                                    "FEROHELY": "2",
                                    "POTAGY": "1",
                                    "KLIMAS": "i",
                                    "panzio": "Nem"
                                },
                                {
                                    "SZOBA_ID": "58",
                                    "SZOBA_SZAMA": "9",
                                    "FEROHELY": "2",
                                    "POTAGY": "1",
                                    "KLIMAS": "i",
                                    "panzio": "Nem"
                                },
                                {
                                    "SZOBA_ID": "58",
                                    "SZOBA_SZAMA": "9",
                                    "FEROHELY": "2",
                                    "POTAGY": "1",
                                    "KLIMAS": "i",
                                    "panzio": "Nem"
                                },
                                {
                                    "SZOBA_ID": "58",
                                    "SZOBA_SZAMA": "9",
                                    "FEROHELY": "2",
                                    "POTAGY": "1",
                                    "KLIMAS": "i",
                                    "panzio": "Nem"
                                },
                                {
                                    "SZOBA_ID": "58",
                                    "SZOBA_SZAMA": "9",
                                    "FEROHELY": "2",
                                    "POTAGY": "1",
                                    "KLIMAS": "i",
                                    "panzio": "Nem"
                                },
                                {
                                    "SZOBA_ID": "58",
                                    "SZOBA_SZAMA": "9",
                                    "FEROHELY": "2",
                                    "POTAGY": "1",
                                    "KLIMAS": "i",
                                    "panzio": "Nem"
                                },
                                {
                                    "SZOBA_ID": "59",
                                    "SZOBA_SZAMA": "10",
                                    "FEROHELY": "2",
                                    "POTAGY": "1",
                                    "KLIMAS": "n",
                                    "panzio": "Nem"
                                },
                                {
                                    "SZOBA_ID": "59",
                                    "SZOBA_SZAMA": "10",
                                    "FEROHELY": "2",
                                    "POTAGY": "1",
                                    "KLIMAS": "n",
                                    "panzio": "Nem"
                                },
                                {
                                    "SZOBA_ID": "59",
                                    "SZOBA_SZAMA": "10",
                                    "FEROHELY": "2",
                                    "POTAGY": "1",
                                    "KLIMAS": "n",
                                    "panzio": "Nem"
                                },
                                {
                                    "SZOBA_ID": "59",
                                    "SZOBA_SZAMA": "10",
                                    "FEROHELY": "2",
                                    "POTAGY": "1",
                                    "KLIMAS": "n",
                                    "panzio": "Nem"
                                },
                                {
                                    "SZOBA_ID": "59",
                                    "SZOBA_SZAMA": "10",
                                    "FEROHELY": "2",
                                    "POTAGY": "1",
                                    "KLIMAS": "n",
                                    "panzio": "Nem"
                                },
                                {
                                    "SZOBA_ID": "59",
                                    "SZOBA_SZAMA": "10",
                                    "FEROHELY": "2",
                                    "POTAGY": "1",
                                    "KLIMAS": "n",
                                    "panzio": "Nem"
                                },
                                {
                                    "SZOBA_ID": "59",
                                    "SZOBA_SZAMA": "10",
                                    "FEROHELY": "2",
                                    "POTAGY": "1",
                                    "KLIMAS": "n",
                                    "panzio": "Nem"
                                },
                                {
                                    "SZOBA_ID": "60",
                                    "SZOBA_SZAMA": "11",
                                    "FEROHELY": "3",
                                    "POTAGY": "0",
                                    "KLIMAS": "i",
                                    "panzio": "Nem"
                                },
                                {
                                    "SZOBA_ID": "61",
                                    "SZOBA_SZAMA": "12",
                                    "FEROHELY": "3",
                                    "POTAGY": "0",
                                    "KLIMAS": "i",
                                    "panzio": "Nem"
                                },
                                {
                                    "SZOBA_ID": "61",
                                    "SZOBA_SZAMA": "12",
                                    "FEROHELY": "3",
                                    "POTAGY": "0",
                                    "KLIMAS": "i",
                                    "panzio": "Nem"
                                },
                                {
                                    "SZOBA_ID": "61",
                                    "SZOBA_SZAMA": "12",
                                    "FEROHELY": "3",
                                    "POTAGY": "0",
                                    "KLIMAS": "i",
                                    "panzio": "Nem"
                                },
                                {
                                    "SZOBA_ID": "61",
                                    "SZOBA_SZAMA": "12",
                                    "FEROHELY": "3",
                                    "POTAGY": "0",
                                    "KLIMAS": "i",
                                    "panzio": "Nem"
                                },
                                {
                                    "SZOBA_ID": "61",
                                    "SZOBA_SZAMA": "12",
                                    "FEROHELY": "3",
                                    "POTAGY": "0",
                                    "KLIMAS": "i",
                                    "panzio": "Nem"
                                },
                                {
                                    "SZOBA_ID": "62",
                                    "SZOBA_SZAMA": "13",
                                    "FEROHELY": "2",
                                    "POTAGY": "0",
                                    "KLIMAS": "n",
                                    "panzio": "Nem"
                                },
                                {
                                    "SZOBA_ID": "62",
                                    "SZOBA_SZAMA": "13",
                                    "FEROHELY": "2",
                                    "POTAGY": "0",
                                    "KLIMAS": "n",
                                    "panzio": "Nem"
                                },
                                {
                                    "SZOBA_ID": "62",
                                    "SZOBA_SZAMA": "13",
                                    "FEROHELY": "2",
                                    "POTAGY": "0",
                                    "KLIMAS": "n",
                                    "panzio": "Nem"
                                },
                                {
                                    "SZOBA_ID": "62",
                                    "SZOBA_SZAMA": "13",
                                    "FEROHELY": "2",
                                    "POTAGY": "0",
                                    "KLIMAS": "n",
                                    "panzio": "Nem"
                                },
                                {
                                    "SZOBA_ID": "62",
                                    "SZOBA_SZAMA": "13",
                                    "FEROHELY": "2",
                                    "POTAGY": "0",
                                    "KLIMAS": "n",
                                    "panzio": "Nem"
                                },
                                {
                                    "SZOBA_ID": "63",
                                    "SZOBA_SZAMA": "14",
                                    "FEROHELY": "2",
                                    "POTAGY": "0",
                                    "KLIMAS": "n",
                                    "panzio": "Nem"
                                },
                                {
                                    "SZOBA_ID": "63",
                                    "SZOBA_SZAMA": "14",
                                    "FEROHELY": "2",
                                    "POTAGY": "0",
                                    "KLIMAS": "n",
                                    "panzio": "Nem"
                                },
                                {
                                    "SZOBA_ID": "63",
                                    "SZOBA_SZAMA": "14",
                                    "FEROHELY": "2",
                                    "POTAGY": "0",
                                    "KLIMAS": "n",
                                    "panzio": "Nem"
                                },
                                {
                                    "SZOBA_ID": "63",
                                    "SZOBA_SZAMA": "14",
                                    "FEROHELY": "2",
                                    "POTAGY": "0",
                                    "KLIMAS": "n",
                                    "panzio": "Nem"
                                },
                                {
                                    "SZOBA_ID": "64",
                                    "SZOBA_SZAMA": "15",
                                    "FEROHELY": "2",
                                    "POTAGY": "0",
                                    "KLIMAS": "i",
                                    "panzio": "Nem"
                                },
                                {
                                    "SZOBA_ID": "64",
                                    "SZOBA_SZAMA": "15",
                                    "FEROHELY": "2",
                                    "POTAGY": "0",
                                    "KLIMAS": "i",
                                    "panzio": "Nem"
                                },
                                {
                                    "SZOBA_ID": "64",
                                    "SZOBA_SZAMA": "15",
                                    "FEROHELY": "2",
                                    "POTAGY": "0",
                                    "KLIMAS": "i",
                                    "panzio": "Nem"
                                },
                                {
                                    "SZOBA_ID": "64",
                                    "SZOBA_SZAMA": "15",
                                    "FEROHELY": "2",
                                    "POTAGY": "0",
                                    "KLIMAS": "i",
                                    "panzio": "Nem"
                                },
                                {
                                    "SZOBA_ID": "64",
                                    "SZOBA_SZAMA": "15",
                                    "FEROHELY": "2",
                                    "POTAGY": "0",
                                    "KLIMAS": "i",
                                    "panzio": "Nem"
                                },
                                {
                                    "SZOBA_ID": "64",
                                    "SZOBA_SZAMA": "15",
                                    "FEROHELY": "2",
                                    "POTAGY": "0",
                                    "KLIMAS": "i",
                                    "panzio": "Nem"
                                },
                                {
                                    "SZOBA_ID": "65",
                                    "SZOBA_SZAMA": "16",
                                    "FEROHELY": "2",
                                    "POTAGY": "0",
                                    "KLIMAS": "n",
                                    "panzio": "Nem"
                                },
                                {
                                    "SZOBA_ID": "66",
                                    "SZOBA_SZAMA": "17",
                                    "FEROHELY": "3",
                                    "POTAGY": "0",
                                    "KLIMAS": "n",
                                    "panzio": "Nem"
                                },
                                {
                                    "SZOBA_ID": "66",
                                    "SZOBA_SZAMA": "17",
                                    "FEROHELY": "3",
                                    "POTAGY": "0",
                                    "KLIMAS": "n",
                                    "panzio": "Nem"
                                },
                                {
                                    "SZOBA_ID": "66",
                                    "SZOBA_SZAMA": "17",
                                    "FEROHELY": "3",
                                    "POTAGY": "0",
                                    "KLIMAS": "n",
                                    "panzio": "Nem"
                                },
                                {
                                    "SZOBA_ID": "66",
                                    "SZOBA_SZAMA": "17",
                                    "FEROHELY": "3",
                                    "POTAGY": "0",
                                    "KLIMAS": "n",
                                    "panzio": "Nem"
                                },
                                {
                                    "SZOBA_ID": "67",
                                    "SZOBA_SZAMA": "18",
                                    "FEROHELY": "2",
                                    "POTAGY": "2",
                                    "KLIMAS": "i",
                                    "panzio": "Nem"
                                },
                                {
                                    "SZOBA_ID": "67",
                                    "SZOBA_SZAMA": "18",
                                    "FEROHELY": "2",
                                    "POTAGY": "2",
                                    "KLIMAS": "i",
                                    "panzio": "Nem"
                                },
                                {
                                    "SZOBA_ID": "67",
                                    "SZOBA_SZAMA": "18",
                                    "FEROHELY": "2",
                                    "POTAGY": "2",
                                    "KLIMAS": "i",
                                    "panzio": "Nem"
                                },
                                {
                                    "SZOBA_ID": "67",
                                    "SZOBA_SZAMA": "18",
                                    "FEROHELY": "2",
                                    "POTAGY": "2",
                                    "KLIMAS": "i",
                                    "panzio": "Nem"
                                },
                                {
                                    "SZOBA_ID": "67",
                                    "SZOBA_SZAMA": "18",
                                    "FEROHELY": "2",
                                    "POTAGY": "2",
                                    "KLIMAS": "i",
                                    "panzio": "Nem"
                                },
                                {
                                    "SZOBA_ID": "67",
                                    "SZOBA_SZAMA": "18",
                                    "FEROHELY": "2",
                                    "POTAGY": "2",
                                    "KLIMAS": "i",
                                    "panzio": "Nem"
                                },
                                {
                                    "SZOBA_ID": "68",
                                    "SZOBA_SZAMA": "19",
                                    "FEROHELY": "2",
                                    "POTAGY": "2",
                                    "KLIMAS": "i",
                                    "panzio": "Nem"
                                },
                                {
                                    "SZOBA_ID": "68",
                                    "SZOBA_SZAMA": "19",
                                    "FEROHELY": "2",
                                    "POTAGY": "2",
                                    "KLIMAS": "i",
                                    "panzio": "Nem"
                                },
                                {
                                    "SZOBA_ID": "68",
                                    "SZOBA_SZAMA": "19",
                                    "FEROHELY": "2",
                                    "POTAGY": "2",
                                    "KLIMAS": "i",
                                    "panzio": "Nem"
                                },
                                {
                                    "SZOBA_ID": "69",
                                    "SZOBA_SZAMA": "20",
                                    "FEROHELY": "3",
                                    "POTAGY": "1",
                                    "KLIMAS": "n",
                                    "panzio": "Nem"
                                },
                                {
                                    "SZOBA_ID": "69",
                                    "SZOBA_SZAMA": "20",
                                    "FEROHELY": "3",
                                    "POTAGY": "1",
                                    "KLIMAS": "n",
                                    "panzio": "Nem"
                                },
                                {
                                    "SZOBA_ID": "69",
                                    "SZOBA_SZAMA": "20",
                                    "FEROHELY": "3",
                                    "POTAGY": "1",
                                    "KLIMAS": "n",
                                    "panzio": "Nem"
                                },
                                {
                                    "SZOBA_ID": "69",
                                    "SZOBA_SZAMA": "20",
                                    "FEROHELY": "3",
                                    "POTAGY": "1",
                                    "KLIMAS": "n",
                                    "panzio": "Nem"
                                },
                                {
                                    "SZOBA_ID": "70",
                                    "SZOBA_SZAMA": "21",
                                    "FEROHELY": "2",
                                    "POTAGY": "1",
                                    "KLIMAS": "i",
                                    "panzio": "Nem"
                                },
                                {
                                    "SZOBA_ID": "70",
                                    "SZOBA_SZAMA": "21",
                                    "FEROHELY": "2",
                                    "POTAGY": "1",
                                    "KLIMAS": "i",
                                    "panzio": "Nem"
                                },
                                {
                                    "SZOBA_ID": "70",
                                    "SZOBA_SZAMA": "21",
                                    "FEROHELY": "2",
                                    "POTAGY": "1",
                                    "KLIMAS": "i",
                                    "panzio": "Nem"
                                },
                                {
                                    "SZOBA_ID": "70",
                                    "SZOBA_SZAMA": "21",
                                    "FEROHELY": "2",
                                    "POTAGY": "1",
                                    "KLIMAS": "i",
                                    "panzio": "Nem"
                                },
                                {
                                    "SZOBA_ID": "70",
                                    "SZOBA_SZAMA": "21",
                                    "FEROHELY": "2",
                                    "POTAGY": "1",
                                    "KLIMAS": "i",
                                    "panzio": "Nem"
                                },
                                {
                                    "SZOBA_ID": "70",
                                    "SZOBA_SZAMA": "21",
                                    "FEROHELY": "2",
                                    "POTAGY": "1",
                                    "KLIMAS": "i",
                                    "panzio": "Nem"
                                },
                                {
                                    "SZOBA_ID": "70",
                                    "SZOBA_SZAMA": "21",
                                    "FEROHELY": "2",
                                    "POTAGY": "1",
                                    "KLIMAS": "i",
                                    "panzio": "Nem"
                                },
                                {
                                    "SZOBA_ID": "70",
                                    "SZOBA_SZAMA": "21",
                                    "FEROHELY": "2",
                                    "POTAGY": "1",
                                    "KLIMAS": "i",
                                    "panzio": "Nem"
                                },
                                {
                                    "SZOBA_ID": "70",
                                    "SZOBA_SZAMA": "21",
                                    "FEROHELY": "2",
                                    "POTAGY": "1",
                                    "KLIMAS": "i",
                                    "panzio": "Nem"
                                },
                                {
                                    "SZOBA_ID": "70",
                                    "SZOBA_SZAMA": "21",
                                    "FEROHELY": "2",
                                    "POTAGY": "1",
                                    "KLIMAS": "i",
                                    "panzio": "Nem"
                                },
                                {
                                    "SZOBA_ID": "70",
                                    "SZOBA_SZAMA": "21",
                                    "FEROHELY": "2",
                                    "POTAGY": "1",
                                    "KLIMAS": "i",
                                    "panzio": "Nem"
                                },
                                {
                                    "SZOBA_ID": "71",
                                    "SZOBA_SZAMA": "22",
                                    "FEROHELY": "3",
                                    "POTAGY": "0",
                                    "KLIMAS": "i",
                                    "panzio": "Nem"
                                },
                                {
                                    "SZOBA_ID": "71",
                                    "SZOBA_SZAMA": "22",
                                    "FEROHELY": "3",
                                    "POTAGY": "0",
                                    "KLIMAS": "i",
                                    "panzio": "Nem"
                                },
                                {
                                    "SZOBA_ID": "71",
                                    "SZOBA_SZAMA": "22",
                                    "FEROHELY": "3",
                                    "POTAGY": "0",
                                    "KLIMAS": "i",
                                    "panzio": "Nem"
                                },
                                {
                                    "SZOBA_ID": "72",
                                    "SZOBA_SZAMA": "23",
                                    "FEROHELY": "2",
                                    "POTAGY": "0",
                                    "KLIMAS": "n",
                                    "panzio": "Nem"
                                },
                                {
                                    "SZOBA_ID": "72",
                                    "SZOBA_SZAMA": "23",
                                    "FEROHELY": "2",
                                    "POTAGY": "0",
                                    "KLIMAS": "n",
                                    "panzio": "Nem"
                                },
                                {
                                    "SZOBA_ID": "72",
                                    "SZOBA_SZAMA": "23",
                                    "FEROHELY": "2",
                                    "POTAGY": "0",
                                    "KLIMAS": "n",
                                    "panzio": "Nem"
                                },
                                {
                                    "SZOBA_ID": "72",
                                    "SZOBA_SZAMA": "23",
                                    "FEROHELY": "2",
                                    "POTAGY": "0",
                                    "KLIMAS": "n",
                                    "panzio": "Nem"
                                },
                                {
                                    "SZOBA_ID": "73",
                                    "SZOBA_SZAMA": "24",
                                    "FEROHELY": "2",
                                    "POTAGY": "1",
                                    "KLIMAS": "i",
                                    "panzio": "Nem"
                                },
                                {
                                    "SZOBA_ID": "73",
                                    "SZOBA_SZAMA": "24",
                                    "FEROHELY": "2",
                                    "POTAGY": "1",
                                    "KLIMAS": "i",
                                    "panzio": "Nem"
                                },
                                {
                                    "SZOBA_ID": "73",
                                    "SZOBA_SZAMA": "24",
                                    "FEROHELY": "2",
                                    "POTAGY": "1",
                                    "KLIMAS": "i",
                                    "panzio": "Nem"
                                },
                                {
                                    "SZOBA_ID": "73",
                                    "SZOBA_SZAMA": "24",
                                    "FEROHELY": "2",
                                    "POTAGY": "1",
                                    "KLIMAS": "i",
                                    "panzio": "Nem"
                                },
                                {
                                    "SZOBA_ID": "74",
                                    "SZOBA_SZAMA": "25",
                                    "FEROHELY": "3",
                                    "POTAGY": "1",
                                    "KLIMAS": "n",
                                    "panzio": "Nem"
                                },
                                {
                                    "SZOBA_ID": "74",
                                    "SZOBA_SZAMA": "25",
                                    "FEROHELY": "3",
                                    "POTAGY": "1",
                                    "KLIMAS": "n",
                                    "panzio": "Nem"
                                },
                                {
                                    "SZOBA_ID": "74",
                                    "SZOBA_SZAMA": "25",
                                    "FEROHELY": "3",
                                    "POTAGY": "1",
                                    "KLIMAS": "n",
                                    "panzio": "Nem"
                                },
                                {
                                    "SZOBA_ID": "74",
                                    "SZOBA_SZAMA": "25",
                                    "FEROHELY": "3",
                                    "POTAGY": "1",
                                    "KLIMAS": "n",
                                    "panzio": "Nem"
                                },
                                {
                                    "SZOBA_ID": "74",
                                    "SZOBA_SZAMA": "25",
                                    "FEROHELY": "3",
                                    "POTAGY": "1",
                                    "KLIMAS": "n",
                                    "panzio": "Nem"
                                },
                                {
                                    "SZOBA_ID": "74",
                                    "SZOBA_SZAMA": "25",
                                    "FEROHELY": "3",
                                    "POTAGY": "1",
                                    "KLIMAS": "n",
                                    "panzio": "Nem"
                                },
                                {
                                    "SZOBA_ID": "74",
                                    "SZOBA_SZAMA": "25",
                                    "FEROHELY": "3",
                                    "POTAGY": "1",
                                    "KLIMAS": "n",
                                    "panzio": "Nem"
                                },
                                {
                                    "SZOBA_ID": "74",
                                    "SZOBA_SZAMA": "25",
                                    "FEROHELY": "3",
                                    "POTAGY": "1",
                                    "KLIMAS": "n",
                                    "panzio": "Nem"
                                },
                                {
                                    "SZOBA_ID": "74",
                                    "SZOBA_SZAMA": "25",
                                    "FEROHELY": "3",
                                    "POTAGY": "1",
                                    "KLIMAS": "n",
                                    "panzio": "Nem"
                                },
                                {
                                    "SZOBA_ID": "75",
                                    "SZOBA_SZAMA": "26",
                                    "FEROHELY": "2",
                                    "POTAGY": "1",
                                    "KLIMAS": "n",
                                    "panzio": "Nem"
                                },
                                {
                                    "SZOBA_ID": "75",
                                    "SZOBA_SZAMA": "26",
                                    "FEROHELY": "2",
                                    "POTAGY": "1",
                                    "KLIMAS": "n",
                                    "panzio": "Nem"
                                },
                                {
                                    "SZOBA_ID": "75",
                                    "SZOBA_SZAMA": "26",
                                    "FEROHELY": "2",
                                    "POTAGY": "1",
                                    "KLIMAS": "n",
                                    "panzio": "Nem"
                                },
                                {
                                    "SZOBA_ID": "76",
                                    "SZOBA_SZAMA": "27",
                                    "FEROHELY": "2",
                                    "POTAGY": "0",
                                    "KLIMAS": "i",
                                    "panzio": "Nem"
                                },
                                {
                                    "SZOBA_ID": "76",
                                    "SZOBA_SZAMA": "27",
                                    "FEROHELY": "2",
                                    "POTAGY": "0",
                                    "KLIMAS": "i",
                                    "panzio": "Nem"
                                },
                                {
                                    "SZOBA_ID": "76",
                                    "SZOBA_SZAMA": "27",
                                    "FEROHELY": "2",
                                    "POTAGY": "0",
                                    "KLIMAS": "i",
                                    "panzio": "Nem"
                                },
                                {
                                    "SZOBA_ID": "77",
                                    "SZOBA_SZAMA": "28",
                                    "FEROHELY": "3",
                                    "POTAGY": "1",
                                    "KLIMAS": "i",
                                    "panzio": "Nem"
                                },
                                {
                                    "SZOBA_ID": "77",
                                    "SZOBA_SZAMA": "28",
                                    "FEROHELY": "3",
                                    "POTAGY": "1",
                                    "KLIMAS": "i",
                                    "panzio": "Nem"
                                },
                                {
                                    "SZOBA_ID": "77",
                                    "SZOBA_SZAMA": "28",
                                    "FEROHELY": "3",
                                    "POTAGY": "1",
                                    "KLIMAS": "i",
                                    "panzio": "Nem"
                                },
                                {
                                    "SZOBA_ID": "77",
                                    "SZOBA_SZAMA": "28",
                                    "FEROHELY": "3",
                                    "POTAGY": "1",
                                    "KLIMAS": "i",
                                    "panzio": "Nem"
                                },
                                {
                                    "SZOBA_ID": "77",
                                    "SZOBA_SZAMA": "28",
                                    "FEROHELY": "3",
                                    "POTAGY": "1",
                                    "KLIMAS": "i",
                                    "panzio": "Nem"
                                },
                                {
                                    "SZOBA_ID": "77",
                                    "SZOBA_SZAMA": "28",
                                    "FEROHELY": "3",
                                    "POTAGY": "1",
                                    "KLIMAS": "i",
                                    "panzio": "Nem"
                                },
                                {
                                    "SZOBA_ID": "78",
                                    "SZOBA_SZAMA": "29",
                                    "FEROHELY": "2",
                                    "POTAGY": "1",
                                    "KLIMAS": "n",
                                    "panzio": "Nem"
                                },
                                {
                                    "SZOBA_ID": "78",
                                    "SZOBA_SZAMA": "29",
                                    "FEROHELY": "2",
                                    "POTAGY": "1",
                                    "KLIMAS": "n",
                                    "panzio": "Nem"
                                },
                                {
                                    "SZOBA_ID": "78",
                                    "SZOBA_SZAMA": "29",
                                    "FEROHELY": "2",
                                    "POTAGY": "1",
                                    "KLIMAS": "n",
                                    "panzio": "Nem"
                                },
                                {
                                    "SZOBA_ID": "78",
                                    "SZOBA_SZAMA": "29",
                                    "FEROHELY": "2",
                                    "POTAGY": "1",
                                    "KLIMAS": "n",
                                    "panzio": "Nem"
                                },
                                {
                                    "SZOBA_ID": "78",
                                    "SZOBA_SZAMA": "29",
                                    "FEROHELY": "2",
                                    "POTAGY": "1",
                                    "KLIMAS": "n",
                                    "panzio": "Nem"
                                },
                                {
                                    "SZOBA_ID": "78",
                                    "SZOBA_SZAMA": "29",
                                    "FEROHELY": "2",
                                    "POTAGY": "1",
                                    "KLIMAS": "n",
                                    "panzio": "Nem"
                                },
                                {
                                    "SZOBA_ID": "79",
                                    "SZOBA_SZAMA": "30",
                                    "FEROHELY": "3",
                                    "POTAGY": "0",
                                    "KLIMAS": "i",
                                    "panzio": "Nem"
                                },
                                {
                                    "SZOBA_ID": "79",
                                    "SZOBA_SZAMA": "30",
                                    "FEROHELY": "3",
                                    "POTAGY": "0",
                                    "KLIMAS": "i",
                                    "panzio": "Nem"
                                },
                                {
                                    "SZOBA_ID": "79",
                                    "SZOBA_SZAMA": "30",
                                    "FEROHELY": "3",
                                    "POTAGY": "0",
                                    "KLIMAS": "i",
                                    "panzio": "Nem"
                                },
                                {
                                    "SZOBA_ID": "79",
                                    "SZOBA_SZAMA": "30",
                                    "FEROHELY": "3",
                                    "POTAGY": "0",
                                    "KLIMAS": "i",
                                    "panzio": "Nem"
                                },
                                {
                                    "SZOBA_ID": "79",
                                    "SZOBA_SZAMA": "30",
                                    "FEROHELY": "3",
                                    "POTAGY": "0",
                                    "KLIMAS": "i",
                                    "panzio": "Nem"
                                },
                                {
                                    "SZOBA_ID": "80",
                                    "SZOBA_SZAMA": "31",
                                    "FEROHELY": "2",
                                    "POTAGY": "1",
                                    "KLIMAS": "i",
                                    "panzio": "Nem"
                                },
                                {
                                    "SZOBA_ID": "80",
                                    "SZOBA_SZAMA": "31",
                                    "FEROHELY": "2",
                                    "POTAGY": "1",
                                    "KLIMAS": "i",
                                    "panzio": "Nem"
                                },
                                {
                                    "SZOBA_ID": "80",
                                    "SZOBA_SZAMA": "31",
                                    "FEROHELY": "2",
                                    "POTAGY": "1",
                                    "KLIMAS": "i",
                                    "panzio": "Nem"
                                },
                                {
                                    "SZOBA_ID": "80",
                                    "SZOBA_SZAMA": "31",
                                    "FEROHELY": "2",
                                    "POTAGY": "1",
                                    "KLIMAS": "i",
                                    "panzio": "Nem"
                                },
                                {
                                    "SZOBA_ID": "80",
                                    "SZOBA_SZAMA": "31",
                                    "FEROHELY": "2",
                                    "POTAGY": "1",
                                    "KLIMAS": "i",
                                    "panzio": "Nem"
                                },
                                {
                                    "SZOBA_ID": "80",
                                    "SZOBA_SZAMA": "31",
                                    "FEROHELY": "2",
                                    "POTAGY": "1",
                                    "KLIMAS": "i",
                                    "panzio": "Nem"
                                },
                                {
                                    "SZOBA_ID": "80",
                                    "SZOBA_SZAMA": "31",
                                    "FEROHELY": "2",
                                    "POTAGY": "1",
                                    "KLIMAS": "i",
                                    "panzio": "Nem"
                                },
                                {
                                    "SZOBA_ID": "81",
                                    "SZOBA_SZAMA": "32",
                                    "FEROHELY": "2",
                                    "POTAGY": "0",
                                    "KLIMAS": "i",
                                    "panzio": "Nem"
                                },
                                {
                                    "SZOBA_ID": "81",
                                    "SZOBA_SZAMA": "32",
                                    "FEROHELY": "2",
                                    "POTAGY": "0",
                                    "KLIMAS": "i",
                                    "panzio": "Nem"
                                },
                                {
                                    "SZOBA_ID": "81",
                                    "SZOBA_SZAMA": "32",
                                    "FEROHELY": "2",
                                    "POTAGY": "0",
                                    "KLIMAS": "i",
                                    "panzio": "Nem"
                                },
                                {
                                    "SZOBA_ID": "81",
                                    "SZOBA_SZAMA": "32",
                                    "FEROHELY": "2",
                                    "POTAGY": "0",
                                    "KLIMAS": "i",
                                    "panzio": "Nem"
                                },
                                {
                                    "SZOBA_ID": "81",
                                    "SZOBA_SZAMA": "32",
                                    "FEROHELY": "2",
                                    "POTAGY": "0",
                                    "KLIMAS": "i",
                                    "panzio": "Nem"
                                },
                                {
                                    "SZOBA_ID": "82",
                                    "SZOBA_SZAMA": "33",
                                    "FEROHELY": "3",
                                    "POTAGY": "0",
                                    "KLIMAS": "i",
                                    "panzio": "Nem"
                                },
                                {
                                    "SZOBA_ID": "82",
                                    "SZOBA_SZAMA": "33",
                                    "FEROHELY": "3",
                                    "POTAGY": "0",
                                    "KLIMAS": "i",
                                    "panzio": "Nem"
                                },
                                {
                                    "SZOBA_ID": "82",
                                    "SZOBA_SZAMA": "33",
                                    "FEROHELY": "3",
                                    "POTAGY": "0",
                                    "KLIMAS": "i",
                                    "panzio": "Nem"
                                },
                                {
                                    "SZOBA_ID": "82",
                                    "SZOBA_SZAMA": "33",
                                    "FEROHELY": "3",
                                    "POTAGY": "0",
                                    "KLIMAS": "i",
                                    "panzio": "Nem"
                                },
                                {
                                    "SZOBA_ID": "82",
                                    "SZOBA_SZAMA": "33",
                                    "FEROHELY": "3",
                                    "POTAGY": "0",
                                    "KLIMAS": "i",
                                    "panzio": "Nem"
                                },
                                {
                                    "SZOBA_ID": "82",
                                    "SZOBA_SZAMA": "33",
                                    "FEROHELY": "3",
                                    "POTAGY": "0",
                                    "KLIMAS": "i",
                                    "panzio": "Nem"
                                },
                                {
                                    "SZOBA_ID": "83",
                                    "SZOBA_SZAMA": "34",
                                    "FEROHELY": "3",
                                    "POTAGY": "0",
                                    "KLIMAS": "i",
                                    "panzio": "Nem"
                                },
                                {
                                    "SZOBA_ID": "83",
                                    "SZOBA_SZAMA": "34",
                                    "FEROHELY": "3",
                                    "POTAGY": "0",
                                    "KLIMAS": "i",
                                    "panzio": "Nem"
                                },
                                {
                                    "SZOBA_ID": "83",
                                    "SZOBA_SZAMA": "34",
                                    "FEROHELY": "3",
                                    "POTAGY": "0",
                                    "KLIMAS": "i",
                                    "panzio": "Nem"
                                },
                                {
                                    "SZOBA_ID": "83",
                                    "SZOBA_SZAMA": "34",
                                    "FEROHELY": "3",
                                    "POTAGY": "0",
                                    "KLIMAS": "i",
                                    "panzio": "Nem"
                                },
                                {
                                    "SZOBA_ID": "83",
                                    "SZOBA_SZAMA": "34",
                                    "FEROHELY": "3",
                                    "POTAGY": "0",
                                    "KLIMAS": "i",
                                    "panzio": "Nem"
                                },
                                {
                                    "SZOBA_ID": "83",
                                    "SZOBA_SZAMA": "34",
                                    "FEROHELY": "3",
                                    "POTAGY": "0",
                                    "KLIMAS": "i",
                                    "panzio": "Nem"
                                },
                                {
                                    "SZOBA_ID": "83",
                                    "SZOBA_SZAMA": "34",
                                    "FEROHELY": "3",
                                    "POTAGY": "0",
                                    "KLIMAS": "i",
                                    "panzio": "Nem"
                                },
                                {
                                    "SZOBA_ID": "83",
                                    "SZOBA_SZAMA": "34",
                                    "FEROHELY": "3",
                                    "POTAGY": "0",
                                    "KLIMAS": "i",
                                    "panzio": "Nem"
                                },
                                {
                                    "SZOBA_ID": "84",
                                    "SZOBA_SZAMA": "35",
                                    "FEROHELY": "3",
                                    "POTAGY": "0",
                                    "KLIMAS": "i",
                                    "panzio": "Nem"
                                },
                                {
                                    "SZOBA_ID": "84",
                                    "SZOBA_SZAMA": "35",
                                    "FEROHELY": "3",
                                    "POTAGY": "0",
                                    "KLIMAS": "i",
                                    "panzio": "Nem"
                                },
                                {
                                    "SZOBA_ID": "84",
                                    "SZOBA_SZAMA": "35",
                                    "FEROHELY": "3",
                                    "POTAGY": "0",
                                    "KLIMAS": "i",
                                    "panzio": "Nem"
                                },
                                {
                                    "SZOBA_ID": "84",
                                    "SZOBA_SZAMA": "35",
                                    "FEROHELY": "3",
                                    "POTAGY": "0",
                                    "KLIMAS": "i",
                                    "panzio": "Nem"
                                },
                                {
                                    "SZOBA_ID": "85",
                                    "SZOBA_SZAMA": "1",
                                    "FEROHELY": "2",
                                    "POTAGY": "1",
                                    "KLIMAS": "n",
                                    "panzio": "Nem"
                                },
                                {
                                    "SZOBA_ID": "85",
                                    "SZOBA_SZAMA": "1",
                                    "FEROHELY": "2",
                                    "POTAGY": "1",
                                    "KLIMAS": "n",
                                    "panzio": "Nem"
                                },
                                {
                                    "SZOBA_ID": "85",
                                    "SZOBA_SZAMA": "1",
                                    "FEROHELY": "2",
                                    "POTAGY": "1",
                                    "KLIMAS": "n",
                                    "panzio": "Nem"
                                },
                                {
                                    "SZOBA_ID": "85",
                                    "SZOBA_SZAMA": "1",
                                    "FEROHELY": "2",
                                    "POTAGY": "1",
                                    "KLIMAS": "n",
                                    "panzio": "Nem"
                                },
                                {
                                    "SZOBA_ID": "86",
                                    "SZOBA_SZAMA": "2",
                                    "FEROHELY": "2",
                                    "POTAGY": "1",
                                    "KLIMAS": "i",
                                    "panzio": "Nem"
                                },
                                {
                                    "SZOBA_ID": "86",
                                    "SZOBA_SZAMA": "2",
                                    "FEROHELY": "2",
                                    "POTAGY": "1",
                                    "KLIMAS": "i",
                                    "panzio": "Nem"
                                },
                                {
                                    "SZOBA_ID": "86",
                                    "SZOBA_SZAMA": "2",
                                    "FEROHELY": "2",
                                    "POTAGY": "1",
                                    "KLIMAS": "i",
                                    "panzio": "Nem"
                                },
                                {
                                    "SZOBA_ID": "86",
                                    "SZOBA_SZAMA": "2",
                                    "FEROHELY": "2",
                                    "POTAGY": "1",
                                    "KLIMAS": "i",
                                    "panzio": "Nem"
                                },
                                {
                                    "SZOBA_ID": "86",
                                    "SZOBA_SZAMA": "2",
                                    "FEROHELY": "2",
                                    "POTAGY": "1",
                                    "KLIMAS": "i",
                                    "panzio": "Nem"
                                },
                                {
                                    "SZOBA_ID": "87",
                                    "SZOBA_SZAMA": "3",
                                    "FEROHELY": "3",
                                    "POTAGY": "0",
                                    "KLIMAS": "i",
                                    "panzio": "Nem"
                                },
                                {
                                    "SZOBA_ID": "87",
                                    "SZOBA_SZAMA": "3",
                                    "FEROHELY": "3",
                                    "POTAGY": "0",
                                    "KLIMAS": "i",
                                    "panzio": "Nem"
                                },
                                {
                                    "SZOBA_ID": "87",
                                    "SZOBA_SZAMA": "3",
                                    "FEROHELY": "3",
                                    "POTAGY": "0",
                                    "KLIMAS": "i",
                                    "panzio": "Nem"
                                },
                                {
                                    "SZOBA_ID": "87",
                                    "SZOBA_SZAMA": "3",
                                    "FEROHELY": "3",
                                    "POTAGY": "0",
                                    "KLIMAS": "i",
                                    "panzio": "Nem"
                                },
                                {
                                    "SZOBA_ID": "87",
                                    "SZOBA_SZAMA": "3",
                                    "FEROHELY": "3",
                                    "POTAGY": "0",
                                    "KLIMAS": "i",
                                    "panzio": "Nem"
                                },
                                {
                                    "SZOBA_ID": "88",
                                    "SZOBA_SZAMA": "4",
                                    "FEROHELY": "3",
                                    "POTAGY": "0",
                                    "KLIMAS": "n",
                                    "panzio": "Nem"
                                },
                                {
                                    "SZOBA_ID": "88",
                                    "SZOBA_SZAMA": "4",
                                    "FEROHELY": "3",
                                    "POTAGY": "0",
                                    "KLIMAS": "n",
                                    "panzio": "Nem"
                                },
                                {
                                    "SZOBA_ID": "88",
                                    "SZOBA_SZAMA": "4",
                                    "FEROHELY": "3",
                                    "POTAGY": "0",
                                    "KLIMAS": "n",
                                    "panzio": "Nem"
                                },
                                {
                                    "SZOBA_ID": "88",
                                    "SZOBA_SZAMA": "4",
                                    "FEROHELY": "3",
                                    "POTAGY": "0",
                                    "KLIMAS": "n",
                                    "panzio": "Nem"
                                },
                                {
                                    "SZOBA_ID": "88",
                                    "SZOBA_SZAMA": "4",
                                    "FEROHELY": "3",
                                    "POTAGY": "0",
                                    "KLIMAS": "n",
                                    "panzio": "Nem"
                                },
                                {
                                    "SZOBA_ID": "88",
                                    "SZOBA_SZAMA": "4",
                                    "FEROHELY": "3",
                                    "POTAGY": "0",
                                    "KLIMAS": "n",
                                    "panzio": "Nem"
                                },
                                {
                                    "SZOBA_ID": "88",
                                    "SZOBA_SZAMA": "4",
                                    "FEROHELY": "3",
                                    "POTAGY": "0",
                                    "KLIMAS": "n",
                                    "panzio": "Nem"
                                },
                                {
                                    "SZOBA_ID": "88",
                                    "SZOBA_SZAMA": "4",
                                    "FEROHELY": "3",
                                    "POTAGY": "0",
                                    "KLIMAS": "n",
                                    "panzio": "Nem"
                                },
                                {
                                    "SZOBA_ID": "89",
                                    "SZOBA_SZAMA": "5",
                                    "FEROHELY": "3",
                                    "POTAGY": "0",
                                    "KLIMAS": "i",
                                    "panzio": "Nem"
                                },
                                {
                                    "SZOBA_ID": "89",
                                    "SZOBA_SZAMA": "5",
                                    "FEROHELY": "3",
                                    "POTAGY": "0",
                                    "KLIMAS": "i",
                                    "panzio": "Nem"
                                },
                                {
                                    "SZOBA_ID": "89",
                                    "SZOBA_SZAMA": "5",
                                    "FEROHELY": "3",
                                    "POTAGY": "0",
                                    "KLIMAS": "i",
                                    "panzio": "Nem"
                                },
                                {
                                    "SZOBA_ID": "89",
                                    "SZOBA_SZAMA": "5",
                                    "FEROHELY": "3",
                                    "POTAGY": "0",
                                    "KLIMAS": "i",
                                    "panzio": "Nem"
                                },
                                {
                                    "SZOBA_ID": "89",
                                    "SZOBA_SZAMA": "5",
                                    "FEROHELY": "3",
                                    "POTAGY": "0",
                                    "KLIMAS": "i",
                                    "panzio": "Nem"
                                },
                                {
                                    "SZOBA_ID": "89",
                                    "SZOBA_SZAMA": "5",
                                    "FEROHELY": "3",
                                    "POTAGY": "0",
                                    "KLIMAS": "i",
                                    "panzio": "Nem"
                                },
                                {
                                    "SZOBA_ID": "89",
                                    "SZOBA_SZAMA": "5",
                                    "FEROHELY": "3",
                                    "POTAGY": "0",
                                    "KLIMAS": "i",
                                    "panzio": "Nem"
                                },
                                {
                                    "SZOBA_ID": "89",
                                    "SZOBA_SZAMA": "5",
                                    "FEROHELY": "3",
                                    "POTAGY": "0",
                                    "KLIMAS": "i",
                                    "panzio": "Nem"
                                },
                                {
                                    "SZOBA_ID": "90",
                                    "SZOBA_SZAMA": "6",
                                    "FEROHELY": "3",
                                    "POTAGY": "0",
                                    "KLIMAS": "i",
                                    "panzio": "Nem"
                                },
                                {
                                    "SZOBA_ID": "90",
                                    "SZOBA_SZAMA": "6",
                                    "FEROHELY": "3",
                                    "POTAGY": "0",
                                    "KLIMAS": "i",
                                    "panzio": "Nem"
                                },
                                {
                                    "SZOBA_ID": "90",
                                    "SZOBA_SZAMA": "6",
                                    "FEROHELY": "3",
                                    "POTAGY": "0",
                                    "KLIMAS": "i",
                                    "panzio": "Nem"
                                },
                                {
                                    "SZOBA_ID": "90",
                                    "SZOBA_SZAMA": "6",
                                    "FEROHELY": "3",
                                    "POTAGY": "0",
                                    "KLIMAS": "i",
                                    "panzio": "Nem"
                                },
                                {
                                    "SZOBA_ID": "91",
                                    "SZOBA_SZAMA": "1",
                                    "FEROHELY": "2",
                                    "POTAGY": "0",
                                    "KLIMAS": "n",
                                    "panzio": "Nem"
                                },
                                {
                                    "SZOBA_ID": "91",
                                    "SZOBA_SZAMA": "1",
                                    "FEROHELY": "2",
                                    "POTAGY": "0",
                                    "KLIMAS": "n",
                                    "panzio": "Nem"
                                },
                                {
                                    "SZOBA_ID": "91",
                                    "SZOBA_SZAMA": "1",
                                    "FEROHELY": "2",
                                    "POTAGY": "0",
                                    "KLIMAS": "n",
                                    "panzio": "Nem"
                                },
                                {
                                    "SZOBA_ID": "92",
                                    "SZOBA_SZAMA": "2",
                                    "FEROHELY": "3",
                                    "POTAGY": "1",
                                    "KLIMAS": "i",
                                    "panzio": "Nem"
                                },
                                {
                                    "SZOBA_ID": "92",
                                    "SZOBA_SZAMA": "2",
                                    "FEROHELY": "3",
                                    "POTAGY": "1",
                                    "KLIMAS": "i",
                                    "panzio": "Nem"
                                },
                                {
                                    "SZOBA_ID": "92",
                                    "SZOBA_SZAMA": "2",
                                    "FEROHELY": "3",
                                    "POTAGY": "1",
                                    "KLIMAS": "i",
                                    "panzio": "Nem"
                                },
                                {
                                    "SZOBA_ID": "92",
                                    "SZOBA_SZAMA": "2",
                                    "FEROHELY": "3",
                                    "POTAGY": "1",
                                    "KLIMAS": "i",
                                    "panzio": "Nem"
                                },
                                {
                                    "SZOBA_ID": "92",
                                    "SZOBA_SZAMA": "2",
                                    "FEROHELY": "3",
                                    "POTAGY": "1",
                                    "KLIMAS": "i",
                                    "panzio": "Nem"
                                },
                                {
                                    "SZOBA_ID": "92",
                                    "SZOBA_SZAMA": "2",
                                    "FEROHELY": "3",
                                    "POTAGY": "1",
                                    "KLIMAS": "i",
                                    "panzio": "Nem"
                                },
                                {
                                    "SZOBA_ID": "93",
                                    "SZOBA_SZAMA": "3",
                                    "FEROHELY": "3",
                                    "POTAGY": "2",
                                    "KLIMAS": "i",
                                    "panzio": "Nem"
                                },
                                {
                                    "SZOBA_ID": "93",
                                    "SZOBA_SZAMA": "3",
                                    "FEROHELY": "3",
                                    "POTAGY": "2",
                                    "KLIMAS": "i",
                                    "panzio": "Nem"
                                },
                                {
                                    "SZOBA_ID": "93",
                                    "SZOBA_SZAMA": "3",
                                    "FEROHELY": "3",
                                    "POTAGY": "2",
                                    "KLIMAS": "i",
                                    "panzio": "Nem"
                                },
                                {
                                    "SZOBA_ID": "93",
                                    "SZOBA_SZAMA": "3",
                                    "FEROHELY": "3",
                                    "POTAGY": "2",
                                    "KLIMAS": "i",
                                    "panzio": "Nem"
                                },
                                {
                                    "SZOBA_ID": "93",
                                    "SZOBA_SZAMA": "3",
                                    "FEROHELY": "3",
                                    "POTAGY": "2",
                                    "KLIMAS": "i",
                                    "panzio": "Nem"
                                },
                                {
                                    "SZOBA_ID": "94",
                                    "SZOBA_SZAMA": "4",
                                    "FEROHELY": "2",
                                    "POTAGY": "0",
                                    "KLIMAS": "n",
                                    "panzio": "Nem"
                                },
                                {
                                    "SZOBA_ID": "94",
                                    "SZOBA_SZAMA": "4",
                                    "FEROHELY": "2",
                                    "POTAGY": "0",
                                    "KLIMAS": "n",
                                    "panzio": "Nem"
                                },
                                {
                                    "SZOBA_ID": "94",
                                    "SZOBA_SZAMA": "4",
                                    "FEROHELY": "2",
                                    "POTAGY": "0",
                                    "KLIMAS": "n",
                                    "panzio": "Nem"
                                },
                                {
                                    "SZOBA_ID": "94",
                                    "SZOBA_SZAMA": "4",
                                    "FEROHELY": "2",
                                    "POTAGY": "0",
                                    "KLIMAS": "n",
                                    "panzio": "Nem"
                                },
                                {
                                    "SZOBA_ID": "94",
                                    "SZOBA_SZAMA": "4",
                                    "FEROHELY": "2",
                                    "POTAGY": "0",
                                    "KLIMAS": "n",
                                    "panzio": "Nem"
                                },
                                {
                                    "SZOBA_ID": "94",
                                    "SZOBA_SZAMA": "4",
                                    "FEROHELY": "2",
                                    "POTAGY": "0",
                                    "KLIMAS": "n",
                                    "panzio": "Nem"
                                },
                                {
                                    "SZOBA_ID": "94",
                                    "SZOBA_SZAMA": "4",
                                    "FEROHELY": "2",
                                    "POTAGY": "0",
                                    "KLIMAS": "n",
                                    "panzio": "Nem"
                                },
                                {
                                    "SZOBA_ID": "94",
                                    "SZOBA_SZAMA": "4",
                                    "FEROHELY": "2",
                                    "POTAGY": "0",
                                    "KLIMAS": "n",
                                    "panzio": "Nem"
                                },
                                {
                                    "SZOBA_ID": "94",
                                    "SZOBA_SZAMA": "4",
                                    "FEROHELY": "2",
                                    "POTAGY": "0",
                                    "KLIMAS": "n",
                                    "panzio": "Nem"
                                },
                                {
                                    "SZOBA_ID": "94",
                                    "SZOBA_SZAMA": "4",
                                    "FEROHELY": "2",
                                    "POTAGY": "0",
                                    "KLIMAS": "n",
                                    "panzio": "Nem"
                                },
                                {
                                    "SZOBA_ID": "95",
                                    "SZOBA_SZAMA": "5",
                                    "FEROHELY": "3",
                                    "POTAGY": "1",
                                    "KLIMAS": "i",
                                    "panzio": "Nem"
                                },
                                {
                                    "SZOBA_ID": "95",
                                    "SZOBA_SZAMA": "5",
                                    "FEROHELY": "3",
                                    "POTAGY": "1",
                                    "KLIMAS": "i",
                                    "panzio": "Nem"
                                },
                                {
                                    "SZOBA_ID": "95",
                                    "SZOBA_SZAMA": "5",
                                    "FEROHELY": "3",
                                    "POTAGY": "1",
                                    "KLIMAS": "i",
                                    "panzio": "Nem"
                                },
                                {
                                    "SZOBA_ID": "95",
                                    "SZOBA_SZAMA": "5",
                                    "FEROHELY": "3",
                                    "POTAGY": "1",
                                    "KLIMAS": "i",
                                    "panzio": "Nem"
                                },
                                {
                                    "SZOBA_ID": "96",
                                    "SZOBA_SZAMA": "6",
                                    "FEROHELY": "3",
                                    "POTAGY": "0",
                                    "KLIMAS": "n",
                                    "panzio": "Nem"
                                },
                                {
                                    "SZOBA_ID": "96",
                                    "SZOBA_SZAMA": "6",
                                    "FEROHELY": "3",
                                    "POTAGY": "0",
                                    "KLIMAS": "n",
                                    "panzio": "Nem"
                                },
                                {
                                    "SZOBA_ID": "96",
                                    "SZOBA_SZAMA": "6",
                                    "FEROHELY": "3",
                                    "POTAGY": "0",
                                    "KLIMAS": "n",
                                    "panzio": "Nem"
                                },
                                {
                                    "SZOBA_ID": "96",
                                    "SZOBA_SZAMA": "6",
                                    "FEROHELY": "3",
                                    "POTAGY": "0",
                                    "KLIMAS": "n",
                                    "panzio": "Nem"
                                },
                                {
                                    "SZOBA_ID": "96",
                                    "SZOBA_SZAMA": "6",
                                    "FEROHELY": "3",
                                    "POTAGY": "0",
                                    "KLIMAS": "n",
                                    "panzio": "Nem"
                                },
                                {
                                    "SZOBA_ID": "96",
                                    "SZOBA_SZAMA": "6",
                                    "FEROHELY": "3",
                                    "POTAGY": "0",
                                    "KLIMAS": "n",
                                    "panzio": "Nem"
                                },
                                {
                                    "SZOBA_ID": "96",
                                    "SZOBA_SZAMA": "6",
                                    "FEROHELY": "3",
                                    "POTAGY": "0",
                                    "KLIMAS": "n",
                                    "panzio": "Nem"
                                },
                                {
                                    "SZOBA_ID": "97",
                                    "SZOBA_SZAMA": "7",
                                    "FEROHELY": "3",
                                    "POTAGY": "2",
                                    "KLIMAS": "n",
                                    "panzio": "Nem"
                                },
                                {
                                    "SZOBA_ID": "97",
                                    "SZOBA_SZAMA": "7",
                                    "FEROHELY": "3",
                                    "POTAGY": "2",
                                    "KLIMAS": "n",
                                    "panzio": "Nem"
                                },
                                {
                                    "SZOBA_ID": "97",
                                    "SZOBA_SZAMA": "7",
                                    "FEROHELY": "3",
                                    "POTAGY": "2",
                                    "KLIMAS": "n",
                                    "panzio": "Nem"
                                },
                                {
                                    "SZOBA_ID": "97",
                                    "SZOBA_SZAMA": "7",
                                    "FEROHELY": "3",
                                    "POTAGY": "2",
                                    "KLIMAS": "n",
                                    "panzio": "Nem"
                                },
                                {
                                    "SZOBA_ID": "97",
                                    "SZOBA_SZAMA": "7",
                                    "FEROHELY": "3",
                                    "POTAGY": "2",
                                    "KLIMAS": "n",
                                    "panzio": "Nem"
                                },
                                {
                                    "SZOBA_ID": "97",
                                    "SZOBA_SZAMA": "7",
                                    "FEROHELY": "3",
                                    "POTAGY": "2",
                                    "KLIMAS": "n",
                                    "panzio": "Nem"
                                },
                                {
                                    "SZOBA_ID": "97",
                                    "SZOBA_SZAMA": "7",
                                    "FEROHELY": "3",
                                    "POTAGY": "2",
                                    "KLIMAS": "n",
                                    "panzio": "Nem"
                                },
                                {
                                    "SZOBA_ID": "98",
                                    "SZOBA_SZAMA": "8",
                                    "FEROHELY": "2",
                                    "POTAGY": "0",
                                    "KLIMAS": "n",
                                    "panzio": "Nem"
                                },
                                {
                                    "SZOBA_ID": "98",
                                    "SZOBA_SZAMA": "8",
                                    "FEROHELY": "2",
                                    "POTAGY": "0",
                                    "KLIMAS": "n",
                                    "panzio": "Nem"
                                },
                                {
                                    "SZOBA_ID": "98",
                                    "SZOBA_SZAMA": "8",
                                    "FEROHELY": "2",
                                    "POTAGY": "0",
                                    "KLIMAS": "n",
                                    "panzio": "Nem"
                                },
                                {
                                    "SZOBA_ID": "98",
                                    "SZOBA_SZAMA": "8",
                                    "FEROHELY": "2",
                                    "POTAGY": "0",
                                    "KLIMAS": "n",
                                    "panzio": "Nem"
                                },
                                {
                                    "SZOBA_ID": "99",
                                    "SZOBA_SZAMA": "9",
                                    "FEROHELY": "2",
                                    "POTAGY": "0",
                                    "KLIMAS": "n",
                                    "panzio": "Nem"
                                },
                                {
                                    "SZOBA_ID": "99",
                                    "SZOBA_SZAMA": "9",
                                    "FEROHELY": "2",
                                    "POTAGY": "0",
                                    "KLIMAS": "n",
                                    "panzio": "Nem"
                                },
                                {
                                    "SZOBA_ID": "99",
                                    "SZOBA_SZAMA": "9",
                                    "FEROHELY": "2",
                                    "POTAGY": "0",
                                    "KLIMAS": "n",
                                    "panzio": "Nem"
                                },
                                {
                                    "SZOBA_ID": "99",
                                    "SZOBA_SZAMA": "9",
                                    "FEROHELY": "2",
                                    "POTAGY": "0",
                                    "KLIMAS": "n",
                                    "panzio": "Nem"
                                },
                                {
                                    "SZOBA_ID": "99",
                                    "SZOBA_SZAMA": "9",
                                    "FEROHELY": "2",
                                    "POTAGY": "0",
                                    "KLIMAS": "n",
                                    "panzio": "Nem"
                                },
                                {
                                    "SZOBA_ID": "100",
                                    "SZOBA_SZAMA": "10",
                                    "FEROHELY": "2",
                                    "POTAGY": "1",
                                    "KLIMAS": "i",
                                    "panzio": "Nem"
                                },
                                {
                                    "SZOBA_ID": "100",
                                    "SZOBA_SZAMA": "10",
                                    "FEROHELY": "2",
                                    "POTAGY": "1",
                                    "KLIMAS": "i",
                                    "panzio": "Nem"
                                },
                                {
                                    "SZOBA_ID": "100",
                                    "SZOBA_SZAMA": "10",
                                    "FEROHELY": "2",
                                    "POTAGY": "1",
                                    "KLIMAS": "i",
                                    "panzio": "Nem"
                                },
                                {
                                    "SZOBA_ID": "100",
                                    "SZOBA_SZAMA": "10",
                                    "FEROHELY": "2",
                                    "POTAGY": "1",
                                    "KLIMAS": "i",
                                    "panzio": "Nem"
                                },
                                {
                                    "SZOBA_ID": "101",
                                    "SZOBA_SZAMA": "11",
                                    "FEROHELY": "2",
                                    "POTAGY": "0",
                                    "KLIMAS": "i",
                                    "panzio": "Nem"
                                },
                                {
                                    "SZOBA_ID": "101",
                                    "SZOBA_SZAMA": "11",
                                    "FEROHELY": "2",
                                    "POTAGY": "0",
                                    "KLIMAS": "i",
                                    "panzio": "Nem"
                                },
                                {
                                    "SZOBA_ID": "101",
                                    "SZOBA_SZAMA": "11",
                                    "FEROHELY": "2",
                                    "POTAGY": "0",
                                    "KLIMAS": "i",
                                    "panzio": "Nem"
                                },
                                {
                                    "SZOBA_ID": "102",
                                    "SZOBA_SZAMA": "12",
                                    "FEROHELY": "2",
                                    "POTAGY": "1",
                                    "KLIMAS": "i",
                                    "panzio": "Nem"
                                },
                                {
                                    "SZOBA_ID": "102",
                                    "SZOBA_SZAMA": "12",
                                    "FEROHELY": "2",
                                    "POTAGY": "1",
                                    "KLIMAS": "i",
                                    "panzio": "Nem"
                                },
                                {
                                    "SZOBA_ID": "103",
                                    "SZOBA_SZAMA": "13",
                                    "FEROHELY": "2",
                                    "POTAGY": "1",
                                    "KLIMAS": "i",
                                    "panzio": "Nem"
                                },
                                {
                                    "SZOBA_ID": "103",
                                    "SZOBA_SZAMA": "13",
                                    "FEROHELY": "2",
                                    "POTAGY": "1",
                                    "KLIMAS": "i",
                                    "panzio": "Nem"
                                },
                                {
                                    "SZOBA_ID": "103",
                                    "SZOBA_SZAMA": "13",
                                    "FEROHELY": "2",
                                    "POTAGY": "1",
                                    "KLIMAS": "i",
                                    "panzio": "Nem"
                                },
                                {
                                    "SZOBA_ID": "103",
                                    "SZOBA_SZAMA": "13",
                                    "FEROHELY": "2",
                                    "POTAGY": "1",
                                    "KLIMAS": "i",
                                    "panzio": "Nem"
                                },
                                {
                                    "SZOBA_ID": "104",
                                    "SZOBA_SZAMA": "14",
                                    "FEROHELY": "3",
                                    "POTAGY": "0",
                                    "KLIMAS": "i",
                                    "panzio": "Nem"
                                },
                                {
                                    "SZOBA_ID": "104",
                                    "SZOBA_SZAMA": "14",
                                    "FEROHELY": "3",
                                    "POTAGY": "0",
                                    "KLIMAS": "i",
                                    "panzio": "Nem"
                                },
                                {
                                    "SZOBA_ID": "104",
                                    "SZOBA_SZAMA": "14",
                                    "FEROHELY": "3",
                                    "POTAGY": "0",
                                    "KLIMAS": "i",
                                    "panzio": "Nem"
                                },
                                {
                                    "SZOBA_ID": "104",
                                    "SZOBA_SZAMA": "14",
                                    "FEROHELY": "3",
                                    "POTAGY": "0",
                                    "KLIMAS": "i",
                                    "panzio": "Nem"
                                },
                                {
                                    "SZOBA_ID": "105",
                                    "SZOBA_SZAMA": "15",
                                    "FEROHELY": "2",
                                    "POTAGY": "0",
                                    "KLIMAS": "i",
                                    "panzio": "Nem"
                                },
                                {
                                    "SZOBA_ID": "105",
                                    "SZOBA_SZAMA": "15",
                                    "FEROHELY": "2",
                                    "POTAGY": "0",
                                    "KLIMAS": "i",
                                    "panzio": "Nem"
                                },
                                {
                                    "SZOBA_ID": "106",
                                    "SZOBA_SZAMA": "16",
                                    "FEROHELY": "2",
                                    "POTAGY": "0",
                                    "KLIMAS": "i",
                                    "panzio": "Nem"
                                },
                                {
                                    "SZOBA_ID": "106",
                                    "SZOBA_SZAMA": "16",
                                    "FEROHELY": "2",
                                    "POTAGY": "0",
                                    "KLIMAS": "i",
                                    "panzio": "Nem"
                                },
                                {
                                    "SZOBA_ID": "106",
                                    "SZOBA_SZAMA": "16",
                                    "FEROHELY": "2",
                                    "POTAGY": "0",
                                    "KLIMAS": "i",
                                    "panzio": "Nem"
                                },
                                {
                                    "SZOBA_ID": "106",
                                    "SZOBA_SZAMA": "16",
                                    "FEROHELY": "2",
                                    "POTAGY": "0",
                                    "KLIMAS": "i",
                                    "panzio": "Nem"
                                },
                                {
                                    "SZOBA_ID": "106",
                                    "SZOBA_SZAMA": "16",
                                    "FEROHELY": "2",
                                    "POTAGY": "0",
                                    "KLIMAS": "i",
                                    "panzio": "Nem"
                                },
                                {
                                    "SZOBA_ID": "106",
                                    "SZOBA_SZAMA": "16",
                                    "FEROHELY": "2",
                                    "POTAGY": "0",
                                    "KLIMAS": "i",
                                    "panzio": "Nem"
                                },
                                {
                                    "SZOBA_ID": "107",
                                    "SZOBA_SZAMA": "17",
                                    "FEROHELY": "2",
                                    "POTAGY": "1",
                                    "KLIMAS": "n",
                                    "panzio": "Nem"
                                },
                                {
                                    "SZOBA_ID": "107",
                                    "SZOBA_SZAMA": "17",
                                    "FEROHELY": "2",
                                    "POTAGY": "1",
                                    "KLIMAS": "n",
                                    "panzio": "Nem"
                                },
                                {
                                    "SZOBA_ID": "107",
                                    "SZOBA_SZAMA": "17",
                                    "FEROHELY": "2",
                                    "POTAGY": "1",
                                    "KLIMAS": "n",
                                    "panzio": "Nem"
                                },
                                {
                                    "SZOBA_ID": "107",
                                    "SZOBA_SZAMA": "17",
                                    "FEROHELY": "2",
                                    "POTAGY": "1",
                                    "KLIMAS": "n",
                                    "panzio": "Nem"
                                },
                                {
                                    "SZOBA_ID": "107",
                                    "SZOBA_SZAMA": "17",
                                    "FEROHELY": "2",
                                    "POTAGY": "1",
                                    "KLIMAS": "n",
                                    "panzio": "Nem"
                                },
                                {
                                    "SZOBA_ID": "108",
                                    "SZOBA_SZAMA": "18",
                                    "FEROHELY": "2",
                                    "POTAGY": "0",
                                    "KLIMAS": "i",
                                    "panzio": "Nem"
                                },
                                {
                                    "SZOBA_ID": "108",
                                    "SZOBA_SZAMA": "18",
                                    "FEROHELY": "2",
                                    "POTAGY": "0",
                                    "KLIMAS": "i",
                                    "panzio": "Nem"
                                },
                                {
                                    "SZOBA_ID": "109",
                                    "SZOBA_SZAMA": "19",
                                    "FEROHELY": "2",
                                    "POTAGY": "1",
                                    "KLIMAS": "i",
                                    "panzio": "Nem"
                                },
                                {
                                    "SZOBA_ID": "109",
                                    "SZOBA_SZAMA": "19",
                                    "FEROHELY": "2",
                                    "POTAGY": "1",
                                    "KLIMAS": "i",
                                    "panzio": "Nem"
                                },
                                {
                                    "SZOBA_ID": "109",
                                    "SZOBA_SZAMA": "19",
                                    "FEROHELY": "2",
                                    "POTAGY": "1",
                                    "KLIMAS": "i",
                                    "panzio": "Nem"
                                },
                                {
                                    "SZOBA_ID": "109",
                                    "SZOBA_SZAMA": "19",
                                    "FEROHELY": "2",
                                    "POTAGY": "1",
                                    "KLIMAS": "i",
                                    "panzio": "Nem"
                                },
                                {
                                    "SZOBA_ID": "109",
                                    "SZOBA_SZAMA": "19",
                                    "FEROHELY": "2",
                                    "POTAGY": "1",
                                    "KLIMAS": "i",
                                    "panzio": "Nem"
                                },
                                {
                                    "SZOBA_ID": "109",
                                    "SZOBA_SZAMA": "19",
                                    "FEROHELY": "2",
                                    "POTAGY": "1",
                                    "KLIMAS": "i",
                                    "panzio": "Nem"
                                },
                                {
                                    "SZOBA_ID": "109",
                                    "SZOBA_SZAMA": "19",
                                    "FEROHELY": "2",
                                    "POTAGY": "1",
                                    "KLIMAS": "i",
                                    "panzio": "Nem"
                                },
                                {
                                    "SZOBA_ID": "110",
                                    "SZOBA_SZAMA": "20",
                                    "FEROHELY": "2",
                                    "POTAGY": "0",
                                    "KLIMAS": "i",
                                    "panzio": "Nem"
                                },
                                {
                                    "SZOBA_ID": "110",
                                    "SZOBA_SZAMA": "20",
                                    "FEROHELY": "2",
                                    "POTAGY": "0",
                                    "KLIMAS": "i",
                                    "panzio": "Nem"
                                },
                                {
                                    "SZOBA_ID": "110",
                                    "SZOBA_SZAMA": "20",
                                    "FEROHELY": "2",
                                    "POTAGY": "0",
                                    "KLIMAS": "i",
                                    "panzio": "Nem"
                                },
                                {
                                    "SZOBA_ID": "110",
                                    "SZOBA_SZAMA": "20",
                                    "FEROHELY": "2",
                                    "POTAGY": "0",
                                    "KLIMAS": "i",
                                    "panzio": "Nem"
                                },
                                {
                                    "SZOBA_ID": "110",
                                    "SZOBA_SZAMA": "20",
                                    "FEROHELY": "2",
                                    "POTAGY": "0",
                                    "KLIMAS": "i",
                                    "panzio": "Nem"
                                },
                                {
                                    "SZOBA_ID": "110",
                                    "SZOBA_SZAMA": "20",
                                    "FEROHELY": "2",
                                    "POTAGY": "0",
                                    "KLIMAS": "i",
                                    "panzio": "Nem"
                                },
                                {
                                    "SZOBA_ID": "110",
                                    "SZOBA_SZAMA": "20",
                                    "FEROHELY": "2",
                                    "POTAGY": "0",
                                    "KLIMAS": "i",
                                    "panzio": "Nem"
                                },
                                {
                                    "SZOBA_ID": "110",
                                    "SZOBA_SZAMA": "20",
                                    "FEROHELY": "2",
                                    "POTAGY": "0",
                                    "KLIMAS": "i",
                                    "panzio": "Nem"
                                },
                                {
                                    "SZOBA_ID": "111",
                                    "SZOBA_SZAMA": "21",
                                    "FEROHELY": "2",
                                    "POTAGY": "1",
                                    "KLIMAS": "i",
                                    "panzio": "Nem"
                                },
                                {
                                    "SZOBA_ID": "111",
                                    "SZOBA_SZAMA": "21",
                                    "FEROHELY": "2",
                                    "POTAGY": "1",
                                    "KLIMAS": "i",
                                    "panzio": "Nem"
                                },
                                {
                                    "SZOBA_ID": "111",
                                    "SZOBA_SZAMA": "21",
                                    "FEROHELY": "2",
                                    "POTAGY": "1",
                                    "KLIMAS": "i",
                                    "panzio": "Nem"
                                },
                                {
                                    "SZOBA_ID": "111",
                                    "SZOBA_SZAMA": "21",
                                    "FEROHELY": "2",
                                    "POTAGY": "1",
                                    "KLIMAS": "i",
                                    "panzio": "Nem"
                                },
                                {
                                    "SZOBA_ID": "111",
                                    "SZOBA_SZAMA": "21",
                                    "FEROHELY": "2",
                                    "POTAGY": "1",
                                    "KLIMAS": "i",
                                    "panzio": "Nem"
                                },
                                {
                                    "SZOBA_ID": "112",
                                    "SZOBA_SZAMA": "22",
                                    "FEROHELY": "3",
                                    "POTAGY": "0",
                                    "KLIMAS": "i",
                                    "panzio": "Nem"
                                },
                                {
                                    "SZOBA_ID": "112",
                                    "SZOBA_SZAMA": "22",
                                    "FEROHELY": "3",
                                    "POTAGY": "0",
                                    "KLIMAS": "i",
                                    "panzio": "Nem"
                                },
                                {
                                    "SZOBA_ID": "112",
                                    "SZOBA_SZAMA": "22",
                                    "FEROHELY": "3",
                                    "POTAGY": "0",
                                    "KLIMAS": "i",
                                    "panzio": "Nem"
                                },
                                {
                                    "SZOBA_ID": "112",
                                    "SZOBA_SZAMA": "22",
                                    "FEROHELY": "3",
                                    "POTAGY": "0",
                                    "KLIMAS": "i",
                                    "panzio": "Nem"
                                },
                                {
                                    "SZOBA_ID": "112",
                                    "SZOBA_SZAMA": "22",
                                    "FEROHELY": "3",
                                    "POTAGY": "0",
                                    "KLIMAS": "i",
                                    "panzio": "Nem"
                                },
                                {
                                    "SZOBA_ID": "113",
                                    "SZOBA_SZAMA": "23",
                                    "FEROHELY": "3",
                                    "POTAGY": "2",
                                    "KLIMAS": "i",
                                    "panzio": "Nem"
                                },
                                {
                                    "SZOBA_ID": "113",
                                    "SZOBA_SZAMA": "23",
                                    "FEROHELY": "3",
                                    "POTAGY": "2",
                                    "KLIMAS": "i",
                                    "panzio": "Nem"
                                },
                                {
                                    "SZOBA_ID": "113",
                                    "SZOBA_SZAMA": "23",
                                    "FEROHELY": "3",
                                    "POTAGY": "2",
                                    "KLIMAS": "i",
                                    "panzio": "Nem"
                                },
                                {
                                    "SZOBA_ID": "113",
                                    "SZOBA_SZAMA": "23",
                                    "FEROHELY": "3",
                                    "POTAGY": "2",
                                    "KLIMAS": "i",
                                    "panzio": "Nem"
                                },
                                {
                                    "SZOBA_ID": "113",
                                    "SZOBA_SZAMA": "23",
                                    "FEROHELY": "3",
                                    "POTAGY": "2",
                                    "KLIMAS": "i",
                                    "panzio": "Nem"
                                },
                                {
                                    "SZOBA_ID": "114",
                                    "SZOBA_SZAMA": "24",
                                    "FEROHELY": "2",
                                    "POTAGY": "1",
                                    "KLIMAS": "n",
                                    "panzio": "Nem"
                                },
                                {
                                    "SZOBA_ID": "114",
                                    "SZOBA_SZAMA": "24",
                                    "FEROHELY": "2",
                                    "POTAGY": "1",
                                    "KLIMAS": "n",
                                    "panzio": "Nem"
                                },
                                {
                                    "SZOBA_ID": "114",
                                    "SZOBA_SZAMA": "24",
                                    "FEROHELY": "2",
                                    "POTAGY": "1",
                                    "KLIMAS": "n",
                                    "panzio": "Nem"
                                },
                                {
                                    "SZOBA_ID": "114",
                                    "SZOBA_SZAMA": "24",
                                    "FEROHELY": "2",
                                    "POTAGY": "1",
                                    "KLIMAS": "n",
                                    "panzio": "Nem"
                                },
                                {
                                    "SZOBA_ID": "115",
                                    "SZOBA_SZAMA": "25",
                                    "FEROHELY": "3",
                                    "POTAGY": "0",
                                    "KLIMAS": "i",
                                    "panzio": "Nem"
                                },
                                {
                                    "SZOBA_ID": "115",
                                    "SZOBA_SZAMA": "25",
                                    "FEROHELY": "3",
                                    "POTAGY": "0",
                                    "KLIMAS": "i",
                                    "panzio": "Nem"
                                },
                                {
                                    "SZOBA_ID": "115",
                                    "SZOBA_SZAMA": "25",
                                    "FEROHELY": "3",
                                    "POTAGY": "0",
                                    "KLIMAS": "i",
                                    "panzio": "Nem"
                                },
                                {
                                    "SZOBA_ID": "115",
                                    "SZOBA_SZAMA": "25",
                                    "FEROHELY": "3",
                                    "POTAGY": "0",
                                    "KLIMAS": "i",
                                    "panzio": "Nem"
                                },
                                {
                                    "SZOBA_ID": "115",
                                    "SZOBA_SZAMA": "25",
                                    "FEROHELY": "3",
                                    "POTAGY": "0",
                                    "KLIMAS": "i",
                                    "panzio": "Nem"
                                },
                                {
                                    "SZOBA_ID": "115",
                                    "SZOBA_SZAMA": "25",
                                    "FEROHELY": "3",
                                    "POTAGY": "0",
                                    "KLIMAS": "i",
                                    "panzio": "Nem"
                                },
                                {
                                    "SZOBA_ID": "115",
                                    "SZOBA_SZAMA": "25",
                                    "FEROHELY": "3",
                                    "POTAGY": "0",
                                    "KLIMAS": "i",
                                    "panzio": "Nem"
                                },
                                {
                                    "SZOBA_ID": "116",
                                    "SZOBA_SZAMA": "26",
                                    "FEROHELY": "3",
                                    "POTAGY": "0",
                                    "KLIMAS": "i",
                                    "panzio": "Nem"
                                },
                                {
                                    "SZOBA_ID": "116",
                                    "SZOBA_SZAMA": "26",
                                    "FEROHELY": "3",
                                    "POTAGY": "0",
                                    "KLIMAS": "i",
                                    "panzio": "Nem"
                                },
                                {
                                    "SZOBA_ID": "117",
                                    "SZOBA_SZAMA": "27",
                                    "FEROHELY": "3",
                                    "POTAGY": "1",
                                    "KLIMAS": "i",
                                    "panzio": "Nem"
                                },
                                {
                                    "SZOBA_ID": "117",
                                    "SZOBA_SZAMA": "27",
                                    "FEROHELY": "3",
                                    "POTAGY": "1",
                                    "KLIMAS": "i",
                                    "panzio": "Nem"
                                },
                                {
                                    "SZOBA_ID": "117",
                                    "SZOBA_SZAMA": "27",
                                    "FEROHELY": "3",
                                    "POTAGY": "1",
                                    "KLIMAS": "i",
                                    "panzio": "Nem"
                                },
                                {
                                    "SZOBA_ID": "117",
                                    "SZOBA_SZAMA": "27",
                                    "FEROHELY": "3",
                                    "POTAGY": "1",
                                    "KLIMAS": "i",
                                    "panzio": "Nem"
                                },
                                {
                                    "SZOBA_ID": "117",
                                    "SZOBA_SZAMA": "27",
                                    "FEROHELY": "3",
                                    "POTAGY": "1",
                                    "KLIMAS": "i",
                                    "panzio": "Nem"
                                },
                                {
                                    "SZOBA_ID": "117",
                                    "SZOBA_SZAMA": "27",
                                    "FEROHELY": "3",
                                    "POTAGY": "1",
                                    "KLIMAS": "i",
                                    "panzio": "Nem"
                                },
                                {
                                    "SZOBA_ID": "117",
                                    "SZOBA_SZAMA": "27",
                                    "FEROHELY": "3",
                                    "POTAGY": "1",
                                    "KLIMAS": "i",
                                    "panzio": "Nem"
                                },
                                {
                                    "SZOBA_ID": "117",
                                    "SZOBA_SZAMA": "27",
                                    "FEROHELY": "3",
                                    "POTAGY": "1",
                                    "KLIMAS": "i",
                                    "panzio": "Nem"
                                },
                                {
                                    "SZOBA_ID": "118",
                                    "SZOBA_SZAMA": "28",
                                    "FEROHELY": "2",
                                    "POTAGY": "1",
                                    "KLIMAS": "i",
                                    "panzio": "Nem"
                                },
                                {
                                    "SZOBA_ID": "118",
                                    "SZOBA_SZAMA": "28",
                                    "FEROHELY": "2",
                                    "POTAGY": "1",
                                    "KLIMAS": "i",
                                    "panzio": "Nem"
                                },
                                {
                                    "SZOBA_ID": "118",
                                    "SZOBA_SZAMA": "28",
                                    "FEROHELY": "2",
                                    "POTAGY": "1",
                                    "KLIMAS": "i",
                                    "panzio": "Nem"
                                },
                                {
                                    "SZOBA_ID": "118",
                                    "SZOBA_SZAMA": "28",
                                    "FEROHELY": "2",
                                    "POTAGY": "1",
                                    "KLIMAS": "i",
                                    "panzio": "Nem"
                                },
                                {
                                    "SZOBA_ID": "118",
                                    "SZOBA_SZAMA": "28",
                                    "FEROHELY": "2",
                                    "POTAGY": "1",
                                    "KLIMAS": "i",
                                    "panzio": "Nem"
                                },
                                {
                                    "SZOBA_ID": "118",
                                    "SZOBA_SZAMA": "28",
                                    "FEROHELY": "2",
                                    "POTAGY": "1",
                                    "KLIMAS": "i",
                                    "panzio": "Nem"
                                },
                                {
                                    "SZOBA_ID": "118",
                                    "SZOBA_SZAMA": "28",
                                    "FEROHELY": "2",
                                    "POTAGY": "1",
                                    "KLIMAS": "i",
                                    "panzio": "Nem"
                                },
                                {
                                    "SZOBA_ID": "119",
                                    "SZOBA_SZAMA": "29",
                                    "FEROHELY": "2",
                                    "POTAGY": "0",
                                    "KLIMAS": "i",
                                    "panzio": "Nem"
                                },
                                {
                                    "SZOBA_ID": "119",
                                    "SZOBA_SZAMA": "29",
                                    "FEROHELY": "2",
                                    "POTAGY": "0",
                                    "KLIMAS": "i",
                                    "panzio": "Nem"
                                },
                                {
                                    "SZOBA_ID": "119",
                                    "SZOBA_SZAMA": "29",
                                    "FEROHELY": "2",
                                    "POTAGY": "0",
                                    "KLIMAS": "i",
                                    "panzio": "Nem"
                                },
                                {
                                    "SZOBA_ID": "119",
                                    "SZOBA_SZAMA": "29",
                                    "FEROHELY": "2",
                                    "POTAGY": "0",
                                    "KLIMAS": "i",
                                    "panzio": "Nem"
                                },
                                {
                                    "SZOBA_ID": "119",
                                    "SZOBA_SZAMA": "29",
                                    "FEROHELY": "2",
                                    "POTAGY": "0",
                                    "KLIMAS": "i",
                                    "panzio": "Nem"
                                },
                                {
                                    "SZOBA_ID": "120",
                                    "SZOBA_SZAMA": "30",
                                    "FEROHELY": "3",
                                    "POTAGY": "1",
                                    "KLIMAS": "i",
                                    "panzio": "Nem"
                                },
                                {
                                    "SZOBA_ID": "120",
                                    "SZOBA_SZAMA": "30",
                                    "FEROHELY": "3",
                                    "POTAGY": "1",
                                    "KLIMAS": "i",
                                    "panzio": "Nem"
                                },
                                {
                                    "SZOBA_ID": "120",
                                    "SZOBA_SZAMA": "30",
                                    "FEROHELY": "3",
                                    "POTAGY": "1",
                                    "KLIMAS": "i",
                                    "panzio": "Nem"
                                },
                                {
                                    "SZOBA_ID": "120",
                                    "SZOBA_SZAMA": "30",
                                    "FEROHELY": "3",
                                    "POTAGY": "1",
                                    "KLIMAS": "i",
                                    "panzio": "Nem"
                                },
                                {
                                    "SZOBA_ID": "120",
                                    "SZOBA_SZAMA": "30",
                                    "FEROHELY": "3",
                                    "POTAGY": "1",
                                    "KLIMAS": "i",
                                    "panzio": "Nem"
                                },
                                {
                                    "SZOBA_ID": "120",
                                    "SZOBA_SZAMA": "30",
                                    "FEROHELY": "3",
                                    "POTAGY": "1",
                                    "KLIMAS": "i",
                                    "panzio": "Nem"
                                },
                                {
                                    "SZOBA_ID": "121",
                                    "SZOBA_SZAMA": "31",
                                    "FEROHELY": "2",
                                    "POTAGY": "1",
                                    "KLIMAS": "i",
                                    "panzio": "Nem"
                                },
                                {
                                    "SZOBA_ID": "121",
                                    "SZOBA_SZAMA": "31",
                                    "FEROHELY": "2",
                                    "POTAGY": "1",
                                    "KLIMAS": "i",
                                    "panzio": "Nem"
                                },
                                {
                                    "SZOBA_ID": "121",
                                    "SZOBA_SZAMA": "31",
                                    "FEROHELY": "2",
                                    "POTAGY": "1",
                                    "KLIMAS": "i",
                                    "panzio": "Nem"
                                },
                                {
                                    "SZOBA_ID": "121",
                                    "SZOBA_SZAMA": "31",
                                    "FEROHELY": "2",
                                    "POTAGY": "1",
                                    "KLIMAS": "i",
                                    "panzio": "Nem"
                                },
                                {
                                    "SZOBA_ID": "121",
                                    "SZOBA_SZAMA": "31",
                                    "FEROHELY": "2",
                                    "POTAGY": "1",
                                    "KLIMAS": "i",
                                    "panzio": "Nem"
                                },
                                {
                                    "SZOBA_ID": "121",
                                    "SZOBA_SZAMA": "31",
                                    "FEROHELY": "2",
                                    "POTAGY": "1",
                                    "KLIMAS": "i",
                                    "panzio": "Nem"
                                },
                                {
                                    "SZOBA_ID": "121",
                                    "SZOBA_SZAMA": "31",
                                    "FEROHELY": "2",
                                    "POTAGY": "1",
                                    "KLIMAS": "i",
                                    "panzio": "Nem"
                                },
                                {
                                    "SZOBA_ID": "121",
                                    "SZOBA_SZAMA": "31",
                                    "FEROHELY": "2",
                                    "POTAGY": "1",
                                    "KLIMAS": "i",
                                    "panzio": "Nem"
                                },
                                {
                                    "SZOBA_ID": "122",
                                    "SZOBA_SZAMA": "32",
                                    "FEROHELY": "3",
                                    "POTAGY": "1",
                                    "KLIMAS": "i",
                                    "panzio": "Nem"
                                },
                                {
                                    "SZOBA_ID": "122",
                                    "SZOBA_SZAMA": "32",
                                    "FEROHELY": "3",
                                    "POTAGY": "1",
                                    "KLIMAS": "i",
                                    "panzio": "Nem"
                                },
                                {
                                    "SZOBA_ID": "122",
                                    "SZOBA_SZAMA": "32",
                                    "FEROHELY": "3",
                                    "POTAGY": "1",
                                    "KLIMAS": "i",
                                    "panzio": "Nem"
                                },
                                {
                                    "SZOBA_ID": "122",
                                    "SZOBA_SZAMA": "32",
                                    "FEROHELY": "3",
                                    "POTAGY": "1",
                                    "KLIMAS": "i",
                                    "panzio": "Nem"
                                },
                                {
                                    "SZOBA_ID": "122",
                                    "SZOBA_SZAMA": "32",
                                    "FEROHELY": "3",
                                    "POTAGY": "1",
                                    "KLIMAS": "i",
                                    "panzio": "Nem"
                                },
                                {
                                    "SZOBA_ID": "122",
                                    "SZOBA_SZAMA": "32",
                                    "FEROHELY": "3",
                                    "POTAGY": "1",
                                    "KLIMAS": "i",
                                    "panzio": "Nem"
                                },
                                {
                                    "SZOBA_ID": "122",
                                    "SZOBA_SZAMA": "32",
                                    "FEROHELY": "3",
                                    "POTAGY": "1",
                                    "KLIMAS": "i",
                                    "panzio": "Nem"
                                },
                                {
                                    "SZOBA_ID": "122",
                                    "SZOBA_SZAMA": "32",
                                    "FEROHELY": "3",
                                    "POTAGY": "1",
                                    "KLIMAS": "i",
                                    "panzio": "Nem"
                                },
                                {
                                    "SZOBA_ID": "122",
                                    "SZOBA_SZAMA": "32",
                                    "FEROHELY": "3",
                                    "POTAGY": "1",
                                    "KLIMAS": "i",
                                    "panzio": "Nem"
                                },
                                {
                                    "SZOBA_ID": "123",
                                    "SZOBA_SZAMA": "33",
                                    "FEROHELY": "3",
                                    "POTAGY": "0",
                                    "KLIMAS": "n",
                                    "panzio": "Nem"
                                },
                                {
                                    "SZOBA_ID": "123",
                                    "SZOBA_SZAMA": "33",
                                    "FEROHELY": "3",
                                    "POTAGY": "0",
                                    "KLIMAS": "n",
                                    "panzio": "Nem"
                                },
                                {
                                    "SZOBA_ID": "123",
                                    "SZOBA_SZAMA": "33",
                                    "FEROHELY": "3",
                                    "POTAGY": "0",
                                    "KLIMAS": "n",
                                    "panzio": "Nem"
                                },
                                {
                                    "SZOBA_ID": "123",
                                    "SZOBA_SZAMA": "33",
                                    "FEROHELY": "3",
                                    "POTAGY": "0",
                                    "KLIMAS": "n",
                                    "panzio": "Nem"
                                },
                                {
                                    "SZOBA_ID": "123",
                                    "SZOBA_SZAMA": "33",
                                    "FEROHELY": "3",
                                    "POTAGY": "0",
                                    "KLIMAS": "n",
                                    "panzio": "Nem"
                                },
                                {
                                    "SZOBA_ID": "124",
                                    "SZOBA_SZAMA": "34",
                                    "FEROHELY": "3",
                                    "POTAGY": "0",
                                    "KLIMAS": "n",
                                    "panzio": "Nem"
                                },
                                {
                                    "SZOBA_ID": "124",
                                    "SZOBA_SZAMA": "34",
                                    "FEROHELY": "3",
                                    "POTAGY": "0",
                                    "KLIMAS": "n",
                                    "panzio": "Nem"
                                },
                                {
                                    "SZOBA_ID": "124",
                                    "SZOBA_SZAMA": "34",
                                    "FEROHELY": "3",
                                    "POTAGY": "0",
                                    "KLIMAS": "n",
                                    "panzio": "Nem"
                                },
                                {
                                    "SZOBA_ID": "124",
                                    "SZOBA_SZAMA": "34",
                                    "FEROHELY": "3",
                                    "POTAGY": "0",
                                    "KLIMAS": "n",
                                    "panzio": "Nem"
                                },
                                {
                                    "SZOBA_ID": "124",
                                    "SZOBA_SZAMA": "34",
                                    "FEROHELY": "3",
                                    "POTAGY": "0",
                                    "KLIMAS": "n",
                                    "panzio": "Nem"
                                },
                                {
                                    "SZOBA_ID": "124",
                                    "SZOBA_SZAMA": "34",
                                    "FEROHELY": "3",
                                    "POTAGY": "0",
                                    "KLIMAS": "n",
                                    "panzio": "Nem"
                                },
                                {
                                    "SZOBA_ID": "125",
                                    "SZOBA_SZAMA": "35",
                                    "FEROHELY": "2",
                                    "POTAGY": "1",
                                    "KLIMAS": "i",
                                    "panzio": "Nem"
                                },
                                {
                                    "SZOBA_ID": "126",
                                    "SZOBA_SZAMA": "36",
                                    "FEROHELY": "2",
                                    "POTAGY": "1",
                                    "KLIMAS": "n",
                                    "panzio": "Nem"
                                },
                                {
                                    "SZOBA_ID": "126",
                                    "SZOBA_SZAMA": "36",
                                    "FEROHELY": "2",
                                    "POTAGY": "1",
                                    "KLIMAS": "n",
                                    "panzio": "Nem"
                                },
                                {
                                    "SZOBA_ID": "126",
                                    "SZOBA_SZAMA": "36",
                                    "FEROHELY": "2",
                                    "POTAGY": "1",
                                    "KLIMAS": "n",
                                    "panzio": "Nem"
                                },
                                {
                                    "SZOBA_ID": "126",
                                    "SZOBA_SZAMA": "36",
                                    "FEROHELY": "2",
                                    "POTAGY": "1",
                                    "KLIMAS": "n",
                                    "panzio": "Nem"
                                },
                                {
                                    "SZOBA_ID": "126",
                                    "SZOBA_SZAMA": "36",
                                    "FEROHELY": "2",
                                    "POTAGY": "1",
                                    "KLIMAS": "n",
                                    "panzio": "Nem"
                                },
                                {
                                    "SZOBA_ID": "126",
                                    "SZOBA_SZAMA": "36",
                                    "FEROHELY": "2",
                                    "POTAGY": "1",
                                    "KLIMAS": "n",
                                    "panzio": "Nem"
                                },
                                {
                                    "SZOBA_ID": "127",
                                    "SZOBA_SZAMA": "37",
                                    "FEROHELY": "2",
                                    "POTAGY": "1",
                                    "KLIMAS": "i",
                                    "panzio": "Nem"
                                },
                                {
                                    "SZOBA_ID": "127",
                                    "SZOBA_SZAMA": "37",
                                    "FEROHELY": "2",
                                    "POTAGY": "1",
                                    "KLIMAS": "i",
                                    "panzio": "Nem"
                                },
                                {
                                    "SZOBA_ID": "127",
                                    "SZOBA_SZAMA": "37",
                                    "FEROHELY": "2",
                                    "POTAGY": "1",
                                    "KLIMAS": "i",
                                    "panzio": "Nem"
                                },
                                {
                                    "SZOBA_ID": "127",
                                    "SZOBA_SZAMA": "37",
                                    "FEROHELY": "2",
                                    "POTAGY": "1",
                                    "KLIMAS": "i",
                                    "panzio": "Nem"
                                },
                                {
                                    "SZOBA_ID": "127",
                                    "SZOBA_SZAMA": "37",
                                    "FEROHELY": "2",
                                    "POTAGY": "1",
                                    "KLIMAS": "i",
                                    "panzio": "Nem"
                                },
                                {
                                    "SZOBA_ID": "127",
                                    "SZOBA_SZAMA": "37",
                                    "FEROHELY": "2",
                                    "POTAGY": "1",
                                    "KLIMAS": "i",
                                    "panzio": "Nem"
                                },
                                {
                                    "SZOBA_ID": "127",
                                    "SZOBA_SZAMA": "37",
                                    "FEROHELY": "2",
                                    "POTAGY": "1",
                                    "KLIMAS": "i",
                                    "panzio": "Nem"
                                },
                                {
                                    "SZOBA_ID": "128",
                                    "SZOBA_SZAMA": "38",
                                    "FEROHELY": "2",
                                    "POTAGY": "1",
                                    "KLIMAS": "i",
                                    "panzio": "Nem"
                                },
                                {
                                    "SZOBA_ID": "128",
                                    "SZOBA_SZAMA": "38",
                                    "FEROHELY": "2",
                                    "POTAGY": "1",
                                    "KLIMAS": "i",
                                    "panzio": "Nem"
                                },
                                {
                                    "SZOBA_ID": "128",
                                    "SZOBA_SZAMA": "38",
                                    "FEROHELY": "2",
                                    "POTAGY": "1",
                                    "KLIMAS": "i",
                                    "panzio": "Nem"
                                },
                                {
                                    "SZOBA_ID": "128",
                                    "SZOBA_SZAMA": "38",
                                    "FEROHELY": "2",
                                    "POTAGY": "1",
                                    "KLIMAS": "i",
                                    "panzio": "Nem"
                                },
                                {
                                    "SZOBA_ID": "128",
                                    "SZOBA_SZAMA": "38",
                                    "FEROHELY": "2",
                                    "POTAGY": "1",
                                    "KLIMAS": "i",
                                    "panzio": "Nem"
                                },
                                {
                                    "SZOBA_ID": "129",
                                    "SZOBA_SZAMA": "39",
                                    "FEROHELY": "2",
                                    "POTAGY": "1",
                                    "KLIMAS": "i",
                                    "panzio": "Nem"
                                },
                                {
                                    "SZOBA_ID": "129",
                                    "SZOBA_SZAMA": "39",
                                    "FEROHELY": "2",
                                    "POTAGY": "1",
                                    "KLIMAS": "i",
                                    "panzio": "Nem"
                                },
                                {
                                    "SZOBA_ID": "129",
                                    "SZOBA_SZAMA": "39",
                                    "FEROHELY": "2",
                                    "POTAGY": "1",
                                    "KLIMAS": "i",
                                    "panzio": "Nem"
                                },
                                {
                                    "SZOBA_ID": "129",
                                    "SZOBA_SZAMA": "39",
                                    "FEROHELY": "2",
                                    "POTAGY": "1",
                                    "KLIMAS": "i",
                                    "panzio": "Nem"
                                },
                                {
                                    "SZOBA_ID": "130",
                                    "SZOBA_SZAMA": "1",
                                    "FEROHELY": "2",
                                    "POTAGY": "0",
                                    "KLIMAS": "n",
                                    "panzio": "Nem"
                                },
                                {
                                    "SZOBA_ID": "130",
                                    "SZOBA_SZAMA": "1",
                                    "FEROHELY": "2",
                                    "POTAGY": "0",
                                    "KLIMAS": "n",
                                    "panzio": "Nem"
                                },
                                {
                                    "SZOBA_ID": "130",
                                    "SZOBA_SZAMA": "1",
                                    "FEROHELY": "2",
                                    "POTAGY": "0",
                                    "KLIMAS": "n",
                                    "panzio": "Nem"
                                },
                                {
                                    "SZOBA_ID": "130",
                                    "SZOBA_SZAMA": "1",
                                    "FEROHELY": "2",
                                    "POTAGY": "0",
                                    "KLIMAS": "n",
                                    "panzio": "Nem"
                                },
                                {
                                    "SZOBA_ID": "130",
                                    "SZOBA_SZAMA": "1",
                                    "FEROHELY": "2",
                                    "POTAGY": "0",
                                    "KLIMAS": "n",
                                    "panzio": "Nem"
                                },
                                {
                                    "SZOBA_ID": "130",
                                    "SZOBA_SZAMA": "1",
                                    "FEROHELY": "2",
                                    "POTAGY": "0",
                                    "KLIMAS": "n",
                                    "panzio": "Nem"
                                },
                                {
                                    "SZOBA_ID": "131",
                                    "SZOBA_SZAMA": "2",
                                    "FEROHELY": "2",
                                    "POTAGY": "0",
                                    "KLIMAS": "n",
                                    "panzio": "Nem"
                                },
                                {
                                    "SZOBA_ID": "131",
                                    "SZOBA_SZAMA": "2",
                                    "FEROHELY": "2",
                                    "POTAGY": "0",
                                    "KLIMAS": "n",
                                    "panzio": "Nem"
                                },
                                {
                                    "SZOBA_ID": "131",
                                    "SZOBA_SZAMA": "2",
                                    "FEROHELY": "2",
                                    "POTAGY": "0",
                                    "KLIMAS": "n",
                                    "panzio": "Nem"
                                },
                                {
                                    "SZOBA_ID": "131",
                                    "SZOBA_SZAMA": "2",
                                    "FEROHELY": "2",
                                    "POTAGY": "0",
                                    "KLIMAS": "n",
                                    "panzio": "Nem"
                                },
                                {
                                    "SZOBA_ID": "131",
                                    "SZOBA_SZAMA": "2",
                                    "FEROHELY": "2",
                                    "POTAGY": "0",
                                    "KLIMAS": "n",
                                    "panzio": "Nem"
                                },
                                {
                                    "SZOBA_ID": "132",
                                    "SZOBA_SZAMA": "3",
                                    "FEROHELY": "3",
                                    "POTAGY": "0",
                                    "KLIMAS": "i",
                                    "panzio": "Nem"
                                },
                                {
                                    "SZOBA_ID": "132",
                                    "SZOBA_SZAMA": "3",
                                    "FEROHELY": "3",
                                    "POTAGY": "0",
                                    "KLIMAS": "i",
                                    "panzio": "Nem"
                                },
                                {
                                    "SZOBA_ID": "132",
                                    "SZOBA_SZAMA": "3",
                                    "FEROHELY": "3",
                                    "POTAGY": "0",
                                    "KLIMAS": "i",
                                    "panzio": "Nem"
                                },
                                {
                                    "SZOBA_ID": "132",
                                    "SZOBA_SZAMA": "3",
                                    "FEROHELY": "3",
                                    "POTAGY": "0",
                                    "KLIMAS": "i",
                                    "panzio": "Nem"
                                },
                                {
                                    "SZOBA_ID": "132",
                                    "SZOBA_SZAMA": "3",
                                    "FEROHELY": "3",
                                    "POTAGY": "0",
                                    "KLIMAS": "i",
                                    "panzio": "Nem"
                                },
                                {
                                    "SZOBA_ID": "132",
                                    "SZOBA_SZAMA": "3",
                                    "FEROHELY": "3",
                                    "POTAGY": "0",
                                    "KLIMAS": "i",
                                    "panzio": "Nem"
                                },
                                {
                                    "SZOBA_ID": "133",
                                    "SZOBA_SZAMA": "4",
                                    "FEROHELY": "3",
                                    "POTAGY": "0",
                                    "KLIMAS": "n",
                                    "panzio": "Nem"
                                },
                                {
                                    "SZOBA_ID": "133",
                                    "SZOBA_SZAMA": "4",
                                    "FEROHELY": "3",
                                    "POTAGY": "0",
                                    "KLIMAS": "n",
                                    "panzio": "Nem"
                                },
                                {
                                    "SZOBA_ID": "133",
                                    "SZOBA_SZAMA": "4",
                                    "FEROHELY": "3",
                                    "POTAGY": "0",
                                    "KLIMAS": "n",
                                    "panzio": "Nem"
                                },
                                {
                                    "SZOBA_ID": "133",
                                    "SZOBA_SZAMA": "4",
                                    "FEROHELY": "3",
                                    "POTAGY": "0",
                                    "KLIMAS": "n",
                                    "panzio": "Nem"
                                },
                                {
                                    "SZOBA_ID": "133",
                                    "SZOBA_SZAMA": "4",
                                    "FEROHELY": "3",
                                    "POTAGY": "0",
                                    "KLIMAS": "n",
                                    "panzio": "Nem"
                                },
                                {
                                    "SZOBA_ID": "133",
                                    "SZOBA_SZAMA": "4",
                                    "FEROHELY": "3",
                                    "POTAGY": "0",
                                    "KLIMAS": "n",
                                    "panzio": "Nem"
                                },
                                {
                                    "SZOBA_ID": "133",
                                    "SZOBA_SZAMA": "4",
                                    "FEROHELY": "3",
                                    "POTAGY": "0",
                                    "KLIMAS": "n",
                                    "panzio": "Nem"
                                },
                                {
                                    "SZOBA_ID": "133",
                                    "SZOBA_SZAMA": "4",
                                    "FEROHELY": "3",
                                    "POTAGY": "0",
                                    "KLIMAS": "n",
                                    "panzio": "Nem"
                                },
                                {
                                    "SZOBA_ID": "134",
                                    "SZOBA_SZAMA": "5",
                                    "FEROHELY": "3",
                                    "POTAGY": "0",
                                    "KLIMAS": "i",
                                    "panzio": "Nem"
                                },
                                {
                                    "SZOBA_ID": "134",
                                    "SZOBA_SZAMA": "5",
                                    "FEROHELY": "3",
                                    "POTAGY": "0",
                                    "KLIMAS": "i",
                                    "panzio": "Nem"
                                },
                                {
                                    "SZOBA_ID": "134",
                                    "SZOBA_SZAMA": "5",
                                    "FEROHELY": "3",
                                    "POTAGY": "0",
                                    "KLIMAS": "i",
                                    "panzio": "Nem"
                                },
                                {
                                    "SZOBA_ID": "134",
                                    "SZOBA_SZAMA": "5",
                                    "FEROHELY": "3",
                                    "POTAGY": "0",
                                    "KLIMAS": "i",
                                    "panzio": "Nem"
                                },
                                {
                                    "SZOBA_ID": "134",
                                    "SZOBA_SZAMA": "5",
                                    "FEROHELY": "3",
                                    "POTAGY": "0",
                                    "KLIMAS": "i",
                                    "panzio": "Nem"
                                },
                                {
                                    "SZOBA_ID": "134",
                                    "SZOBA_SZAMA": "5",
                                    "FEROHELY": "3",
                                    "POTAGY": "0",
                                    "KLIMAS": "i",
                                    "panzio": "Nem"
                                },
                                {
                                    "SZOBA_ID": "135",
                                    "SZOBA_SZAMA": "1",
                                    "FEROHELY": "3",
                                    "POTAGY": "0",
                                    "KLIMAS": "i",
                                    "panzio": "Nem"
                                },
                                {
                                    "SZOBA_ID": "135",
                                    "SZOBA_SZAMA": "1",
                                    "FEROHELY": "3",
                                    "POTAGY": "0",
                                    "KLIMAS": "i",
                                    "panzio": "Nem"
                                },
                                {
                                    "SZOBA_ID": "135",
                                    "SZOBA_SZAMA": "1",
                                    "FEROHELY": "3",
                                    "POTAGY": "0",
                                    "KLIMAS": "i",
                                    "panzio": "Nem"
                                },
                                {
                                    "SZOBA_ID": "136",
                                    "SZOBA_SZAMA": "2",
                                    "FEROHELY": "2",
                                    "POTAGY": "0",
                                    "KLIMAS": "n",
                                    "panzio": "Nem"
                                },
                                {
                                    "SZOBA_ID": "136",
                                    "SZOBA_SZAMA": "2",
                                    "FEROHELY": "2",
                                    "POTAGY": "0",
                                    "KLIMAS": "n",
                                    "panzio": "Nem"
                                },
                                {
                                    "SZOBA_ID": "136",
                                    "SZOBA_SZAMA": "2",
                                    "FEROHELY": "2",
                                    "POTAGY": "0",
                                    "KLIMAS": "n",
                                    "panzio": "Nem"
                                },
                                {
                                    "SZOBA_ID": "137",
                                    "SZOBA_SZAMA": "3",
                                    "FEROHELY": "2",
                                    "POTAGY": "1",
                                    "KLIMAS": "i",
                                    "panzio": "Nem"
                                },
                                {
                                    "SZOBA_ID": "137",
                                    "SZOBA_SZAMA": "3",
                                    "FEROHELY": "2",
                                    "POTAGY": "1",
                                    "KLIMAS": "i",
                                    "panzio": "Nem"
                                },
                                {
                                    "SZOBA_ID": "137",
                                    "SZOBA_SZAMA": "3",
                                    "FEROHELY": "2",
                                    "POTAGY": "1",
                                    "KLIMAS": "i",
                                    "panzio": "Nem"
                                },
                                {
                                    "SZOBA_ID": "137",
                                    "SZOBA_SZAMA": "3",
                                    "FEROHELY": "2",
                                    "POTAGY": "1",
                                    "KLIMAS": "i",
                                    "panzio": "Nem"
                                },
                                {
                                    "SZOBA_ID": "137",
                                    "SZOBA_SZAMA": "3",
                                    "FEROHELY": "2",
                                    "POTAGY": "1",
                                    "KLIMAS": "i",
                                    "panzio": "Nem"
                                },
                                {
                                    "SZOBA_ID": "137",
                                    "SZOBA_SZAMA": "3",
                                    "FEROHELY": "2",
                                    "POTAGY": "1",
                                    "KLIMAS": "i",
                                    "panzio": "Nem"
                                },
                                {
                                    "SZOBA_ID": "138",
                                    "SZOBA_SZAMA": "4",
                                    "FEROHELY": "3",
                                    "POTAGY": "1",
                                    "KLIMAS": "i",
                                    "panzio": "Nem"
                                },
                                {
                                    "SZOBA_ID": "138",
                                    "SZOBA_SZAMA": "4",
                                    "FEROHELY": "3",
                                    "POTAGY": "1",
                                    "KLIMAS": "i",
                                    "panzio": "Nem"
                                },
                                {
                                    "SZOBA_ID": "138",
                                    "SZOBA_SZAMA": "4",
                                    "FEROHELY": "3",
                                    "POTAGY": "1",
                                    "KLIMAS": "i",
                                    "panzio": "Nem"
                                },
                                {
                                    "SZOBA_ID": "138",
                                    "SZOBA_SZAMA": "4",
                                    "FEROHELY": "3",
                                    "POTAGY": "1",
                                    "KLIMAS": "i",
                                    "panzio": "Nem"
                                },
                                {
                                    "SZOBA_ID": "138",
                                    "SZOBA_SZAMA": "4",
                                    "FEROHELY": "3",
                                    "POTAGY": "1",
                                    "KLIMAS": "i",
                                    "panzio": "Nem"
                                },
                                {
                                    "SZOBA_ID": "138",
                                    "SZOBA_SZAMA": "4",
                                    "FEROHELY": "3",
                                    "POTAGY": "1",
                                    "KLIMAS": "i",
                                    "panzio": "Nem"
                                },
                                {
                                    "SZOBA_ID": "138",
                                    "SZOBA_SZAMA": "4",
                                    "FEROHELY": "3",
                                    "POTAGY": "1",
                                    "KLIMAS": "i",
                                    "panzio": "Nem"
                                },
                                {
                                    "SZOBA_ID": "139",
                                    "SZOBA_SZAMA": "5",
                                    "FEROHELY": "2",
                                    "POTAGY": "1",
                                    "KLIMAS": "i",
                                    "panzio": "Nem"
                                },
                                {
                                    "SZOBA_ID": "139",
                                    "SZOBA_SZAMA": "5",
                                    "FEROHELY": "2",
                                    "POTAGY": "1",
                                    "KLIMAS": "i",
                                    "panzio": "Nem"
                                },
                                {
                                    "SZOBA_ID": "139",
                                    "SZOBA_SZAMA": "5",
                                    "FEROHELY": "2",
                                    "POTAGY": "1",
                                    "KLIMAS": "i",
                                    "panzio": "Nem"
                                },
                                {
                                    "SZOBA_ID": "139",
                                    "SZOBA_SZAMA": "5",
                                    "FEROHELY": "2",
                                    "POTAGY": "1",
                                    "KLIMAS": "i",
                                    "panzio": "Nem"
                                },
                                {
                                    "SZOBA_ID": "139",
                                    "SZOBA_SZAMA": "5",
                                    "FEROHELY": "2",
                                    "POTAGY": "1",
                                    "KLIMAS": "i",
                                    "panzio": "Nem"
                                },
                                {
                                    "SZOBA_ID": "139",
                                    "SZOBA_SZAMA": "5",
                                    "FEROHELY": "2",
                                    "POTAGY": "1",
                                    "KLIMAS": "i",
                                    "panzio": "Nem"
                                },
                                {
                                    "SZOBA_ID": "139",
                                    "SZOBA_SZAMA": "5",
                                    "FEROHELY": "2",
                                    "POTAGY": "1",
                                    "KLIMAS": "i",
                                    "panzio": "Nem"
                                },
                                {
                                    "SZOBA_ID": "140",
                                    "SZOBA_SZAMA": "6",
                                    "FEROHELY": "2",
                                    "POTAGY": "1",
                                    "KLIMAS": "i",
                                    "panzio": "Nem"
                                },
                                {
                                    "SZOBA_ID": "140",
                                    "SZOBA_SZAMA": "6",
                                    "FEROHELY": "2",
                                    "POTAGY": "1",
                                    "KLIMAS": "i",
                                    "panzio": "Nem"
                                },
                                {
                                    "SZOBA_ID": "140",
                                    "SZOBA_SZAMA": "6",
                                    "FEROHELY": "2",
                                    "POTAGY": "1",
                                    "KLIMAS": "i",
                                    "panzio": "Nem"
                                },
                                {
                                    "SZOBA_ID": "140",
                                    "SZOBA_SZAMA": "6",
                                    "FEROHELY": "2",
                                    "POTAGY": "1",
                                    "KLIMAS": "i",
                                    "panzio": "Nem"
                                },
                                {
                                    "SZOBA_ID": "140",
                                    "SZOBA_SZAMA": "6",
                                    "FEROHELY": "2",
                                    "POTAGY": "1",
                                    "KLIMAS": "i",
                                    "panzio": "Nem"
                                },
                                {
                                    "SZOBA_ID": "140",
                                    "SZOBA_SZAMA": "6",
                                    "FEROHELY": "2",
                                    "POTAGY": "1",
                                    "KLIMAS": "i",
                                    "panzio": "Nem"
                                },
                                {
                                    "SZOBA_ID": "140",
                                    "SZOBA_SZAMA": "6",
                                    "FEROHELY": "2",
                                    "POTAGY": "1",
                                    "KLIMAS": "i",
                                    "panzio": "Nem"
                                },
                                {
                                    "SZOBA_ID": "140",
                                    "SZOBA_SZAMA": "6",
                                    "FEROHELY": "2",
                                    "POTAGY": "1",
                                    "KLIMAS": "i",
                                    "panzio": "Nem"
                                },
                                {
                                    "SZOBA_ID": "140",
                                    "SZOBA_SZAMA": "6",
                                    "FEROHELY": "2",
                                    "POTAGY": "1",
                                    "KLIMAS": "i",
                                    "panzio": "Nem"
                                },
                                {
                                    "SZOBA_ID": "141",
                                    "SZOBA_SZAMA": "7",
                                    "FEROHELY": "2",
                                    "POTAGY": "0",
                                    "KLIMAS": "n",
                                    "panzio": "Nem"
                                },
                                {
                                    "SZOBA_ID": "141",
                                    "SZOBA_SZAMA": "7",
                                    "FEROHELY": "2",
                                    "POTAGY": "0",
                                    "KLIMAS": "n",
                                    "panzio": "Nem"
                                },
                                {
                                    "SZOBA_ID": "141",
                                    "SZOBA_SZAMA": "7",
                                    "FEROHELY": "2",
                                    "POTAGY": "0",
                                    "KLIMAS": "n",
                                    "panzio": "Nem"
                                },
                                {
                                    "SZOBA_ID": "141",
                                    "SZOBA_SZAMA": "7",
                                    "FEROHELY": "2",
                                    "POTAGY": "0",
                                    "KLIMAS": "n",
                                    "panzio": "Nem"
                                },
                                {
                                    "SZOBA_ID": "141",
                                    "SZOBA_SZAMA": "7",
                                    "FEROHELY": "2",
                                    "POTAGY": "0",
                                    "KLIMAS": "n",
                                    "panzio": "Nem"
                                },
                                {
                                    "SZOBA_ID": "141",
                                    "SZOBA_SZAMA": "7",
                                    "FEROHELY": "2",
                                    "POTAGY": "0",
                                    "KLIMAS": "n",
                                    "panzio": "Nem"
                                },
                                {
                                    "SZOBA_ID": "141",
                                    "SZOBA_SZAMA": "7",
                                    "FEROHELY": "2",
                                    "POTAGY": "0",
                                    "KLIMAS": "n",
                                    "panzio": "Nem"
                                },
                                {
                                    "SZOBA_ID": "142",
                                    "SZOBA_SZAMA": "8",
                                    "FEROHELY": "3",
                                    "POTAGY": "0",
                                    "KLIMAS": "n",
                                    "panzio": "Nem"
                                },
                                {
                                    "SZOBA_ID": "142",
                                    "SZOBA_SZAMA": "8",
                                    "FEROHELY": "3",
                                    "POTAGY": "0",
                                    "KLIMAS": "n",
                                    "panzio": "Nem"
                                },
                                {
                                    "SZOBA_ID": "143",
                                    "SZOBA_SZAMA": "9",
                                    "FEROHELY": "3",
                                    "POTAGY": "1",
                                    "KLIMAS": "i",
                                    "panzio": "Nem"
                                },
                                {
                                    "SZOBA_ID": "143",
                                    "SZOBA_SZAMA": "9",
                                    "FEROHELY": "3",
                                    "POTAGY": "1",
                                    "KLIMAS": "i",
                                    "panzio": "Nem"
                                },
                                {
                                    "SZOBA_ID": "143",
                                    "SZOBA_SZAMA": "9",
                                    "FEROHELY": "3",
                                    "POTAGY": "1",
                                    "KLIMAS": "i",
                                    "panzio": "Nem"
                                },
                                {
                                    "SZOBA_ID": "143",
                                    "SZOBA_SZAMA": "9",
                                    "FEROHELY": "3",
                                    "POTAGY": "1",
                                    "KLIMAS": "i",
                                    "panzio": "Nem"
                                },
                                {
                                    "SZOBA_ID": "143",
                                    "SZOBA_SZAMA": "9",
                                    "FEROHELY": "3",
                                    "POTAGY": "1",
                                    "KLIMAS": "i",
                                    "panzio": "Nem"
                                },
                                {
                                    "SZOBA_ID": "143",
                                    "SZOBA_SZAMA": "9",
                                    "FEROHELY": "3",
                                    "POTAGY": "1",
                                    "KLIMAS": "i",
                                    "panzio": "Nem"
                                },
                                {
                                    "SZOBA_ID": "143",
                                    "SZOBA_SZAMA": "9",
                                    "FEROHELY": "3",
                                    "POTAGY": "1",
                                    "KLIMAS": "i",
                                    "panzio": "Nem"
                                },
                                {
                                    "SZOBA_ID": "144",
                                    "SZOBA_SZAMA": "10",
                                    "FEROHELY": "3",
                                    "POTAGY": "1",
                                    "KLIMAS": "n",
                                    "panzio": "Nem"
                                },
                                {
                                    "SZOBA_ID": "144",
                                    "SZOBA_SZAMA": "10",
                                    "FEROHELY": "3",
                                    "POTAGY": "1",
                                    "KLIMAS": "n",
                                    "panzio": "Nem"
                                },
                                {
                                    "SZOBA_ID": "144",
                                    "SZOBA_SZAMA": "10",
                                    "FEROHELY": "3",
                                    "POTAGY": "1",
                                    "KLIMAS": "n",
                                    "panzio": "Nem"
                                },
                                {
                                    "SZOBA_ID": "144",
                                    "SZOBA_SZAMA": "10",
                                    "FEROHELY": "3",
                                    "POTAGY": "1",
                                    "KLIMAS": "n",
                                    "panzio": "Nem"
                                },
                                {
                                    "SZOBA_ID": "144",
                                    "SZOBA_SZAMA": "10",
                                    "FEROHELY": "3",
                                    "POTAGY": "1",
                                    "KLIMAS": "n",
                                    "panzio": "Nem"
                                },
                                {
                                    "SZOBA_ID": "145",
                                    "SZOBA_SZAMA": "11",
                                    "FEROHELY": "2",
                                    "POTAGY": "2",
                                    "KLIMAS": "i",
                                    "panzio": "Nem"
                                },
                                {
                                    "SZOBA_ID": "145",
                                    "SZOBA_SZAMA": "11",
                                    "FEROHELY": "2",
                                    "POTAGY": "2",
                                    "KLIMAS": "i",
                                    "panzio": "Nem"
                                },
                                {
                                    "SZOBA_ID": "145",
                                    "SZOBA_SZAMA": "11",
                                    "FEROHELY": "2",
                                    "POTAGY": "2",
                                    "KLIMAS": "i",
                                    "panzio": "Nem"
                                },
                                {
                                    "SZOBA_ID": "145",
                                    "SZOBA_SZAMA": "11",
                                    "FEROHELY": "2",
                                    "POTAGY": "2",
                                    "KLIMAS": "i",
                                    "panzio": "Nem"
                                },
                                {
                                    "SZOBA_ID": "145",
                                    "SZOBA_SZAMA": "11",
                                    "FEROHELY": "2",
                                    "POTAGY": "2",
                                    "KLIMAS": "i",
                                    "panzio": "Nem"
                                },
                                {
                                    "SZOBA_ID": "146",
                                    "SZOBA_SZAMA": "12",
                                    "FEROHELY": "3",
                                    "POTAGY": "0",
                                    "KLIMAS": "i",
                                    "panzio": "Nem"
                                },
                                {
                                    "SZOBA_ID": "146",
                                    "SZOBA_SZAMA": "12",
                                    "FEROHELY": "3",
                                    "POTAGY": "0",
                                    "KLIMAS": "i",
                                    "panzio": "Nem"
                                },
                                {
                                    "SZOBA_ID": "146",
                                    "SZOBA_SZAMA": "12",
                                    "FEROHELY": "3",
                                    "POTAGY": "0",
                                    "KLIMAS": "i",
                                    "panzio": "Nem"
                                },
                                {
                                    "SZOBA_ID": "146",
                                    "SZOBA_SZAMA": "12",
                                    "FEROHELY": "3",
                                    "POTAGY": "0",
                                    "KLIMAS": "i",
                                    "panzio": "Nem"
                                },
                                {
                                    "SZOBA_ID": "146",
                                    "SZOBA_SZAMA": "12",
                                    "FEROHELY": "3",
                                    "POTAGY": "0",
                                    "KLIMAS": "i",
                                    "panzio": "Nem"
                                },
                                {
                                    "SZOBA_ID": "146",
                                    "SZOBA_SZAMA": "12",
                                    "FEROHELY": "3",
                                    "POTAGY": "0",
                                    "KLIMAS": "i",
                                    "panzio": "Nem"
                                },
                                {
                                    "SZOBA_ID": "147",
                                    "SZOBA_SZAMA": "13",
                                    "FEROHELY": "2",
                                    "POTAGY": "0",
                                    "KLIMAS": "i",
                                    "panzio": "Nem"
                                },
                                {
                                    "SZOBA_ID": "148",
                                    "SZOBA_SZAMA": "14",
                                    "FEROHELY": "2",
                                    "POTAGY": "0",
                                    "KLIMAS": "i",
                                    "panzio": "Nem"
                                },
                                {
                                    "SZOBA_ID": "148",
                                    "SZOBA_SZAMA": "14",
                                    "FEROHELY": "2",
                                    "POTAGY": "0",
                                    "KLIMAS": "i",
                                    "panzio": "Nem"
                                },
                                {
                                    "SZOBA_ID": "148",
                                    "SZOBA_SZAMA": "14",
                                    "FEROHELY": "2",
                                    "POTAGY": "0",
                                    "KLIMAS": "i",
                                    "panzio": "Nem"
                                },
                                {
                                    "SZOBA_ID": "148",
                                    "SZOBA_SZAMA": "14",
                                    "FEROHELY": "2",
                                    "POTAGY": "0",
                                    "KLIMAS": "i",
                                    "panzio": "Nem"
                                },
                                {
                                    "SZOBA_ID": "148",
                                    "SZOBA_SZAMA": "14",
                                    "FEROHELY": "2",
                                    "POTAGY": "0",
                                    "KLIMAS": "i",
                                    "panzio": "Nem"
                                },
                                {
                                    "SZOBA_ID": "148",
                                    "SZOBA_SZAMA": "14",
                                    "FEROHELY": "2",
                                    "POTAGY": "0",
                                    "KLIMAS": "i",
                                    "panzio": "Nem"
                                },
                                {
                                    "SZOBA_ID": "149",
                                    "SZOBA_SZAMA": "15",
                                    "FEROHELY": "2",
                                    "POTAGY": "0",
                                    "KLIMAS": "i",
                                    "panzio": "Nem"
                                },
                                {
                                    "SZOBA_ID": "149",
                                    "SZOBA_SZAMA": "15",
                                    "FEROHELY": "2",
                                    "POTAGY": "0",
                                    "KLIMAS": "i",
                                    "panzio": "Nem"
                                },
                                {
                                    "SZOBA_ID": "149",
                                    "SZOBA_SZAMA": "15",
                                    "FEROHELY": "2",
                                    "POTAGY": "0",
                                    "KLIMAS": "i",
                                    "panzio": "Nem"
                                },
                                {
                                    "SZOBA_ID": "149",
                                    "SZOBA_SZAMA": "15",
                                    "FEROHELY": "2",
                                    "POTAGY": "0",
                                    "KLIMAS": "i",
                                    "panzio": "Nem"
                                },
                                {
                                    "SZOBA_ID": "149",
                                    "SZOBA_SZAMA": "15",
                                    "FEROHELY": "2",
                                    "POTAGY": "0",
                                    "KLIMAS": "i",
                                    "panzio": "Nem"
                                },
                                {
                                    "SZOBA_ID": "149",
                                    "SZOBA_SZAMA": "15",
                                    "FEROHELY": "2",
                                    "POTAGY": "0",
                                    "KLIMAS": "i",
                                    "panzio": "Nem"
                                },
                                {
                                    "SZOBA_ID": "149",
                                    "SZOBA_SZAMA": "15",
                                    "FEROHELY": "2",
                                    "POTAGY": "0",
                                    "KLIMAS": "i",
                                    "panzio": "Nem"
                                },
                                {
                                    "SZOBA_ID": "150",
                                    "SZOBA_SZAMA": "16",
                                    "FEROHELY": "2",
                                    "POTAGY": "1",
                                    "KLIMAS": "i",
                                    "panzio": "Nem"
                                },
                                {
                                    "SZOBA_ID": "150",
                                    "SZOBA_SZAMA": "16",
                                    "FEROHELY": "2",
                                    "POTAGY": "1",
                                    "KLIMAS": "i",
                                    "panzio": "Nem"
                                },
                                {
                                    "SZOBA_ID": "150",
                                    "SZOBA_SZAMA": "16",
                                    "FEROHELY": "2",
                                    "POTAGY": "1",
                                    "KLIMAS": "i",
                                    "panzio": "Nem"
                                },
                                {
                                    "SZOBA_ID": "150",
                                    "SZOBA_SZAMA": "16",
                                    "FEROHELY": "2",
                                    "POTAGY": "1",
                                    "KLIMAS": "i",
                                    "panzio": "Nem"
                                },
                                {
                                    "SZOBA_ID": "150",
                                    "SZOBA_SZAMA": "16",
                                    "FEROHELY": "2",
                                    "POTAGY": "1",
                                    "KLIMAS": "i",
                                    "panzio": "Nem"
                                },
                                {
                                    "SZOBA_ID": "150",
                                    "SZOBA_SZAMA": "16",
                                    "FEROHELY": "2",
                                    "POTAGY": "1",
                                    "KLIMAS": "i",
                                    "panzio": "Nem"
                                },
                                {
                                    "SZOBA_ID": "151",
                                    "SZOBA_SZAMA": "17",
                                    "FEROHELY": "2",
                                    "POTAGY": "0",
                                    "KLIMAS": "n",
                                    "panzio": "Nem"
                                },
                                {
                                    "SZOBA_ID": "151",
                                    "SZOBA_SZAMA": "17",
                                    "FEROHELY": "2",
                                    "POTAGY": "0",
                                    "KLIMAS": "n",
                                    "panzio": "Nem"
                                },
                                {
                                    "SZOBA_ID": "151",
                                    "SZOBA_SZAMA": "17",
                                    "FEROHELY": "2",
                                    "POTAGY": "0",
                                    "KLIMAS": "n",
                                    "panzio": "Nem"
                                },
                                {
                                    "SZOBA_ID": "152",
                                    "SZOBA_SZAMA": "18",
                                    "FEROHELY": "2",
                                    "POTAGY": "0",
                                    "KLIMAS": "i",
                                    "panzio": "Nem"
                                },
                                {
                                    "SZOBA_ID": "152",
                                    "SZOBA_SZAMA": "18",
                                    "FEROHELY": "2",
                                    "POTAGY": "0",
                                    "KLIMAS": "i",
                                    "panzio": "Nem"
                                },
                                {
                                    "SZOBA_ID": "152",
                                    "SZOBA_SZAMA": "18",
                                    "FEROHELY": "2",
                                    "POTAGY": "0",
                                    "KLIMAS": "i",
                                    "panzio": "Nem"
                                },
                                {
                                    "SZOBA_ID": "152",
                                    "SZOBA_SZAMA": "18",
                                    "FEROHELY": "2",
                                    "POTAGY": "0",
                                    "KLIMAS": "i",
                                    "panzio": "Nem"
                                },
                                {
                                    "SZOBA_ID": "153",
                                    "SZOBA_SZAMA": "19",
                                    "FEROHELY": "3",
                                    "POTAGY": "0",
                                    "KLIMAS": "n",
                                    "panzio": "Nem"
                                },
                                {
                                    "SZOBA_ID": "153",
                                    "SZOBA_SZAMA": "19",
                                    "FEROHELY": "3",
                                    "POTAGY": "0",
                                    "KLIMAS": "n",
                                    "panzio": "Nem"
                                },
                                {
                                    "SZOBA_ID": "153",
                                    "SZOBA_SZAMA": "19",
                                    "FEROHELY": "3",
                                    "POTAGY": "0",
                                    "KLIMAS": "n",
                                    "panzio": "Nem"
                                },
                                {
                                    "SZOBA_ID": "153",
                                    "SZOBA_SZAMA": "19",
                                    "FEROHELY": "3",
                                    "POTAGY": "0",
                                    "KLIMAS": "n",
                                    "panzio": "Nem"
                                },
                                {
                                    "SZOBA_ID": "153",
                                    "SZOBA_SZAMA": "19",
                                    "FEROHELY": "3",
                                    "POTAGY": "0",
                                    "KLIMAS": "n",
                                    "panzio": "Nem"
                                },
                                {
                                    "SZOBA_ID": "154",
                                    "SZOBA_SZAMA": "20",
                                    "FEROHELY": "2",
                                    "POTAGY": "1",
                                    "KLIMAS": "i",
                                    "panzio": "Nem"
                                },
                                {
                                    "SZOBA_ID": "154",
                                    "SZOBA_SZAMA": "20",
                                    "FEROHELY": "2",
                                    "POTAGY": "1",
                                    "KLIMAS": "i",
                                    "panzio": "Nem"
                                },
                                {
                                    "SZOBA_ID": "154",
                                    "SZOBA_SZAMA": "20",
                                    "FEROHELY": "2",
                                    "POTAGY": "1",
                                    "KLIMAS": "i",
                                    "panzio": "Nem"
                                },
                                {
                                    "SZOBA_ID": "154",
                                    "SZOBA_SZAMA": "20",
                                    "FEROHELY": "2",
                                    "POTAGY": "1",
                                    "KLIMAS": "i",
                                    "panzio": "Nem"
                                },
                                {
                                    "SZOBA_ID": "154",
                                    "SZOBA_SZAMA": "20",
                                    "FEROHELY": "2",
                                    "POTAGY": "1",
                                    "KLIMAS": "i",
                                    "panzio": "Nem"
                                },
                                {
                                    "SZOBA_ID": "155",
                                    "SZOBA_SZAMA": "21",
                                    "FEROHELY": "3",
                                    "POTAGY": "1",
                                    "KLIMAS": "n",
                                    "panzio": "Nem"
                                },
                                {
                                    "SZOBA_ID": "155",
                                    "SZOBA_SZAMA": "21",
                                    "FEROHELY": "3",
                                    "POTAGY": "1",
                                    "KLIMAS": "n",
                                    "panzio": "Nem"
                                },
                                {
                                    "SZOBA_ID": "155",
                                    "SZOBA_SZAMA": "21",
                                    "FEROHELY": "3",
                                    "POTAGY": "1",
                                    "KLIMAS": "n",
                                    "panzio": "Nem"
                                },
                                {
                                    "SZOBA_ID": "155",
                                    "SZOBA_SZAMA": "21",
                                    "FEROHELY": "3",
                                    "POTAGY": "1",
                                    "KLIMAS": "n",
                                    "panzio": "Nem"
                                },
                                {
                                    "SZOBA_ID": "155",
                                    "SZOBA_SZAMA": "21",
                                    "FEROHELY": "3",
                                    "POTAGY": "1",
                                    "KLIMAS": "n",
                                    "panzio": "Nem"
                                },
                                {
                                    "SZOBA_ID": "156",
                                    "SZOBA_SZAMA": "22",
                                    "FEROHELY": "2",
                                    "POTAGY": "2",
                                    "KLIMAS": "i",
                                    "panzio": "Nem"
                                },
                                {
                                    "SZOBA_ID": "156",
                                    "SZOBA_SZAMA": "22",
                                    "FEROHELY": "2",
                                    "POTAGY": "2",
                                    "KLIMAS": "i",
                                    "panzio": "Nem"
                                },
                                {
                                    "SZOBA_ID": "156",
                                    "SZOBA_SZAMA": "22",
                                    "FEROHELY": "2",
                                    "POTAGY": "2",
                                    "KLIMAS": "i",
                                    "panzio": "Nem"
                                },
                                {
                                    "SZOBA_ID": "156",
                                    "SZOBA_SZAMA": "22",
                                    "FEROHELY": "2",
                                    "POTAGY": "2",
                                    "KLIMAS": "i",
                                    "panzio": "Nem"
                                },
                                {
                                    "SZOBA_ID": "156",
                                    "SZOBA_SZAMA": "22",
                                    "FEROHELY": "2",
                                    "POTAGY": "2",
                                    "KLIMAS": "i",
                                    "panzio": "Nem"
                                },
                                {
                                    "SZOBA_ID": "156",
                                    "SZOBA_SZAMA": "22",
                                    "FEROHELY": "2",
                                    "POTAGY": "2",
                                    "KLIMAS": "i",
                                    "panzio": "Nem"
                                },
                                {
                                    "SZOBA_ID": "156",
                                    "SZOBA_SZAMA": "22",
                                    "FEROHELY": "2",
                                    "POTAGY": "2",
                                    "KLIMAS": "i",
                                    "panzio": "Nem"
                                },
                                {
                                    "SZOBA_ID": "157",
                                    "SZOBA_SZAMA": "23",
                                    "FEROHELY": "2",
                                    "POTAGY": "0",
                                    "KLIMAS": "n",
                                    "panzio": "Nem"
                                },
                                {
                                    "SZOBA_ID": "157",
                                    "SZOBA_SZAMA": "23",
                                    "FEROHELY": "2",
                                    "POTAGY": "0",
                                    "KLIMAS": "n",
                                    "panzio": "Nem"
                                },
                                {
                                    "SZOBA_ID": "157",
                                    "SZOBA_SZAMA": "23",
                                    "FEROHELY": "2",
                                    "POTAGY": "0",
                                    "KLIMAS": "n",
                                    "panzio": "Nem"
                                },
                                {
                                    "SZOBA_ID": "157",
                                    "SZOBA_SZAMA": "23",
                                    "FEROHELY": "2",
                                    "POTAGY": "0",
                                    "KLIMAS": "n",
                                    "panzio": "Nem"
                                },
                                {
                                    "SZOBA_ID": "157",
                                    "SZOBA_SZAMA": "23",
                                    "FEROHELY": "2",
                                    "POTAGY": "0",
                                    "KLIMAS": "n",
                                    "panzio": "Nem"
                                },
                                {
                                    "SZOBA_ID": "158",
                                    "SZOBA_SZAMA": "24",
                                    "FEROHELY": "2",
                                    "POTAGY": "1",
                                    "KLIMAS": "n",
                                    "panzio": "Nem"
                                },
                                {
                                    "SZOBA_ID": "158",
                                    "SZOBA_SZAMA": "24",
                                    "FEROHELY": "2",
                                    "POTAGY": "1",
                                    "KLIMAS": "n",
                                    "panzio": "Nem"
                                },
                                {
                                    "SZOBA_ID": "158",
                                    "SZOBA_SZAMA": "24",
                                    "FEROHELY": "2",
                                    "POTAGY": "1",
                                    "KLIMAS": "n",
                                    "panzio": "Nem"
                                },
                                {
                                    "SZOBA_ID": "159",
                                    "SZOBA_SZAMA": "25",
                                    "FEROHELY": "3",
                                    "POTAGY": "1",
                                    "KLIMAS": "n",
                                    "panzio": "Nem"
                                },
                                {
                                    "SZOBA_ID": "160",
                                    "SZOBA_SZAMA": "1",
                                    "FEROHELY": "3",
                                    "POTAGY": "1",
                                    "KLIMAS": "i",
                                    "panzio": "Nem"
                                },
                                {
                                    "SZOBA_ID": "160",
                                    "SZOBA_SZAMA": "1",
                                    "FEROHELY": "3",
                                    "POTAGY": "1",
                                    "KLIMAS": "i",
                                    "panzio": "Nem"
                                },
                                {
                                    "SZOBA_ID": "160",
                                    "SZOBA_SZAMA": "1",
                                    "FEROHELY": "3",
                                    "POTAGY": "1",
                                    "KLIMAS": "i",
                                    "panzio": "Nem"
                                },
                                {
                                    "SZOBA_ID": "160",
                                    "SZOBA_SZAMA": "1",
                                    "FEROHELY": "3",
                                    "POTAGY": "1",
                                    "KLIMAS": "i",
                                    "panzio": "Nem"
                                },
                                {
                                    "SZOBA_ID": "160",
                                    "SZOBA_SZAMA": "1",
                                    "FEROHELY": "3",
                                    "POTAGY": "1",
                                    "KLIMAS": "i",
                                    "panzio": "Nem"
                                },
                                {
                                    "SZOBA_ID": "161",
                                    "SZOBA_SZAMA": "2",
                                    "FEROHELY": "2",
                                    "POTAGY": "2",
                                    "KLIMAS": "i",
                                    "panzio": "Nem"
                                },
                                {
                                    "SZOBA_ID": "161",
                                    "SZOBA_SZAMA": "2",
                                    "FEROHELY": "2",
                                    "POTAGY": "2",
                                    "KLIMAS": "i",
                                    "panzio": "Nem"
                                },
                                {
                                    "SZOBA_ID": "161",
                                    "SZOBA_SZAMA": "2",
                                    "FEROHELY": "2",
                                    "POTAGY": "2",
                                    "KLIMAS": "i",
                                    "panzio": "Nem"
                                },
                                {
                                    "SZOBA_ID": "161",
                                    "SZOBA_SZAMA": "2",
                                    "FEROHELY": "2",
                                    "POTAGY": "2",
                                    "KLIMAS": "i",
                                    "panzio": "Nem"
                                },
                                {
                                    "SZOBA_ID": "161",
                                    "SZOBA_SZAMA": "2",
                                    "FEROHELY": "2",
                                    "POTAGY": "2",
                                    "KLIMAS": "i",
                                    "panzio": "Nem"
                                },
                                {
                                    "SZOBA_ID": "161",
                                    "SZOBA_SZAMA": "2",
                                    "FEROHELY": "2",
                                    "POTAGY": "2",
                                    "KLIMAS": "i",
                                    "panzio": "Nem"
                                },
                                {
                                    "SZOBA_ID": "162",
                                    "SZOBA_SZAMA": "3",
                                    "FEROHELY": "3",
                                    "POTAGY": "0",
                                    "KLIMAS": "n",
                                    "panzio": "Nem"
                                },
                                {
                                    "SZOBA_ID": "162",
                                    "SZOBA_SZAMA": "3",
                                    "FEROHELY": "3",
                                    "POTAGY": "0",
                                    "KLIMAS": "n",
                                    "panzio": "Nem"
                                },
                                {
                                    "SZOBA_ID": "162",
                                    "SZOBA_SZAMA": "3",
                                    "FEROHELY": "3",
                                    "POTAGY": "0",
                                    "KLIMAS": "n",
                                    "panzio": "Nem"
                                },
                                {
                                    "SZOBA_ID": "162",
                                    "SZOBA_SZAMA": "3",
                                    "FEROHELY": "3",
                                    "POTAGY": "0",
                                    "KLIMAS": "n",
                                    "panzio": "Nem"
                                },
                                {
                                    "SZOBA_ID": "162",
                                    "SZOBA_SZAMA": "3",
                                    "FEROHELY": "3",
                                    "POTAGY": "0",
                                    "KLIMAS": "n",
                                    "panzio": "Nem"
                                },
                                {
                                    "SZOBA_ID": "163",
                                    "SZOBA_SZAMA": "4",
                                    "FEROHELY": "2",
                                    "POTAGY": "0",
                                    "KLIMAS": "i",
                                    "panzio": "Nem"
                                },
                                {
                                    "SZOBA_ID": "163",
                                    "SZOBA_SZAMA": "4",
                                    "FEROHELY": "2",
                                    "POTAGY": "0",
                                    "KLIMAS": "i",
                                    "panzio": "Nem"
                                },
                                {
                                    "SZOBA_ID": "163",
                                    "SZOBA_SZAMA": "4",
                                    "FEROHELY": "2",
                                    "POTAGY": "0",
                                    "KLIMAS": "i",
                                    "panzio": "Nem"
                                },
                                {
                                    "SZOBA_ID": "163",
                                    "SZOBA_SZAMA": "4",
                                    "FEROHELY": "2",
                                    "POTAGY": "0",
                                    "KLIMAS": "i",
                                    "panzio": "Nem"
                                },
                                {
                                    "SZOBA_ID": "163",
                                    "SZOBA_SZAMA": "4",
                                    "FEROHELY": "2",
                                    "POTAGY": "0",
                                    "KLIMAS": "i",
                                    "panzio": "Nem"
                                },
                                {
                                    "SZOBA_ID": "163",
                                    "SZOBA_SZAMA": "4",
                                    "FEROHELY": "2",
                                    "POTAGY": "0",
                                    "KLIMAS": "i",
                                    "panzio": "Nem"
                                },
                                {
                                    "SZOBA_ID": "163",
                                    "SZOBA_SZAMA": "4",
                                    "FEROHELY": "2",
                                    "POTAGY": "0",
                                    "KLIMAS": "i",
                                    "panzio": "Nem"
                                },
                                {
                                    "SZOBA_ID": "163",
                                    "SZOBA_SZAMA": "4",
                                    "FEROHELY": "2",
                                    "POTAGY": "0",
                                    "KLIMAS": "i",
                                    "panzio": "Nem"
                                },
                                {
                                    "SZOBA_ID": "163",
                                    "SZOBA_SZAMA": "4",
                                    "FEROHELY": "2",
                                    "POTAGY": "0",
                                    "KLIMAS": "i",
                                    "panzio": "Nem"
                                },
                                {
                                    "SZOBA_ID": "163",
                                    "SZOBA_SZAMA": "4",
                                    "FEROHELY": "2",
                                    "POTAGY": "0",
                                    "KLIMAS": "i",
                                    "panzio": "Nem"
                                },
                                {
                                    "SZOBA_ID": "163",
                                    "SZOBA_SZAMA": "4",
                                    "FEROHELY": "2",
                                    "POTAGY": "0",
                                    "KLIMAS": "i",
                                    "panzio": "Nem"
                                },
                                {
                                    "SZOBA_ID": "163",
                                    "SZOBA_SZAMA": "4",
                                    "FEROHELY": "2",
                                    "POTAGY": "0",
                                    "KLIMAS": "i",
                                    "panzio": "Nem"
                                },
                                {
                                    "SZOBA_ID": "163",
                                    "SZOBA_SZAMA": "4",
                                    "FEROHELY": "2",
                                    "POTAGY": "0",
                                    "KLIMAS": "i",
                                    "panzio": "Nem"
                                },
                                {
                                    "SZOBA_ID": "164",
                                    "SZOBA_SZAMA": "5",
                                    "FEROHELY": "2",
                                    "POTAGY": "0",
                                    "KLIMAS": "i",
                                    "panzio": "Nem"
                                },
                                {
                                    "SZOBA_ID": "164",
                                    "SZOBA_SZAMA": "5",
                                    "FEROHELY": "2",
                                    "POTAGY": "0",
                                    "KLIMAS": "i",
                                    "panzio": "Nem"
                                },
                                {
                                    "SZOBA_ID": "164",
                                    "SZOBA_SZAMA": "5",
                                    "FEROHELY": "2",
                                    "POTAGY": "0",
                                    "KLIMAS": "i",
                                    "panzio": "Nem"
                                },
                                {
                                    "SZOBA_ID": "164",
                                    "SZOBA_SZAMA": "5",
                                    "FEROHELY": "2",
                                    "POTAGY": "0",
                                    "KLIMAS": "i",
                                    "panzio": "Nem"
                                },
                                {
                                    "SZOBA_ID": "164",
                                    "SZOBA_SZAMA": "5",
                                    "FEROHELY": "2",
                                    "POTAGY": "0",
                                    "KLIMAS": "i",
                                    "panzio": "Nem"
                                },
                                {
                                    "SZOBA_ID": "165",
                                    "SZOBA_SZAMA": "1",
                                    "FEROHELY": "2",
                                    "POTAGY": "0",
                                    "KLIMAS": "n",
                                    "panzio": "Nem"
                                },
                                {
                                    "SZOBA_ID": "165",
                                    "SZOBA_SZAMA": "1",
                                    "FEROHELY": "2",
                                    "POTAGY": "0",
                                    "KLIMAS": "n",
                                    "panzio": "Nem"
                                },
                                {
                                    "SZOBA_ID": "165",
                                    "SZOBA_SZAMA": "1",
                                    "FEROHELY": "2",
                                    "POTAGY": "0",
                                    "KLIMAS": "n",
                                    "panzio": "Nem"
                                },
                                {
                                    "SZOBA_ID": "165",
                                    "SZOBA_SZAMA": "1",
                                    "FEROHELY": "2",
                                    "POTAGY": "0",
                                    "KLIMAS": "n",
                                    "panzio": "Nem"
                                },
                                {
                                    "SZOBA_ID": "165",
                                    "SZOBA_SZAMA": "1",
                                    "FEROHELY": "2",
                                    "POTAGY": "0",
                                    "KLIMAS": "n",
                                    "panzio": "Nem"
                                },
                                {
                                    "SZOBA_ID": "165",
                                    "SZOBA_SZAMA": "1",
                                    "FEROHELY": "2",
                                    "POTAGY": "0",
                                    "KLIMAS": "n",
                                    "panzio": "Nem"
                                },
                                {
                                    "SZOBA_ID": "165",
                                    "SZOBA_SZAMA": "1",
                                    "FEROHELY": "2",
                                    "POTAGY": "0",
                                    "KLIMAS": "n",
                                    "panzio": "Nem"
                                },
                                {
                                    "SZOBA_ID": "166",
                                    "SZOBA_SZAMA": "2",
                                    "FEROHELY": "2",
                                    "POTAGY": "1",
                                    "KLIMAS": "i",
                                    "panzio": "Nem"
                                },
                                {
                                    "SZOBA_ID": "166",
                                    "SZOBA_SZAMA": "2",
                                    "FEROHELY": "2",
                                    "POTAGY": "1",
                                    "KLIMAS": "i",
                                    "panzio": "Nem"
                                },
                                {
                                    "SZOBA_ID": "166",
                                    "SZOBA_SZAMA": "2",
                                    "FEROHELY": "2",
                                    "POTAGY": "1",
                                    "KLIMAS": "i",
                                    "panzio": "Nem"
                                },
                                {
                                    "SZOBA_ID": "167",
                                    "SZOBA_SZAMA": "3",
                                    "FEROHELY": "3",
                                    "POTAGY": "0",
                                    "KLIMAS": "i",
                                    "panzio": "Nem"
                                },
                                {
                                    "SZOBA_ID": "167",
                                    "SZOBA_SZAMA": "3",
                                    "FEROHELY": "3",
                                    "POTAGY": "0",
                                    "KLIMAS": "i",
                                    "panzio": "Nem"
                                },
                                {
                                    "SZOBA_ID": "168",
                                    "SZOBA_SZAMA": "4",
                                    "FEROHELY": "2",
                                    "POTAGY": "2",
                                    "KLIMAS": "i",
                                    "panzio": "Nem"
                                },
                                {
                                    "SZOBA_ID": "168",
                                    "SZOBA_SZAMA": "4",
                                    "FEROHELY": "2",
                                    "POTAGY": "2",
                                    "KLIMAS": "i",
                                    "panzio": "Nem"
                                },
                                {
                                    "SZOBA_ID": "168",
                                    "SZOBA_SZAMA": "4",
                                    "FEROHELY": "2",
                                    "POTAGY": "2",
                                    "KLIMAS": "i",
                                    "panzio": "Nem"
                                },
                                {
                                    "SZOBA_ID": "168",
                                    "SZOBA_SZAMA": "4",
                                    "FEROHELY": "2",
                                    "POTAGY": "2",
                                    "KLIMAS": "i",
                                    "panzio": "Nem"
                                },
                                {
                                    "SZOBA_ID": "168",
                                    "SZOBA_SZAMA": "4",
                                    "FEROHELY": "2",
                                    "POTAGY": "2",
                                    "KLIMAS": "i",
                                    "panzio": "Nem"
                                },
                                {
                                    "SZOBA_ID": "169",
                                    "SZOBA_SZAMA": "5",
                                    "FEROHELY": "2",
                                    "POTAGY": "1",
                                    "KLIMAS": "i",
                                    "panzio": "Nem"
                                },
                                {
                                    "SZOBA_ID": "169",
                                    "SZOBA_SZAMA": "5",
                                    "FEROHELY": "2",
                                    "POTAGY": "1",
                                    "KLIMAS": "i",
                                    "panzio": "Nem"
                                },
                                {
                                    "SZOBA_ID": "169",
                                    "SZOBA_SZAMA": "5",
                                    "FEROHELY": "2",
                                    "POTAGY": "1",
                                    "KLIMAS": "i",
                                    "panzio": "Nem"
                                },
                                {
                                    "SZOBA_ID": "169",
                                    "SZOBA_SZAMA": "5",
                                    "FEROHELY": "2",
                                    "POTAGY": "1",
                                    "KLIMAS": "i",
                                    "panzio": "Nem"
                                },
                                {
                                    "SZOBA_ID": "169",
                                    "SZOBA_SZAMA": "5",
                                    "FEROHELY": "2",
                                    "POTAGY": "1",
                                    "KLIMAS": "i",
                                    "panzio": "Nem"
                                },
                                {
                                    "SZOBA_ID": "169",
                                    "SZOBA_SZAMA": "5",
                                    "FEROHELY": "2",
                                    "POTAGY": "1",
                                    "KLIMAS": "i",
                                    "panzio": "Nem"
                                },
                                {
                                    "SZOBA_ID": "170",
                                    "SZOBA_SZAMA": "6",
                                    "FEROHELY": "2",
                                    "POTAGY": "0",
                                    "KLIMAS": "i",
                                    "panzio": "Nem"
                                },
                                {
                                    "SZOBA_ID": "170",
                                    "SZOBA_SZAMA": "6",
                                    "FEROHELY": "2",
                                    "POTAGY": "0",
                                    "KLIMAS": "i",
                                    "panzio": "Nem"
                                },
                                {
                                    "SZOBA_ID": "170",
                                    "SZOBA_SZAMA": "6",
                                    "FEROHELY": "2",
                                    "POTAGY": "0",
                                    "KLIMAS": "i",
                                    "panzio": "Nem"
                                },
                                {
                                    "SZOBA_ID": "170",
                                    "SZOBA_SZAMA": "6",
                                    "FEROHELY": "2",
                                    "POTAGY": "0",
                                    "KLIMAS": "i",
                                    "panzio": "Nem"
                                },
                                {
                                    "SZOBA_ID": "170",
                                    "SZOBA_SZAMA": "6",
                                    "FEROHELY": "2",
                                    "POTAGY": "0",
                                    "KLIMAS": "i",
                                    "panzio": "Nem"
                                },
                                {
                                    "SZOBA_ID": "171",
                                    "SZOBA_SZAMA": "7",
                                    "FEROHELY": "2",
                                    "POTAGY": "1",
                                    "KLIMAS": "i",
                                    "panzio": "Nem"
                                },
                                {
                                    "SZOBA_ID": "171",
                                    "SZOBA_SZAMA": "7",
                                    "FEROHELY": "2",
                                    "POTAGY": "1",
                                    "KLIMAS": "i",
                                    "panzio": "Nem"
                                },
                                {
                                    "SZOBA_ID": "171",
                                    "SZOBA_SZAMA": "7",
                                    "FEROHELY": "2",
                                    "POTAGY": "1",
                                    "KLIMAS": "i",
                                    "panzio": "Nem"
                                },
                                {
                                    "SZOBA_ID": "171",
                                    "SZOBA_SZAMA": "7",
                                    "FEROHELY": "2",
                                    "POTAGY": "1",
                                    "KLIMAS": "i",
                                    "panzio": "Nem"
                                },
                                {
                                    "SZOBA_ID": "171",
                                    "SZOBA_SZAMA": "7",
                                    "FEROHELY": "2",
                                    "POTAGY": "1",
                                    "KLIMAS": "i",
                                    "panzio": "Nem"
                                },
                                {
                                    "SZOBA_ID": "172",
                                    "SZOBA_SZAMA": "8",
                                    "FEROHELY": "2",
                                    "POTAGY": "2",
                                    "KLIMAS": "n",
                                    "panzio": "Nem"
                                },
                                {
                                    "SZOBA_ID": "172",
                                    "SZOBA_SZAMA": "8",
                                    "FEROHELY": "2",
                                    "POTAGY": "2",
                                    "KLIMAS": "n",
                                    "panzio": "Nem"
                                },
                                {
                                    "SZOBA_ID": "172",
                                    "SZOBA_SZAMA": "8",
                                    "FEROHELY": "2",
                                    "POTAGY": "2",
                                    "KLIMAS": "n",
                                    "panzio": "Nem"
                                },
                                {
                                    "SZOBA_ID": "172",
                                    "SZOBA_SZAMA": "8",
                                    "FEROHELY": "2",
                                    "POTAGY": "2",
                                    "KLIMAS": "n",
                                    "panzio": "Nem"
                                },
                                {
                                    "SZOBA_ID": "172",
                                    "SZOBA_SZAMA": "8",
                                    "FEROHELY": "2",
                                    "POTAGY": "2",
                                    "KLIMAS": "n",
                                    "panzio": "Nem"
                                },
                                {
                                    "SZOBA_ID": "172",
                                    "SZOBA_SZAMA": "8",
                                    "FEROHELY": "2",
                                    "POTAGY": "2",
                                    "KLIMAS": "n",
                                    "panzio": "Nem"
                                },
                                {
                                    "SZOBA_ID": "172",
                                    "SZOBA_SZAMA": "8",
                                    "FEROHELY": "2",
                                    "POTAGY": "2",
                                    "KLIMAS": "n",
                                    "panzio": "Nem"
                                },
                                {
                                    "SZOBA_ID": "172",
                                    "SZOBA_SZAMA": "8",
                                    "FEROHELY": "2",
                                    "POTAGY": "2",
                                    "KLIMAS": "n",
                                    "panzio": "Nem"
                                },
                                {
                                    "SZOBA_ID": "172",
                                    "SZOBA_SZAMA": "8",
                                    "FEROHELY": "2",
                                    "POTAGY": "2",
                                    "KLIMAS": "n",
                                    "panzio": "Nem"
                                },
                                {
                                    "SZOBA_ID": "173",
                                    "SZOBA_SZAMA": "9",
                                    "FEROHELY": "2",
                                    "POTAGY": "0",
                                    "KLIMAS": "i",
                                    "panzio": "Nem"
                                },
                                {
                                    "SZOBA_ID": "173",
                                    "SZOBA_SZAMA": "9",
                                    "FEROHELY": "2",
                                    "POTAGY": "0",
                                    "KLIMAS": "i",
                                    "panzio": "Nem"
                                },
                                {
                                    "SZOBA_ID": "173",
                                    "SZOBA_SZAMA": "9",
                                    "FEROHELY": "2",
                                    "POTAGY": "0",
                                    "KLIMAS": "i",
                                    "panzio": "Nem"
                                },
                                {
                                    "SZOBA_ID": "173",
                                    "SZOBA_SZAMA": "9",
                                    "FEROHELY": "2",
                                    "POTAGY": "0",
                                    "KLIMAS": "i",
                                    "panzio": "Nem"
                                },
                                {
                                    "SZOBA_ID": "174",
                                    "SZOBA_SZAMA": "10",
                                    "FEROHELY": "2",
                                    "POTAGY": "0",
                                    "KLIMAS": "i",
                                    "panzio": "Nem"
                                },
                                {
                                    "SZOBA_ID": "174",
                                    "SZOBA_SZAMA": "10",
                                    "FEROHELY": "2",
                                    "POTAGY": "0",
                                    "KLIMAS": "i",
                                    "panzio": "Nem"
                                },
                                {
                                    "SZOBA_ID": "174",
                                    "SZOBA_SZAMA": "10",
                                    "FEROHELY": "2",
                                    "POTAGY": "0",
                                    "KLIMAS": "i",
                                    "panzio": "Nem"
                                },
                                {
                                    "SZOBA_ID": "174",
                                    "SZOBA_SZAMA": "10",
                                    "FEROHELY": "2",
                                    "POTAGY": "0",
                                    "KLIMAS": "i",
                                    "panzio": "Nem"
                                },
                                {
                                    "SZOBA_ID": "175",
                                    "SZOBA_SZAMA": "11",
                                    "FEROHELY": "2",
                                    "POTAGY": "0",
                                    "KLIMAS": "i",
                                    "panzio": "Nem"
                                },
                                {
                                    "SZOBA_ID": "175",
                                    "SZOBA_SZAMA": "11",
                                    "FEROHELY": "2",
                                    "POTAGY": "0",
                                    "KLIMAS": "i",
                                    "panzio": "Nem"
                                },
                                {
                                    "SZOBA_ID": "175",
                                    "SZOBA_SZAMA": "11",
                                    "FEROHELY": "2",
                                    "POTAGY": "0",
                                    "KLIMAS": "i",
                                    "panzio": "Nem"
                                },
                                {
                                    "SZOBA_ID": "175",
                                    "SZOBA_SZAMA": "11",
                                    "FEROHELY": "2",
                                    "POTAGY": "0",
                                    "KLIMAS": "i",
                                    "panzio": "Nem"
                                },
                                {
                                    "SZOBA_ID": "175",
                                    "SZOBA_SZAMA": "11",
                                    "FEROHELY": "2",
                                    "POTAGY": "0",
                                    "KLIMAS": "i",
                                    "panzio": "Nem"
                                },
                                {
                                    "SZOBA_ID": "176",
                                    "SZOBA_SZAMA": "12",
                                    "FEROHELY": "3",
                                    "POTAGY": "1",
                                    "KLIMAS": "i",
                                    "panzio": "Nem"
                                },
                                {
                                    "SZOBA_ID": "176",
                                    "SZOBA_SZAMA": "12",
                                    "FEROHELY": "3",
                                    "POTAGY": "1",
                                    "KLIMAS": "i",
                                    "panzio": "Nem"
                                },
                                {
                                    "SZOBA_ID": "176",
                                    "SZOBA_SZAMA": "12",
                                    "FEROHELY": "3",
                                    "POTAGY": "1",
                                    "KLIMAS": "i",
                                    "panzio": "Nem"
                                },
                                {
                                    "SZOBA_ID": "176",
                                    "SZOBA_SZAMA": "12",
                                    "FEROHELY": "3",
                                    "POTAGY": "1",
                                    "KLIMAS": "i",
                                    "panzio": "Nem"
                                },
                                {
                                    "SZOBA_ID": "176",
                                    "SZOBA_SZAMA": "12",
                                    "FEROHELY": "3",
                                    "POTAGY": "1",
                                    "KLIMAS": "i",
                                    "panzio": "Nem"
                                },
                                {
                                    "SZOBA_ID": "176",
                                    "SZOBA_SZAMA": "12",
                                    "FEROHELY": "3",
                                    "POTAGY": "1",
                                    "KLIMAS": "i",
                                    "panzio": "Nem"
                                },
                                {
                                    "SZOBA_ID": "177",
                                    "SZOBA_SZAMA": "13",
                                    "FEROHELY": "3",
                                    "POTAGY": "2",
                                    "KLIMAS": "i",
                                    "panzio": "Nem"
                                },
                                {
                                    "SZOBA_ID": "177",
                                    "SZOBA_SZAMA": "13",
                                    "FEROHELY": "3",
                                    "POTAGY": "2",
                                    "KLIMAS": "i",
                                    "panzio": "Nem"
                                },
                                {
                                    "SZOBA_ID": "177",
                                    "SZOBA_SZAMA": "13",
                                    "FEROHELY": "3",
                                    "POTAGY": "2",
                                    "KLIMAS": "i",
                                    "panzio": "Nem"
                                },
                                {
                                    "SZOBA_ID": "177",
                                    "SZOBA_SZAMA": "13",
                                    "FEROHELY": "3",
                                    "POTAGY": "2",
                                    "KLIMAS": "i",
                                    "panzio": "Nem"
                                },
                                {
                                    "SZOBA_ID": "178",
                                    "SZOBA_SZAMA": "14",
                                    "FEROHELY": "3",
                                    "POTAGY": "0",
                                    "KLIMAS": "i",
                                    "panzio": "Nem"
                                },
                                {
                                    "SZOBA_ID": "178",
                                    "SZOBA_SZAMA": "14",
                                    "FEROHELY": "3",
                                    "POTAGY": "0",
                                    "KLIMAS": "i",
                                    "panzio": "Nem"
                                },
                                {
                                    "SZOBA_ID": "178",
                                    "SZOBA_SZAMA": "14",
                                    "FEROHELY": "3",
                                    "POTAGY": "0",
                                    "KLIMAS": "i",
                                    "panzio": "Nem"
                                },
                                {
                                    "SZOBA_ID": "178",
                                    "SZOBA_SZAMA": "14",
                                    "FEROHELY": "3",
                                    "POTAGY": "0",
                                    "KLIMAS": "i",
                                    "panzio": "Nem"
                                },
                                {
                                    "SZOBA_ID": "179",
                                    "SZOBA_SZAMA": "15",
                                    "FEROHELY": "3",
                                    "POTAGY": "2",
                                    "KLIMAS": "i",
                                    "panzio": "Nem"
                                },
                                {
                                    "SZOBA_ID": "179",
                                    "SZOBA_SZAMA": "15",
                                    "FEROHELY": "3",
                                    "POTAGY": "2",
                                    "KLIMAS": "i",
                                    "panzio": "Nem"
                                },
                                {
                                    "SZOBA_ID": "179",
                                    "SZOBA_SZAMA": "15",
                                    "FEROHELY": "3",
                                    "POTAGY": "2",
                                    "KLIMAS": "i",
                                    "panzio": "Nem"
                                },
                                {
                                    "SZOBA_ID": "180",
                                    "SZOBA_SZAMA": "16",
                                    "FEROHELY": "2",
                                    "POTAGY": "2",
                                    "KLIMAS": "i",
                                    "panzio": "Nem"
                                },
                                {
                                    "SZOBA_ID": "180",
                                    "SZOBA_SZAMA": "16",
                                    "FEROHELY": "2",
                                    "POTAGY": "2",
                                    "KLIMAS": "i",
                                    "panzio": "Nem"
                                },
                                {
                                    "SZOBA_ID": "180",
                                    "SZOBA_SZAMA": "16",
                                    "FEROHELY": "2",
                                    "POTAGY": "2",
                                    "KLIMAS": "i",
                                    "panzio": "Nem"
                                },
                                {
                                    "SZOBA_ID": "181",
                                    "SZOBA_SZAMA": "17",
                                    "FEROHELY": "3",
                                    "POTAGY": "0",
                                    "KLIMAS": "i",
                                    "panzio": "Nem"
                                },
                                {
                                    "SZOBA_ID": "181",
                                    "SZOBA_SZAMA": "17",
                                    "FEROHELY": "3",
                                    "POTAGY": "0",
                                    "KLIMAS": "i",
                                    "panzio": "Nem"
                                },
                                {
                                    "SZOBA_ID": "181",
                                    "SZOBA_SZAMA": "17",
                                    "FEROHELY": "3",
                                    "POTAGY": "0",
                                    "KLIMAS": "i",
                                    "panzio": "Nem"
                                },
                                {
                                    "SZOBA_ID": "181",
                                    "SZOBA_SZAMA": "17",
                                    "FEROHELY": "3",
                                    "POTAGY": "0",
                                    "KLIMAS": "i",
                                    "panzio": "Nem"
                                },
                                {
                                    "SZOBA_ID": "181",
                                    "SZOBA_SZAMA": "17",
                                    "FEROHELY": "3",
                                    "POTAGY": "0",
                                    "KLIMAS": "i",
                                    "panzio": "Nem"
                                },
                                {
                                    "SZOBA_ID": "181",
                                    "SZOBA_SZAMA": "17",
                                    "FEROHELY": "3",
                                    "POTAGY": "0",
                                    "KLIMAS": "i",
                                    "panzio": "Nem"
                                },
                                {
                                    "SZOBA_ID": "182",
                                    "SZOBA_SZAMA": "18",
                                    "FEROHELY": "2",
                                    "POTAGY": "0",
                                    "KLIMAS": "n",
                                    "panzio": "Nem"
                                },
                                {
                                    "SZOBA_ID": "182",
                                    "SZOBA_SZAMA": "18",
                                    "FEROHELY": "2",
                                    "POTAGY": "0",
                                    "KLIMAS": "n",
                                    "panzio": "Nem"
                                },
                                {
                                    "SZOBA_ID": "182",
                                    "SZOBA_SZAMA": "18",
                                    "FEROHELY": "2",
                                    "POTAGY": "0",
                                    "KLIMAS": "n",
                                    "panzio": "Nem"
                                },
                                {
                                    "SZOBA_ID": "182",
                                    "SZOBA_SZAMA": "18",
                                    "FEROHELY": "2",
                                    "POTAGY": "0",
                                    "KLIMAS": "n",
                                    "panzio": "Nem"
                                },
                                {
                                    "SZOBA_ID": "182",
                                    "SZOBA_SZAMA": "18",
                                    "FEROHELY": "2",
                                    "POTAGY": "0",
                                    "KLIMAS": "n",
                                    "panzio": "Nem"
                                },
                                {
                                    "SZOBA_ID": "182",
                                    "SZOBA_SZAMA": "18",
                                    "FEROHELY": "2",
                                    "POTAGY": "0",
                                    "KLIMAS": "n",
                                    "panzio": "Nem"
                                },
                                {
                                    "SZOBA_ID": "182",
                                    "SZOBA_SZAMA": "18",
                                    "FEROHELY": "2",
                                    "POTAGY": "0",
                                    "KLIMAS": "n",
                                    "panzio": "Nem"
                                },
                                {
                                    "SZOBA_ID": "182",
                                    "SZOBA_SZAMA": "18",
                                    "FEROHELY": "2",
                                    "POTAGY": "0",
                                    "KLIMAS": "n",
                                    "panzio": "Nem"
                                },
                                {
                                    "SZOBA_ID": "182",
                                    "SZOBA_SZAMA": "18",
                                    "FEROHELY": "2",
                                    "POTAGY": "0",
                                    "KLIMAS": "n",
                                    "panzio": "Nem"
                                },
                                {
                                    "SZOBA_ID": "182",
                                    "SZOBA_SZAMA": "18",
                                    "FEROHELY": "2",
                                    "POTAGY": "0",
                                    "KLIMAS": "n",
                                    "panzio": "Nem"
                                },
                                {
                                    "SZOBA_ID": "182",
                                    "SZOBA_SZAMA": "18",
                                    "FEROHELY": "2",
                                    "POTAGY": "0",
                                    "KLIMAS": "n",
                                    "panzio": "Nem"
                                },
                                {
                                    "SZOBA_ID": "182",
                                    "SZOBA_SZAMA": "18",
                                    "FEROHELY": "2",
                                    "POTAGY": "0",
                                    "KLIMAS": "n",
                                    "panzio": "Nem"
                                },
                                {
                                    "SZOBA_ID": "183",
                                    "SZOBA_SZAMA": "19",
                                    "FEROHELY": "3",
                                    "POTAGY": "0",
                                    "KLIMAS": "i",
                                    "panzio": "Nem"
                                },
                                {
                                    "SZOBA_ID": "183",
                                    "SZOBA_SZAMA": "19",
                                    "FEROHELY": "3",
                                    "POTAGY": "0",
                                    "KLIMAS": "i",
                                    "panzio": "Nem"
                                },
                                {
                                    "SZOBA_ID": "183",
                                    "SZOBA_SZAMA": "19",
                                    "FEROHELY": "3",
                                    "POTAGY": "0",
                                    "KLIMAS": "i",
                                    "panzio": "Nem"
                                },
                                {
                                    "SZOBA_ID": "183",
                                    "SZOBA_SZAMA": "19",
                                    "FEROHELY": "3",
                                    "POTAGY": "0",
                                    "KLIMAS": "i",
                                    "panzio": "Nem"
                                },
                                {
                                    "SZOBA_ID": "184",
                                    "SZOBA_SZAMA": "20",
                                    "FEROHELY": "2",
                                    "POTAGY": "0",
                                    "KLIMAS": "n",
                                    "panzio": "Nem"
                                },
                                {
                                    "SZOBA_ID": "184",
                                    "SZOBA_SZAMA": "20",
                                    "FEROHELY": "2",
                                    "POTAGY": "0",
                                    "KLIMAS": "n",
                                    "panzio": "Nem"
                                },
                                {
                                    "SZOBA_ID": "184",
                                    "SZOBA_SZAMA": "20",
                                    "FEROHELY": "2",
                                    "POTAGY": "0",
                                    "KLIMAS": "n",
                                    "panzio": "Nem"
                                },
                                {
                                    "SZOBA_ID": "184",
                                    "SZOBA_SZAMA": "20",
                                    "FEROHELY": "2",
                                    "POTAGY": "0",
                                    "KLIMAS": "n",
                                    "panzio": "Nem"
                                },
                                {
                                    "SZOBA_ID": "185",
                                    "SZOBA_SZAMA": "21",
                                    "FEROHELY": "3",
                                    "POTAGY": "0",
                                    "KLIMAS": "i",
                                    "panzio": "Nem"
                                },
                                {
                                    "SZOBA_ID": "185",
                                    "SZOBA_SZAMA": "21",
                                    "FEROHELY": "3",
                                    "POTAGY": "0",
                                    "KLIMAS": "i",
                                    "panzio": "Nem"
                                },
                                {
                                    "SZOBA_ID": "185",
                                    "SZOBA_SZAMA": "21",
                                    "FEROHELY": "3",
                                    "POTAGY": "0",
                                    "KLIMAS": "i",
                                    "panzio": "Nem"
                                },
                                {
                                    "SZOBA_ID": "185",
                                    "SZOBA_SZAMA": "21",
                                    "FEROHELY": "3",
                                    "POTAGY": "0",
                                    "KLIMAS": "i",
                                    "panzio": "Nem"
                                },
                                {
                                    "SZOBA_ID": "185",
                                    "SZOBA_SZAMA": "21",
                                    "FEROHELY": "3",
                                    "POTAGY": "0",
                                    "KLIMAS": "i",
                                    "panzio": "Nem"
                                },
                                {
                                    "SZOBA_ID": "185",
                                    "SZOBA_SZAMA": "21",
                                    "FEROHELY": "3",
                                    "POTAGY": "0",
                                    "KLIMAS": "i",
                                    "panzio": "Nem"
                                },
                                {
                                    "SZOBA_ID": "185",
                                    "SZOBA_SZAMA": "21",
                                    "FEROHELY": "3",
                                    "POTAGY": "0",
                                    "KLIMAS": "i",
                                    "panzio": "Nem"
                                },
                                {
                                    "SZOBA_ID": "185",
                                    "SZOBA_SZAMA": "21",
                                    "FEROHELY": "3",
                                    "POTAGY": "0",
                                    "KLIMAS": "i",
                                    "panzio": "Nem"
                                },
                                {
                                    "SZOBA_ID": "185",
                                    "SZOBA_SZAMA": "21",
                                    "FEROHELY": "3",
                                    "POTAGY": "0",
                                    "KLIMAS": "i",
                                    "panzio": "Nem"
                                },
                                {
                                    "SZOBA_ID": "185",
                                    "SZOBA_SZAMA": "21",
                                    "FEROHELY": "3",
                                    "POTAGY": "0",
                                    "KLIMAS": "i",
                                    "panzio": "Nem"
                                },
                                {
                                    "SZOBA_ID": "185",
                                    "SZOBA_SZAMA": "21",
                                    "FEROHELY": "3",
                                    "POTAGY": "0",
                                    "KLIMAS": "i",
                                    "panzio": "Nem"
                                },
                                {
                                    "SZOBA_ID": "185",
                                    "SZOBA_SZAMA": "21",
                                    "FEROHELY": "3",
                                    "POTAGY": "0",
                                    "KLIMAS": "i",
                                    "panzio": "Nem"
                                },
                                {
                                    "SZOBA_ID": "186",
                                    "SZOBA_SZAMA": "22",
                                    "FEROHELY": "2",
                                    "POTAGY": "2",
                                    "KLIMAS": "i",
                                    "panzio": "Nem"
                                },
                                {
                                    "SZOBA_ID": "186",
                                    "SZOBA_SZAMA": "22",
                                    "FEROHELY": "2",
                                    "POTAGY": "2",
                                    "KLIMAS": "i",
                                    "panzio": "Nem"
                                },
                                {
                                    "SZOBA_ID": "186",
                                    "SZOBA_SZAMA": "22",
                                    "FEROHELY": "2",
                                    "POTAGY": "2",
                                    "KLIMAS": "i",
                                    "panzio": "Nem"
                                },
                                {
                                    "SZOBA_ID": "186",
                                    "SZOBA_SZAMA": "22",
                                    "FEROHELY": "2",
                                    "POTAGY": "2",
                                    "KLIMAS": "i",
                                    "panzio": "Nem"
                                },
                                {
                                    "SZOBA_ID": "187",
                                    "SZOBA_SZAMA": "23",
                                    "FEROHELY": "3",
                                    "POTAGY": "1",
                                    "KLIMAS": "i",
                                    "panzio": "Nem"
                                },
                                {
                                    "SZOBA_ID": "187",
                                    "SZOBA_SZAMA": "23",
                                    "FEROHELY": "3",
                                    "POTAGY": "1",
                                    "KLIMAS": "i",
                                    "panzio": "Nem"
                                },
                                {
                                    "SZOBA_ID": "187",
                                    "SZOBA_SZAMA": "23",
                                    "FEROHELY": "3",
                                    "POTAGY": "1",
                                    "KLIMAS": "i",
                                    "panzio": "Nem"
                                },
                                {
                                    "SZOBA_ID": "187",
                                    "SZOBA_SZAMA": "23",
                                    "FEROHELY": "3",
                                    "POTAGY": "1",
                                    "KLIMAS": "i",
                                    "panzio": "Nem"
                                },
                                {
                                    "SZOBA_ID": "187",
                                    "SZOBA_SZAMA": "23",
                                    "FEROHELY": "3",
                                    "POTAGY": "1",
                                    "KLIMAS": "i",
                                    "panzio": "Nem"
                                },
                                {
                                    "SZOBA_ID": "187",
                                    "SZOBA_SZAMA": "23",
                                    "FEROHELY": "3",
                                    "POTAGY": "1",
                                    "KLIMAS": "i",
                                    "panzio": "Nem"
                                },
                                {
                                    "SZOBA_ID": "187",
                                    "SZOBA_SZAMA": "23",
                                    "FEROHELY": "3",
                                    "POTAGY": "1",
                                    "KLIMAS": "i",
                                    "panzio": "Nem"
                                },
                                {
                                    "SZOBA_ID": "188",
                                    "SZOBA_SZAMA": "24",
                                    "FEROHELY": "3",
                                    "POTAGY": "0",
                                    "KLIMAS": "i",
                                    "panzio": "Nem"
                                },
                                {
                                    "SZOBA_ID": "188",
                                    "SZOBA_SZAMA": "24",
                                    "FEROHELY": "3",
                                    "POTAGY": "0",
                                    "KLIMAS": "i",
                                    "panzio": "Nem"
                                },
                                {
                                    "SZOBA_ID": "188",
                                    "SZOBA_SZAMA": "24",
                                    "FEROHELY": "3",
                                    "POTAGY": "0",
                                    "KLIMAS": "i",
                                    "panzio": "Nem"
                                },
                                {
                                    "SZOBA_ID": "188",
                                    "SZOBA_SZAMA": "24",
                                    "FEROHELY": "3",
                                    "POTAGY": "0",
                                    "KLIMAS": "i",
                                    "panzio": "Nem"
                                },
                                {
                                    "SZOBA_ID": "188",
                                    "SZOBA_SZAMA": "24",
                                    "FEROHELY": "3",
                                    "POTAGY": "0",
                                    "KLIMAS": "i",
                                    "panzio": "Nem"
                                },
                                {
                                    "SZOBA_ID": "188",
                                    "SZOBA_SZAMA": "24",
                                    "FEROHELY": "3",
                                    "POTAGY": "0",
                                    "KLIMAS": "i",
                                    "panzio": "Nem"
                                },
                                {
                                    "SZOBA_ID": "189",
                                    "SZOBA_SZAMA": "25",
                                    "FEROHELY": "2",
                                    "POTAGY": "2",
                                    "KLIMAS": "i",
                                    "panzio": "Nem"
                                },
                                {
                                    "SZOBA_ID": "189",
                                    "SZOBA_SZAMA": "25",
                                    "FEROHELY": "2",
                                    "POTAGY": "2",
                                    "KLIMAS": "i",
                                    "panzio": "Nem"
                                },
                                {
                                    "SZOBA_ID": "189",
                                    "SZOBA_SZAMA": "25",
                                    "FEROHELY": "2",
                                    "POTAGY": "2",
                                    "KLIMAS": "i",
                                    "panzio": "Nem"
                                },
                                {
                                    "SZOBA_ID": "189",
                                    "SZOBA_SZAMA": "25",
                                    "FEROHELY": "2",
                                    "POTAGY": "2",
                                    "KLIMAS": "i",
                                    "panzio": "Nem"
                                },
                                {
                                    "SZOBA_ID": "189",
                                    "SZOBA_SZAMA": "25",
                                    "FEROHELY": "2",
                                    "POTAGY": "2",
                                    "KLIMAS": "i",
                                    "panzio": "Nem"
                                },
                                {
                                    "SZOBA_ID": "190",
                                    "SZOBA_SZAMA": "26",
                                    "FEROHELY": "2",
                                    "POTAGY": "0",
                                    "KLIMAS": "i",
                                    "panzio": "Nem"
                                },
                                {
                                    "SZOBA_ID": "190",
                                    "SZOBA_SZAMA": "26",
                                    "FEROHELY": "2",
                                    "POTAGY": "0",
                                    "KLIMAS": "i",
                                    "panzio": "Nem"
                                },
                                {
                                    "SZOBA_ID": "190",
                                    "SZOBA_SZAMA": "26",
                                    "FEROHELY": "2",
                                    "POTAGY": "0",
                                    "KLIMAS": "i",
                                    "panzio": "Nem"
                                },
                                {
                                    "SZOBA_ID": "190",
                                    "SZOBA_SZAMA": "26",
                                    "FEROHELY": "2",
                                    "POTAGY": "0",
                                    "KLIMAS": "i",
                                    "panzio": "Nem"
                                },
                                {
                                    "SZOBA_ID": "190",
                                    "SZOBA_SZAMA": "26",
                                    "FEROHELY": "2",
                                    "POTAGY": "0",
                                    "KLIMAS": "i",
                                    "panzio": "Nem"
                                },
                                {
                                    "SZOBA_ID": "191",
                                    "SZOBA_SZAMA": "27",
                                    "FEROHELY": "2",
                                    "POTAGY": "1",
                                    "KLIMAS": "i",
                                    "panzio": "Nem"
                                },
                                {
                                    "SZOBA_ID": "191",
                                    "SZOBA_SZAMA": "27",
                                    "FEROHELY": "2",
                                    "POTAGY": "1",
                                    "KLIMAS": "i",
                                    "panzio": "Nem"
                                },
                                {
                                    "SZOBA_ID": "191",
                                    "SZOBA_SZAMA": "27",
                                    "FEROHELY": "2",
                                    "POTAGY": "1",
                                    "KLIMAS": "i",
                                    "panzio": "Nem"
                                },
                                {
                                    "SZOBA_ID": "191",
                                    "SZOBA_SZAMA": "27",
                                    "FEROHELY": "2",
                                    "POTAGY": "1",
                                    "KLIMAS": "i",
                                    "panzio": "Nem"
                                },
                                {
                                    "SZOBA_ID": "191",
                                    "SZOBA_SZAMA": "27",
                                    "FEROHELY": "2",
                                    "POTAGY": "1",
                                    "KLIMAS": "i",
                                    "panzio": "Nem"
                                },
                                {
                                    "SZOBA_ID": "192",
                                    "SZOBA_SZAMA": "28",
                                    "FEROHELY": "2",
                                    "POTAGY": "1",
                                    "KLIMAS": "i",
                                    "panzio": "Nem"
                                },
                                {
                                    "SZOBA_ID": "192",
                                    "SZOBA_SZAMA": "28",
                                    "FEROHELY": "2",
                                    "POTAGY": "1",
                                    "KLIMAS": "i",
                                    "panzio": "Nem"
                                },
                                {
                                    "SZOBA_ID": "193",
                                    "SZOBA_SZAMA": "29",
                                    "FEROHELY": "3",
                                    "POTAGY": "2",
                                    "KLIMAS": "n",
                                    "panzio": "Nem"
                                },
                                {
                                    "SZOBA_ID": "193",
                                    "SZOBA_SZAMA": "29",
                                    "FEROHELY": "3",
                                    "POTAGY": "2",
                                    "KLIMAS": "n",
                                    "panzio": "Nem"
                                },
                                {
                                    "SZOBA_ID": "193",
                                    "SZOBA_SZAMA": "29",
                                    "FEROHELY": "3",
                                    "POTAGY": "2",
                                    "KLIMAS": "n",
                                    "panzio": "Nem"
                                },
                                {
                                    "SZOBA_ID": "193",
                                    "SZOBA_SZAMA": "29",
                                    "FEROHELY": "3",
                                    "POTAGY": "2",
                                    "KLIMAS": "n",
                                    "panzio": "Nem"
                                },
                                {
                                    "SZOBA_ID": "193",
                                    "SZOBA_SZAMA": "29",
                                    "FEROHELY": "3",
                                    "POTAGY": "2",
                                    "KLIMAS": "n",
                                    "panzio": "Nem"
                                },
                                {
                                    "SZOBA_ID": "193",
                                    "SZOBA_SZAMA": "29",
                                    "FEROHELY": "3",
                                    "POTAGY": "2",
                                    "KLIMAS": "n",
                                    "panzio": "Nem"
                                },
                                {
                                    "SZOBA_ID": "193",
                                    "SZOBA_SZAMA": "29",
                                    "FEROHELY": "3",
                                    "POTAGY": "2",
                                    "KLIMAS": "n",
                                    "panzio": "Nem"
                                },
                                {
                                    "SZOBA_ID": "194",
                                    "SZOBA_SZAMA": "30",
                                    "FEROHELY": "2",
                                    "POTAGY": "1",
                                    "KLIMAS": "i",
                                    "panzio": "Nem"
                                },
                                {
                                    "SZOBA_ID": "195",
                                    "SZOBA_SZAMA": "31",
                                    "FEROHELY": "2",
                                    "POTAGY": "0",
                                    "KLIMAS": "i",
                                    "panzio": "Nem"
                                },
                                {
                                    "SZOBA_ID": "195",
                                    "SZOBA_SZAMA": "31",
                                    "FEROHELY": "2",
                                    "POTAGY": "0",
                                    "KLIMAS": "i",
                                    "panzio": "Nem"
                                },
                                {
                                    "SZOBA_ID": "195",
                                    "SZOBA_SZAMA": "31",
                                    "FEROHELY": "2",
                                    "POTAGY": "0",
                                    "KLIMAS": "i",
                                    "panzio": "Nem"
                                },
                                {
                                    "SZOBA_ID": "195",
                                    "SZOBA_SZAMA": "31",
                                    "FEROHELY": "2",
                                    "POTAGY": "0",
                                    "KLIMAS": "i",
                                    "panzio": "Nem"
                                },
                                {
                                    "SZOBA_ID": "195",
                                    "SZOBA_SZAMA": "31",
                                    "FEROHELY": "2",
                                    "POTAGY": "0",
                                    "KLIMAS": "i",
                                    "panzio": "Nem"
                                },
                                {
                                    "SZOBA_ID": "195",
                                    "SZOBA_SZAMA": "31",
                                    "FEROHELY": "2",
                                    "POTAGY": "0",
                                    "KLIMAS": "i",
                                    "panzio": "Nem"
                                },
                                {
                                    "SZOBA_ID": "196",
                                    "SZOBA_SZAMA": "32",
                                    "FEROHELY": "2",
                                    "POTAGY": "1",
                                    "KLIMAS": "i",
                                    "panzio": "Nem"
                                },
                                {
                                    "SZOBA_ID": "196",
                                    "SZOBA_SZAMA": "32",
                                    "FEROHELY": "2",
                                    "POTAGY": "1",
                                    "KLIMAS": "i",
                                    "panzio": "Nem"
                                },
                                {
                                    "SZOBA_ID": "196",
                                    "SZOBA_SZAMA": "32",
                                    "FEROHELY": "2",
                                    "POTAGY": "1",
                                    "KLIMAS": "i",
                                    "panzio": "Nem"
                                },
                                {
                                    "SZOBA_ID": "196",
                                    "SZOBA_SZAMA": "32",
                                    "FEROHELY": "2",
                                    "POTAGY": "1",
                                    "KLIMAS": "i",
                                    "panzio": "Nem"
                                },
                                {
                                    "SZOBA_ID": "197",
                                    "SZOBA_SZAMA": "33",
                                    "FEROHELY": "3",
                                    "POTAGY": "0",
                                    "KLIMAS": "i",
                                    "panzio": "Nem"
                                },
                                {
                                    "SZOBA_ID": "197",
                                    "SZOBA_SZAMA": "33",
                                    "FEROHELY": "3",
                                    "POTAGY": "0",
                                    "KLIMAS": "i",
                                    "panzio": "Nem"
                                },
                                {
                                    "SZOBA_ID": "197",
                                    "SZOBA_SZAMA": "33",
                                    "FEROHELY": "3",
                                    "POTAGY": "0",
                                    "KLIMAS": "i",
                                    "panzio": "Nem"
                                },
                                {
                                    "SZOBA_ID": "197",
                                    "SZOBA_SZAMA": "33",
                                    "FEROHELY": "3",
                                    "POTAGY": "0",
                                    "KLIMAS": "i",
                                    "panzio": "Nem"
                                },
                                {
                                    "SZOBA_ID": "197",
                                    "SZOBA_SZAMA": "33",
                                    "FEROHELY": "3",
                                    "POTAGY": "0",
                                    "KLIMAS": "i",
                                    "panzio": "Nem"
                                },
                                {
                                    "SZOBA_ID": "197",
                                    "SZOBA_SZAMA": "33",
                                    "FEROHELY": "3",
                                    "POTAGY": "0",
                                    "KLIMAS": "i",
                                    "panzio": "Nem"
                                },
                                {
                                    "SZOBA_ID": "198",
                                    "SZOBA_SZAMA": "34",
                                    "FEROHELY": "3",
                                    "POTAGY": "0",
                                    "KLIMAS": "i",
                                    "panzio": "Nem"
                                },
                                {
                                    "SZOBA_ID": "198",
                                    "SZOBA_SZAMA": "34",
                                    "FEROHELY": "3",
                                    "POTAGY": "0",
                                    "KLIMAS": "i",
                                    "panzio": "Nem"
                                },
                                {
                                    "SZOBA_ID": "198",
                                    "SZOBA_SZAMA": "34",
                                    "FEROHELY": "3",
                                    "POTAGY": "0",
                                    "KLIMAS": "i",
                                    "panzio": "Nem"
                                },
                                {
                                    "SZOBA_ID": "198",
                                    "SZOBA_SZAMA": "34",
                                    "FEROHELY": "3",
                                    "POTAGY": "0",
                                    "KLIMAS": "i",
                                    "panzio": "Nem"
                                },
                                {
                                    "SZOBA_ID": "198",
                                    "SZOBA_SZAMA": "34",
                                    "FEROHELY": "3",
                                    "POTAGY": "0",
                                    "KLIMAS": "i",
                                    "panzio": "Nem"
                                },
                                {
                                    "SZOBA_ID": "198",
                                    "SZOBA_SZAMA": "34",
                                    "FEROHELY": "3",
                                    "POTAGY": "0",
                                    "KLIMAS": "i",
                                    "panzio": "Nem"
                                },
                                {
                                    "SZOBA_ID": "198",
                                    "SZOBA_SZAMA": "34",
                                    "FEROHELY": "3",
                                    "POTAGY": "0",
                                    "KLIMAS": "i",
                                    "panzio": "Nem"
                                },
                                {
                                    "SZOBA_ID": "198",
                                    "SZOBA_SZAMA": "34",
                                    "FEROHELY": "3",
                                    "POTAGY": "0",
                                    "KLIMAS": "i",
                                    "panzio": "Nem"
                                },
                                {
                                    "SZOBA_ID": "199",
                                    "SZOBA_SZAMA": "35",
                                    "FEROHELY": "3",
                                    "POTAGY": "2",
                                    "KLIMAS": "i",
                                    "panzio": "Nem"
                                },
                                {
                                    "SZOBA_ID": "200",
                                    "SZOBA_SZAMA": "36",
                                    "FEROHELY": "2",
                                    "POTAGY": "0",
                                    "KLIMAS": "i",
                                    "panzio": "Nem"
                                },
                                {
                                    "SZOBA_ID": "201",
                                    "SZOBA_SZAMA": "37",
                                    "FEROHELY": "3",
                                    "POTAGY": "1",
                                    "KLIMAS": "n",
                                    "panzio": "Nem"
                                },
                                {
                                    "SZOBA_ID": "202",
                                    "SZOBA_SZAMA": "38",
                                    "FEROHELY": "3",
                                    "POTAGY": "1",
                                    "KLIMAS": "i",
                                    "panzio": "Nem"
                                },
                                {
                                    "SZOBA_ID": "203",
                                    "SZOBA_SZAMA": "39",
                                    "FEROHELY": "3",
                                    "POTAGY": "0",
                                    "KLIMAS": "i",
                                    "panzio": "Nem"
                                },
                                {
                                    "SZOBA_ID": "204",
                                    "SZOBA_SZAMA": "40",
                                    "FEROHELY": "3",
                                    "POTAGY": "1",
                                    "KLIMAS": "i",
                                    "panzio": "Nem"
                                },
                                {
                                    "SZOBA_ID": "205",
                                    "SZOBA_SZAMA": "41",
                                    "FEROHELY": "3",
                                    "POTAGY": "0",
                                    "KLIMAS": "i",
                                    "panzio": "Nem"
                                },
                                {
                                    "SZOBA_ID": "206",
                                    "SZOBA_SZAMA": "42",
                                    "FEROHELY": "2",
                                    "POTAGY": "1",
                                    "KLIMAS": "i",
                                    "panzio": "Nem"
                                },
                                {
                                    "SZOBA_ID": "207",
                                    "SZOBA_SZAMA": "43",
                                    "FEROHELY": "2",
                                    "POTAGY": "1",
                                    "KLIMAS": "i",
                                    "panzio": "Nem"
                                },
                                {
                                    "SZOBA_ID": "208",
                                    "SZOBA_SZAMA": "44",
                                    "FEROHELY": "2",
                                    "POTAGY": "1",
                                    "KLIMAS": "i",
                                    "panzio": "Nem"
                                },
                                {
                                    "SZOBA_ID": "209",
                                    "SZOBA_SZAMA": "45",
                                    "FEROHELY": "3",
                                    "POTAGY": "2",
                                    "KLIMAS": "n",
                                    "panzio": "Nem"
                                },
                                {
                                    "SZOBA_ID": "210",
                                    "SZOBA_SZAMA": "46",
                                    "FEROHELY": "2",
                                    "POTAGY": "0",
                                    "KLIMAS": "i",
                                    "panzio": "Nem"
                                },
                                {
                                    "SZOBA_ID": "211",
                                    "SZOBA_SZAMA": "47",
                                    "FEROHELY": "2",
                                    "POTAGY": "1",
                                    "KLIMAS": "i",
                                    "panzio": "Nem"
                                },
                                {
                                    "SZOBA_ID": "212",
                                    "SZOBA_SZAMA": "48",
                                    "FEROHELY": "3",
                                    "POTAGY": "0",
                                    "KLIMAS": "n",
                                    "panzio": "Nem"
                                },
                                {
                                    "SZOBA_ID": "213",
                                    "SZOBA_SZAMA": "49",
                                    "FEROHELY": "3",
                                    "POTAGY": "0",
                                    "KLIMAS": "i",
                                    "panzio": "Nem"
                                },
                                {
                                    "SZOBA_ID": "214",
                                    "SZOBA_SZAMA": "50",
                                    "FEROHELY": "3",
                                    "POTAGY": "1",
                                    "KLIMAS": "i",
                                    "panzio": "Nem"
                                },
                                {
                                    "SZOBA_ID": "215",
                                    "SZOBA_SZAMA": "1",
                                    "FEROHELY": "2",
                                    "POTAGY": "1",
                                    "KLIMAS": "i",
                                    "panzio": "Nem"
                                },
                                {
                                    "SZOBA_ID": "216",
                                    "SZOBA_SZAMA": "2",
                                    "FEROHELY": "3",
                                    "POTAGY": "1",
                                    "KLIMAS": "i",
                                    "panzio": "Nem"
                                },
                                {
                                    "SZOBA_ID": "217",
                                    "SZOBA_SZAMA": "3",
                                    "FEROHELY": "2",
                                    "POTAGY": "1",
                                    "KLIMAS": "n",
                                    "panzio": "Nem"
                                },
                                {
                                    "SZOBA_ID": "218",
                                    "SZOBA_SZAMA": "4",
                                    "FEROHELY": "3",
                                    "POTAGY": "0",
                                    "KLIMAS": "i",
                                    "panzio": "Nem"
                                },
                                {
                                    "SZOBA_ID": "219",
                                    "SZOBA_SZAMA": "5",
                                    "FEROHELY": "2",
                                    "POTAGY": "0",
                                    "KLIMAS": "n",
                                    "panzio": "Nem"
                                },
                                {
                                    "SZOBA_ID": "219",
                                    "SZOBA_SZAMA": "5",
                                    "FEROHELY": "2",
                                    "POTAGY": "0",
                                    "KLIMAS": "n",
                                    "panzio": "Nem"
                                },
                                {
                                    "SZOBA_ID": "220",
                                    "SZOBA_SZAMA": "6",
                                    "FEROHELY": "3",
                                    "POTAGY": "0",
                                    "KLIMAS": "i",
                                    "panzio": "Nem"
                                },
                                {
                                    "SZOBA_ID": "221",
                                    "SZOBA_SZAMA": "7",
                                    "FEROHELY": "3",
                                    "POTAGY": "0",
                                    "KLIMAS": "i",
                                    "panzio": "Nem"
                                },
                                {
                                    "SZOBA_ID": "222",
                                    "SZOBA_SZAMA": "8",
                                    "FEROHELY": "2",
                                    "POTAGY": "0",
                                    "KLIMAS": "n",
                                    "panzio": "Nem"
                                },
                                {
                                    "SZOBA_ID": "223",
                                    "SZOBA_SZAMA": "9",
                                    "FEROHELY": "2",
                                    "POTAGY": "1",
                                    "KLIMAS": "i",
                                    "panzio": "Nem"
                                },
                                {
                                    "SZOBA_ID": "224",
                                    "SZOBA_SZAMA": "10",
                                    "FEROHELY": "2",
                                    "POTAGY": "0",
                                    "KLIMAS": "i",
                                    "panzio": "Nem"
                                },
                                {
                                    "SZOBA_ID": "225",
                                    "SZOBA_SZAMA": "11",
                                    "FEROHELY": "2",
                                    "POTAGY": "1",
                                    "KLIMAS": "i",
                                    "panzio": "Nem"
                                },
                                {
                                    "SZOBA_ID": "226",
                                    "SZOBA_SZAMA": "12",
                                    "FEROHELY": "3",
                                    "POTAGY": "1",
                                    "KLIMAS": "n",
                                    "panzio": "Nem"
                                },
                                {
                                    "SZOBA_ID": "227",
                                    "SZOBA_SZAMA": "1",
                                    "FEROHELY": "2",
                                    "POTAGY": "1",
                                    "KLIMAS": "i",
                                    "panzio": "Nem"
                                },
                                {
                                    "SZOBA_ID": "228",
                                    "SZOBA_SZAMA": "2",
                                    "FEROHELY": "3",
                                    "POTAGY": "0",
                                    "KLIMAS": "i",
                                    "panzio": "Nem"
                                },
                                {
                                    "SZOBA_ID": "229",
                                    "SZOBA_SZAMA": "3",
                                    "FEROHELY": "2",
                                    "POTAGY": "0",
                                    "KLIMAS": "i",
                                    "panzio": "Nem"
                                },
                                {
                                    "SZOBA_ID": "230",
                                    "SZOBA_SZAMA": "4",
                                    "FEROHELY": "3",
                                    "POTAGY": "2",
                                    "KLIMAS": "i",
                                    "panzio": "Nem"
                                },
                                {
                                    "SZOBA_ID": "231",
                                    "SZOBA_SZAMA": "1",
                                    "FEROHELY": "2",
                                    "POTAGY": "0",
                                    "KLIMAS": "i",
                                    "panzio": "Nem"
                                },
                                {
                                    "SZOBA_ID": "232",
                                    "SZOBA_SZAMA": "2",
                                    "FEROHELY": "2",
                                    "POTAGY": "0",
                                    "KLIMAS": "i",
                                    "panzio": "Nem"
                                },
                                {
                                    "SZOBA_ID": "233",
                                    "SZOBA_SZAMA": "3",
                                    "FEROHELY": "3",
                                    "POTAGY": "0",
                                    "KLIMAS": "n",
                                    "panzio": "Nem"
                                },
                                {
                                    "SZOBA_ID": "234",
                                    "SZOBA_SZAMA": "4",
                                    "FEROHELY": "3",
                                    "POTAGY": "1",
                                    "KLIMAS": "i",
                                    "panzio": "Nem"
                                },
                                {
                                    "SZOBA_ID": "235",
                                    "SZOBA_SZAMA": "5",
                                    "FEROHELY": "3",
                                    "POTAGY": "0",
                                    "KLIMAS": "i",
                                    "panzio": "Nem"
                                },
                                {
                                    "SZOBA_ID": "236",
                                    "SZOBA_SZAMA": "6",
                                    "FEROHELY": "3",
                                    "POTAGY": "1",
                                    "KLIMAS": "n",
                                    "panzio": "Nem"
                                },
                                {
                                    "SZOBA_ID": "237",
                                    "SZOBA_SZAMA": "7",
                                    "FEROHELY": "2",
                                    "POTAGY": "2",
                                    "KLIMAS": "n",
                                    "panzio": "Nem"
                                },
                                {
                                    "SZOBA_ID": "238",
                                    "SZOBA_SZAMA": "8",
                                    "FEROHELY": "3",
                                    "POTAGY": "1",
                                    "KLIMAS": "i",
                                    "panzio": "Nem"
                                },
                                {
                                    "SZOBA_ID": "239",
                                    "SZOBA_SZAMA": "9",
                                    "FEROHELY": "2",
                                    "POTAGY": "2",
                                    "KLIMAS": "i",
                                    "panzio": "Nem"
                                },
                                {
                                    "SZOBA_ID": "240",
                                    "SZOBA_SZAMA": "10",
                                    "FEROHELY": "3",
                                    "POTAGY": "0",
                                    "KLIMAS": "i",
                                    "panzio": "Nem"
                                },
                                {
                                    "SZOBA_ID": "241",
                                    "SZOBA_SZAMA": "11",
                                    "FEROHELY": "2",
                                    "POTAGY": "0",
                                    "KLIMAS": "i",
                                    "panzio": "Nem"
                                },
                                {
                                    "SZOBA_ID": "242",
                                    "SZOBA_SZAMA": "12",
                                    "FEROHELY": "2",
                                    "POTAGY": "1",
                                    "KLIMAS": "i",
                                    "panzio": "Nem"
                                },
                                {
                                    "SZOBA_ID": "243",
                                    "SZOBA_SZAMA": "1",
                                    "FEROHELY": "2",
                                    "POTAGY": "0",
                                    "KLIMAS": "i",
                                    "panzio": "Nem"
                                },
                                {
                                    "SZOBA_ID": "244",
                                    "SZOBA_SZAMA": "2",
                                    "FEROHELY": "2",
                                    "POTAGY": "1",
                                    "KLIMAS": "i",
                                    "panzio": "Nem"
                                },
                                {
                                    "SZOBA_ID": "245",
                                    "SZOBA_SZAMA": "3",
                                    "FEROHELY": "2",
                                    "POTAGY": "1",
                                    "KLIMAS": "i",
                                    "panzio": "Nem"
                                },
                                {
                                    "SZOBA_ID": "246",
                                    "SZOBA_SZAMA": "4",
                                    "FEROHELY": "2",
                                    "POTAGY": "0",
                                    "KLIMAS": "i",
                                    "panzio": "Nem"
                                },
                                {
                                    "SZOBA_ID": "247",
                                    "SZOBA_SZAMA": "5",
                                    "FEROHELY": "2",
                                    "POTAGY": "0",
                                    "KLIMAS": "i",
                                    "panzio": "Nem"
                                },
                                {
                                    "SZOBA_ID": "248",
                                    "SZOBA_SZAMA": "6",
                                    "FEROHELY": "2",
                                    "POTAGY": "2",
                                    "KLIMAS": "i",
                                    "panzio": "Nem"
                                },
                                {
                                    "SZOBA_ID": "249",
                                    "SZOBA_SZAMA": "7",
                                    "FEROHELY": "2",
                                    "POTAGY": "1",
                                    "KLIMAS": "n",
                                    "panzio": "Nem"
                                },
                                {
                                    "SZOBA_ID": "250",
                                    "SZOBA_SZAMA": "8",
                                    "FEROHELY": "3",
                                    "POTAGY": "1",
                                    "KLIMAS": "n",
                                    "panzio": "Nem"
                                },
                                {
                                    "SZOBA_ID": "251",
                                    "SZOBA_SZAMA": "9",
                                    "FEROHELY": "3",
                                    "POTAGY": "0",
                                    "KLIMAS": "n",
                                    "panzio": "Nem"
                                },
                                {
                                    "SZOBA_ID": "252",
                                    "SZOBA_SZAMA": "10",
                                    "FEROHELY": "3",
                                    "POTAGY": "1",
                                    "KLIMAS": "i",
                                    "panzio": "Nem"
                                },
                                {
                                    "SZOBA_ID": "253",
                                    "SZOBA_SZAMA": "11",
                                    "FEROHELY": "2",
                                    "POTAGY": "0",
                                    "KLIMAS": "i",
                                    "panzio": "Nem"
                                },
                                {
                                    "SZOBA_ID": "254",
                                    "SZOBA_SZAMA": "12",
                                    "FEROHELY": "2",
                                    "POTAGY": "0",
                                    "KLIMAS": "i",
                                    "panzio": "Nem"
                                },
                                {
                                    "SZOBA_ID": "255",
                                    "SZOBA_SZAMA": "13",
                                    "FEROHELY": "3",
                                    "POTAGY": "0",
                                    "KLIMAS": "n",
                                    "panzio": "Nem"
                                },
                                {
                                    "SZOBA_ID": "256",
                                    "SZOBA_SZAMA": "14",
                                    "FEROHELY": "3",
                                    "POTAGY": "1",
                                    "KLIMAS": "i",
                                    "panzio": "Nem"
                                },
                                {
                                    "SZOBA_ID": "257",
                                    "SZOBA_SZAMA": "15",
                                    "FEROHELY": "2",
                                    "POTAGY": "0",
                                    "KLIMAS": "i",
                                    "panzio": "Nem"
                                },
                                {
                                    "SZOBA_ID": "258",
                                    "SZOBA_SZAMA": "16",
                                    "FEROHELY": "2",
                                    "POTAGY": "0",
                                    "KLIMAS": "i",
                                    "panzio": "Nem"
                                },
                                {
                                    "SZOBA_ID": "259",
                                    "SZOBA_SZAMA": "17",
                                    "FEROHELY": "2",
                                    "POTAGY": "0",
                                    "KLIMAS": "i",
                                    "panzio": "Nem"
                                },
                                {
                                    "SZOBA_ID": "260",
                                    "SZOBA_SZAMA": "18",
                                    "FEROHELY": "2",
                                    "POTAGY": "0",
                                    "KLIMAS": "i",
                                    "panzio": "Nem"
                                },
                                {
                                    "SZOBA_ID": "261",
                                    "SZOBA_SZAMA": "19",
                                    "FEROHELY": "1",
                                    "POTAGY": "1",
                                    "KLIMAS": "n",
                                    "panzio": "Nem"
                                },
                                {
                                    "SZOBA_ID": "262",
                                    "SZOBA_SZAMA": "20",
                                    "FEROHELY": "1",
                                    "POTAGY": "0",
                                    "KLIMAS": "n",
                                    "panzio": "Nem"
                                },
                                {
                                    "SZOBA_ID": "263",
                                    "SZOBA_SZAMA": "1",
                                    "FEROHELY": "2",
                                    "POTAGY": "2",
                                    "KLIMAS": "i",
                                    "panzio": "Nem"
                                },
                                {
                                    "SZOBA_ID": "264",
                                    "SZOBA_SZAMA": "2",
                                    "FEROHELY": "3",
                                    "POTAGY": "0",
                                    "KLIMAS": "i",
                                    "panzio": "Nem"
                                },
                                {
                                    "SZOBA_ID": "265",
                                    "SZOBA_SZAMA": "3",
                                    "FEROHELY": "3",
                                    "POTAGY": "0",
                                    "KLIMAS": "i",
                                    "panzio": "Nem"
                                },
                                {
                                    "SZOBA_ID": "266",
                                    "SZOBA_SZAMA": "4",
                                    "FEROHELY": "2",
                                    "POTAGY": "1",
                                    "KLIMAS": "i",
                                    "panzio": "Nem"
                                },
                                {
                                    "SZOBA_ID": "267",
                                    "SZOBA_SZAMA": "5",
                                    "FEROHELY": "2",
                                    "POTAGY": "1",
                                    "KLIMAS": "n",
                                    "panzio": "Nem"
                                },
                                {
                                    "SZOBA_ID": "268",
                                    "SZOBA_SZAMA": "6",
                                    "FEROHELY": "2",
                                    "POTAGY": "2",
                                    "KLIMAS": "n",
                                    "panzio": "Nem"
                                },
                                {
                                    "SZOBA_ID": "269",
                                    "SZOBA_SZAMA": "7",
                                    "FEROHELY": "2",
                                    "POTAGY": "1",
                                    "KLIMAS": "i",
                                    "panzio": "Nem"
                                },
                                {
                                    "SZOBA_ID": "270",
                                    "SZOBA_SZAMA": "8",
                                    "FEROHELY": "3",
                                    "POTAGY": "0",
                                    "KLIMAS": "n",
                                    "panzio": "Nem"
                                },
                                {
                                    "SZOBA_ID": "271",
                                    "SZOBA_SZAMA": "9",
                                    "FEROHELY": "3",
                                    "POTAGY": "0",
                                    "KLIMAS": "i",
                                    "panzio": "Nem"
                                },
                                {
                                    "SZOBA_ID": "272",
                                    "SZOBA_SZAMA": "10",
                                    "FEROHELY": "3",
                                    "POTAGY": "0",
                                    "KLIMAS": "i",
                                    "panzio": "Nem"
                                },
                                {
                                    "SZOBA_ID": "273",
                                    "SZOBA_SZAMA": "11",
                                    "FEROHELY": "2",
                                    "POTAGY": "1",
                                    "KLIMAS": "i",
                                    "panzio": "Nem"
                                },
                                {
                                    "SZOBA_ID": "274",
                                    "SZOBA_SZAMA": "12",
                                    "FEROHELY": "3",
                                    "POTAGY": "1",
                                    "KLIMAS": "i",
                                    "panzio": "Nem"
                                },
                                {
                                    "SZOBA_ID": "275",
                                    "SZOBA_SZAMA": "13",
                                    "FEROHELY": "2",
                                    "POTAGY": "1",
                                    "KLIMAS": "n",
                                    "panzio": "Nem"
                                },
                                {
                                    "SZOBA_ID": "276",
                                    "SZOBA_SZAMA": "14",
                                    "FEROHELY": "2",
                                    "POTAGY": "0",
                                    "KLIMAS": "i",
                                    "panzio": "Nem"
                                },
                                {
                                    "SZOBA_ID": "277",
                                    "SZOBA_SZAMA": "15",
                                    "FEROHELY": "2",
                                    "POTAGY": "0",
                                    "KLIMAS": "i",
                                    "panzio": "Nem"
                                },
                                {
                                    "SZOBA_ID": "278",
                                    "SZOBA_SZAMA": "1",
                                    "FEROHELY": "3",
                                    "POTAGY": "1",
                                    "KLIMAS": "i",
                                    "panzio": "Nem"
                                },
                                {
                                    "SZOBA_ID": "279",
                                    "SZOBA_SZAMA": "2",
                                    "FEROHELY": "2",
                                    "POTAGY": "1",
                                    "KLIMAS": "i",
                                    "panzio": "Nem"
                                },
                                {
                                    "SZOBA_ID": "280",
                                    "SZOBA_SZAMA": "3",
                                    "FEROHELY": "3",
                                    "POTAGY": "0",
                                    "KLIMAS": "n",
                                    "panzio": "Nem"
                                },
                                {
                                    "SZOBA_ID": "281",
                                    "SZOBA_SZAMA": "1",
                                    "FEROHELY": "2",
                                    "POTAGY": "0",
                                    "KLIMAS": "n",
                                    "panzio": "Nem"
                                },
                                {
                                    "SZOBA_ID": "282",
                                    "SZOBA_SZAMA": "2",
                                    "FEROHELY": "2",
                                    "POTAGY": "0",
                                    "KLIMAS": "i",
                                    "panzio": "Nem"
                                },
                                {
                                    "SZOBA_ID": "283",
                                    "SZOBA_SZAMA": "3",
                                    "FEROHELY": "2",
                                    "POTAGY": "0",
                                    "KLIMAS": "n",
                                    "panzio": "Nem"
                                },
                                {
                                    "SZOBA_ID": "284",
                                    "SZOBA_SZAMA": "4",
                                    "FEROHELY": "2",
                                    "POTAGY": "2",
                                    "KLIMAS": "i",
                                    "panzio": "Nem"
                                },
                                {
                                    "SZOBA_ID": "285",
                                    "SZOBA_SZAMA": "1",
                                    "FEROHELY": "2",
                                    "POTAGY": "1",
                                    "KLIMAS": "i",
                                    "panzio": "Nem"
                                },
                                {
                                    "SZOBA_ID": "286",
                                    "SZOBA_SZAMA": "2",
                                    "FEROHELY": "3",
                                    "POTAGY": "0",
                                    "KLIMAS": "i",
                                    "panzio": "Nem"
                                },
                                {
                                    "SZOBA_ID": "287",
                                    "SZOBA_SZAMA": "3",
                                    "FEROHELY": "3",
                                    "POTAGY": "0",
                                    "KLIMAS": "n",
                                    "panzio": "Nem"
                                },
                                {
                                    "SZOBA_ID": "288",
                                    "SZOBA_SZAMA": "4",
                                    "FEROHELY": "2",
                                    "POTAGY": "1",
                                    "KLIMAS": "i",
                                    "panzio": "Nem"
                                },
                                {
                                    "SZOBA_ID": "289",
                                    "SZOBA_SZAMA": "5",
                                    "FEROHELY": "3",
                                    "POTAGY": "0",
                                    "KLIMAS": "i",
                                    "panzio": "Nem"
                                },
                                {
                                    "SZOBA_ID": "290",
                                    "SZOBA_SZAMA": "6",
                                    "FEROHELY": "2",
                                    "POTAGY": "1",
                                    "KLIMAS": "i",
                                    "panzio": "Nem"
                                },
                                {
                                    "SZOBA_ID": "291",
                                    "SZOBA_SZAMA": "7",
                                    "FEROHELY": "2",
                                    "POTAGY": "1",
                                    "KLIMAS": "i",
                                    "panzio": "Nem"
                                },
                                {
                                    "SZOBA_ID": "292",
                                    "SZOBA_SZAMA": "8",
                                    "FEROHELY": "2",
                                    "POTAGY": "1",
                                    "KLIMAS": "i",
                                    "panzio": "Nem"
                                },
                                {
                                    "SZOBA_ID": "293",
                                    "SZOBA_SZAMA": "9",
                                    "FEROHELY": "2",
                                    "POTAGY": "1",
                                    "KLIMAS": "i",
                                    "panzio": "Nem"
                                },
                                {
                                    "SZOBA_ID": "294",
                                    "SZOBA_SZAMA": "10",
                                    "FEROHELY": "3",
                                    "POTAGY": "0",
                                    "KLIMAS": "i",
                                    "panzio": "Nem"
                                }
                            ]
                        },
                        "text/html": [
                            "<table>",
                            "<tr><th>SZOBA_ID</th><th>SZOBA_SZAMA</th><th>FEROHELY</th><th>POTAGY</th><th>KLIMAS</th><th>panzio</th></tr>",
                            "<tr><td>1</td><td>1</td><td>3</td><td>0</td><td>n</td><td>Nem</td></tr>",
                            "<tr><td>1</td><td>1</td><td>3</td><td>0</td><td>n</td><td>Nem</td></tr>",
                            "<tr><td>1</td><td>1</td><td>3</td><td>0</td><td>n</td><td>Nem</td></tr>",
                            "<tr><td>1</td><td>1</td><td>3</td><td>0</td><td>n</td><td>Nem</td></tr>",
                            "<tr><td>1</td><td>1</td><td>3</td><td>0</td><td>n</td><td>Nem</td></tr>",
                            "<tr><td>1</td><td>1</td><td>3</td><td>0</td><td>n</td><td>Nem</td></tr>",
                            "<tr><td>1</td><td>1</td><td>3</td><td>0</td><td>n</td><td>Nem</td></tr>",
                            "<tr><td>1</td><td>1</td><td>3</td><td>0</td><td>n</td><td>Nem</td></tr>",
                            "<tr><td>1</td><td>1</td><td>3</td><td>0</td><td>n</td><td>Nem</td></tr>",
                            "<tr><td>1</td><td>1</td><td>3</td><td>0</td><td>n</td><td>Nem</td></tr>",
                            "<tr><td>1</td><td>1</td><td>3</td><td>0</td><td>n</td><td>Nem</td></tr>",
                            "<tr><td>1</td><td>1</td><td>3</td><td>0</td><td>n</td><td>Nem</td></tr>",
                            "<tr><td>1</td><td>1</td><td>3</td><td>0</td><td>n</td><td>Nem</td></tr>",
                            "<tr><td>2</td><td>2</td><td>3</td><td>1</td><td>i</td><td>Nem</td></tr>",
                            "<tr><td>2</td><td>2</td><td>3</td><td>1</td><td>i</td><td>Nem</td></tr>",
                            "<tr><td>3</td><td>3</td><td>3</td><td>1</td><td>i</td><td>Nem</td></tr>",
                            "<tr><td>3</td><td>3</td><td>3</td><td>1</td><td>i</td><td>Nem</td></tr>",
                            "<tr><td>3</td><td>3</td><td>3</td><td>1</td><td>i</td><td>Nem</td></tr>",
                            "<tr><td>3</td><td>3</td><td>3</td><td>1</td><td>i</td><td>Nem</td></tr>",
                            "<tr><td>3</td><td>3</td><td>3</td><td>1</td><td>i</td><td>Nem</td></tr>",
                            "<tr><td>3</td><td>3</td><td>3</td><td>1</td><td>i</td><td>Nem</td></tr>",
                            "<tr><td>3</td><td>3</td><td>3</td><td>1</td><td>i</td><td>Nem</td></tr>",
                            "<tr><td>3</td><td>3</td><td>3</td><td>1</td><td>i</td><td>Nem</td></tr>",
                            "<tr><td>4</td><td>4</td><td>2</td><td>1</td><td>i</td><td>Nem</td></tr>",
                            "<tr><td>4</td><td>4</td><td>2</td><td>1</td><td>i</td><td>Nem</td></tr>",
                            "<tr><td>4</td><td>4</td><td>2</td><td>1</td><td>i</td><td>Nem</td></tr>",
                            "<tr><td>4</td><td>4</td><td>2</td><td>1</td><td>i</td><td>Nem</td></tr>",
                            "<tr><td>4</td><td>4</td><td>2</td><td>1</td><td>i</td><td>Nem</td></tr>",
                            "<tr><td>4</td><td>4</td><td>2</td><td>1</td><td>i</td><td>Nem</td></tr>",
                            "<tr><td>5</td><td>5</td><td>2</td><td>0</td><td>i</td><td>Nem</td></tr>",
                            "<tr><td>5</td><td>5</td><td>2</td><td>0</td><td>i</td><td>Nem</td></tr>",
                            "<tr><td>5</td><td>5</td><td>2</td><td>0</td><td>i</td><td>Nem</td></tr>",
                            "<tr><td>5</td><td>5</td><td>2</td><td>0</td><td>i</td><td>Nem</td></tr>",
                            "<tr><td>6</td><td>6</td><td>3</td><td>0</td><td>i</td><td>Nem</td></tr>",
                            "<tr><td>6</td><td>6</td><td>3</td><td>0</td><td>i</td><td>Nem</td></tr>",
                            "<tr><td>6</td><td>6</td><td>3</td><td>0</td><td>i</td><td>Nem</td></tr>",
                            "<tr><td>6</td><td>6</td><td>3</td><td>0</td><td>i</td><td>Nem</td></tr>",
                            "<tr><td>6</td><td>6</td><td>3</td><td>0</td><td>i</td><td>Nem</td></tr>",
                            "<tr><td>6</td><td>6</td><td>3</td><td>0</td><td>i</td><td>Nem</td></tr>",
                            "<tr><td>7</td><td>7</td><td>2</td><td>0</td><td>i</td><td>Nem</td></tr>",
                            "<tr><td>7</td><td>7</td><td>2</td><td>0</td><td>i</td><td>Nem</td></tr>",
                            "<tr><td>7</td><td>7</td><td>2</td><td>0</td><td>i</td><td>Nem</td></tr>",
                            "<tr><td>7</td><td>7</td><td>2</td><td>0</td><td>i</td><td>Nem</td></tr>",
                            "<tr><td>7</td><td>7</td><td>2</td><td>0</td><td>i</td><td>Nem</td></tr>",
                            "<tr><td>7</td><td>7</td><td>2</td><td>0</td><td>i</td><td>Nem</td></tr>",
                            "<tr><td>8</td><td>8</td><td>3</td><td>0</td><td>n</td><td>Nem</td></tr>",
                            "<tr><td>8</td><td>8</td><td>3</td><td>0</td><td>n</td><td>Nem</td></tr>",
                            "<tr><td>8</td><td>8</td><td>3</td><td>0</td><td>n</td><td>Nem</td></tr>",
                            "<tr><td>8</td><td>8</td><td>3</td><td>0</td><td>n</td><td>Nem</td></tr>",
                            "<tr><td>8</td><td>8</td><td>3</td><td>0</td><td>n</td><td>Nem</td></tr>",
                            "<tr><td>9</td><td>9</td><td>3</td><td>1</td><td>i</td><td>Nem</td></tr>",
                            "<tr><td>9</td><td>9</td><td>3</td><td>1</td><td>i</td><td>Nem</td></tr>",
                            "<tr><td>9</td><td>9</td><td>3</td><td>1</td><td>i</td><td>Nem</td></tr>",
                            "<tr><td>9</td><td>9</td><td>3</td><td>1</td><td>i</td><td>Nem</td></tr>",
                            "<tr><td>9</td><td>9</td><td>3</td><td>1</td><td>i</td><td>Nem</td></tr>",
                            "<tr><td>9</td><td>9</td><td>3</td><td>1</td><td>i</td><td>Nem</td></tr>",
                            "<tr><td>10</td><td>10</td><td>3</td><td>0</td><td>i</td><td>Nem</td></tr>",
                            "<tr><td>10</td><td>10</td><td>3</td><td>0</td><td>i</td><td>Nem</td></tr>",
                            "<tr><td>10</td><td>10</td><td>3</td><td>0</td><td>i</td><td>Nem</td></tr>",
                            "<tr><td>10</td><td>10</td><td>3</td><td>0</td><td>i</td><td>Nem</td></tr>",
                            "<tr><td>11</td><td>11</td><td>2</td><td>1</td><td>i</td><td>Nem</td></tr>",
                            "<tr><td>11</td><td>11</td><td>2</td><td>1</td><td>i</td><td>Nem</td></tr>",
                            "<tr><td>11</td><td>11</td><td>2</td><td>1</td><td>i</td><td>Nem</td></tr>",
                            "<tr><td>11</td><td>11</td><td>2</td><td>1</td><td>i</td><td>Nem</td></tr>",
                            "<tr><td>12</td><td>12</td><td>2</td><td>1</td><td>i</td><td>Nem</td></tr>",
                            "<tr><td>12</td><td>12</td><td>2</td><td>1</td><td>i</td><td>Nem</td></tr>",
                            "<tr><td>12</td><td>12</td><td>2</td><td>1</td><td>i</td><td>Nem</td></tr>",
                            "<tr><td>12</td><td>12</td><td>2</td><td>1</td><td>i</td><td>Nem</td></tr>",
                            "<tr><td>12</td><td>12</td><td>2</td><td>1</td><td>i</td><td>Nem</td></tr>",
                            "<tr><td>12</td><td>12</td><td>2</td><td>1</td><td>i</td><td>Nem</td></tr>",
                            "<tr><td>12</td><td>12</td><td>2</td><td>1</td><td>i</td><td>Nem</td></tr>",
                            "<tr><td>12</td><td>12</td><td>2</td><td>1</td><td>i</td><td>Nem</td></tr>",
                            "<tr><td>12</td><td>12</td><td>2</td><td>1</td><td>i</td><td>Nem</td></tr>",
                            "<tr><td>13</td><td>1</td><td>3</td><td>0</td><td>i</td><td>Nem</td></tr>",
                            "<tr><td>13</td><td>1</td><td>3</td><td>0</td><td>i</td><td>Nem</td></tr>",
                            "<tr><td>13</td><td>1</td><td>3</td><td>0</td><td>i</td><td>Nem</td></tr>",
                            "<tr><td>13</td><td>1</td><td>3</td><td>0</td><td>i</td><td>Nem</td></tr>",
                            "<tr><td>14</td><td>2</td><td>3</td><td>2</td><td>i</td><td>Nem</td></tr>",
                            "<tr><td>14</td><td>2</td><td>3</td><td>2</td><td>i</td><td>Nem</td></tr>",
                            "<tr><td>14</td><td>2</td><td>3</td><td>2</td><td>i</td><td>Nem</td></tr>",
                            "<tr><td>14</td><td>2</td><td>3</td><td>2</td><td>i</td><td>Nem</td></tr>",
                            "<tr><td>15</td><td>3</td><td>2</td><td>1</td><td>i</td><td>Nem</td></tr>",
                            "<tr><td>15</td><td>3</td><td>2</td><td>1</td><td>i</td><td>Nem</td></tr>",
                            "<tr><td>15</td><td>3</td><td>2</td><td>1</td><td>i</td><td>Nem</td></tr>",
                            "<tr><td>15</td><td>3</td><td>2</td><td>1</td><td>i</td><td>Nem</td></tr>",
                            "<tr><td>15</td><td>3</td><td>2</td><td>1</td><td>i</td><td>Nem</td></tr>",
                            "<tr><td>15</td><td>3</td><td>2</td><td>1</td><td>i</td><td>Nem</td></tr>",
                            "<tr><td>16</td><td>4</td><td>3</td><td>1</td><td>i</td><td>Nem</td></tr>",
                            "<tr><td>16</td><td>4</td><td>3</td><td>1</td><td>i</td><td>Nem</td></tr>",
                            "<tr><td>16</td><td>4</td><td>3</td><td>1</td><td>i</td><td>Nem</td></tr>",
                            "<tr><td>16</td><td>4</td><td>3</td><td>1</td><td>i</td><td>Nem</td></tr>",
                            "<tr><td>16</td><td>4</td><td>3</td><td>1</td><td>i</td><td>Nem</td></tr>",
                            "<tr><td>17</td><td>1</td><td>3</td><td>1</td><td>i</td><td>Nem</td></tr>",
                            "<tr><td>17</td><td>1</td><td>3</td><td>1</td><td>i</td><td>Nem</td></tr>",
                            "<tr><td>17</td><td>1</td><td>3</td><td>1</td><td>i</td><td>Nem</td></tr>",
                            "<tr><td>17</td><td>1</td><td>3</td><td>1</td><td>i</td><td>Nem</td></tr>",
                            "<tr><td>17</td><td>1</td><td>3</td><td>1</td><td>i</td><td>Nem</td></tr>",
                            "<tr><td>17</td><td>1</td><td>3</td><td>1</td><td>i</td><td>Nem</td></tr>",
                            "<tr><td>18</td><td>2</td><td>3</td><td>2</td><td>n</td><td>Nem</td></tr>",
                            "<tr><td>18</td><td>2</td><td>3</td><td>2</td><td>n</td><td>Nem</td></tr>",
                            "<tr><td>18</td><td>2</td><td>3</td><td>2</td><td>n</td><td>Nem</td></tr>",
                            "<tr><td>18</td><td>2</td><td>3</td><td>2</td><td>n</td><td>Nem</td></tr>",
                            "<tr><td>18</td><td>2</td><td>3</td><td>2</td><td>n</td><td>Nem</td></tr>",
                            "<tr><td>18</td><td>2</td><td>3</td><td>2</td><td>n</td><td>Nem</td></tr>",
                            "<tr><td>19</td><td>3</td><td>2</td><td>1</td><td>i</td><td>Nem</td></tr>",
                            "<tr><td>19</td><td>3</td><td>2</td><td>1</td><td>i</td><td>Nem</td></tr>",
                            "<tr><td>19</td><td>3</td><td>2</td><td>1</td><td>i</td><td>Nem</td></tr>",
                            "<tr><td>19</td><td>3</td><td>2</td><td>1</td><td>i</td><td>Nem</td></tr>",
                            "<tr><td>19</td><td>3</td><td>2</td><td>1</td><td>i</td><td>Nem</td></tr>",
                            "<tr><td>19</td><td>3</td><td>2</td><td>1</td><td>i</td><td>Nem</td></tr>",
                            "<tr><td>20</td><td>4</td><td>3</td><td>0</td><td>i</td><td>Nem</td></tr>",
                            "<tr><td>20</td><td>4</td><td>3</td><td>0</td><td>i</td><td>Nem</td></tr>",
                            "<tr><td>20</td><td>4</td><td>3</td><td>0</td><td>i</td><td>Nem</td></tr>",
                            "<tr><td>20</td><td>4</td><td>3</td><td>0</td><td>i</td><td>Nem</td></tr>",
                            "<tr><td>20</td><td>4</td><td>3</td><td>0</td><td>i</td><td>Nem</td></tr>",
                            "<tr><td>21</td><td>5</td><td>2</td><td>1</td><td>i</td><td>Nem</td></tr>",
                            "<tr><td>21</td><td>5</td><td>2</td><td>1</td><td>i</td><td>Nem</td></tr>",
                            "<tr><td>21</td><td>5</td><td>2</td><td>1</td><td>i</td><td>Nem</td></tr>",
                            "<tr><td>21</td><td>5</td><td>2</td><td>1</td><td>i</td><td>Nem</td></tr>",
                            "<tr><td>22</td><td>6</td><td>3</td><td>2</td><td>n</td><td>Nem</td></tr>",
                            "<tr><td>22</td><td>6</td><td>3</td><td>2</td><td>n</td><td>Nem</td></tr>",
                            "<tr><td>22</td><td>6</td><td>3</td><td>2</td><td>n</td><td>Nem</td></tr>",
                            "<tr><td>22</td><td>6</td><td>3</td><td>2</td><td>n</td><td>Nem</td></tr>",
                            "<tr><td>22</td><td>6</td><td>3</td><td>2</td><td>n</td><td>Nem</td></tr>",
                            "<tr><td>22</td><td>6</td><td>3</td><td>2</td><td>n</td><td>Nem</td></tr>",
                            "<tr><td>23</td><td>7</td><td>2</td><td>0</td><td>n</td><td>Nem</td></tr>",
                            "<tr><td>23</td><td>7</td><td>2</td><td>0</td><td>n</td><td>Nem</td></tr>",
                            "<tr><td>23</td><td>7</td><td>2</td><td>0</td><td>n</td><td>Nem</td></tr>",
                            "<tr><td>24</td><td>8</td><td>4</td><td>1</td><td>i</td><td>Nem</td></tr>",
                            "<tr><td>24</td><td>8</td><td>4</td><td>1</td><td>i</td><td>Nem</td></tr>",
                            "<tr><td>24</td><td>8</td><td>4</td><td>1</td><td>i</td><td>Nem</td></tr>",
                            "<tr><td>25</td><td>1</td><td>3</td><td>1</td><td>n</td><td>Nem</td></tr>",
                            "<tr><td>25</td><td>1</td><td>3</td><td>1</td><td>n</td><td>Nem</td></tr>",
                            "<tr><td>26</td><td>2</td><td>2</td><td>1</td><td>i</td><td>Nem</td></tr>",
                            "<tr><td>26</td><td>2</td><td>2</td><td>1</td><td>i</td><td>Nem</td></tr>",
                            "<tr><td>27</td><td>3</td><td>3</td><td>1</td><td>n</td><td>Nem</td></tr>",
                            "<tr><td>27</td><td>3</td><td>3</td><td>1</td><td>n</td><td>Nem</td></tr>",
                            "<tr><td>27</td><td>3</td><td>3</td><td>1</td><td>n</td><td>Nem</td></tr>",
                            "<tr><td>27</td><td>3</td><td>3</td><td>1</td><td>n</td><td>Nem</td></tr>",
                            "<tr><td>27</td><td>3</td><td>3</td><td>1</td><td>n</td><td>Nem</td></tr>",
                            "<tr><td>27</td><td>3</td><td>3</td><td>1</td><td>n</td><td>Nem</td></tr>",
                            "<tr><td>27</td><td>3</td><td>3</td><td>1</td><td>n</td><td>Nem</td></tr>",
                            "<tr><td>28</td><td>4</td><td>2</td><td>1</td><td>i</td><td>Nem</td></tr>",
                            "<tr><td>28</td><td>4</td><td>2</td><td>1</td><td>i</td><td>Nem</td></tr>",
                            "<tr><td>28</td><td>4</td><td>2</td><td>1</td><td>i</td><td>Nem</td></tr>",
                            "<tr><td>28</td><td>4</td><td>2</td><td>1</td><td>i</td><td>Nem</td></tr>",
                            "<tr><td>28</td><td>4</td><td>2</td><td>1</td><td>i</td><td>Nem</td></tr>",
                            "<tr><td>28</td><td>4</td><td>2</td><td>1</td><td>i</td><td>Nem</td></tr>",
                            "<tr><td>29</td><td>5</td><td>2</td><td>0</td><td>n</td><td>Nem</td></tr>",
                            "<tr><td>29</td><td>5</td><td>2</td><td>0</td><td>n</td><td>Nem</td></tr>",
                            "<tr><td>29</td><td>5</td><td>2</td><td>0</td><td>n</td><td>Nem</td></tr>",
                            "<tr><td>29</td><td>5</td><td>2</td><td>0</td><td>n</td><td>Nem</td></tr>",
                            "<tr><td>29</td><td>5</td><td>2</td><td>0</td><td>n</td><td>Nem</td></tr>",
                            "<tr><td>29</td><td>5</td><td>2</td><td>0</td><td>n</td><td>Nem</td></tr>",
                            "<tr><td>30</td><td>6</td><td>3</td><td>1</td><td>i</td><td>Nem</td></tr>",
                            "<tr><td>30</td><td>6</td><td>3</td><td>1</td><td>i</td><td>Nem</td></tr>",
                            "<tr><td>30</td><td>6</td><td>3</td><td>1</td><td>i</td><td>Nem</td></tr>",
                            "<tr><td>31</td><td>7</td><td>3</td><td>1</td><td>i</td><td>Nem</td></tr>",
                            "<tr><td>31</td><td>7</td><td>3</td><td>1</td><td>i</td><td>Nem</td></tr>",
                            "<tr><td>31</td><td>7</td><td>3</td><td>1</td><td>i</td><td>Nem</td></tr>",
                            "<tr><td>32</td><td>8</td><td>2</td><td>0</td><td>i</td><td>Nem</td></tr>",
                            "<tr><td>33</td><td>9</td><td>2</td><td>2</td><td>i</td><td>Nem</td></tr>",
                            "<tr><td>33</td><td>9</td><td>2</td><td>2</td><td>i</td><td>Nem</td></tr>",
                            "<tr><td>33</td><td>9</td><td>2</td><td>2</td><td>i</td><td>Nem</td></tr>",
                            "<tr><td>33</td><td>9</td><td>2</td><td>2</td><td>i</td><td>Nem</td></tr>",
                            "<tr><td>33</td><td>9</td><td>2</td><td>2</td><td>i</td><td>Nem</td></tr>",
                            "<tr><td>33</td><td>9</td><td>2</td><td>2</td><td>i</td><td>Nem</td></tr>",
                            "<tr><td>34</td><td>10</td><td>3</td><td>1</td><td>i</td><td>Nem</td></tr>",
                            "<tr><td>34</td><td>10</td><td>3</td><td>1</td><td>i</td><td>Nem</td></tr>",
                            "<tr><td>34</td><td>10</td><td>3</td><td>1</td><td>i</td><td>Nem</td></tr>",
                            "<tr><td>34</td><td>10</td><td>3</td><td>1</td><td>i</td><td>Nem</td></tr>",
                            "<tr><td>35</td><td>11</td><td>3</td><td>0</td><td>i</td><td>Nem</td></tr>",
                            "<tr><td>35</td><td>11</td><td>3</td><td>0</td><td>i</td><td>Nem</td></tr>",
                            "<tr><td>35</td><td>11</td><td>3</td><td>0</td><td>i</td><td>Nem</td></tr>",
                            "<tr><td>35</td><td>11</td><td>3</td><td>0</td><td>i</td><td>Nem</td></tr>",
                            "<tr><td>35</td><td>11</td><td>3</td><td>0</td><td>i</td><td>Nem</td></tr>",
                            "<tr><td>35</td><td>11</td><td>3</td><td>0</td><td>i</td><td>Nem</td></tr>",
                            "<tr><td>35</td><td>11</td><td>3</td><td>0</td><td>i</td><td>Nem</td></tr>",
                            "<tr><td>35</td><td>11</td><td>3</td><td>0</td><td>i</td><td>Nem</td></tr>",
                            "<tr><td>35</td><td>11</td><td>3</td><td>0</td><td>i</td><td>Nem</td></tr>",
                            "<tr><td>36</td><td>12</td><td>3</td><td>2</td><td>i</td><td>Nem</td></tr>",
                            "<tr><td>36</td><td>12</td><td>3</td><td>2</td><td>i</td><td>Nem</td></tr>",
                            "<tr><td>36</td><td>12</td><td>3</td><td>2</td><td>i</td><td>Nem</td></tr>",
                            "<tr><td>36</td><td>12</td><td>3</td><td>2</td><td>i</td><td>Nem</td></tr>",
                            "<tr><td>36</td><td>12</td><td>3</td><td>2</td><td>i</td><td>Nem</td></tr>",
                            "<tr><td>36</td><td>12</td><td>3</td><td>2</td><td>i</td><td>Nem</td></tr>",
                            "<tr><td>37</td><td>13</td><td>2</td><td>1</td><td>i</td><td>Nem</td></tr>",
                            "<tr><td>37</td><td>13</td><td>2</td><td>1</td><td>i</td><td>Nem</td></tr>",
                            "<tr><td>37</td><td>13</td><td>2</td><td>1</td><td>i</td><td>Nem</td></tr>",
                            "<tr><td>38</td><td>14</td><td>2</td><td>1</td><td>i</td><td>Nem</td></tr>",
                            "<tr><td>38</td><td>14</td><td>2</td><td>1</td><td>i</td><td>Nem</td></tr>",
                            "<tr><td>38</td><td>14</td><td>2</td><td>1</td><td>i</td><td>Nem</td></tr>",
                            "<tr><td>38</td><td>14</td><td>2</td><td>1</td><td>i</td><td>Nem</td></tr>",
                            "<tr><td>38</td><td>14</td><td>2</td><td>1</td><td>i</td><td>Nem</td></tr>",
                            "<tr><td>38</td><td>14</td><td>2</td><td>1</td><td>i</td><td>Nem</td></tr>",
                            "<tr><td>38</td><td>14</td><td>2</td><td>1</td><td>i</td><td>Nem</td></tr>",
                            "<tr><td>38</td><td>14</td><td>2</td><td>1</td><td>i</td><td>Nem</td></tr>",
                            "<tr><td>39</td><td>15</td><td>2</td><td>0</td><td>i</td><td>Nem</td></tr>",
                            "<tr><td>39</td><td>15</td><td>2</td><td>0</td><td>i</td><td>Nem</td></tr>",
                            "<tr><td>39</td><td>15</td><td>2</td><td>0</td><td>i</td><td>Nem</td></tr>",
                            "<tr><td>39</td><td>15</td><td>2</td><td>0</td><td>i</td><td>Nem</td></tr>",
                            "<tr><td>39</td><td>15</td><td>2</td><td>0</td><td>i</td><td>Nem</td></tr>",
                            "<tr><td>39</td><td>15</td><td>2</td><td>0</td><td>i</td><td>Nem</td></tr>",
                            "<tr><td>39</td><td>15</td><td>2</td><td>0</td><td>i</td><td>Nem</td></tr>",
                            "<tr><td>40</td><td>1</td><td>3</td><td>0</td><td>i</td><td>Nem</td></tr>",
                            "<tr><td>40</td><td>1</td><td>3</td><td>0</td><td>i</td><td>Nem</td></tr>",
                            "<tr><td>40</td><td>1</td><td>3</td><td>0</td><td>i</td><td>Nem</td></tr>",
                            "<tr><td>40</td><td>1</td><td>3</td><td>0</td><td>i</td><td>Nem</td></tr>",
                            "<tr><td>41</td><td>2</td><td>3</td><td>0</td><td>n</td><td>Nem</td></tr>",
                            "<tr><td>41</td><td>2</td><td>3</td><td>0</td><td>n</td><td>Nem</td></tr>",
                            "<tr><td>42</td><td>3</td><td>2</td><td>1</td><td>i</td><td>Nem</td></tr>",
                            "<tr><td>42</td><td>3</td><td>2</td><td>1</td><td>i</td><td>Nem</td></tr>",
                            "<tr><td>42</td><td>3</td><td>2</td><td>1</td><td>i</td><td>Nem</td></tr>",
                            "<tr><td>42</td><td>3</td><td>2</td><td>1</td><td>i</td><td>Nem</td></tr>",
                            "<tr><td>42</td><td>3</td><td>2</td><td>1</td><td>i</td><td>Nem</td></tr>",
                            "<tr><td>42</td><td>3</td><td>2</td><td>1</td><td>i</td><td>Nem</td></tr>",
                            "<tr><td>43</td><td>4</td><td>3</td><td>0</td><td>i</td><td>Nem</td></tr>",
                            "<tr><td>43</td><td>4</td><td>3</td><td>0</td><td>i</td><td>Nem</td></tr>",
                            "<tr><td>43</td><td>4</td><td>3</td><td>0</td><td>i</td><td>Nem</td></tr>",
                            "<tr><td>43</td><td>4</td><td>3</td><td>0</td><td>i</td><td>Nem</td></tr>",
                            "<tr><td>43</td><td>4</td><td>3</td><td>0</td><td>i</td><td>Nem</td></tr>",
                            "<tr><td>43</td><td>4</td><td>3</td><td>0</td><td>i</td><td>Nem</td></tr>",
                            "<tr><td>43</td><td>4</td><td>3</td><td>0</td><td>i</td><td>Nem</td></tr>",
                            "<tr><td>43</td><td>4</td><td>3</td><td>0</td><td>i</td><td>Nem</td></tr>",
                            "<tr><td>44</td><td>5</td><td>3</td><td>0</td><td>i</td><td>Nem</td></tr>",
                            "<tr><td>44</td><td>5</td><td>3</td><td>0</td><td>i</td><td>Nem</td></tr>",
                            "<tr><td>44</td><td>5</td><td>3</td><td>0</td><td>i</td><td>Nem</td></tr>",
                            "<tr><td>44</td><td>5</td><td>3</td><td>0</td><td>i</td><td>Nem</td></tr>",
                            "<tr><td>44</td><td>5</td><td>3</td><td>0</td><td>i</td><td>Nem</td></tr>",
                            "<tr><td>44</td><td>5</td><td>3</td><td>0</td><td>i</td><td>Nem</td></tr>",
                            "<tr><td>45</td><td>6</td><td>2</td><td>0</td><td>n</td><td>Nem</td></tr>",
                            "<tr><td>45</td><td>6</td><td>2</td><td>0</td><td>n</td><td>Nem</td></tr>",
                            "<tr><td>45</td><td>6</td><td>2</td><td>0</td><td>n</td><td>Nem</td></tr>",
                            "<tr><td>45</td><td>6</td><td>2</td><td>0</td><td>n</td><td>Nem</td></tr>",
                            "<tr><td>45</td><td>6</td><td>2</td><td>0</td><td>n</td><td>Nem</td></tr>",
                            "<tr><td>46</td><td>7</td><td>3</td><td>0</td><td>i</td><td>Nem</td></tr>",
                            "<tr><td>46</td><td>7</td><td>3</td><td>0</td><td>i</td><td>Nem</td></tr>",
                            "<tr><td>46</td><td>7</td><td>3</td><td>0</td><td>i</td><td>Nem</td></tr>",
                            "<tr><td>46</td><td>7</td><td>3</td><td>0</td><td>i</td><td>Nem</td></tr>",
                            "<tr><td>47</td><td>8</td><td>2</td><td>0</td><td>i</td><td>Nem</td></tr>",
                            "<tr><td>47</td><td>8</td><td>2</td><td>0</td><td>i</td><td>Nem</td></tr>",
                            "<tr><td>48</td><td>9</td><td>3</td><td>0</td><td>i</td><td>Nem</td></tr>",
                            "<tr><td>48</td><td>9</td><td>3</td><td>0</td><td>i</td><td>Nem</td></tr>",
                            "<tr><td>48</td><td>9</td><td>3</td><td>0</td><td>i</td><td>Nem</td></tr>",
                            "<tr><td>48</td><td>9</td><td>3</td><td>0</td><td>i</td><td>Nem</td></tr>",
                            "<tr><td>48</td><td>9</td><td>3</td><td>0</td><td>i</td><td>Nem</td></tr>",
                            "<tr><td>48</td><td>9</td><td>3</td><td>0</td><td>i</td><td>Nem</td></tr>",
                            "<tr><td>48</td><td>9</td><td>3</td><td>0</td><td>i</td><td>Nem</td></tr>",
                            "<tr><td>48</td><td>9</td><td>3</td><td>0</td><td>i</td><td>Nem</td></tr>",
                            "<tr><td>48</td><td>9</td><td>3</td><td>0</td><td>i</td><td>Nem</td></tr>",
                            "<tr><td>49</td><td>10</td><td>3</td><td>0</td><td>i</td><td>Nem</td></tr>",
                            "<tr><td>49</td><td>10</td><td>3</td><td>0</td><td>i</td><td>Nem</td></tr>",
                            "<tr><td>49</td><td>10</td><td>3</td><td>0</td><td>i</td><td>Nem</td></tr>",
                            "<tr><td>49</td><td>10</td><td>3</td><td>0</td><td>i</td><td>Nem</td></tr>",
                            "<tr><td>49</td><td>10</td><td>3</td><td>0</td><td>i</td><td>Nem</td></tr>",
                            "<tr><td>49</td><td>10</td><td>3</td><td>0</td><td>i</td><td>Nem</td></tr>",
                            "<tr><td>49</td><td>10</td><td>3</td><td>0</td><td>i</td><td>Nem</td></tr>",
                            "<tr><td>50</td><td>1</td><td>2</td><td>0</td><td>n</td><td>Nem</td></tr>",
                            "<tr><td>50</td><td>1</td><td>2</td><td>0</td><td>n</td><td>Nem</td></tr>",
                            "<tr><td>50</td><td>1</td><td>2</td><td>0</td><td>n</td><td>Nem</td></tr>",
                            "<tr><td>50</td><td>1</td><td>2</td><td>0</td><td>n</td><td>Nem</td></tr>",
                            "<tr><td>51</td><td>2</td><td>3</td><td>1</td><td>i</td><td>Nem</td></tr>",
                            "<tr><td>51</td><td>2</td><td>3</td><td>1</td><td>i</td><td>Nem</td></tr>",
                            "<tr><td>51</td><td>2</td><td>3</td><td>1</td><td>i</td><td>Nem</td></tr>",
                            "<tr><td>51</td><td>2</td><td>3</td><td>1</td><td>i</td><td>Nem</td></tr>",
                            "<tr><td>51</td><td>2</td><td>3</td><td>1</td><td>i</td><td>Nem</td></tr>",
                            "<tr><td>52</td><td>3</td><td>2</td><td>1</td><td>i</td><td>Nem</td></tr>",
                            "<tr><td>52</td><td>3</td><td>2</td><td>1</td><td>i</td><td>Nem</td></tr>",
                            "<tr><td>52</td><td>3</td><td>2</td><td>1</td><td>i</td><td>Nem</td></tr>",
                            "<tr><td>52</td><td>3</td><td>2</td><td>1</td><td>i</td><td>Nem</td></tr>",
                            "<tr><td>52</td><td>3</td><td>2</td><td>1</td><td>i</td><td>Nem</td></tr>",
                            "<tr><td>53</td><td>4</td><td>2</td><td>1</td><td>i</td><td>Nem</td></tr>",
                            "<tr><td>53</td><td>4</td><td>2</td><td>1</td><td>i</td><td>Nem</td></tr>",
                            "<tr><td>54</td><td>5</td><td>3</td><td>0</td><td>n</td><td>Nem</td></tr>",
                            "<tr><td>54</td><td>5</td><td>3</td><td>0</td><td>n</td><td>Nem</td></tr>",
                            "<tr><td>54</td><td>5</td><td>3</td><td>0</td><td>n</td><td>Nem</td></tr>",
                            "<tr><td>54</td><td>5</td><td>3</td><td>0</td><td>n</td><td>Nem</td></tr>",
                            "<tr><td>54</td><td>5</td><td>3</td><td>0</td><td>n</td><td>Nem</td></tr>",
                            "<tr><td>54</td><td>5</td><td>3</td><td>0</td><td>n</td><td>Nem</td></tr>",
                            "<tr><td>55</td><td>6</td><td>2</td><td>1</td><td>i</td><td>Nem</td></tr>",
                            "<tr><td>55</td><td>6</td><td>2</td><td>1</td><td>i</td><td>Nem</td></tr>",
                            "<tr><td>55</td><td>6</td><td>2</td><td>1</td><td>i</td><td>Nem</td></tr>",
                            "<tr><td>55</td><td>6</td><td>2</td><td>1</td><td>i</td><td>Nem</td></tr>",
                            "<tr><td>55</td><td>6</td><td>2</td><td>1</td><td>i</td><td>Nem</td></tr>",
                            "<tr><td>55</td><td>6</td><td>2</td><td>1</td><td>i</td><td>Nem</td></tr>",
                            "<tr><td>55</td><td>6</td><td>2</td><td>1</td><td>i</td><td>Nem</td></tr>",
                            "<tr><td>55</td><td>6</td><td>2</td><td>1</td><td>i</td><td>Nem</td></tr>",
                            "<tr><td>56</td><td>7</td><td>2</td><td>0</td><td>i</td><td>Nem</td></tr>",
                            "<tr><td>56</td><td>7</td><td>2</td><td>0</td><td>i</td><td>Nem</td></tr>",
                            "<tr><td>57</td><td>8</td><td>2</td><td>0</td><td>n</td><td>Nem</td></tr>",
                            "<tr><td>57</td><td>8</td><td>2</td><td>0</td><td>n</td><td>Nem</td></tr>",
                            "<tr><td>57</td><td>8</td><td>2</td><td>0</td><td>n</td><td>Nem</td></tr>",
                            "<tr><td>57</td><td>8</td><td>2</td><td>0</td><td>n</td><td>Nem</td></tr>",
                            "<tr><td>58</td><td>9</td><td>2</td><td>1</td><td>i</td><td>Nem</td></tr>",
                            "<tr><td>58</td><td>9</td><td>2</td><td>1</td><td>i</td><td>Nem</td></tr>",
                            "<tr><td>58</td><td>9</td><td>2</td><td>1</td><td>i</td><td>Nem</td></tr>",
                            "<tr><td>58</td><td>9</td><td>2</td><td>1</td><td>i</td><td>Nem</td></tr>",
                            "<tr><td>58</td><td>9</td><td>2</td><td>1</td><td>i</td><td>Nem</td></tr>",
                            "<tr><td>58</td><td>9</td><td>2</td><td>1</td><td>i</td><td>Nem</td></tr>",
                            "<tr><td>58</td><td>9</td><td>2</td><td>1</td><td>i</td><td>Nem</td></tr>",
                            "<tr><td>58</td><td>9</td><td>2</td><td>1</td><td>i</td><td>Nem</td></tr>",
                            "<tr><td>58</td><td>9</td><td>2</td><td>1</td><td>i</td><td>Nem</td></tr>",
                            "<tr><td>58</td><td>9</td><td>2</td><td>1</td><td>i</td><td>Nem</td></tr>",
                            "<tr><td>58</td><td>9</td><td>2</td><td>1</td><td>i</td><td>Nem</td></tr>",
                            "<tr><td>58</td><td>9</td><td>2</td><td>1</td><td>i</td><td>Nem</td></tr>",
                            "<tr><td>58</td><td>9</td><td>2</td><td>1</td><td>i</td><td>Nem</td></tr>",
                            "<tr><td>59</td><td>10</td><td>2</td><td>1</td><td>n</td><td>Nem</td></tr>",
                            "<tr><td>59</td><td>10</td><td>2</td><td>1</td><td>n</td><td>Nem</td></tr>",
                            "<tr><td>59</td><td>10</td><td>2</td><td>1</td><td>n</td><td>Nem</td></tr>",
                            "<tr><td>59</td><td>10</td><td>2</td><td>1</td><td>n</td><td>Nem</td></tr>",
                            "<tr><td>59</td><td>10</td><td>2</td><td>1</td><td>n</td><td>Nem</td></tr>",
                            "<tr><td>59</td><td>10</td><td>2</td><td>1</td><td>n</td><td>Nem</td></tr>",
                            "<tr><td>59</td><td>10</td><td>2</td><td>1</td><td>n</td><td>Nem</td></tr>",
                            "<tr><td>60</td><td>11</td><td>3</td><td>0</td><td>i</td><td>Nem</td></tr>",
                            "<tr><td>61</td><td>12</td><td>3</td><td>0</td><td>i</td><td>Nem</td></tr>",
                            "<tr><td>61</td><td>12</td><td>3</td><td>0</td><td>i</td><td>Nem</td></tr>",
                            "<tr><td>61</td><td>12</td><td>3</td><td>0</td><td>i</td><td>Nem</td></tr>",
                            "<tr><td>61</td><td>12</td><td>3</td><td>0</td><td>i</td><td>Nem</td></tr>",
                            "<tr><td>61</td><td>12</td><td>3</td><td>0</td><td>i</td><td>Nem</td></tr>",
                            "<tr><td>62</td><td>13</td><td>2</td><td>0</td><td>n</td><td>Nem</td></tr>",
                            "<tr><td>62</td><td>13</td><td>2</td><td>0</td><td>n</td><td>Nem</td></tr>",
                            "<tr><td>62</td><td>13</td><td>2</td><td>0</td><td>n</td><td>Nem</td></tr>",
                            "<tr><td>62</td><td>13</td><td>2</td><td>0</td><td>n</td><td>Nem</td></tr>",
                            "<tr><td>62</td><td>13</td><td>2</td><td>0</td><td>n</td><td>Nem</td></tr>",
                            "<tr><td>63</td><td>14</td><td>2</td><td>0</td><td>n</td><td>Nem</td></tr>",
                            "<tr><td>63</td><td>14</td><td>2</td><td>0</td><td>n</td><td>Nem</td></tr>",
                            "<tr><td>63</td><td>14</td><td>2</td><td>0</td><td>n</td><td>Nem</td></tr>",
                            "<tr><td>63</td><td>14</td><td>2</td><td>0</td><td>n</td><td>Nem</td></tr>",
                            "<tr><td>64</td><td>15</td><td>2</td><td>0</td><td>i</td><td>Nem</td></tr>",
                            "<tr><td>64</td><td>15</td><td>2</td><td>0</td><td>i</td><td>Nem</td></tr>",
                            "<tr><td>64</td><td>15</td><td>2</td><td>0</td><td>i</td><td>Nem</td></tr>",
                            "<tr><td>64</td><td>15</td><td>2</td><td>0</td><td>i</td><td>Nem</td></tr>",
                            "<tr><td>64</td><td>15</td><td>2</td><td>0</td><td>i</td><td>Nem</td></tr>",
                            "<tr><td>64</td><td>15</td><td>2</td><td>0</td><td>i</td><td>Nem</td></tr>",
                            "<tr><td>65</td><td>16</td><td>2</td><td>0</td><td>n</td><td>Nem</td></tr>",
                            "<tr><td>66</td><td>17</td><td>3</td><td>0</td><td>n</td><td>Nem</td></tr>",
                            "<tr><td>66</td><td>17</td><td>3</td><td>0</td><td>n</td><td>Nem</td></tr>",
                            "<tr><td>66</td><td>17</td><td>3</td><td>0</td><td>n</td><td>Nem</td></tr>",
                            "<tr><td>66</td><td>17</td><td>3</td><td>0</td><td>n</td><td>Nem</td></tr>",
                            "<tr><td>67</td><td>18</td><td>2</td><td>2</td><td>i</td><td>Nem</td></tr>",
                            "<tr><td>67</td><td>18</td><td>2</td><td>2</td><td>i</td><td>Nem</td></tr>",
                            "<tr><td>67</td><td>18</td><td>2</td><td>2</td><td>i</td><td>Nem</td></tr>",
                            "<tr><td>67</td><td>18</td><td>2</td><td>2</td><td>i</td><td>Nem</td></tr>",
                            "<tr><td>67</td><td>18</td><td>2</td><td>2</td><td>i</td><td>Nem</td></tr>",
                            "<tr><td>67</td><td>18</td><td>2</td><td>2</td><td>i</td><td>Nem</td></tr>",
                            "<tr><td>68</td><td>19</td><td>2</td><td>2</td><td>i</td><td>Nem</td></tr>",
                            "<tr><td>68</td><td>19</td><td>2</td><td>2</td><td>i</td><td>Nem</td></tr>",
                            "<tr><td>68</td><td>19</td><td>2</td><td>2</td><td>i</td><td>Nem</td></tr>",
                            "<tr><td>69</td><td>20</td><td>3</td><td>1</td><td>n</td><td>Nem</td></tr>",
                            "<tr><td>69</td><td>20</td><td>3</td><td>1</td><td>n</td><td>Nem</td></tr>",
                            "<tr><td>69</td><td>20</td><td>3</td><td>1</td><td>n</td><td>Nem</td></tr>",
                            "<tr><td>69</td><td>20</td><td>3</td><td>1</td><td>n</td><td>Nem</td></tr>",
                            "<tr><td>70</td><td>21</td><td>2</td><td>1</td><td>i</td><td>Nem</td></tr>",
                            "<tr><td>70</td><td>21</td><td>2</td><td>1</td><td>i</td><td>Nem</td></tr>",
                            "<tr><td>70</td><td>21</td><td>2</td><td>1</td><td>i</td><td>Nem</td></tr>",
                            "<tr><td>70</td><td>21</td><td>2</td><td>1</td><td>i</td><td>Nem</td></tr>",
                            "<tr><td>70</td><td>21</td><td>2</td><td>1</td><td>i</td><td>Nem</td></tr>",
                            "<tr><td>70</td><td>21</td><td>2</td><td>1</td><td>i</td><td>Nem</td></tr>",
                            "<tr><td>70</td><td>21</td><td>2</td><td>1</td><td>i</td><td>Nem</td></tr>",
                            "<tr><td>70</td><td>21</td><td>2</td><td>1</td><td>i</td><td>Nem</td></tr>",
                            "<tr><td>70</td><td>21</td><td>2</td><td>1</td><td>i</td><td>Nem</td></tr>",
                            "<tr><td>70</td><td>21</td><td>2</td><td>1</td><td>i</td><td>Nem</td></tr>",
                            "<tr><td>70</td><td>21</td><td>2</td><td>1</td><td>i</td><td>Nem</td></tr>",
                            "<tr><td>71</td><td>22</td><td>3</td><td>0</td><td>i</td><td>Nem</td></tr>",
                            "<tr><td>71</td><td>22</td><td>3</td><td>0</td><td>i</td><td>Nem</td></tr>",
                            "<tr><td>71</td><td>22</td><td>3</td><td>0</td><td>i</td><td>Nem</td></tr>",
                            "<tr><td>72</td><td>23</td><td>2</td><td>0</td><td>n</td><td>Nem</td></tr>",
                            "<tr><td>72</td><td>23</td><td>2</td><td>0</td><td>n</td><td>Nem</td></tr>",
                            "<tr><td>72</td><td>23</td><td>2</td><td>0</td><td>n</td><td>Nem</td></tr>",
                            "<tr><td>72</td><td>23</td><td>2</td><td>0</td><td>n</td><td>Nem</td></tr>",
                            "<tr><td>73</td><td>24</td><td>2</td><td>1</td><td>i</td><td>Nem</td></tr>",
                            "<tr><td>73</td><td>24</td><td>2</td><td>1</td><td>i</td><td>Nem</td></tr>",
                            "<tr><td>73</td><td>24</td><td>2</td><td>1</td><td>i</td><td>Nem</td></tr>",
                            "<tr><td>73</td><td>24</td><td>2</td><td>1</td><td>i</td><td>Nem</td></tr>",
                            "<tr><td>74</td><td>25</td><td>3</td><td>1</td><td>n</td><td>Nem</td></tr>",
                            "<tr><td>74</td><td>25</td><td>3</td><td>1</td><td>n</td><td>Nem</td></tr>",
                            "<tr><td>74</td><td>25</td><td>3</td><td>1</td><td>n</td><td>Nem</td></tr>",
                            "<tr><td>74</td><td>25</td><td>3</td><td>1</td><td>n</td><td>Nem</td></tr>",
                            "<tr><td>74</td><td>25</td><td>3</td><td>1</td><td>n</td><td>Nem</td></tr>",
                            "<tr><td>74</td><td>25</td><td>3</td><td>1</td><td>n</td><td>Nem</td></tr>",
                            "<tr><td>74</td><td>25</td><td>3</td><td>1</td><td>n</td><td>Nem</td></tr>",
                            "<tr><td>74</td><td>25</td><td>3</td><td>1</td><td>n</td><td>Nem</td></tr>",
                            "<tr><td>74</td><td>25</td><td>3</td><td>1</td><td>n</td><td>Nem</td></tr>",
                            "<tr><td>75</td><td>26</td><td>2</td><td>1</td><td>n</td><td>Nem</td></tr>",
                            "<tr><td>75</td><td>26</td><td>2</td><td>1</td><td>n</td><td>Nem</td></tr>",
                            "<tr><td>75</td><td>26</td><td>2</td><td>1</td><td>n</td><td>Nem</td></tr>",
                            "<tr><td>76</td><td>27</td><td>2</td><td>0</td><td>i</td><td>Nem</td></tr>",
                            "<tr><td>76</td><td>27</td><td>2</td><td>0</td><td>i</td><td>Nem</td></tr>",
                            "<tr><td>76</td><td>27</td><td>2</td><td>0</td><td>i</td><td>Nem</td></tr>",
                            "<tr><td>77</td><td>28</td><td>3</td><td>1</td><td>i</td><td>Nem</td></tr>",
                            "<tr><td>77</td><td>28</td><td>3</td><td>1</td><td>i</td><td>Nem</td></tr>",
                            "<tr><td>77</td><td>28</td><td>3</td><td>1</td><td>i</td><td>Nem</td></tr>",
                            "<tr><td>77</td><td>28</td><td>3</td><td>1</td><td>i</td><td>Nem</td></tr>",
                            "<tr><td>77</td><td>28</td><td>3</td><td>1</td><td>i</td><td>Nem</td></tr>",
                            "<tr><td>77</td><td>28</td><td>3</td><td>1</td><td>i</td><td>Nem</td></tr>",
                            "<tr><td>78</td><td>29</td><td>2</td><td>1</td><td>n</td><td>Nem</td></tr>",
                            "<tr><td>78</td><td>29</td><td>2</td><td>1</td><td>n</td><td>Nem</td></tr>",
                            "<tr><td>78</td><td>29</td><td>2</td><td>1</td><td>n</td><td>Nem</td></tr>",
                            "<tr><td>78</td><td>29</td><td>2</td><td>1</td><td>n</td><td>Nem</td></tr>",
                            "<tr><td>78</td><td>29</td><td>2</td><td>1</td><td>n</td><td>Nem</td></tr>",
                            "<tr><td>78</td><td>29</td><td>2</td><td>1</td><td>n</td><td>Nem</td></tr>",
                            "<tr><td>79</td><td>30</td><td>3</td><td>0</td><td>i</td><td>Nem</td></tr>",
                            "<tr><td>79</td><td>30</td><td>3</td><td>0</td><td>i</td><td>Nem</td></tr>",
                            "<tr><td>79</td><td>30</td><td>3</td><td>0</td><td>i</td><td>Nem</td></tr>",
                            "<tr><td>79</td><td>30</td><td>3</td><td>0</td><td>i</td><td>Nem</td></tr>",
                            "<tr><td>79</td><td>30</td><td>3</td><td>0</td><td>i</td><td>Nem</td></tr>",
                            "<tr><td>80</td><td>31</td><td>2</td><td>1</td><td>i</td><td>Nem</td></tr>",
                            "<tr><td>80</td><td>31</td><td>2</td><td>1</td><td>i</td><td>Nem</td></tr>",
                            "<tr><td>80</td><td>31</td><td>2</td><td>1</td><td>i</td><td>Nem</td></tr>",
                            "<tr><td>80</td><td>31</td><td>2</td><td>1</td><td>i</td><td>Nem</td></tr>",
                            "<tr><td>80</td><td>31</td><td>2</td><td>1</td><td>i</td><td>Nem</td></tr>",
                            "<tr><td>80</td><td>31</td><td>2</td><td>1</td><td>i</td><td>Nem</td></tr>",
                            "<tr><td>80</td><td>31</td><td>2</td><td>1</td><td>i</td><td>Nem</td></tr>",
                            "<tr><td>81</td><td>32</td><td>2</td><td>0</td><td>i</td><td>Nem</td></tr>",
                            "<tr><td>81</td><td>32</td><td>2</td><td>0</td><td>i</td><td>Nem</td></tr>",
                            "<tr><td>81</td><td>32</td><td>2</td><td>0</td><td>i</td><td>Nem</td></tr>",
                            "<tr><td>81</td><td>32</td><td>2</td><td>0</td><td>i</td><td>Nem</td></tr>",
                            "<tr><td>81</td><td>32</td><td>2</td><td>0</td><td>i</td><td>Nem</td></tr>",
                            "<tr><td>82</td><td>33</td><td>3</td><td>0</td><td>i</td><td>Nem</td></tr>",
                            "<tr><td>82</td><td>33</td><td>3</td><td>0</td><td>i</td><td>Nem</td></tr>",
                            "<tr><td>82</td><td>33</td><td>3</td><td>0</td><td>i</td><td>Nem</td></tr>",
                            "<tr><td>82</td><td>33</td><td>3</td><td>0</td><td>i</td><td>Nem</td></tr>",
                            "<tr><td>82</td><td>33</td><td>3</td><td>0</td><td>i</td><td>Nem</td></tr>",
                            "<tr><td>82</td><td>33</td><td>3</td><td>0</td><td>i</td><td>Nem</td></tr>",
                            "<tr><td>83</td><td>34</td><td>3</td><td>0</td><td>i</td><td>Nem</td></tr>",
                            "<tr><td>83</td><td>34</td><td>3</td><td>0</td><td>i</td><td>Nem</td></tr>",
                            "<tr><td>83</td><td>34</td><td>3</td><td>0</td><td>i</td><td>Nem</td></tr>",
                            "<tr><td>83</td><td>34</td><td>3</td><td>0</td><td>i</td><td>Nem</td></tr>",
                            "<tr><td>83</td><td>34</td><td>3</td><td>0</td><td>i</td><td>Nem</td></tr>",
                            "<tr><td>83</td><td>34</td><td>3</td><td>0</td><td>i</td><td>Nem</td></tr>",
                            "<tr><td>83</td><td>34</td><td>3</td><td>0</td><td>i</td><td>Nem</td></tr>",
                            "<tr><td>83</td><td>34</td><td>3</td><td>0</td><td>i</td><td>Nem</td></tr>",
                            "<tr><td>84</td><td>35</td><td>3</td><td>0</td><td>i</td><td>Nem</td></tr>",
                            "<tr><td>84</td><td>35</td><td>3</td><td>0</td><td>i</td><td>Nem</td></tr>",
                            "<tr><td>84</td><td>35</td><td>3</td><td>0</td><td>i</td><td>Nem</td></tr>",
                            "<tr><td>84</td><td>35</td><td>3</td><td>0</td><td>i</td><td>Nem</td></tr>",
                            "<tr><td>85</td><td>1</td><td>2</td><td>1</td><td>n</td><td>Nem</td></tr>",
                            "<tr><td>85</td><td>1</td><td>2</td><td>1</td><td>n</td><td>Nem</td></tr>",
                            "<tr><td>85</td><td>1</td><td>2</td><td>1</td><td>n</td><td>Nem</td></tr>",
                            "<tr><td>85</td><td>1</td><td>2</td><td>1</td><td>n</td><td>Nem</td></tr>",
                            "<tr><td>86</td><td>2</td><td>2</td><td>1</td><td>i</td><td>Nem</td></tr>",
                            "<tr><td>86</td><td>2</td><td>2</td><td>1</td><td>i</td><td>Nem</td></tr>",
                            "<tr><td>86</td><td>2</td><td>2</td><td>1</td><td>i</td><td>Nem</td></tr>",
                            "<tr><td>86</td><td>2</td><td>2</td><td>1</td><td>i</td><td>Nem</td></tr>",
                            "<tr><td>86</td><td>2</td><td>2</td><td>1</td><td>i</td><td>Nem</td></tr>",
                            "<tr><td>87</td><td>3</td><td>3</td><td>0</td><td>i</td><td>Nem</td></tr>",
                            "<tr><td>87</td><td>3</td><td>3</td><td>0</td><td>i</td><td>Nem</td></tr>",
                            "<tr><td>87</td><td>3</td><td>3</td><td>0</td><td>i</td><td>Nem</td></tr>",
                            "<tr><td>87</td><td>3</td><td>3</td><td>0</td><td>i</td><td>Nem</td></tr>",
                            "<tr><td>87</td><td>3</td><td>3</td><td>0</td><td>i</td><td>Nem</td></tr>",
                            "<tr><td>88</td><td>4</td><td>3</td><td>0</td><td>n</td><td>Nem</td></tr>",
                            "<tr><td>88</td><td>4</td><td>3</td><td>0</td><td>n</td><td>Nem</td></tr>",
                            "<tr><td>88</td><td>4</td><td>3</td><td>0</td><td>n</td><td>Nem</td></tr>",
                            "<tr><td>88</td><td>4</td><td>3</td><td>0</td><td>n</td><td>Nem</td></tr>",
                            "<tr><td>88</td><td>4</td><td>3</td><td>0</td><td>n</td><td>Nem</td></tr>",
                            "<tr><td>88</td><td>4</td><td>3</td><td>0</td><td>n</td><td>Nem</td></tr>",
                            "<tr><td>88</td><td>4</td><td>3</td><td>0</td><td>n</td><td>Nem</td></tr>",
                            "<tr><td>88</td><td>4</td><td>3</td><td>0</td><td>n</td><td>Nem</td></tr>",
                            "<tr><td>89</td><td>5</td><td>3</td><td>0</td><td>i</td><td>Nem</td></tr>",
                            "<tr><td>89</td><td>5</td><td>3</td><td>0</td><td>i</td><td>Nem</td></tr>",
                            "<tr><td>89</td><td>5</td><td>3</td><td>0</td><td>i</td><td>Nem</td></tr>",
                            "<tr><td>89</td><td>5</td><td>3</td><td>0</td><td>i</td><td>Nem</td></tr>",
                            "<tr><td>89</td><td>5</td><td>3</td><td>0</td><td>i</td><td>Nem</td></tr>",
                            "<tr><td>89</td><td>5</td><td>3</td><td>0</td><td>i</td><td>Nem</td></tr>",
                            "<tr><td>89</td><td>5</td><td>3</td><td>0</td><td>i</td><td>Nem</td></tr>",
                            "<tr><td>89</td><td>5</td><td>3</td><td>0</td><td>i</td><td>Nem</td></tr>",
                            "<tr><td>90</td><td>6</td><td>3</td><td>0</td><td>i</td><td>Nem</td></tr>",
                            "<tr><td>90</td><td>6</td><td>3</td><td>0</td><td>i</td><td>Nem</td></tr>",
                            "<tr><td>90</td><td>6</td><td>3</td><td>0</td><td>i</td><td>Nem</td></tr>",
                            "<tr><td>90</td><td>6</td><td>3</td><td>0</td><td>i</td><td>Nem</td></tr>",
                            "<tr><td>91</td><td>1</td><td>2</td><td>0</td><td>n</td><td>Nem</td></tr>",
                            "<tr><td>91</td><td>1</td><td>2</td><td>0</td><td>n</td><td>Nem</td></tr>",
                            "<tr><td>91</td><td>1</td><td>2</td><td>0</td><td>n</td><td>Nem</td></tr>",
                            "<tr><td>92</td><td>2</td><td>3</td><td>1</td><td>i</td><td>Nem</td></tr>",
                            "<tr><td>92</td><td>2</td><td>3</td><td>1</td><td>i</td><td>Nem</td></tr>",
                            "<tr><td>92</td><td>2</td><td>3</td><td>1</td><td>i</td><td>Nem</td></tr>",
                            "<tr><td>92</td><td>2</td><td>3</td><td>1</td><td>i</td><td>Nem</td></tr>",
                            "<tr><td>92</td><td>2</td><td>3</td><td>1</td><td>i</td><td>Nem</td></tr>",
                            "<tr><td>92</td><td>2</td><td>3</td><td>1</td><td>i</td><td>Nem</td></tr>",
                            "<tr><td>93</td><td>3</td><td>3</td><td>2</td><td>i</td><td>Nem</td></tr>",
                            "<tr><td>93</td><td>3</td><td>3</td><td>2</td><td>i</td><td>Nem</td></tr>",
                            "<tr><td>93</td><td>3</td><td>3</td><td>2</td><td>i</td><td>Nem</td></tr>",
                            "<tr><td>93</td><td>3</td><td>3</td><td>2</td><td>i</td><td>Nem</td></tr>",
                            "<tr><td>93</td><td>3</td><td>3</td><td>2</td><td>i</td><td>Nem</td></tr>",
                            "<tr><td>94</td><td>4</td><td>2</td><td>0</td><td>n</td><td>Nem</td></tr>",
                            "<tr><td>94</td><td>4</td><td>2</td><td>0</td><td>n</td><td>Nem</td></tr>",
                            "<tr><td>94</td><td>4</td><td>2</td><td>0</td><td>n</td><td>Nem</td></tr>",
                            "<tr><td>94</td><td>4</td><td>2</td><td>0</td><td>n</td><td>Nem</td></tr>",
                            "<tr><td>94</td><td>4</td><td>2</td><td>0</td><td>n</td><td>Nem</td></tr>",
                            "<tr><td>94</td><td>4</td><td>2</td><td>0</td><td>n</td><td>Nem</td></tr>",
                            "<tr><td>94</td><td>4</td><td>2</td><td>0</td><td>n</td><td>Nem</td></tr>",
                            "<tr><td>94</td><td>4</td><td>2</td><td>0</td><td>n</td><td>Nem</td></tr>",
                            "<tr><td>94</td><td>4</td><td>2</td><td>0</td><td>n</td><td>Nem</td></tr>",
                            "<tr><td>94</td><td>4</td><td>2</td><td>0</td><td>n</td><td>Nem</td></tr>",
                            "<tr><td>95</td><td>5</td><td>3</td><td>1</td><td>i</td><td>Nem</td></tr>",
                            "<tr><td>95</td><td>5</td><td>3</td><td>1</td><td>i</td><td>Nem</td></tr>",
                            "<tr><td>95</td><td>5</td><td>3</td><td>1</td><td>i</td><td>Nem</td></tr>",
                            "<tr><td>95</td><td>5</td><td>3</td><td>1</td><td>i</td><td>Nem</td></tr>",
                            "<tr><td>96</td><td>6</td><td>3</td><td>0</td><td>n</td><td>Nem</td></tr>",
                            "<tr><td>96</td><td>6</td><td>3</td><td>0</td><td>n</td><td>Nem</td></tr>",
                            "<tr><td>96</td><td>6</td><td>3</td><td>0</td><td>n</td><td>Nem</td></tr>",
                            "<tr><td>96</td><td>6</td><td>3</td><td>0</td><td>n</td><td>Nem</td></tr>",
                            "<tr><td>96</td><td>6</td><td>3</td><td>0</td><td>n</td><td>Nem</td></tr>",
                            "<tr><td>96</td><td>6</td><td>3</td><td>0</td><td>n</td><td>Nem</td></tr>",
                            "<tr><td>96</td><td>6</td><td>3</td><td>0</td><td>n</td><td>Nem</td></tr>",
                            "<tr><td>97</td><td>7</td><td>3</td><td>2</td><td>n</td><td>Nem</td></tr>",
                            "<tr><td>97</td><td>7</td><td>3</td><td>2</td><td>n</td><td>Nem</td></tr>",
                            "<tr><td>97</td><td>7</td><td>3</td><td>2</td><td>n</td><td>Nem</td></tr>",
                            "<tr><td>97</td><td>7</td><td>3</td><td>2</td><td>n</td><td>Nem</td></tr>",
                            "<tr><td>97</td><td>7</td><td>3</td><td>2</td><td>n</td><td>Nem</td></tr>",
                            "<tr><td>97</td><td>7</td><td>3</td><td>2</td><td>n</td><td>Nem</td></tr>",
                            "<tr><td>97</td><td>7</td><td>3</td><td>2</td><td>n</td><td>Nem</td></tr>",
                            "<tr><td>98</td><td>8</td><td>2</td><td>0</td><td>n</td><td>Nem</td></tr>",
                            "<tr><td>98</td><td>8</td><td>2</td><td>0</td><td>n</td><td>Nem</td></tr>",
                            "<tr><td>98</td><td>8</td><td>2</td><td>0</td><td>n</td><td>Nem</td></tr>",
                            "<tr><td>98</td><td>8</td><td>2</td><td>0</td><td>n</td><td>Nem</td></tr>",
                            "<tr><td>99</td><td>9</td><td>2</td><td>0</td><td>n</td><td>Nem</td></tr>",
                            "<tr><td>99</td><td>9</td><td>2</td><td>0</td><td>n</td><td>Nem</td></tr>",
                            "<tr><td>99</td><td>9</td><td>2</td><td>0</td><td>n</td><td>Nem</td></tr>",
                            "<tr><td>99</td><td>9</td><td>2</td><td>0</td><td>n</td><td>Nem</td></tr>",
                            "<tr><td>99</td><td>9</td><td>2</td><td>0</td><td>n</td><td>Nem</td></tr>",
                            "<tr><td>100</td><td>10</td><td>2</td><td>1</td><td>i</td><td>Nem</td></tr>",
                            "<tr><td>100</td><td>10</td><td>2</td><td>1</td><td>i</td><td>Nem</td></tr>",
                            "<tr><td>100</td><td>10</td><td>2</td><td>1</td><td>i</td><td>Nem</td></tr>",
                            "<tr><td>100</td><td>10</td><td>2</td><td>1</td><td>i</td><td>Nem</td></tr>",
                            "<tr><td>101</td><td>11</td><td>2</td><td>0</td><td>i</td><td>Nem</td></tr>",
                            "<tr><td>101</td><td>11</td><td>2</td><td>0</td><td>i</td><td>Nem</td></tr>",
                            "<tr><td>101</td><td>11</td><td>2</td><td>0</td><td>i</td><td>Nem</td></tr>",
                            "<tr><td>102</td><td>12</td><td>2</td><td>1</td><td>i</td><td>Nem</td></tr>",
                            "<tr><td>102</td><td>12</td><td>2</td><td>1</td><td>i</td><td>Nem</td></tr>",
                            "<tr><td>103</td><td>13</td><td>2</td><td>1</td><td>i</td><td>Nem</td></tr>",
                            "<tr><td>103</td><td>13</td><td>2</td><td>1</td><td>i</td><td>Nem</td></tr>",
                            "<tr><td>103</td><td>13</td><td>2</td><td>1</td><td>i</td><td>Nem</td></tr>",
                            "<tr><td>103</td><td>13</td><td>2</td><td>1</td><td>i</td><td>Nem</td></tr>",
                            "<tr><td>104</td><td>14</td><td>3</td><td>0</td><td>i</td><td>Nem</td></tr>",
                            "<tr><td>104</td><td>14</td><td>3</td><td>0</td><td>i</td><td>Nem</td></tr>",
                            "<tr><td>104</td><td>14</td><td>3</td><td>0</td><td>i</td><td>Nem</td></tr>",
                            "<tr><td>104</td><td>14</td><td>3</td><td>0</td><td>i</td><td>Nem</td></tr>",
                            "<tr><td>105</td><td>15</td><td>2</td><td>0</td><td>i</td><td>Nem</td></tr>",
                            "<tr><td>105</td><td>15</td><td>2</td><td>0</td><td>i</td><td>Nem</td></tr>",
                            "<tr><td>106</td><td>16</td><td>2</td><td>0</td><td>i</td><td>Nem</td></tr>",
                            "<tr><td>106</td><td>16</td><td>2</td><td>0</td><td>i</td><td>Nem</td></tr>",
                            "<tr><td>106</td><td>16</td><td>2</td><td>0</td><td>i</td><td>Nem</td></tr>",
                            "<tr><td>106</td><td>16</td><td>2</td><td>0</td><td>i</td><td>Nem</td></tr>",
                            "<tr><td>106</td><td>16</td><td>2</td><td>0</td><td>i</td><td>Nem</td></tr>",
                            "<tr><td>106</td><td>16</td><td>2</td><td>0</td><td>i</td><td>Nem</td></tr>",
                            "<tr><td>107</td><td>17</td><td>2</td><td>1</td><td>n</td><td>Nem</td></tr>",
                            "<tr><td>107</td><td>17</td><td>2</td><td>1</td><td>n</td><td>Nem</td></tr>",
                            "<tr><td>107</td><td>17</td><td>2</td><td>1</td><td>n</td><td>Nem</td></tr>",
                            "<tr><td>107</td><td>17</td><td>2</td><td>1</td><td>n</td><td>Nem</td></tr>",
                            "<tr><td>107</td><td>17</td><td>2</td><td>1</td><td>n</td><td>Nem</td></tr>",
                            "<tr><td>108</td><td>18</td><td>2</td><td>0</td><td>i</td><td>Nem</td></tr>",
                            "<tr><td>108</td><td>18</td><td>2</td><td>0</td><td>i</td><td>Nem</td></tr>",
                            "<tr><td>109</td><td>19</td><td>2</td><td>1</td><td>i</td><td>Nem</td></tr>",
                            "<tr><td>109</td><td>19</td><td>2</td><td>1</td><td>i</td><td>Nem</td></tr>",
                            "<tr><td>109</td><td>19</td><td>2</td><td>1</td><td>i</td><td>Nem</td></tr>",
                            "<tr><td>109</td><td>19</td><td>2</td><td>1</td><td>i</td><td>Nem</td></tr>",
                            "<tr><td>109</td><td>19</td><td>2</td><td>1</td><td>i</td><td>Nem</td></tr>",
                            "<tr><td>109</td><td>19</td><td>2</td><td>1</td><td>i</td><td>Nem</td></tr>",
                            "<tr><td>109</td><td>19</td><td>2</td><td>1</td><td>i</td><td>Nem</td></tr>",
                            "<tr><td>110</td><td>20</td><td>2</td><td>0</td><td>i</td><td>Nem</td></tr>",
                            "<tr><td>110</td><td>20</td><td>2</td><td>0</td><td>i</td><td>Nem</td></tr>",
                            "<tr><td>110</td><td>20</td><td>2</td><td>0</td><td>i</td><td>Nem</td></tr>",
                            "<tr><td>110</td><td>20</td><td>2</td><td>0</td><td>i</td><td>Nem</td></tr>",
                            "<tr><td>110</td><td>20</td><td>2</td><td>0</td><td>i</td><td>Nem</td></tr>",
                            "<tr><td>110</td><td>20</td><td>2</td><td>0</td><td>i</td><td>Nem</td></tr>",
                            "<tr><td>110</td><td>20</td><td>2</td><td>0</td><td>i</td><td>Nem</td></tr>",
                            "<tr><td>110</td><td>20</td><td>2</td><td>0</td><td>i</td><td>Nem</td></tr>",
                            "<tr><td>111</td><td>21</td><td>2</td><td>1</td><td>i</td><td>Nem</td></tr>",
                            "<tr><td>111</td><td>21</td><td>2</td><td>1</td><td>i</td><td>Nem</td></tr>",
                            "<tr><td>111</td><td>21</td><td>2</td><td>1</td><td>i</td><td>Nem</td></tr>",
                            "<tr><td>111</td><td>21</td><td>2</td><td>1</td><td>i</td><td>Nem</td></tr>",
                            "<tr><td>111</td><td>21</td><td>2</td><td>1</td><td>i</td><td>Nem</td></tr>",
                            "<tr><td>112</td><td>22</td><td>3</td><td>0</td><td>i</td><td>Nem</td></tr>",
                            "<tr><td>112</td><td>22</td><td>3</td><td>0</td><td>i</td><td>Nem</td></tr>",
                            "<tr><td>112</td><td>22</td><td>3</td><td>0</td><td>i</td><td>Nem</td></tr>",
                            "<tr><td>112</td><td>22</td><td>3</td><td>0</td><td>i</td><td>Nem</td></tr>",
                            "<tr><td>112</td><td>22</td><td>3</td><td>0</td><td>i</td><td>Nem</td></tr>",
                            "<tr><td>113</td><td>23</td><td>3</td><td>2</td><td>i</td><td>Nem</td></tr>",
                            "<tr><td>113</td><td>23</td><td>3</td><td>2</td><td>i</td><td>Nem</td></tr>",
                            "<tr><td>113</td><td>23</td><td>3</td><td>2</td><td>i</td><td>Nem</td></tr>",
                            "<tr><td>113</td><td>23</td><td>3</td><td>2</td><td>i</td><td>Nem</td></tr>",
                            "<tr><td>113</td><td>23</td><td>3</td><td>2</td><td>i</td><td>Nem</td></tr>",
                            "<tr><td>114</td><td>24</td><td>2</td><td>1</td><td>n</td><td>Nem</td></tr>",
                            "<tr><td>114</td><td>24</td><td>2</td><td>1</td><td>n</td><td>Nem</td></tr>",
                            "<tr><td>114</td><td>24</td><td>2</td><td>1</td><td>n</td><td>Nem</td></tr>",
                            "<tr><td>114</td><td>24</td><td>2</td><td>1</td><td>n</td><td>Nem</td></tr>",
                            "<tr><td>115</td><td>25</td><td>3</td><td>0</td><td>i</td><td>Nem</td></tr>",
                            "<tr><td>115</td><td>25</td><td>3</td><td>0</td><td>i</td><td>Nem</td></tr>",
                            "<tr><td>115</td><td>25</td><td>3</td><td>0</td><td>i</td><td>Nem</td></tr>",
                            "<tr><td>115</td><td>25</td><td>3</td><td>0</td><td>i</td><td>Nem</td></tr>",
                            "<tr><td>115</td><td>25</td><td>3</td><td>0</td><td>i</td><td>Nem</td></tr>",
                            "<tr><td>115</td><td>25</td><td>3</td><td>0</td><td>i</td><td>Nem</td></tr>",
                            "<tr><td>115</td><td>25</td><td>3</td><td>0</td><td>i</td><td>Nem</td></tr>",
                            "<tr><td>116</td><td>26</td><td>3</td><td>0</td><td>i</td><td>Nem</td></tr>",
                            "<tr><td>116</td><td>26</td><td>3</td><td>0</td><td>i</td><td>Nem</td></tr>",
                            "<tr><td>117</td><td>27</td><td>3</td><td>1</td><td>i</td><td>Nem</td></tr>",
                            "<tr><td>117</td><td>27</td><td>3</td><td>1</td><td>i</td><td>Nem</td></tr>",
                            "<tr><td>117</td><td>27</td><td>3</td><td>1</td><td>i</td><td>Nem</td></tr>",
                            "<tr><td>117</td><td>27</td><td>3</td><td>1</td><td>i</td><td>Nem</td></tr>",
                            "<tr><td>117</td><td>27</td><td>3</td><td>1</td><td>i</td><td>Nem</td></tr>",
                            "<tr><td>117</td><td>27</td><td>3</td><td>1</td><td>i</td><td>Nem</td></tr>",
                            "<tr><td>117</td><td>27</td><td>3</td><td>1</td><td>i</td><td>Nem</td></tr>",
                            "<tr><td>117</td><td>27</td><td>3</td><td>1</td><td>i</td><td>Nem</td></tr>",
                            "<tr><td>118</td><td>28</td><td>2</td><td>1</td><td>i</td><td>Nem</td></tr>",
                            "<tr><td>118</td><td>28</td><td>2</td><td>1</td><td>i</td><td>Nem</td></tr>",
                            "<tr><td>118</td><td>28</td><td>2</td><td>1</td><td>i</td><td>Nem</td></tr>",
                            "<tr><td>118</td><td>28</td><td>2</td><td>1</td><td>i</td><td>Nem</td></tr>",
                            "<tr><td>118</td><td>28</td><td>2</td><td>1</td><td>i</td><td>Nem</td></tr>",
                            "<tr><td>118</td><td>28</td><td>2</td><td>1</td><td>i</td><td>Nem</td></tr>",
                            "<tr><td>118</td><td>28</td><td>2</td><td>1</td><td>i</td><td>Nem</td></tr>",
                            "<tr><td>119</td><td>29</td><td>2</td><td>0</td><td>i</td><td>Nem</td></tr>",
                            "<tr><td>119</td><td>29</td><td>2</td><td>0</td><td>i</td><td>Nem</td></tr>",
                            "<tr><td>119</td><td>29</td><td>2</td><td>0</td><td>i</td><td>Nem</td></tr>",
                            "<tr><td>119</td><td>29</td><td>2</td><td>0</td><td>i</td><td>Nem</td></tr>",
                            "<tr><td>119</td><td>29</td><td>2</td><td>0</td><td>i</td><td>Nem</td></tr>",
                            "<tr><td>120</td><td>30</td><td>3</td><td>1</td><td>i</td><td>Nem</td></tr>",
                            "<tr><td>120</td><td>30</td><td>3</td><td>1</td><td>i</td><td>Nem</td></tr>",
                            "<tr><td>120</td><td>30</td><td>3</td><td>1</td><td>i</td><td>Nem</td></tr>",
                            "<tr><td>120</td><td>30</td><td>3</td><td>1</td><td>i</td><td>Nem</td></tr>",
                            "<tr><td>120</td><td>30</td><td>3</td><td>1</td><td>i</td><td>Nem</td></tr>",
                            "<tr><td>120</td><td>30</td><td>3</td><td>1</td><td>i</td><td>Nem</td></tr>",
                            "<tr><td>121</td><td>31</td><td>2</td><td>1</td><td>i</td><td>Nem</td></tr>",
                            "<tr><td>121</td><td>31</td><td>2</td><td>1</td><td>i</td><td>Nem</td></tr>",
                            "<tr><td>121</td><td>31</td><td>2</td><td>1</td><td>i</td><td>Nem</td></tr>",
                            "<tr><td>121</td><td>31</td><td>2</td><td>1</td><td>i</td><td>Nem</td></tr>",
                            "<tr><td>121</td><td>31</td><td>2</td><td>1</td><td>i</td><td>Nem</td></tr>",
                            "<tr><td>121</td><td>31</td><td>2</td><td>1</td><td>i</td><td>Nem</td></tr>",
                            "<tr><td>121</td><td>31</td><td>2</td><td>1</td><td>i</td><td>Nem</td></tr>",
                            "<tr><td>121</td><td>31</td><td>2</td><td>1</td><td>i</td><td>Nem</td></tr>",
                            "<tr><td>122</td><td>32</td><td>3</td><td>1</td><td>i</td><td>Nem</td></tr>",
                            "<tr><td>122</td><td>32</td><td>3</td><td>1</td><td>i</td><td>Nem</td></tr>",
                            "<tr><td>122</td><td>32</td><td>3</td><td>1</td><td>i</td><td>Nem</td></tr>",
                            "<tr><td>122</td><td>32</td><td>3</td><td>1</td><td>i</td><td>Nem</td></tr>",
                            "<tr><td>122</td><td>32</td><td>3</td><td>1</td><td>i</td><td>Nem</td></tr>",
                            "<tr><td>122</td><td>32</td><td>3</td><td>1</td><td>i</td><td>Nem</td></tr>",
                            "<tr><td>122</td><td>32</td><td>3</td><td>1</td><td>i</td><td>Nem</td></tr>",
                            "<tr><td>122</td><td>32</td><td>3</td><td>1</td><td>i</td><td>Nem</td></tr>",
                            "<tr><td>122</td><td>32</td><td>3</td><td>1</td><td>i</td><td>Nem</td></tr>",
                            "<tr><td>123</td><td>33</td><td>3</td><td>0</td><td>n</td><td>Nem</td></tr>",
                            "<tr><td>123</td><td>33</td><td>3</td><td>0</td><td>n</td><td>Nem</td></tr>",
                            "<tr><td>123</td><td>33</td><td>3</td><td>0</td><td>n</td><td>Nem</td></tr>",
                            "<tr><td>123</td><td>33</td><td>3</td><td>0</td><td>n</td><td>Nem</td></tr>",
                            "<tr><td>123</td><td>33</td><td>3</td><td>0</td><td>n</td><td>Nem</td></tr>",
                            "<tr><td>124</td><td>34</td><td>3</td><td>0</td><td>n</td><td>Nem</td></tr>",
                            "<tr><td>124</td><td>34</td><td>3</td><td>0</td><td>n</td><td>Nem</td></tr>",
                            "<tr><td>124</td><td>34</td><td>3</td><td>0</td><td>n</td><td>Nem</td></tr>",
                            "<tr><td>124</td><td>34</td><td>3</td><td>0</td><td>n</td><td>Nem</td></tr>",
                            "<tr><td>124</td><td>34</td><td>3</td><td>0</td><td>n</td><td>Nem</td></tr>",
                            "<tr><td>124</td><td>34</td><td>3</td><td>0</td><td>n</td><td>Nem</td></tr>",
                            "<tr><td>125</td><td>35</td><td>2</td><td>1</td><td>i</td><td>Nem</td></tr>",
                            "<tr><td>126</td><td>36</td><td>2</td><td>1</td><td>n</td><td>Nem</td></tr>",
                            "<tr><td>126</td><td>36</td><td>2</td><td>1</td><td>n</td><td>Nem</td></tr>",
                            "<tr><td>126</td><td>36</td><td>2</td><td>1</td><td>n</td><td>Nem</td></tr>",
                            "<tr><td>126</td><td>36</td><td>2</td><td>1</td><td>n</td><td>Nem</td></tr>",
                            "<tr><td>126</td><td>36</td><td>2</td><td>1</td><td>n</td><td>Nem</td></tr>",
                            "<tr><td>126</td><td>36</td><td>2</td><td>1</td><td>n</td><td>Nem</td></tr>",
                            "<tr><td>127</td><td>37</td><td>2</td><td>1</td><td>i</td><td>Nem</td></tr>",
                            "<tr><td>127</td><td>37</td><td>2</td><td>1</td><td>i</td><td>Nem</td></tr>",
                            "<tr><td>127</td><td>37</td><td>2</td><td>1</td><td>i</td><td>Nem</td></tr>",
                            "<tr><td>127</td><td>37</td><td>2</td><td>1</td><td>i</td><td>Nem</td></tr>",
                            "<tr><td>127</td><td>37</td><td>2</td><td>1</td><td>i</td><td>Nem</td></tr>",
                            "<tr><td>127</td><td>37</td><td>2</td><td>1</td><td>i</td><td>Nem</td></tr>",
                            "<tr><td>127</td><td>37</td><td>2</td><td>1</td><td>i</td><td>Nem</td></tr>",
                            "<tr><td>128</td><td>38</td><td>2</td><td>1</td><td>i</td><td>Nem</td></tr>",
                            "<tr><td>128</td><td>38</td><td>2</td><td>1</td><td>i</td><td>Nem</td></tr>",
                            "<tr><td>128</td><td>38</td><td>2</td><td>1</td><td>i</td><td>Nem</td></tr>",
                            "<tr><td>128</td><td>38</td><td>2</td><td>1</td><td>i</td><td>Nem</td></tr>",
                            "<tr><td>128</td><td>38</td><td>2</td><td>1</td><td>i</td><td>Nem</td></tr>",
                            "<tr><td>129</td><td>39</td><td>2</td><td>1</td><td>i</td><td>Nem</td></tr>",
                            "<tr><td>129</td><td>39</td><td>2</td><td>1</td><td>i</td><td>Nem</td></tr>",
                            "<tr><td>129</td><td>39</td><td>2</td><td>1</td><td>i</td><td>Nem</td></tr>",
                            "<tr><td>129</td><td>39</td><td>2</td><td>1</td><td>i</td><td>Nem</td></tr>",
                            "<tr><td>130</td><td>1</td><td>2</td><td>0</td><td>n</td><td>Nem</td></tr>",
                            "<tr><td>130</td><td>1</td><td>2</td><td>0</td><td>n</td><td>Nem</td></tr>",
                            "<tr><td>130</td><td>1</td><td>2</td><td>0</td><td>n</td><td>Nem</td></tr>",
                            "<tr><td>130</td><td>1</td><td>2</td><td>0</td><td>n</td><td>Nem</td></tr>",
                            "<tr><td>130</td><td>1</td><td>2</td><td>0</td><td>n</td><td>Nem</td></tr>",
                            "<tr><td>130</td><td>1</td><td>2</td><td>0</td><td>n</td><td>Nem</td></tr>",
                            "<tr><td>131</td><td>2</td><td>2</td><td>0</td><td>n</td><td>Nem</td></tr>",
                            "<tr><td>131</td><td>2</td><td>2</td><td>0</td><td>n</td><td>Nem</td></tr>",
                            "<tr><td>131</td><td>2</td><td>2</td><td>0</td><td>n</td><td>Nem</td></tr>",
                            "<tr><td>131</td><td>2</td><td>2</td><td>0</td><td>n</td><td>Nem</td></tr>",
                            "<tr><td>131</td><td>2</td><td>2</td><td>0</td><td>n</td><td>Nem</td></tr>",
                            "<tr><td>132</td><td>3</td><td>3</td><td>0</td><td>i</td><td>Nem</td></tr>",
                            "<tr><td>132</td><td>3</td><td>3</td><td>0</td><td>i</td><td>Nem</td></tr>",
                            "<tr><td>132</td><td>3</td><td>3</td><td>0</td><td>i</td><td>Nem</td></tr>",
                            "<tr><td>132</td><td>3</td><td>3</td><td>0</td><td>i</td><td>Nem</td></tr>",
                            "<tr><td>132</td><td>3</td><td>3</td><td>0</td><td>i</td><td>Nem</td></tr>",
                            "<tr><td>132</td><td>3</td><td>3</td><td>0</td><td>i</td><td>Nem</td></tr>",
                            "<tr><td>133</td><td>4</td><td>3</td><td>0</td><td>n</td><td>Nem</td></tr>",
                            "<tr><td>133</td><td>4</td><td>3</td><td>0</td><td>n</td><td>Nem</td></tr>",
                            "<tr><td>133</td><td>4</td><td>3</td><td>0</td><td>n</td><td>Nem</td></tr>",
                            "<tr><td>133</td><td>4</td><td>3</td><td>0</td><td>n</td><td>Nem</td></tr>",
                            "<tr><td>133</td><td>4</td><td>3</td><td>0</td><td>n</td><td>Nem</td></tr>",
                            "<tr><td>133</td><td>4</td><td>3</td><td>0</td><td>n</td><td>Nem</td></tr>",
                            "<tr><td>133</td><td>4</td><td>3</td><td>0</td><td>n</td><td>Nem</td></tr>",
                            "<tr><td>133</td><td>4</td><td>3</td><td>0</td><td>n</td><td>Nem</td></tr>",
                            "<tr><td>134</td><td>5</td><td>3</td><td>0</td><td>i</td><td>Nem</td></tr>",
                            "<tr><td>134</td><td>5</td><td>3</td><td>0</td><td>i</td><td>Nem</td></tr>",
                            "<tr><td>134</td><td>5</td><td>3</td><td>0</td><td>i</td><td>Nem</td></tr>",
                            "<tr><td>134</td><td>5</td><td>3</td><td>0</td><td>i</td><td>Nem</td></tr>",
                            "<tr><td>134</td><td>5</td><td>3</td><td>0</td><td>i</td><td>Nem</td></tr>",
                            "<tr><td>134</td><td>5</td><td>3</td><td>0</td><td>i</td><td>Nem</td></tr>",
                            "<tr><td>135</td><td>1</td><td>3</td><td>0</td><td>i</td><td>Nem</td></tr>",
                            "<tr><td>135</td><td>1</td><td>3</td><td>0</td><td>i</td><td>Nem</td></tr>",
                            "<tr><td>135</td><td>1</td><td>3</td><td>0</td><td>i</td><td>Nem</td></tr>",
                            "<tr><td>136</td><td>2</td><td>2</td><td>0</td><td>n</td><td>Nem</td></tr>",
                            "<tr><td>136</td><td>2</td><td>2</td><td>0</td><td>n</td><td>Nem</td></tr>",
                            "<tr><td>136</td><td>2</td><td>2</td><td>0</td><td>n</td><td>Nem</td></tr>",
                            "<tr><td>137</td><td>3</td><td>2</td><td>1</td><td>i</td><td>Nem</td></tr>",
                            "<tr><td>137</td><td>3</td><td>2</td><td>1</td><td>i</td><td>Nem</td></tr>",
                            "<tr><td>137</td><td>3</td><td>2</td><td>1</td><td>i</td><td>Nem</td></tr>",
                            "<tr><td>137</td><td>3</td><td>2</td><td>1</td><td>i</td><td>Nem</td></tr>",
                            "<tr><td>137</td><td>3</td><td>2</td><td>1</td><td>i</td><td>Nem</td></tr>",
                            "<tr><td>137</td><td>3</td><td>2</td><td>1</td><td>i</td><td>Nem</td></tr>",
                            "<tr><td>138</td><td>4</td><td>3</td><td>1</td><td>i</td><td>Nem</td></tr>",
                            "<tr><td>138</td><td>4</td><td>3</td><td>1</td><td>i</td><td>Nem</td></tr>",
                            "<tr><td>138</td><td>4</td><td>3</td><td>1</td><td>i</td><td>Nem</td></tr>",
                            "<tr><td>138</td><td>4</td><td>3</td><td>1</td><td>i</td><td>Nem</td></tr>",
                            "<tr><td>138</td><td>4</td><td>3</td><td>1</td><td>i</td><td>Nem</td></tr>",
                            "<tr><td>138</td><td>4</td><td>3</td><td>1</td><td>i</td><td>Nem</td></tr>",
                            "<tr><td>138</td><td>4</td><td>3</td><td>1</td><td>i</td><td>Nem</td></tr>",
                            "<tr><td>139</td><td>5</td><td>2</td><td>1</td><td>i</td><td>Nem</td></tr>",
                            "<tr><td>139</td><td>5</td><td>2</td><td>1</td><td>i</td><td>Nem</td></tr>",
                            "<tr><td>139</td><td>5</td><td>2</td><td>1</td><td>i</td><td>Nem</td></tr>",
                            "<tr><td>139</td><td>5</td><td>2</td><td>1</td><td>i</td><td>Nem</td></tr>",
                            "<tr><td>139</td><td>5</td><td>2</td><td>1</td><td>i</td><td>Nem</td></tr>",
                            "<tr><td>139</td><td>5</td><td>2</td><td>1</td><td>i</td><td>Nem</td></tr>",
                            "<tr><td>139</td><td>5</td><td>2</td><td>1</td><td>i</td><td>Nem</td></tr>",
                            "<tr><td>140</td><td>6</td><td>2</td><td>1</td><td>i</td><td>Nem</td></tr>",
                            "<tr><td>140</td><td>6</td><td>2</td><td>1</td><td>i</td><td>Nem</td></tr>",
                            "<tr><td>140</td><td>6</td><td>2</td><td>1</td><td>i</td><td>Nem</td></tr>",
                            "<tr><td>140</td><td>6</td><td>2</td><td>1</td><td>i</td><td>Nem</td></tr>",
                            "<tr><td>140</td><td>6</td><td>2</td><td>1</td><td>i</td><td>Nem</td></tr>",
                            "<tr><td>140</td><td>6</td><td>2</td><td>1</td><td>i</td><td>Nem</td></tr>",
                            "<tr><td>140</td><td>6</td><td>2</td><td>1</td><td>i</td><td>Nem</td></tr>",
                            "<tr><td>140</td><td>6</td><td>2</td><td>1</td><td>i</td><td>Nem</td></tr>",
                            "<tr><td>140</td><td>6</td><td>2</td><td>1</td><td>i</td><td>Nem</td></tr>",
                            "<tr><td>141</td><td>7</td><td>2</td><td>0</td><td>n</td><td>Nem</td></tr>",
                            "<tr><td>141</td><td>7</td><td>2</td><td>0</td><td>n</td><td>Nem</td></tr>",
                            "<tr><td>141</td><td>7</td><td>2</td><td>0</td><td>n</td><td>Nem</td></tr>",
                            "<tr><td>141</td><td>7</td><td>2</td><td>0</td><td>n</td><td>Nem</td></tr>",
                            "<tr><td>141</td><td>7</td><td>2</td><td>0</td><td>n</td><td>Nem</td></tr>",
                            "<tr><td>141</td><td>7</td><td>2</td><td>0</td><td>n</td><td>Nem</td></tr>",
                            "<tr><td>141</td><td>7</td><td>2</td><td>0</td><td>n</td><td>Nem</td></tr>",
                            "<tr><td>142</td><td>8</td><td>3</td><td>0</td><td>n</td><td>Nem</td></tr>",
                            "<tr><td>142</td><td>8</td><td>3</td><td>0</td><td>n</td><td>Nem</td></tr>",
                            "<tr><td>143</td><td>9</td><td>3</td><td>1</td><td>i</td><td>Nem</td></tr>",
                            "<tr><td>143</td><td>9</td><td>3</td><td>1</td><td>i</td><td>Nem</td></tr>",
                            "<tr><td>143</td><td>9</td><td>3</td><td>1</td><td>i</td><td>Nem</td></tr>",
                            "<tr><td>143</td><td>9</td><td>3</td><td>1</td><td>i</td><td>Nem</td></tr>",
                            "<tr><td>143</td><td>9</td><td>3</td><td>1</td><td>i</td><td>Nem</td></tr>",
                            "<tr><td>143</td><td>9</td><td>3</td><td>1</td><td>i</td><td>Nem</td></tr>",
                            "<tr><td>143</td><td>9</td><td>3</td><td>1</td><td>i</td><td>Nem</td></tr>",
                            "<tr><td>144</td><td>10</td><td>3</td><td>1</td><td>n</td><td>Nem</td></tr>",
                            "<tr><td>144</td><td>10</td><td>3</td><td>1</td><td>n</td><td>Nem</td></tr>",
                            "<tr><td>144</td><td>10</td><td>3</td><td>1</td><td>n</td><td>Nem</td></tr>",
                            "<tr><td>144</td><td>10</td><td>3</td><td>1</td><td>n</td><td>Nem</td></tr>",
                            "<tr><td>144</td><td>10</td><td>3</td><td>1</td><td>n</td><td>Nem</td></tr>",
                            "<tr><td>145</td><td>11</td><td>2</td><td>2</td><td>i</td><td>Nem</td></tr>",
                            "<tr><td>145</td><td>11</td><td>2</td><td>2</td><td>i</td><td>Nem</td></tr>",
                            "<tr><td>145</td><td>11</td><td>2</td><td>2</td><td>i</td><td>Nem</td></tr>",
                            "<tr><td>145</td><td>11</td><td>2</td><td>2</td><td>i</td><td>Nem</td></tr>",
                            "<tr><td>145</td><td>11</td><td>2</td><td>2</td><td>i</td><td>Nem</td></tr>",
                            "<tr><td>146</td><td>12</td><td>3</td><td>0</td><td>i</td><td>Nem</td></tr>",
                            "<tr><td>146</td><td>12</td><td>3</td><td>0</td><td>i</td><td>Nem</td></tr>",
                            "<tr><td>146</td><td>12</td><td>3</td><td>0</td><td>i</td><td>Nem</td></tr>",
                            "<tr><td>146</td><td>12</td><td>3</td><td>0</td><td>i</td><td>Nem</td></tr>",
                            "<tr><td>146</td><td>12</td><td>3</td><td>0</td><td>i</td><td>Nem</td></tr>",
                            "<tr><td>146</td><td>12</td><td>3</td><td>0</td><td>i</td><td>Nem</td></tr>",
                            "<tr><td>147</td><td>13</td><td>2</td><td>0</td><td>i</td><td>Nem</td></tr>",
                            "<tr><td>148</td><td>14</td><td>2</td><td>0</td><td>i</td><td>Nem</td></tr>",
                            "<tr><td>148</td><td>14</td><td>2</td><td>0</td><td>i</td><td>Nem</td></tr>",
                            "<tr><td>148</td><td>14</td><td>2</td><td>0</td><td>i</td><td>Nem</td></tr>",
                            "<tr><td>148</td><td>14</td><td>2</td><td>0</td><td>i</td><td>Nem</td></tr>",
                            "<tr><td>148</td><td>14</td><td>2</td><td>0</td><td>i</td><td>Nem</td></tr>",
                            "<tr><td>148</td><td>14</td><td>2</td><td>0</td><td>i</td><td>Nem</td></tr>",
                            "<tr><td>149</td><td>15</td><td>2</td><td>0</td><td>i</td><td>Nem</td></tr>",
                            "<tr><td>149</td><td>15</td><td>2</td><td>0</td><td>i</td><td>Nem</td></tr>",
                            "<tr><td>149</td><td>15</td><td>2</td><td>0</td><td>i</td><td>Nem</td></tr>",
                            "<tr><td>149</td><td>15</td><td>2</td><td>0</td><td>i</td><td>Nem</td></tr>",
                            "<tr><td>149</td><td>15</td><td>2</td><td>0</td><td>i</td><td>Nem</td></tr>",
                            "<tr><td>149</td><td>15</td><td>2</td><td>0</td><td>i</td><td>Nem</td></tr>",
                            "<tr><td>149</td><td>15</td><td>2</td><td>0</td><td>i</td><td>Nem</td></tr>",
                            "<tr><td>150</td><td>16</td><td>2</td><td>1</td><td>i</td><td>Nem</td></tr>",
                            "<tr><td>150</td><td>16</td><td>2</td><td>1</td><td>i</td><td>Nem</td></tr>",
                            "<tr><td>150</td><td>16</td><td>2</td><td>1</td><td>i</td><td>Nem</td></tr>",
                            "<tr><td>150</td><td>16</td><td>2</td><td>1</td><td>i</td><td>Nem</td></tr>",
                            "<tr><td>150</td><td>16</td><td>2</td><td>1</td><td>i</td><td>Nem</td></tr>",
                            "<tr><td>150</td><td>16</td><td>2</td><td>1</td><td>i</td><td>Nem</td></tr>",
                            "<tr><td>151</td><td>17</td><td>2</td><td>0</td><td>n</td><td>Nem</td></tr>",
                            "<tr><td>151</td><td>17</td><td>2</td><td>0</td><td>n</td><td>Nem</td></tr>",
                            "<tr><td>151</td><td>17</td><td>2</td><td>0</td><td>n</td><td>Nem</td></tr>",
                            "<tr><td>152</td><td>18</td><td>2</td><td>0</td><td>i</td><td>Nem</td></tr>",
                            "<tr><td>152</td><td>18</td><td>2</td><td>0</td><td>i</td><td>Nem</td></tr>",
                            "<tr><td>152</td><td>18</td><td>2</td><td>0</td><td>i</td><td>Nem</td></tr>",
                            "<tr><td>152</td><td>18</td><td>2</td><td>0</td><td>i</td><td>Nem</td></tr>",
                            "<tr><td>153</td><td>19</td><td>3</td><td>0</td><td>n</td><td>Nem</td></tr>",
                            "<tr><td>153</td><td>19</td><td>3</td><td>0</td><td>n</td><td>Nem</td></tr>",
                            "<tr><td>153</td><td>19</td><td>3</td><td>0</td><td>n</td><td>Nem</td></tr>",
                            "<tr><td>153</td><td>19</td><td>3</td><td>0</td><td>n</td><td>Nem</td></tr>",
                            "<tr><td>153</td><td>19</td><td>3</td><td>0</td><td>n</td><td>Nem</td></tr>",
                            "<tr><td>154</td><td>20</td><td>2</td><td>1</td><td>i</td><td>Nem</td></tr>",
                            "<tr><td>154</td><td>20</td><td>2</td><td>1</td><td>i</td><td>Nem</td></tr>",
                            "<tr><td>154</td><td>20</td><td>2</td><td>1</td><td>i</td><td>Nem</td></tr>",
                            "<tr><td>154</td><td>20</td><td>2</td><td>1</td><td>i</td><td>Nem</td></tr>",
                            "<tr><td>154</td><td>20</td><td>2</td><td>1</td><td>i</td><td>Nem</td></tr>",
                            "<tr><td>155</td><td>21</td><td>3</td><td>1</td><td>n</td><td>Nem</td></tr>",
                            "<tr><td>155</td><td>21</td><td>3</td><td>1</td><td>n</td><td>Nem</td></tr>",
                            "<tr><td>155</td><td>21</td><td>3</td><td>1</td><td>n</td><td>Nem</td></tr>",
                            "<tr><td>155</td><td>21</td><td>3</td><td>1</td><td>n</td><td>Nem</td></tr>",
                            "<tr><td>155</td><td>21</td><td>3</td><td>1</td><td>n</td><td>Nem</td></tr>",
                            "<tr><td>156</td><td>22</td><td>2</td><td>2</td><td>i</td><td>Nem</td></tr>",
                            "<tr><td>156</td><td>22</td><td>2</td><td>2</td><td>i</td><td>Nem</td></tr>",
                            "<tr><td>156</td><td>22</td><td>2</td><td>2</td><td>i</td><td>Nem</td></tr>",
                            "<tr><td>156</td><td>22</td><td>2</td><td>2</td><td>i</td><td>Nem</td></tr>",
                            "<tr><td>156</td><td>22</td><td>2</td><td>2</td><td>i</td><td>Nem</td></tr>",
                            "<tr><td>156</td><td>22</td><td>2</td><td>2</td><td>i</td><td>Nem</td></tr>",
                            "<tr><td>156</td><td>22</td><td>2</td><td>2</td><td>i</td><td>Nem</td></tr>",
                            "<tr><td>157</td><td>23</td><td>2</td><td>0</td><td>n</td><td>Nem</td></tr>",
                            "<tr><td>157</td><td>23</td><td>2</td><td>0</td><td>n</td><td>Nem</td></tr>",
                            "<tr><td>157</td><td>23</td><td>2</td><td>0</td><td>n</td><td>Nem</td></tr>",
                            "<tr><td>157</td><td>23</td><td>2</td><td>0</td><td>n</td><td>Nem</td></tr>",
                            "<tr><td>157</td><td>23</td><td>2</td><td>0</td><td>n</td><td>Nem</td></tr>",
                            "<tr><td>158</td><td>24</td><td>2</td><td>1</td><td>n</td><td>Nem</td></tr>",
                            "<tr><td>158</td><td>24</td><td>2</td><td>1</td><td>n</td><td>Nem</td></tr>",
                            "<tr><td>158</td><td>24</td><td>2</td><td>1</td><td>n</td><td>Nem</td></tr>",
                            "<tr><td>159</td><td>25</td><td>3</td><td>1</td><td>n</td><td>Nem</td></tr>",
                            "<tr><td>160</td><td>1</td><td>3</td><td>1</td><td>i</td><td>Nem</td></tr>",
                            "<tr><td>160</td><td>1</td><td>3</td><td>1</td><td>i</td><td>Nem</td></tr>",
                            "<tr><td>160</td><td>1</td><td>3</td><td>1</td><td>i</td><td>Nem</td></tr>",
                            "<tr><td>160</td><td>1</td><td>3</td><td>1</td><td>i</td><td>Nem</td></tr>",
                            "<tr><td>160</td><td>1</td><td>3</td><td>1</td><td>i</td><td>Nem</td></tr>",
                            "<tr><td>161</td><td>2</td><td>2</td><td>2</td><td>i</td><td>Nem</td></tr>",
                            "<tr><td>161</td><td>2</td><td>2</td><td>2</td><td>i</td><td>Nem</td></tr>",
                            "<tr><td>161</td><td>2</td><td>2</td><td>2</td><td>i</td><td>Nem</td></tr>",
                            "<tr><td>161</td><td>2</td><td>2</td><td>2</td><td>i</td><td>Nem</td></tr>",
                            "<tr><td>161</td><td>2</td><td>2</td><td>2</td><td>i</td><td>Nem</td></tr>",
                            "<tr><td>161</td><td>2</td><td>2</td><td>2</td><td>i</td><td>Nem</td></tr>",
                            "<tr><td>162</td><td>3</td><td>3</td><td>0</td><td>n</td><td>Nem</td></tr>",
                            "<tr><td>162</td><td>3</td><td>3</td><td>0</td><td>n</td><td>Nem</td></tr>",
                            "<tr><td>162</td><td>3</td><td>3</td><td>0</td><td>n</td><td>Nem</td></tr>",
                            "<tr><td>162</td><td>3</td><td>3</td><td>0</td><td>n</td><td>Nem</td></tr>",
                            "<tr><td>162</td><td>3</td><td>3</td><td>0</td><td>n</td><td>Nem</td></tr>",
                            "<tr><td>163</td><td>4</td><td>2</td><td>0</td><td>i</td><td>Nem</td></tr>",
                            "<tr><td>163</td><td>4</td><td>2</td><td>0</td><td>i</td><td>Nem</td></tr>",
                            "<tr><td>163</td><td>4</td><td>2</td><td>0</td><td>i</td><td>Nem</td></tr>",
                            "<tr><td>163</td><td>4</td><td>2</td><td>0</td><td>i</td><td>Nem</td></tr>",
                            "<tr><td>163</td><td>4</td><td>2</td><td>0</td><td>i</td><td>Nem</td></tr>",
                            "<tr><td>163</td><td>4</td><td>2</td><td>0</td><td>i</td><td>Nem</td></tr>",
                            "<tr><td>163</td><td>4</td><td>2</td><td>0</td><td>i</td><td>Nem</td></tr>",
                            "<tr><td>163</td><td>4</td><td>2</td><td>0</td><td>i</td><td>Nem</td></tr>",
                            "<tr><td>163</td><td>4</td><td>2</td><td>0</td><td>i</td><td>Nem</td></tr>",
                            "<tr><td>163</td><td>4</td><td>2</td><td>0</td><td>i</td><td>Nem</td></tr>",
                            "<tr><td>163</td><td>4</td><td>2</td><td>0</td><td>i</td><td>Nem</td></tr>",
                            "<tr><td>163</td><td>4</td><td>2</td><td>0</td><td>i</td><td>Nem</td></tr>",
                            "<tr><td>163</td><td>4</td><td>2</td><td>0</td><td>i</td><td>Nem</td></tr>",
                            "<tr><td>164</td><td>5</td><td>2</td><td>0</td><td>i</td><td>Nem</td></tr>",
                            "<tr><td>164</td><td>5</td><td>2</td><td>0</td><td>i</td><td>Nem</td></tr>",
                            "<tr><td>164</td><td>5</td><td>2</td><td>0</td><td>i</td><td>Nem</td></tr>",
                            "<tr><td>164</td><td>5</td><td>2</td><td>0</td><td>i</td><td>Nem</td></tr>",
                            "<tr><td>164</td><td>5</td><td>2</td><td>0</td><td>i</td><td>Nem</td></tr>",
                            "<tr><td>165</td><td>1</td><td>2</td><td>0</td><td>n</td><td>Nem</td></tr>",
                            "<tr><td>165</td><td>1</td><td>2</td><td>0</td><td>n</td><td>Nem</td></tr>",
                            "<tr><td>165</td><td>1</td><td>2</td><td>0</td><td>n</td><td>Nem</td></tr>",
                            "<tr><td>165</td><td>1</td><td>2</td><td>0</td><td>n</td><td>Nem</td></tr>",
                            "<tr><td>165</td><td>1</td><td>2</td><td>0</td><td>n</td><td>Nem</td></tr>",
                            "<tr><td>165</td><td>1</td><td>2</td><td>0</td><td>n</td><td>Nem</td></tr>",
                            "<tr><td>165</td><td>1</td><td>2</td><td>0</td><td>n</td><td>Nem</td></tr>",
                            "<tr><td>166</td><td>2</td><td>2</td><td>1</td><td>i</td><td>Nem</td></tr>",
                            "<tr><td>166</td><td>2</td><td>2</td><td>1</td><td>i</td><td>Nem</td></tr>",
                            "<tr><td>166</td><td>2</td><td>2</td><td>1</td><td>i</td><td>Nem</td></tr>",
                            "<tr><td>167</td><td>3</td><td>3</td><td>0</td><td>i</td><td>Nem</td></tr>",
                            "<tr><td>167</td><td>3</td><td>3</td><td>0</td><td>i</td><td>Nem</td></tr>",
                            "<tr><td>168</td><td>4</td><td>2</td><td>2</td><td>i</td><td>Nem</td></tr>",
                            "<tr><td>168</td><td>4</td><td>2</td><td>2</td><td>i</td><td>Nem</td></tr>",
                            "<tr><td>168</td><td>4</td><td>2</td><td>2</td><td>i</td><td>Nem</td></tr>",
                            "<tr><td>168</td><td>4</td><td>2</td><td>2</td><td>i</td><td>Nem</td></tr>",
                            "<tr><td>168</td><td>4</td><td>2</td><td>2</td><td>i</td><td>Nem</td></tr>",
                            "<tr><td>169</td><td>5</td><td>2</td><td>1</td><td>i</td><td>Nem</td></tr>",
                            "<tr><td>169</td><td>5</td><td>2</td><td>1</td><td>i</td><td>Nem</td></tr>",
                            "<tr><td>169</td><td>5</td><td>2</td><td>1</td><td>i</td><td>Nem</td></tr>",
                            "<tr><td>169</td><td>5</td><td>2</td><td>1</td><td>i</td><td>Nem</td></tr>",
                            "<tr><td>169</td><td>5</td><td>2</td><td>1</td><td>i</td><td>Nem</td></tr>",
                            "<tr><td>169</td><td>5</td><td>2</td><td>1</td><td>i</td><td>Nem</td></tr>",
                            "<tr><td>170</td><td>6</td><td>2</td><td>0</td><td>i</td><td>Nem</td></tr>",
                            "<tr><td>170</td><td>6</td><td>2</td><td>0</td><td>i</td><td>Nem</td></tr>",
                            "<tr><td>170</td><td>6</td><td>2</td><td>0</td><td>i</td><td>Nem</td></tr>",
                            "<tr><td>170</td><td>6</td><td>2</td><td>0</td><td>i</td><td>Nem</td></tr>",
                            "<tr><td>170</td><td>6</td><td>2</td><td>0</td><td>i</td><td>Nem</td></tr>",
                            "<tr><td>171</td><td>7</td><td>2</td><td>1</td><td>i</td><td>Nem</td></tr>",
                            "<tr><td>171</td><td>7</td><td>2</td><td>1</td><td>i</td><td>Nem</td></tr>",
                            "<tr><td>171</td><td>7</td><td>2</td><td>1</td><td>i</td><td>Nem</td></tr>",
                            "<tr><td>171</td><td>7</td><td>2</td><td>1</td><td>i</td><td>Nem</td></tr>",
                            "<tr><td>171</td><td>7</td><td>2</td><td>1</td><td>i</td><td>Nem</td></tr>",
                            "<tr><td>172</td><td>8</td><td>2</td><td>2</td><td>n</td><td>Nem</td></tr>",
                            "<tr><td>172</td><td>8</td><td>2</td><td>2</td><td>n</td><td>Nem</td></tr>",
                            "<tr><td>172</td><td>8</td><td>2</td><td>2</td><td>n</td><td>Nem</td></tr>",
                            "<tr><td>172</td><td>8</td><td>2</td><td>2</td><td>n</td><td>Nem</td></tr>",
                            "<tr><td>172</td><td>8</td><td>2</td><td>2</td><td>n</td><td>Nem</td></tr>",
                            "<tr><td>172</td><td>8</td><td>2</td><td>2</td><td>n</td><td>Nem</td></tr>",
                            "<tr><td>172</td><td>8</td><td>2</td><td>2</td><td>n</td><td>Nem</td></tr>",
                            "<tr><td>172</td><td>8</td><td>2</td><td>2</td><td>n</td><td>Nem</td></tr>",
                            "<tr><td>172</td><td>8</td><td>2</td><td>2</td><td>n</td><td>Nem</td></tr>",
                            "<tr><td>173</td><td>9</td><td>2</td><td>0</td><td>i</td><td>Nem</td></tr>",
                            "<tr><td>173</td><td>9</td><td>2</td><td>0</td><td>i</td><td>Nem</td></tr>",
                            "<tr><td>173</td><td>9</td><td>2</td><td>0</td><td>i</td><td>Nem</td></tr>",
                            "<tr><td>173</td><td>9</td><td>2</td><td>0</td><td>i</td><td>Nem</td></tr>",
                            "<tr><td>174</td><td>10</td><td>2</td><td>0</td><td>i</td><td>Nem</td></tr>",
                            "<tr><td>174</td><td>10</td><td>2</td><td>0</td><td>i</td><td>Nem</td></tr>",
                            "<tr><td>174</td><td>10</td><td>2</td><td>0</td><td>i</td><td>Nem</td></tr>",
                            "<tr><td>174</td><td>10</td><td>2</td><td>0</td><td>i</td><td>Nem</td></tr>",
                            "<tr><td>175</td><td>11</td><td>2</td><td>0</td><td>i</td><td>Nem</td></tr>",
                            "<tr><td>175</td><td>11</td><td>2</td><td>0</td><td>i</td><td>Nem</td></tr>",
                            "<tr><td>175</td><td>11</td><td>2</td><td>0</td><td>i</td><td>Nem</td></tr>",
                            "<tr><td>175</td><td>11</td><td>2</td><td>0</td><td>i</td><td>Nem</td></tr>",
                            "<tr><td>175</td><td>11</td><td>2</td><td>0</td><td>i</td><td>Nem</td></tr>",
                            "<tr><td>176</td><td>12</td><td>3</td><td>1</td><td>i</td><td>Nem</td></tr>",
                            "<tr><td>176</td><td>12</td><td>3</td><td>1</td><td>i</td><td>Nem</td></tr>",
                            "<tr><td>176</td><td>12</td><td>3</td><td>1</td><td>i</td><td>Nem</td></tr>",
                            "<tr><td>176</td><td>12</td><td>3</td><td>1</td><td>i</td><td>Nem</td></tr>",
                            "<tr><td>176</td><td>12</td><td>3</td><td>1</td><td>i</td><td>Nem</td></tr>",
                            "<tr><td>176</td><td>12</td><td>3</td><td>1</td><td>i</td><td>Nem</td></tr>",
                            "<tr><td>177</td><td>13</td><td>3</td><td>2</td><td>i</td><td>Nem</td></tr>",
                            "<tr><td>177</td><td>13</td><td>3</td><td>2</td><td>i</td><td>Nem</td></tr>",
                            "<tr><td>177</td><td>13</td><td>3</td><td>2</td><td>i</td><td>Nem</td></tr>",
                            "<tr><td>177</td><td>13</td><td>3</td><td>2</td><td>i</td><td>Nem</td></tr>",
                            "<tr><td>178</td><td>14</td><td>3</td><td>0</td><td>i</td><td>Nem</td></tr>",
                            "<tr><td>178</td><td>14</td><td>3</td><td>0</td><td>i</td><td>Nem</td></tr>",
                            "<tr><td>178</td><td>14</td><td>3</td><td>0</td><td>i</td><td>Nem</td></tr>",
                            "<tr><td>178</td><td>14</td><td>3</td><td>0</td><td>i</td><td>Nem</td></tr>",
                            "<tr><td>179</td><td>15</td><td>3</td><td>2</td><td>i</td><td>Nem</td></tr>",
                            "<tr><td>179</td><td>15</td><td>3</td><td>2</td><td>i</td><td>Nem</td></tr>",
                            "<tr><td>179</td><td>15</td><td>3</td><td>2</td><td>i</td><td>Nem</td></tr>",
                            "<tr><td>180</td><td>16</td><td>2</td><td>2</td><td>i</td><td>Nem</td></tr>",
                            "<tr><td>180</td><td>16</td><td>2</td><td>2</td><td>i</td><td>Nem</td></tr>",
                            "<tr><td>180</td><td>16</td><td>2</td><td>2</td><td>i</td><td>Nem</td></tr>",
                            "<tr><td>181</td><td>17</td><td>3</td><td>0</td><td>i</td><td>Nem</td></tr>",
                            "<tr><td>181</td><td>17</td><td>3</td><td>0</td><td>i</td><td>Nem</td></tr>",
                            "<tr><td>181</td><td>17</td><td>3</td><td>0</td><td>i</td><td>Nem</td></tr>",
                            "<tr><td>181</td><td>17</td><td>3</td><td>0</td><td>i</td><td>Nem</td></tr>",
                            "<tr><td>181</td><td>17</td><td>3</td><td>0</td><td>i</td><td>Nem</td></tr>",
                            "<tr><td>181</td><td>17</td><td>3</td><td>0</td><td>i</td><td>Nem</td></tr>",
                            "<tr><td>182</td><td>18</td><td>2</td><td>0</td><td>n</td><td>Nem</td></tr>",
                            "<tr><td>182</td><td>18</td><td>2</td><td>0</td><td>n</td><td>Nem</td></tr>",
                            "<tr><td>182</td><td>18</td><td>2</td><td>0</td><td>n</td><td>Nem</td></tr>",
                            "<tr><td>182</td><td>18</td><td>2</td><td>0</td><td>n</td><td>Nem</td></tr>",
                            "<tr><td>182</td><td>18</td><td>2</td><td>0</td><td>n</td><td>Nem</td></tr>",
                            "<tr><td>182</td><td>18</td><td>2</td><td>0</td><td>n</td><td>Nem</td></tr>",
                            "<tr><td>182</td><td>18</td><td>2</td><td>0</td><td>n</td><td>Nem</td></tr>",
                            "<tr><td>182</td><td>18</td><td>2</td><td>0</td><td>n</td><td>Nem</td></tr>",
                            "<tr><td>182</td><td>18</td><td>2</td><td>0</td><td>n</td><td>Nem</td></tr>",
                            "<tr><td>182</td><td>18</td><td>2</td><td>0</td><td>n</td><td>Nem</td></tr>",
                            "<tr><td>182</td><td>18</td><td>2</td><td>0</td><td>n</td><td>Nem</td></tr>",
                            "<tr><td>182</td><td>18</td><td>2</td><td>0</td><td>n</td><td>Nem</td></tr>",
                            "<tr><td>183</td><td>19</td><td>3</td><td>0</td><td>i</td><td>Nem</td></tr>",
                            "<tr><td>183</td><td>19</td><td>3</td><td>0</td><td>i</td><td>Nem</td></tr>",
                            "<tr><td>183</td><td>19</td><td>3</td><td>0</td><td>i</td><td>Nem</td></tr>",
                            "<tr><td>183</td><td>19</td><td>3</td><td>0</td><td>i</td><td>Nem</td></tr>",
                            "<tr><td>184</td><td>20</td><td>2</td><td>0</td><td>n</td><td>Nem</td></tr>",
                            "<tr><td>184</td><td>20</td><td>2</td><td>0</td><td>n</td><td>Nem</td></tr>",
                            "<tr><td>184</td><td>20</td><td>2</td><td>0</td><td>n</td><td>Nem</td></tr>",
                            "<tr><td>184</td><td>20</td><td>2</td><td>0</td><td>n</td><td>Nem</td></tr>",
                            "<tr><td>185</td><td>21</td><td>3</td><td>0</td><td>i</td><td>Nem</td></tr>",
                            "<tr><td>185</td><td>21</td><td>3</td><td>0</td><td>i</td><td>Nem</td></tr>",
                            "<tr><td>185</td><td>21</td><td>3</td><td>0</td><td>i</td><td>Nem</td></tr>",
                            "<tr><td>185</td><td>21</td><td>3</td><td>0</td><td>i</td><td>Nem</td></tr>",
                            "<tr><td>185</td><td>21</td><td>3</td><td>0</td><td>i</td><td>Nem</td></tr>",
                            "<tr><td>185</td><td>21</td><td>3</td><td>0</td><td>i</td><td>Nem</td></tr>",
                            "<tr><td>185</td><td>21</td><td>3</td><td>0</td><td>i</td><td>Nem</td></tr>",
                            "<tr><td>185</td><td>21</td><td>3</td><td>0</td><td>i</td><td>Nem</td></tr>",
                            "<tr><td>185</td><td>21</td><td>3</td><td>0</td><td>i</td><td>Nem</td></tr>",
                            "<tr><td>185</td><td>21</td><td>3</td><td>0</td><td>i</td><td>Nem</td></tr>",
                            "<tr><td>185</td><td>21</td><td>3</td><td>0</td><td>i</td><td>Nem</td></tr>",
                            "<tr><td>185</td><td>21</td><td>3</td><td>0</td><td>i</td><td>Nem</td></tr>",
                            "<tr><td>186</td><td>22</td><td>2</td><td>2</td><td>i</td><td>Nem</td></tr>",
                            "<tr><td>186</td><td>22</td><td>2</td><td>2</td><td>i</td><td>Nem</td></tr>",
                            "<tr><td>186</td><td>22</td><td>2</td><td>2</td><td>i</td><td>Nem</td></tr>",
                            "<tr><td>186</td><td>22</td><td>2</td><td>2</td><td>i</td><td>Nem</td></tr>",
                            "<tr><td>187</td><td>23</td><td>3</td><td>1</td><td>i</td><td>Nem</td></tr>",
                            "<tr><td>187</td><td>23</td><td>3</td><td>1</td><td>i</td><td>Nem</td></tr>",
                            "<tr><td>187</td><td>23</td><td>3</td><td>1</td><td>i</td><td>Nem</td></tr>",
                            "<tr><td>187</td><td>23</td><td>3</td><td>1</td><td>i</td><td>Nem</td></tr>",
                            "<tr><td>187</td><td>23</td><td>3</td><td>1</td><td>i</td><td>Nem</td></tr>",
                            "<tr><td>187</td><td>23</td><td>3</td><td>1</td><td>i</td><td>Nem</td></tr>",
                            "<tr><td>187</td><td>23</td><td>3</td><td>1</td><td>i</td><td>Nem</td></tr>",
                            "<tr><td>188</td><td>24</td><td>3</td><td>0</td><td>i</td><td>Nem</td></tr>",
                            "<tr><td>188</td><td>24</td><td>3</td><td>0</td><td>i</td><td>Nem</td></tr>",
                            "<tr><td>188</td><td>24</td><td>3</td><td>0</td><td>i</td><td>Nem</td></tr>",
                            "<tr><td>188</td><td>24</td><td>3</td><td>0</td><td>i</td><td>Nem</td></tr>",
                            "<tr><td>188</td><td>24</td><td>3</td><td>0</td><td>i</td><td>Nem</td></tr>",
                            "<tr><td>188</td><td>24</td><td>3</td><td>0</td><td>i</td><td>Nem</td></tr>",
                            "<tr><td>189</td><td>25</td><td>2</td><td>2</td><td>i</td><td>Nem</td></tr>",
                            "<tr><td>189</td><td>25</td><td>2</td><td>2</td><td>i</td><td>Nem</td></tr>",
                            "<tr><td>189</td><td>25</td><td>2</td><td>2</td><td>i</td><td>Nem</td></tr>",
                            "<tr><td>189</td><td>25</td><td>2</td><td>2</td><td>i</td><td>Nem</td></tr>",
                            "<tr><td>189</td><td>25</td><td>2</td><td>2</td><td>i</td><td>Nem</td></tr>",
                            "<tr><td>190</td><td>26</td><td>2</td><td>0</td><td>i</td><td>Nem</td></tr>",
                            "<tr><td>190</td><td>26</td><td>2</td><td>0</td><td>i</td><td>Nem</td></tr>",
                            "<tr><td>190</td><td>26</td><td>2</td><td>0</td><td>i</td><td>Nem</td></tr>",
                            "<tr><td>190</td><td>26</td><td>2</td><td>0</td><td>i</td><td>Nem</td></tr>",
                            "<tr><td>190</td><td>26</td><td>2</td><td>0</td><td>i</td><td>Nem</td></tr>",
                            "<tr><td>191</td><td>27</td><td>2</td><td>1</td><td>i</td><td>Nem</td></tr>",
                            "<tr><td>191</td><td>27</td><td>2</td><td>1</td><td>i</td><td>Nem</td></tr>",
                            "<tr><td>191</td><td>27</td><td>2</td><td>1</td><td>i</td><td>Nem</td></tr>",
                            "<tr><td>191</td><td>27</td><td>2</td><td>1</td><td>i</td><td>Nem</td></tr>",
                            "<tr><td>191</td><td>27</td><td>2</td><td>1</td><td>i</td><td>Nem</td></tr>",
                            "<tr><td>192</td><td>28</td><td>2</td><td>1</td><td>i</td><td>Nem</td></tr>",
                            "<tr><td>192</td><td>28</td><td>2</td><td>1</td><td>i</td><td>Nem</td></tr>",
                            "<tr><td>193</td><td>29</td><td>3</td><td>2</td><td>n</td><td>Nem</td></tr>",
                            "<tr><td>193</td><td>29</td><td>3</td><td>2</td><td>n</td><td>Nem</td></tr>",
                            "<tr><td>193</td><td>29</td><td>3</td><td>2</td><td>n</td><td>Nem</td></tr>",
                            "<tr><td>193</td><td>29</td><td>3</td><td>2</td><td>n</td><td>Nem</td></tr>",
                            "<tr><td>193</td><td>29</td><td>3</td><td>2</td><td>n</td><td>Nem</td></tr>",
                            "<tr><td>193</td><td>29</td><td>3</td><td>2</td><td>n</td><td>Nem</td></tr>",
                            "<tr><td>193</td><td>29</td><td>3</td><td>2</td><td>n</td><td>Nem</td></tr>",
                            "<tr><td>194</td><td>30</td><td>2</td><td>1</td><td>i</td><td>Nem</td></tr>",
                            "<tr><td>195</td><td>31</td><td>2</td><td>0</td><td>i</td><td>Nem</td></tr>",
                            "<tr><td>195</td><td>31</td><td>2</td><td>0</td><td>i</td><td>Nem</td></tr>",
                            "<tr><td>195</td><td>31</td><td>2</td><td>0</td><td>i</td><td>Nem</td></tr>",
                            "<tr><td>195</td><td>31</td><td>2</td><td>0</td><td>i</td><td>Nem</td></tr>",
                            "<tr><td>195</td><td>31</td><td>2</td><td>0</td><td>i</td><td>Nem</td></tr>",
                            "<tr><td>195</td><td>31</td><td>2</td><td>0</td><td>i</td><td>Nem</td></tr>",
                            "<tr><td>196</td><td>32</td><td>2</td><td>1</td><td>i</td><td>Nem</td></tr>",
                            "<tr><td>196</td><td>32</td><td>2</td><td>1</td><td>i</td><td>Nem</td></tr>",
                            "<tr><td>196</td><td>32</td><td>2</td><td>1</td><td>i</td><td>Nem</td></tr>",
                            "<tr><td>196</td><td>32</td><td>2</td><td>1</td><td>i</td><td>Nem</td></tr>",
                            "<tr><td>197</td><td>33</td><td>3</td><td>0</td><td>i</td><td>Nem</td></tr>",
                            "<tr><td>197</td><td>33</td><td>3</td><td>0</td><td>i</td><td>Nem</td></tr>",
                            "<tr><td>197</td><td>33</td><td>3</td><td>0</td><td>i</td><td>Nem</td></tr>",
                            "<tr><td>197</td><td>33</td><td>3</td><td>0</td><td>i</td><td>Nem</td></tr>",
                            "<tr><td>197</td><td>33</td><td>3</td><td>0</td><td>i</td><td>Nem</td></tr>",
                            "<tr><td>197</td><td>33</td><td>3</td><td>0</td><td>i</td><td>Nem</td></tr>",
                            "<tr><td>198</td><td>34</td><td>3</td><td>0</td><td>i</td><td>Nem</td></tr>",
                            "<tr><td>198</td><td>34</td><td>3</td><td>0</td><td>i</td><td>Nem</td></tr>",
                            "<tr><td>198</td><td>34</td><td>3</td><td>0</td><td>i</td><td>Nem</td></tr>",
                            "<tr><td>198</td><td>34</td><td>3</td><td>0</td><td>i</td><td>Nem</td></tr>",
                            "<tr><td>198</td><td>34</td><td>3</td><td>0</td><td>i</td><td>Nem</td></tr>",
                            "<tr><td>198</td><td>34</td><td>3</td><td>0</td><td>i</td><td>Nem</td></tr>",
                            "<tr><td>198</td><td>34</td><td>3</td><td>0</td><td>i</td><td>Nem</td></tr>",
                            "<tr><td>198</td><td>34</td><td>3</td><td>0</td><td>i</td><td>Nem</td></tr>",
                            "<tr><td>199</td><td>35</td><td>3</td><td>2</td><td>i</td><td>Nem</td></tr>",
                            "<tr><td>200</td><td>36</td><td>2</td><td>0</td><td>i</td><td>Nem</td></tr>",
                            "<tr><td>201</td><td>37</td><td>3</td><td>1</td><td>n</td><td>Nem</td></tr>",
                            "<tr><td>202</td><td>38</td><td>3</td><td>1</td><td>i</td><td>Nem</td></tr>",
                            "<tr><td>203</td><td>39</td><td>3</td><td>0</td><td>i</td><td>Nem</td></tr>",
                            "<tr><td>204</td><td>40</td><td>3</td><td>1</td><td>i</td><td>Nem</td></tr>",
                            "<tr><td>205</td><td>41</td><td>3</td><td>0</td><td>i</td><td>Nem</td></tr>",
                            "<tr><td>206</td><td>42</td><td>2</td><td>1</td><td>i</td><td>Nem</td></tr>",
                            "<tr><td>207</td><td>43</td><td>2</td><td>1</td><td>i</td><td>Nem</td></tr>",
                            "<tr><td>208</td><td>44</td><td>2</td><td>1</td><td>i</td><td>Nem</td></tr>",
                            "<tr><td>209</td><td>45</td><td>3</td><td>2</td><td>n</td><td>Nem</td></tr>",
                            "<tr><td>210</td><td>46</td><td>2</td><td>0</td><td>i</td><td>Nem</td></tr>",
                            "<tr><td>211</td><td>47</td><td>2</td><td>1</td><td>i</td><td>Nem</td></tr>",
                            "<tr><td>212</td><td>48</td><td>3</td><td>0</td><td>n</td><td>Nem</td></tr>",
                            "<tr><td>213</td><td>49</td><td>3</td><td>0</td><td>i</td><td>Nem</td></tr>",
                            "<tr><td>214</td><td>50</td><td>3</td><td>1</td><td>i</td><td>Nem</td></tr>",
                            "<tr><td>215</td><td>1</td><td>2</td><td>1</td><td>i</td><td>Nem</td></tr>",
                            "<tr><td>216</td><td>2</td><td>3</td><td>1</td><td>i</td><td>Nem</td></tr>",
                            "<tr><td>217</td><td>3</td><td>2</td><td>1</td><td>n</td><td>Nem</td></tr>",
                            "<tr><td>218</td><td>4</td><td>3</td><td>0</td><td>i</td><td>Nem</td></tr>",
                            "<tr><td>219</td><td>5</td><td>2</td><td>0</td><td>n</td><td>Nem</td></tr>",
                            "<tr><td>219</td><td>5</td><td>2</td><td>0</td><td>n</td><td>Nem</td></tr>",
                            "<tr><td>220</td><td>6</td><td>3</td><td>0</td><td>i</td><td>Nem</td></tr>",
                            "<tr><td>221</td><td>7</td><td>3</td><td>0</td><td>i</td><td>Nem</td></tr>",
                            "<tr><td>222</td><td>8</td><td>2</td><td>0</td><td>n</td><td>Nem</td></tr>",
                            "<tr><td>223</td><td>9</td><td>2</td><td>1</td><td>i</td><td>Nem</td></tr>",
                            "<tr><td>224</td><td>10</td><td>2</td><td>0</td><td>i</td><td>Nem</td></tr>",
                            "<tr><td>225</td><td>11</td><td>2</td><td>1</td><td>i</td><td>Nem</td></tr>",
                            "<tr><td>226</td><td>12</td><td>3</td><td>1</td><td>n</td><td>Nem</td></tr>",
                            "<tr><td>227</td><td>1</td><td>2</td><td>1</td><td>i</td><td>Nem</td></tr>",
                            "<tr><td>228</td><td>2</td><td>3</td><td>0</td><td>i</td><td>Nem</td></tr>",
                            "<tr><td>229</td><td>3</td><td>2</td><td>0</td><td>i</td><td>Nem</td></tr>",
                            "<tr><td>230</td><td>4</td><td>3</td><td>2</td><td>i</td><td>Nem</td></tr>",
                            "<tr><td>231</td><td>1</td><td>2</td><td>0</td><td>i</td><td>Nem</td></tr>",
                            "<tr><td>232</td><td>2</td><td>2</td><td>0</td><td>i</td><td>Nem</td></tr>",
                            "<tr><td>233</td><td>3</td><td>3</td><td>0</td><td>n</td><td>Nem</td></tr>",
                            "<tr><td>234</td><td>4</td><td>3</td><td>1</td><td>i</td><td>Nem</td></tr>",
                            "<tr><td>235</td><td>5</td><td>3</td><td>0</td><td>i</td><td>Nem</td></tr>",
                            "<tr><td>236</td><td>6</td><td>3</td><td>1</td><td>n</td><td>Nem</td></tr>",
                            "<tr><td>237</td><td>7</td><td>2</td><td>2</td><td>n</td><td>Nem</td></tr>",
                            "<tr><td>238</td><td>8</td><td>3</td><td>1</td><td>i</td><td>Nem</td></tr>",
                            "<tr><td>239</td><td>9</td><td>2</td><td>2</td><td>i</td><td>Nem</td></tr>",
                            "<tr><td>240</td><td>10</td><td>3</td><td>0</td><td>i</td><td>Nem</td></tr>",
                            "<tr><td>241</td><td>11</td><td>2</td><td>0</td><td>i</td><td>Nem</td></tr>",
                            "<tr><td>242</td><td>12</td><td>2</td><td>1</td><td>i</td><td>Nem</td></tr>",
                            "<tr><td>243</td><td>1</td><td>2</td><td>0</td><td>i</td><td>Nem</td></tr>",
                            "<tr><td>244</td><td>2</td><td>2</td><td>1</td><td>i</td><td>Nem</td></tr>",
                            "<tr><td>245</td><td>3</td><td>2</td><td>1</td><td>i</td><td>Nem</td></tr>",
                            "<tr><td>246</td><td>4</td><td>2</td><td>0</td><td>i</td><td>Nem</td></tr>",
                            "<tr><td>247</td><td>5</td><td>2</td><td>0</td><td>i</td><td>Nem</td></tr>",
                            "<tr><td>248</td><td>6</td><td>2</td><td>2</td><td>i</td><td>Nem</td></tr>",
                            "<tr><td>249</td><td>7</td><td>2</td><td>1</td><td>n</td><td>Nem</td></tr>",
                            "<tr><td>250</td><td>8</td><td>3</td><td>1</td><td>n</td><td>Nem</td></tr>",
                            "<tr><td>251</td><td>9</td><td>3</td><td>0</td><td>n</td><td>Nem</td></tr>",
                            "<tr><td>252</td><td>10</td><td>3</td><td>1</td><td>i</td><td>Nem</td></tr>",
                            "<tr><td>253</td><td>11</td><td>2</td><td>0</td><td>i</td><td>Nem</td></tr>",
                            "<tr><td>254</td><td>12</td><td>2</td><td>0</td><td>i</td><td>Nem</td></tr>",
                            "<tr><td>255</td><td>13</td><td>3</td><td>0</td><td>n</td><td>Nem</td></tr>",
                            "<tr><td>256</td><td>14</td><td>3</td><td>1</td><td>i</td><td>Nem</td></tr>",
                            "<tr><td>257</td><td>15</td><td>2</td><td>0</td><td>i</td><td>Nem</td></tr>",
                            "<tr><td>258</td><td>16</td><td>2</td><td>0</td><td>i</td><td>Nem</td></tr>",
                            "<tr><td>259</td><td>17</td><td>2</td><td>0</td><td>i</td><td>Nem</td></tr>",
                            "<tr><td>260</td><td>18</td><td>2</td><td>0</td><td>i</td><td>Nem</td></tr>",
                            "<tr><td>261</td><td>19</td><td>1</td><td>1</td><td>n</td><td>Nem</td></tr>",
                            "<tr><td>262</td><td>20</td><td>1</td><td>0</td><td>n</td><td>Nem</td></tr>",
                            "<tr><td>263</td><td>1</td><td>2</td><td>2</td><td>i</td><td>Nem</td></tr>",
                            "<tr><td>264</td><td>2</td><td>3</td><td>0</td><td>i</td><td>Nem</td></tr>",
                            "<tr><td>265</td><td>3</td><td>3</td><td>0</td><td>i</td><td>Nem</td></tr>",
                            "<tr><td>266</td><td>4</td><td>2</td><td>1</td><td>i</td><td>Nem</td></tr>",
                            "<tr><td>267</td><td>5</td><td>2</td><td>1</td><td>n</td><td>Nem</td></tr>",
                            "<tr><td>268</td><td>6</td><td>2</td><td>2</td><td>n</td><td>Nem</td></tr>",
                            "<tr><td>269</td><td>7</td><td>2</td><td>1</td><td>i</td><td>Nem</td></tr>",
                            "<tr><td>270</td><td>8</td><td>3</td><td>0</td><td>n</td><td>Nem</td></tr>",
                            "<tr><td>271</td><td>9</td><td>3</td><td>0</td><td>i</td><td>Nem</td></tr>",
                            "<tr><td>272</td><td>10</td><td>3</td><td>0</td><td>i</td><td>Nem</td></tr>",
                            "<tr><td>273</td><td>11</td><td>2</td><td>1</td><td>i</td><td>Nem</td></tr>",
                            "<tr><td>274</td><td>12</td><td>3</td><td>1</td><td>i</td><td>Nem</td></tr>",
                            "<tr><td>275</td><td>13</td><td>2</td><td>1</td><td>n</td><td>Nem</td></tr>",
                            "<tr><td>276</td><td>14</td><td>2</td><td>0</td><td>i</td><td>Nem</td></tr>",
                            "<tr><td>277</td><td>15</td><td>2</td><td>0</td><td>i</td><td>Nem</td></tr>",
                            "<tr><td>278</td><td>1</td><td>3</td><td>1</td><td>i</td><td>Nem</td></tr>",
                            "<tr><td>279</td><td>2</td><td>2</td><td>1</td><td>i</td><td>Nem</td></tr>",
                            "<tr><td>280</td><td>3</td><td>3</td><td>0</td><td>n</td><td>Nem</td></tr>",
                            "<tr><td>281</td><td>1</td><td>2</td><td>0</td><td>n</td><td>Nem</td></tr>",
                            "<tr><td>282</td><td>2</td><td>2</td><td>0</td><td>i</td><td>Nem</td></tr>",
                            "<tr><td>283</td><td>3</td><td>2</td><td>0</td><td>n</td><td>Nem</td></tr>",
                            "<tr><td>284</td><td>4</td><td>2</td><td>2</td><td>i</td><td>Nem</td></tr>",
                            "<tr><td>285</td><td>1</td><td>2</td><td>1</td><td>i</td><td>Nem</td></tr>",
                            "<tr><td>286</td><td>2</td><td>3</td><td>0</td><td>i</td><td>Nem</td></tr>",
                            "<tr><td>287</td><td>3</td><td>3</td><td>0</td><td>n</td><td>Nem</td></tr>",
                            "<tr><td>288</td><td>4</td><td>2</td><td>1</td><td>i</td><td>Nem</td></tr>",
                            "<tr><td>289</td><td>5</td><td>3</td><td>0</td><td>i</td><td>Nem</td></tr>",
                            "<tr><td>290</td><td>6</td><td>2</td><td>1</td><td>i</td><td>Nem</td></tr>",
                            "<tr><td>291</td><td>7</td><td>2</td><td>1</td><td>i</td><td>Nem</td></tr>",
                            "<tr><td>292</td><td>8</td><td>2</td><td>1</td><td>i</td><td>Nem</td></tr>",
                            "<tr><td>293</td><td>9</td><td>2</td><td>1</td><td>i</td><td>Nem</td></tr>",
                            "<tr><td>294</td><td>10</td><td>3</td><td>0</td><td>i</td><td>Nem</td></tr>",
                            "</table>"
                        ]
                    }
                }
            ],
            "execution_count": 31
        }
    ]
}