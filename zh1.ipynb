{
    "metadata": {
        "kernelspec": {
            "name": "SQL",
            "display_name": "SQL",
            "language": "sql"
        },
        "language_info": {
            "name": "sql",
            "version": ""
        }
    },
    "nbformat_minor": 2,
    "nbformat": 4,
    "cells": [
        {
            "cell_type": "code",
            "source": [
                "SELECT\r\n",
                "  SZALLAS_NEV,\r\n",
                "  ROGZITETTE,\r\n",
                "  CIM\r\n",
                "FROM szallashely\r\n",
                "WHERE MONTH(ROGZ_IDO)=3\r\n",
                "AND HELY LIKE '%Balaton%'\r\n",
                "ORDER BY CSILLAGOK_SZAMA DESC;\r\n",
                ""
            ],
            "metadata": {
                "azdata_cell_guid": "7d6ae92d-4daa-4f49-b1d2-fa0908feec0c",
                "language": "sql"
            },
            "outputs": [
                {
                    "output_type": "display_data",
                    "data": {
                        "text/html": "(7 rows affected)"
                    },
                    "metadata": {}
                },
                {
                    "output_type": "display_data",
                    "data": {
                        "text/html": "Total execution time: 00:00:00.021"
                    },
                    "metadata": {}
                },
                {
                    "output_type": "execute_result",
                    "metadata": {},
                    "execution_count": 10,
                    "data": {
                        "application/vnd.dataresource+json": {
                            "schema": {
                                "fields": [
                                    {
                                        "name": "SZALLAS_NEV"
                                    },
                                    {
                                        "name": "ROGZITETTE"
                                    },
                                    {
                                        "name": "CIM"
                                    }
                                ]
                            },
                            "data": [
                                {
                                    "SZALLAS_NEV": "Hotel Három Hattyú",
                                    "ROGZITETTE": "Béla",
                                    "CIM": "8623 Balatonföldvár, Rákóczi Ferenc út 45."
                                },
                                {
                                    "SZALLAS_NEV": "Jáde panzió",
                                    "ROGZITETTE": "Mari",
                                    "CIM": "8624 Balatonföldvár, Kiss u.2."
                                },
                                {
                                    "SZALLAS_NEV": "Kentaur Hotel",
                                    "ROGZITETTE": "Béla",
                                    "CIM": "8600 Siófok (Széplak), Akácfa utca 1"
                                },
                                {
                                    "SZALLAS_NEV": "Tímárház Panzió",
                                    "ROGZITETTE": "Béla",
                                    "CIM": "8600 Siófok, Virág utca 1"
                                },
                                {
                                    "SZALLAS_NEV": "Családi Ház",
                                    "ROGZITETTE": "Béla",
                                    "CIM": "8630 Balatonboglár, József Attila utca 25"
                                },
                                {
                                    "SZALLAS_NEV": "Szieszta Apartmanház",
                                    "ROGZITETTE": "Mari",
                                    "CIM": "8630 Balatonboglár, Dózsa György utca 108"
                                },
                                {
                                    "SZALLAS_NEV": "Partiszél Vendégház",
                                    "ROGZITETTE": "Béla",
                                    "CIM": "8220 Balatonalmádi Neptun u. 23."
                                }
                            ]
                        },
                        "text/html": [
                            "<table>",
                            "<tr><th>SZALLAS_NEV</th><th>ROGZITETTE</th><th>CIM</th></tr>",
                            "<tr><td>Hotel Három Hattyú</td><td>Béla</td><td>8623 Balatonföldvár, Rákóczi Ferenc út 45.</td></tr>",
                            "<tr><td>Jáde panzió</td><td>Mari</td><td>8624 Balatonföldvár, Kiss u.2.</td></tr>",
                            "<tr><td>Kentaur Hotel</td><td>Béla</td><td>8600 Siófok (Széplak), Akácfa utca 1</td></tr>",
                            "<tr><td>Tímárház Panzió</td><td>Béla</td><td>8600 Siófok, Virág utca 1</td></tr>",
                            "<tr><td>Családi Ház</td><td>Béla</td><td>8630 Balatonboglár, József Attila utca 25</td></tr>",
                            "<tr><td>Szieszta Apartmanház</td><td>Mari</td><td>8630 Balatonboglár, Dózsa György utca 108</td></tr>",
                            "<tr><td>Partiszél Vendégház</td><td>Béla</td><td>8220 Balatonalmádi Neptun u. 23.</td></tr>",
                            "</table>"
                        ]
                    }
                }
            ],
            "execution_count": 10
        },
        {
            "cell_type": "code",
            "source": [
                ""
            ],
            "metadata": {
                "azdata_cell_guid": "b688168a-29b7-49d1-932f-7961c5895ce0",
                "language": "sql",
                "tags": []
            },
            "outputs": [
                {
                    "output_type": "display_data",
                    "data": {
                        "text/html": "Commands completed successfully."
                    },
                    "metadata": {}
                },
                {
                    "output_type": "display_data",
                    "data": {
                        "text/html": "Total execution time: 00:00:00"
                    },
                    "metadata": {}
                }
            ],
            "execution_count": 11
        }
    ]
}