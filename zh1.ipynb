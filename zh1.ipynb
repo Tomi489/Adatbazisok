{
    "metadata": {
        "kernelspec": {
            "name": "SQL",
            "display_name": "SQL",
            "language": "sql"
        },
        "language_info": {
            "name": "sql",
            "version": ""
        }
    },
    "nbformat_minor": 2,
    "nbformat": 4,
    "cells": [
        {
            "cell_type": "code",
            "source": [
                ""
            ],
            "metadata": {
                "azdata_cell_guid": "7d6ae92d-4daa-4f49-b1d2-fa0908feec0c",
                "language": "sql"
            },
            "outputs": [],
            "execution_count": null
        }
    ]
}