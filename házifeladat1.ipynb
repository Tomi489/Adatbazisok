{
    "metadata": {
        "kernelspec": {
            "name": "SQL",
            "display_name": "SQL",
            "language": "sql"
        },
        "language_info": {
            "name": "sql",
            "version": ""
        }
    },
    "nbformat_minor": 2,
    "nbformat": 4,
    "cells": [
        {
            "cell_type": "markdown",
            "source": [
                "# A választott adatbázisom a bike\\_store, azon belül a products táblát adatprofilozom."
            ],
            "metadata": {
                "azdata_cell_guid": "9911a1be-584d-46a6-aebf-9f4a62fb7c66"
            },
            "attachments": {}
        },
        {
            "cell_type": "markdown",
            "source": [
                "# Sorok száma"
            ],
            "metadata": {
                "azdata_cell_guid": "8efa8540-b3d2-4734-b356-174cb54b25a4"
            },
            "attachments": {}
        },
        {
            "cell_type": "code",
            "source": [
                "SELECT COUNT(*) AS sorok_szama\r\n",
                "FROM products"
            ],
            "metadata": {
                "azdata_cell_guid": "19266732-f975-43d1-be35-18acef9919d1",
                "language": "sql"
            },
            "outputs": [
                {
                    "output_type": "display_data",
                    "data": {
                        "text/html": "(1 row affected)"
                    },
                    "metadata": {}
                },
                {
                    "output_type": "display_data",
                    "data": {
                        "text/html": "Total execution time: 00:00:00.006"
                    },
                    "metadata": {}
                },
                {
                    "output_type": "execute_result",
                    "execution_count": 6,
                    "data": {
                        "application/vnd.dataresource+json": {
                            "schema": {
                                "fields": [
                                    {
                                        "name": "sorok_szama"
                                    }
                                ]
                            },
                            "data": [
                                {
                                    "sorok_szama": "321"
                                }
                            ]
                        },
                        "text/html": "<table><tr><th>sorok_szama</th></tr><tr><td>321</td></tr></table>"
                    },
                    "metadata": {}
                }
            ],
            "execution_count": 6
        },
        {
            "cell_type": "markdown",
            "source": [
                "# Null értékek száma a list\\_price oszlopban"
            ],
            "metadata": {
                "azdata_cell_guid": "1a83c80f-e8ea-4065-9da4-5205003cc18b"
            },
            "attachments": {}
        },
        {
            "cell_type": "code",
            "source": [
                "SELECT COUNT(list_price)\r\n",
                "FROM products\r\n",
                "WHERE list_price IS NULL"
            ],
            "metadata": {
                "azdata_cell_guid": "5ab48104-14b2-4561-b81a-e48e8383f50d",
                "language": "sql"
            },
            "outputs": [
                {
                    "output_type": "display_data",
                    "data": {
                        "text/html": "(1 row affected)"
                    },
                    "metadata": {}
                },
                {
                    "output_type": "display_data",
                    "data": {
                        "text/html": "Total execution time: 00:00:00.005"
                    },
                    "metadata": {}
                },
                {
                    "output_type": "execute_result",
                    "execution_count": 9,
                    "data": {
                        "application/vnd.dataresource+json": {
                            "schema": {
                                "fields": [
                                    {
                                        "name": "(No column name)"
                                    }
                                ]
                            },
                            "data": [
                                {
                                    "(No column name)": "0"
                                }
                            ]
                        },
                        "text/html": "<table><tr><th>(No column name)</th></tr><tr><td>0</td></tr></table>"
                    },
                    "metadata": {}
                }
            ],
            "execution_count": 9
        },
        {
            "cell_type": "markdown",
            "source": [
                "# list\\_price oszlop minimuma, maximuma, átlaga, szórása, varianciája"
            ],
            "metadata": {
                "azdata_cell_guid": "e99c3ba2-43d0-4b48-88de-6fab7e656a0a"
            },
            "attachments": {}
        },
        {
            "cell_type": "code",
            "source": [
                "SELECT MIN(list_price) AS value_min, \r\n",
                "       MAX(list_price) AS value_max, \r\n",
                "       AVG(list_price) AS value_avg, \r\n",
                "       STDEV(list_price) AS value_stddev, \r\n",
                "       VAR(list_price) AS value_var\r\n",
                "FROM products\r\n",
                "WHERE list_price IS NOT NULL"
            ],
            "metadata": {
                "azdata_cell_guid": "27d286cb-976e-4527-91f8-8bcbb518d869",
                "language": "sql",
                "tags": []
            },
            "outputs": [
                {
                    "output_type": "display_data",
                    "data": {
                        "text/html": "(1 row affected)"
                    },
                    "metadata": {}
                },
                {
                    "output_type": "display_data",
                    "data": {
                        "text/html": "Total execution time: 00:00:00.020"
                    },
                    "metadata": {}
                },
                {
                    "output_type": "execute_result",
                    "execution_count": 8,
                    "data": {
                        "application/vnd.dataresource+json": {
                            "schema": {
                                "fields": [
                                    {
                                        "name": "value_min"
                                    },
                                    {
                                        "name": "value_max"
                                    },
                                    {
                                        "name": "value_avg"
                                    },
                                    {
                                        "name": "value_stddev"
                                    },
                                    {
                                        "name": "value_var"
                                    }
                                ]
                            },
                            "data": [
                                {
                                    "value_min": "89.99",
                                    "value_max": "11999.99",
                                    "value_avg": "1520.591401",
                                    "value_stddev": "1612,1527653545156",
                                    "value_var": "2599036,538840212"
                                }
                            ]
                        },
                        "text/html": "<table><tr><th>value_min</th><th>value_max</th><th>value_avg</th><th>value_stddev</th><th>value_var</th></tr><tr><td>89.99</td><td>11999.99</td><td>1520.591401</td><td>1612,1527653545156</td><td>2599036,538840212</td></tr></table>"
                    },
                    "metadata": {}
                }
            ],
            "execution_count": 8
        },
        {
            "cell_type": "markdown",
            "source": [
                "# 200 dollár alatti, 200 és 1000 dollár közti, és fölötti értékek száma"
            ],
            "metadata": {
                "azdata_cell_guid": "62a20505-c63f-4f5a-9864-52deb46c7fa4"
            },
            "attachments": {}
        },
        {
            "cell_type": "code",
            "source": [
                "DECLARE \r\n",
                "@min int = 200,\r\n",
                "@max int = 1000;   \r\n",
                "\r\n",
                "SELECT \r\n",
                "    SUM(CASE WHEN list_price < @min THEN 1 ELSE 0 end) AS below_range,\r\n",
                "    SUM(CASE WHEN list_price BETWEEN @min and @max THEN 1 ELSE 0 end) AS within_range,\r\n",
                "    SUM(CASE WHEN list_price > @max THEN 1 ELSE 0 end) AS above_range\r\n",
                "FROM products"
            ],
            "metadata": {
                "azdata_cell_guid": "2bfe2e38-e485-4213-a310-b3f9d6ae4c31",
                "language": "sql"
            },
            "outputs": [
                {
                    "output_type": "display_data",
                    "data": {
                        "text/html": "(1 row affected)"
                    },
                    "metadata": {}
                },
                {
                    "output_type": "display_data",
                    "data": {
                        "text/html": "Total execution time: 00:00:00.016"
                    },
                    "metadata": {}
                },
                {
                    "output_type": "execute_result",
                    "execution_count": 14,
                    "data": {
                        "application/vnd.dataresource+json": {
                            "schema": {
                                "fields": [
                                    {
                                        "name": "below_range"
                                    },
                                    {
                                        "name": "within_range"
                                    },
                                    {
                                        "name": "above_range"
                                    }
                                ]
                            },
                            "data": [
                                {
                                    "below_range": "9",
                                    "within_range": "186",
                                    "above_range": "126"
                                }
                            ]
                        },
                        "text/html": "<table><tr><th>below_range</th><th>within_range</th><th>above_range</th></tr><tr><td>9</td><td>186</td><td>126</td></tr></table>"
                    },
                    "metadata": {}
                }
            ],
            "execution_count": 14
        },
        {
            "cell_type": "markdown",
            "source": [
                "# Árak eloszlása\n",
                "\n",
                "![](data:image/png;base64,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)"
            ],
            "metadata": {
                "azdata_cell_guid": "ef58dded-b45f-46de-befc-5fc45427c908"
            },
            "attachments": {}
        },
        {
            "cell_type": "code",
            "source": [
                "SELECT list_price\r\n",
                "FROM products"
            ],
            "metadata": {
                "azdata_cell_guid": "baeb6057-c799-445a-92bc-c9d3270b9bf8",
                "language": "sql"
            },
            "outputs": [
                {
                    "output_type": "display_data",
                    "data": {
                        "text/html": "(321 rows affected)"
                    },
                    "metadata": {}
                },
                {
                    "output_type": "display_data",
                    "data": {
                        "text/html": "Total execution time: 00:00:00.039"
                    },
                    "metadata": {}
                },
                {
                    "output_type": "execute_result",
                    "execution_count": 15,
                    "data": {
                        "application/vnd.dataresource+json": {
                            "schema": {
                                "fields": [
                                    {
                                        "name": "list_price"
                                    }
                                ]
                            },
                            "data": [
                                {
                                    "list_price": "379.99"
                                },
                                {
                                    "list_price": "749.99"
                                },
                                {
                                    "list_price": "999.99"
                                },
                                {
                                    "list_price": "2899.99"
                                },
                                {
                                    "list_price": "1320.99"
                                },
                                {
                                    "list_price": "469.99"
                                },
                                {
                                    "list_price": "3999.99"
                                },
                                {
                                    "list_price": "1799.99"
                                },
                                {
                                    "list_price": "2999.99"
                                },
                                {
                                    "list_price": "1549.00"
                                },
                                {
                                    "list_price": "1680.99"
                                },
                                {
                                    "list_price": "549.99"
                                },
                                {
                                    "list_price": "269.99"
                                },
                                {
                                    "list_price": "269.99"
                                },
                                {
                                    "list_price": "529.99"
                                },
                                {
                                    "list_price": "599.99"
                                },
                                {
                                    "list_price": "429.00"
                                },
                                {
                                    "list_price": "449.00"
                                },
                                {
                                    "list_price": "449.00"
                                },
                                {
                                    "list_price": "599.99"
                                },
                                {
                                    "list_price": "269.99"
                                },
                                {
                                    "list_price": "269.99"
                                },
                                {
                                    "list_price": "299.99"
                                },
                                {
                                    "list_price": "549.99"
                                },
                                {
                                    "list_price": "499.99"
                                },
                                {
                                    "list_price": "599.99"
                                },
                                {
                                    "list_price": "999.99"
                                },
                                {
                                    "list_price": "2499.99"
                                },
                                {
                                    "list_price": "999.99"
                                },
                                {
                                    "list_price": "999.99"
                                },
                                {
                                    "list_price": "1632.99"
                                },
                                {
                                    "list_price": "469.99"
                                },
                                {
                                    "list_price": "469.99"
                                },
                                {
                                    "list_price": "469.99"
                                },
                                {
                                    "list_price": "832.99"
                                },
                                {
                                    "list_price": "832.99"
                                },
                                {
                                    "list_price": "379.99"
                                },
                                {
                                    "list_price": "549.99"
                                },
                                {
                                    "list_price": "1499.99"
                                },
                                {
                                    "list_price": "4999.99"
                                },
                                {
                                    "list_price": "1469.99"
                                },
                                {
                                    "list_price": "2299.99"
                                },
                                {
                                    "list_price": "5299.99"
                                },
                                {
                                    "list_price": "539.99"
                                },
                                {
                                    "list_price": "869.99"
                                },
                                {
                                    "list_price": "1409.99"
                                },
                                {
                                    "list_price": "5299.99"
                                },
                                {
                                    "list_price": "1499.99"
                                },
                                {
                                    "list_price": "3499.99"
                                },
                                {
                                    "list_price": "5999.99"
                                },
                                {
                                    "list_price": "6499.99"
                                },
                                {
                                    "list_price": "875.99"
                                },
                                {
                                    "list_price": "749.99"
                                },
                                {
                                    "list_price": "3199.99"
                                },
                                {
                                    "list_price": "2699.99"
                                },
                                {
                                    "list_price": "5499.99"
                                },
                                {
                                    "list_price": "1999.99"
                                },
                                {
                                    "list_price": "4999.99"
                                },
                                {
                                    "list_price": "2599.99"
                                },
                                {
                                    "list_price": "1559.99"
                                },
                                {
                                    "list_price": "4999.99"
                                },
                                {
                                    "list_price": "3499.99"
                                },
                                {
                                    "list_price": "3499.99"
                                },
                                {
                                    "list_price": "489.99"
                                },
                                {
                                    "list_price": "346.99"
                                },
                                {
                                    "list_price": "250.99"
                                },
                                {
                                    "list_price": "250.99"
                                },
                                {
                                    "list_price": "449.99"
                                },
                                {
                                    "list_price": "416.99"
                                },
                                {
                                    "list_price": "659.99"
                                },
                                {
                                    "list_price": "416.99"
                                },
                                {
                                    "list_price": "619.99"
                                },
                                {
                                    "list_price": "749.99"
                                },
                                {
                                    "list_price": "439.99"
                                },
                                {
                                    "list_price": "599.99"
                                },
                                {
                                    "list_price": "299.99"
                                },
                                {
                                    "list_price": "799.99"
                                },
                                {
                                    "list_price": "647.99"
                                },
                                {
                                    "list_price": "402.99"
                                },
                                {
                                    "list_price": "761.99"
                                },
                                {
                                    "list_price": "1099.99"
                                },
                                {
                                    "list_price": "659.99"
                                },
                                {
                                    "list_price": "149.99"
                                },
                                {
                                    "list_price": "109.99"
                                },
                                {
                                    "list_price": "329.99"
                                },
                                {
                                    "list_price": "149.99"
                                },
                                {
                                    "list_price": "189.99"
                                },
                                {
                                    "list_price": "189.99"
                                },
                                {
                                    "list_price": "209.99"
                                },
                                {
                                    "list_price": "209.99"
                                },
                                {
                                    "list_price": "349.99"
                                },
                                {
                                    "list_price": "209.99"
                                },
                                {
                                    "list_price": "209.99"
                                },
                                {
                                    "list_price": "249.99"
                                },
                                {
                                    "list_price": "299.99"
                                },
                                {
                                    "list_price": "349.99"
                                },
                                {
                                    "list_price": "349.99"
                                },
                                {
                                    "list_price": "489.99"
                                },
                                {
                                    "list_price": "299.99"
                                },
                                {
                                    "list_price": "489.99"
                                },
                                {
                                    "list_price": "339.99"
                                },
                                {
                                    "list_price": "489.99"
                                },
                                {
                                    "list_price": "551.99"
                                },
                                {
                                    "list_price": "481.99"
                                },
                                {
                                    "list_price": "533.99"
                                },
                                {
                                    "list_price": "449.99"
                                },
                                {
                                    "list_price": "416.99"
                                },
                                {
                                    "list_price": "449.99"
                                },
                                {
                                    "list_price": "416.99"
                                },
                                {
                                    "list_price": "470.99"
                                },
                                {
                                    "list_price": "470.99"
                                },
                                {
                                    "list_price": "379.99"
                                },
                                {
                                    "list_price": "489.99"
                                },
                                {
                                    "list_price": "579.99"
                                },
                                {
                                    "list_price": "3199.99"
                                },
                                {
                                    "list_price": "749.99"
                                },
                                {
                                    "list_price": "1469.99"
                                },
                                {
                                    "list_price": "999.99"
                                },
                                {
                                    "list_price": "469.99"
                                },
                                {
                                    "list_price": "2499.99"
                                },
                                {
                                    "list_price": "2499.99"
                                },
                                {
                                    "list_price": "2499.99"
                                },
                                {
                                    "list_price": "999.99"
                                },
                                {
                                    "list_price": "1499.00"
                                },
                                {
                                    "list_price": "469.99"
                                },
                                {
                                    "list_price": "469.99"
                                },
                                {
                                    "list_price": "469.99"
                                },
                                {
                                    "list_price": "1899.00"
                                },
                                {
                                    "list_price": "919.99"
                                },
                                {
                                    "list_price": "919.99"
                                },
                                {
                                    "list_price": "2599.00"
                                },
                                {
                                    "list_price": "1499.99"
                                },
                                {
                                    "list_price": "1499.99"
                                },
                                {
                                    "list_price": "1499.99"
                                },
                                {
                                    "list_price": "1499.99"
                                },
                                {
                                    "list_price": "1799.99"
                                },
                                {
                                    "list_price": "2599.00"
                                },
                                {
                                    "list_price": "2249.99"
                                },
                                {
                                    "list_price": "2999.99"
                                },
                                {
                                    "list_price": "4999.99"
                                },
                                {
                                    "list_price": "1599.99"
                                },
                                {
                                    "list_price": "3199.99"
                                },
                                {
                                    "list_price": "1099.99"
                                },
                                {
                                    "list_price": "1549.99"
                                },
                                {
                                    "list_price": "1799.99"
                                },
                                {
                                    "list_price": "4999.99"
                                },
                                {
                                    "list_price": "1799.99"
                                },
                                {
                                    "list_price": "5499.99"
                                },
                                {
                                    "list_price": "7499.99"
                                },
                                {
                                    "list_price": "4499.99"
                                },
                                {
                                    "list_price": "1549.99"
                                },
                                {
                                    "list_price": "2499.99"
                                },
                                {
                                    "list_price": "4999.99"
                                },
                                {
                                    "list_price": "5499.99"
                                },
                                {
                                    "list_price": "11999.99"
                                },
                                {
                                    "list_price": "6499.99"
                                },
                                {
                                    "list_price": "6499.99"
                                },
                                {
                                    "list_price": "959.99"
                                },
                                {
                                    "list_price": "2299.99"
                                },
                                {
                                    "list_price": "4499.99"
                                },
                                {
                                    "list_price": "1899.00"
                                },
                                {
                                    "list_price": "2999.99"
                                },
                                {
                                    "list_price": "1349.00"
                                },
                                {
                                    "list_price": "1549.00"
                                },
                                {
                                    "list_price": "2499.99"
                                },
                                {
                                    "list_price": "749.99"
                                },
                                {
                                    "list_price": "749.99"
                                },
                                {
                                    "list_price": "1549.00"
                                },
                                {
                                    "list_price": "6499.99"
                                },
                                {
                                    "list_price": "1299.99"
                                },
                                {
                                    "list_price": "3199.99"
                                },
                                {
                                    "list_price": "3199.99"
                                },
                                {
                                    "list_price": "3199.99"
                                },
                                {
                                    "list_price": "3199.99"
                                },
                                {
                                    "list_price": "3199.99"
                                },
                                {
                                    "list_price": "3199.99"
                                },
                                {
                                    "list_price": "5499.99"
                                },
                                {
                                    "list_price": "749.99"
                                },
                                {
                                    "list_price": "919.99"
                                },
                                {
                                    "list_price": "919.99"
                                },
                                {
                                    "list_price": "2199.99"
                                },
                                {
                                    "list_price": "2499.99"
                                },
                                {
                                    "list_price": "2199.99"
                                },
                                {
                                    "list_price": "3499.99"
                                },
                                {
                                    "list_price": "2799.99"
                                },
                                {
                                    "list_price": "4499.99"
                                },
                                {
                                    "list_price": "2799.99"
                                },
                                {
                                    "list_price": "3499.99"
                                },
                                {
                                    "list_price": "2799.99"
                                },
                                {
                                    "list_price": "2799.99"
                                },
                                {
                                    "list_price": "2799.99"
                                },
                                {
                                    "list_price": "2599.99"
                                },
                                {
                                    "list_price": "2799.99"
                                },
                                {
                                    "list_price": "3499.99"
                                },
                                {
                                    "list_price": "2599.99"
                                },
                                {
                                    "list_price": "2299.99"
                                },
                                {
                                    "list_price": "2299.99"
                                },
                                {
                                    "list_price": "2999.99"
                                },
                                {
                                    "list_price": "2999.99"
                                },
                                {
                                    "list_price": "3499.99"
                                },
                                {
                                    "list_price": "4499.99"
                                },
                                {
                                    "list_price": "3499.99"
                                },
                                {
                                    "list_price": "4999.99"
                                },
                                {
                                    "list_price": "3599.99"
                                },
                                {
                                    "list_price": "4999.99"
                                },
                                {
                                    "list_price": "3299.99"
                                },
                                {
                                    "list_price": "3999.99"
                                },
                                {
                                    "list_price": "1799.99"
                                },
                                {
                                    "list_price": "2999.99"
                                },
                                {
                                    "list_price": "1549.00"
                                },
                                {
                                    "list_price": "1549.00"
                                },
                                {
                                    "list_price": "559.99"
                                },
                                {
                                    "list_price": "269.99"
                                },
                                {
                                    "list_price": "899.99"
                                },
                                {
                                    "list_price": "749.99"
                                },
                                {
                                    "list_price": "899.99"
                                },
                                {
                                    "list_price": "909.99"
                                },
                                {
                                    "list_price": "319.99"
                                },
                                {
                                    "list_price": "639.99"
                                },
                                {
                                    "list_price": "269.99"
                                },
                                {
                                    "list_price": "319.99"
                                },
                                {
                                    "list_price": "269.99"
                                },
                                {
                                    "list_price": "529.99"
                                },
                                {
                                    "list_price": "479.99"
                                },
                                {
                                    "list_price": "959.99"
                                },
                                {
                                    "list_price": "679.99"
                                },
                                {
                                    "list_price": "319.99"
                                },
                                {
                                    "list_price": "319.99"
                                },
                                {
                                    "list_price": "429.99"
                                },
                                {
                                    "list_price": "429.99"
                                },
                                {
                                    "list_price": "529.99"
                                },
                                {
                                    "list_price": "479.99"
                                },
                                {
                                    "list_price": "639.99"
                                },
                                {
                                    "list_price": "899.99"
                                },
                                {
                                    "list_price": "899.99"
                                },
                                {
                                    "list_price": "749.99"
                                },
                                {
                                    "list_price": "849.99"
                                },
                                {
                                    "list_price": "749.99"
                                },
                                {
                                    "list_price": "749.99"
                                },
                                {
                                    "list_price": "899.99"
                                },
                                {
                                    "list_price": "749.99"
                                },
                                {
                                    "list_price": "699.99"
                                },
                                {
                                    "list_price": "679.99"
                                },
                                {
                                    "list_price": "559.99"
                                },
                                {
                                    "list_price": "659.99"
                                },
                                {
                                    "list_price": "639.99"
                                },
                                {
                                    "list_price": "599.99"
                                },
                                {
                                    "list_price": "599.99"
                                },
                                {
                                    "list_price": "749.99"
                                },
                                {
                                    "list_price": "2599.99"
                                },
                                {
                                    "list_price": "2999.99"
                                },
                                {
                                    "list_price": "2999.99"
                                },
                                {
                                    "list_price": "2599.99"
                                },
                                {
                                    "list_price": "749.99"
                                },
                                {
                                    "list_price": "899.99"
                                },
                                {
                                    "list_price": "899.99"
                                },
                                {
                                    "list_price": "899.99"
                                },
                                {
                                    "list_price": "1259.90"
                                },
                                {
                                    "list_price": "1199.99"
                                },
                                {
                                    "list_price": "799.99"
                                },
                                {
                                    "list_price": "899.99"
                                },
                                {
                                    "list_price": "249.99"
                                },
                                {
                                    "list_price": "89.99"
                                },
                                {
                                    "list_price": "249.99"
                                },
                                {
                                    "list_price": "289.99"
                                },
                                {
                                    "list_price": "399.99"
                                },
                                {
                                    "list_price": "199.99"
                                },
                                {
                                    "list_price": "159.99"
                                },
                                {
                                    "list_price": "199.99"
                                },
                                {
                                    "list_price": "209.99"
                                },
                                {
                                    "list_price": "209.99"
                                },
                                {
                                    "list_price": "289.99"
                                },
                                {
                                    "list_price": "289.99"
                                },
                                {
                                    "list_price": "229.99"
                                },
                                {
                                    "list_price": "229.99"
                                },
                                {
                                    "list_price": "319.99"
                                },
                                {
                                    "list_price": "369.99"
                                },
                                {
                                    "list_price": "369.99"
                                },
                                {
                                    "list_price": "319.99"
                                },
                                {
                                    "list_price": "489.99"
                                },
                                {
                                    "list_price": "319.99"
                                },
                                {
                                    "list_price": "279.99"
                                },
                                {
                                    "list_price": "319.99"
                                },
                                {
                                    "list_price": "319.99"
                                },
                                {
                                    "list_price": "279.99"
                                },
                                {
                                    "list_price": "279.99"
                                },
                                {
                                    "list_price": "279.99"
                                },
                                {
                                    "list_price": "389.99"
                                },
                                {
                                    "list_price": "319.99"
                                },
                                {
                                    "list_price": "369.99"
                                },
                                {
                                    "list_price": "319.99"
                                },
                                {
                                    "list_price": "369.99"
                                },
                                {
                                    "list_price": "319.99"
                                },
                                {
                                    "list_price": "369.99"
                                },
                                {
                                    "list_price": "319.99"
                                },
                                {
                                    "list_price": "369.99"
                                },
                                {
                                    "list_price": "279.99"
                                },
                                {
                                    "list_price": "279.99"
                                },
                                {
                                    "list_price": "559.99"
                                },
                                {
                                    "list_price": "799.99"
                                },
                                {
                                    "list_price": "899.99"
                                },
                                {
                                    "list_price": "449.99"
                                },
                                {
                                    "list_price": "2599.99"
                                },
                                {
                                    "list_price": "679.99"
                                },
                                {
                                    "list_price": "749.99"
                                },
                                {
                                    "list_price": "899.99"
                                },
                                {
                                    "list_price": "749.99"
                                },
                                {
                                    "list_price": "749.99"
                                },
                                {
                                    "list_price": "899.99"
                                },
                                {
                                    "list_price": "899.99"
                                },
                                {
                                    "list_price": "749.99"
                                },
                                {
                                    "list_price": "699.99"
                                },
                                {
                                    "list_price": "449.99"
                                },
                                {
                                    "list_price": "679.99"
                                },
                                {
                                    "list_price": "559.99"
                                },
                                {
                                    "list_price": "1699.99"
                                },
                                {
                                    "list_price": "1999.99"
                                },
                                {
                                    "list_price": "1999.99"
                                },
                                {
                                    "list_price": "2799.99"
                                },
                                {
                                    "list_price": "3799.99"
                                },
                                {
                                    "list_price": "3199.99"
                                }
                            ]
                        },
                        "text/html": "<table><tr><th>list_price</th></tr><tr><td>379.99</td></tr><tr><td>749.99</td></tr><tr><td>999.99</td></tr><tr><td>2899.99</td></tr><tr><td>1320.99</td></tr><tr><td>469.99</td></tr><tr><td>3999.99</td></tr><tr><td>1799.99</td></tr><tr><td>2999.99</td></tr><tr><td>1549.00</td></tr><tr><td>1680.99</td></tr><tr><td>549.99</td></tr><tr><td>269.99</td></tr><tr><td>269.99</td></tr><tr><td>529.99</td></tr><tr><td>599.99</td></tr><tr><td>429.00</td></tr><tr><td>449.00</td></tr><tr><td>449.00</td></tr><tr><td>599.99</td></tr><tr><td>269.99</td></tr><tr><td>269.99</td></tr><tr><td>299.99</td></tr><tr><td>549.99</td></tr><tr><td>499.99</td></tr><tr><td>599.99</td></tr><tr><td>999.99</td></tr><tr><td>2499.99</td></tr><tr><td>999.99</td></tr><tr><td>999.99</td></tr><tr><td>1632.99</td></tr><tr><td>469.99</td></tr><tr><td>469.99</td></tr><tr><td>469.99</td></tr><tr><td>832.99</td></tr><tr><td>832.99</td></tr><tr><td>379.99</td></tr><tr><td>549.99</td></tr><tr><td>1499.99</td></tr><tr><td>4999.99</td></tr><tr><td>1469.99</td></tr><tr><td>2299.99</td></tr><tr><td>5299.99</td></tr><tr><td>539.99</td></tr><tr><td>869.99</td></tr><tr><td>1409.99</td></tr><tr><td>5299.99</td></tr><tr><td>1499.99</td></tr><tr><td>3499.99</td></tr><tr><td>5999.99</td></tr><tr><td>6499.99</td></tr><tr><td>875.99</td></tr><tr><td>749.99</td></tr><tr><td>3199.99</td></tr><tr><td>2699.99</td></tr><tr><td>5499.99</td></tr><tr><td>1999.99</td></tr><tr><td>4999.99</td></tr><tr><td>2599.99</td></tr><tr><td>1559.99</td></tr><tr><td>4999.99</td></tr><tr><td>3499.99</td></tr><tr><td>3499.99</td></tr><tr><td>489.99</td></tr><tr><td>346.99</td></tr><tr><td>250.99</td></tr><tr><td>250.99</td></tr><tr><td>449.99</td></tr><tr><td>416.99</td></tr><tr><td>659.99</td></tr><tr><td>416.99</td></tr><tr><td>619.99</td></tr><tr><td>749.99</td></tr><tr><td>439.99</td></tr><tr><td>599.99</td></tr><tr><td>299.99</td></tr><tr><td>799.99</td></tr><tr><td>647.99</td></tr><tr><td>402.99</td></tr><tr><td>761.99</td></tr><tr><td>1099.99</td></tr><tr><td>659.99</td></tr><tr><td>149.99</td></tr><tr><td>109.99</td></tr><tr><td>329.99</td></tr><tr><td>149.99</td></tr><tr><td>189.99</td></tr><tr><td>189.99</td></tr><tr><td>209.99</td></tr><tr><td>209.99</td></tr><tr><td>349.99</td></tr><tr><td>209.99</td></tr><tr><td>209.99</td></tr><tr><td>249.99</td></tr><tr><td>299.99</td></tr><tr><td>349.99</td></tr><tr><td>349.99</td></tr><tr><td>489.99</td></tr><tr><td>299.99</td></tr><tr><td>489.99</td></tr><tr><td>339.99</td></tr><tr><td>489.99</td></tr><tr><td>551.99</td></tr><tr><td>481.99</td></tr><tr><td>533.99</td></tr><tr><td>449.99</td></tr><tr><td>416.99</td></tr><tr><td>449.99</td></tr><tr><td>416.99</td></tr><tr><td>470.99</td></tr><tr><td>470.99</td></tr><tr><td>379.99</td></tr><tr><td>489.99</td></tr><tr><td>579.99</td></tr><tr><td>3199.99</td></tr><tr><td>749.99</td></tr><tr><td>1469.99</td></tr><tr><td>999.99</td></tr><tr><td>469.99</td></tr><tr><td>2499.99</td></tr><tr><td>2499.99</td></tr><tr><td>2499.99</td></tr><tr><td>999.99</td></tr><tr><td>1499.00</td></tr><tr><td>469.99</td></tr><tr><td>469.99</td></tr><tr><td>469.99</td></tr><tr><td>1899.00</td></tr><tr><td>919.99</td></tr><tr><td>919.99</td></tr><tr><td>2599.00</td></tr><tr><td>1499.99</td></tr><tr><td>1499.99</td></tr><tr><td>1499.99</td></tr><tr><td>1499.99</td></tr><tr><td>1799.99</td></tr><tr><td>2599.00</td></tr><tr><td>2249.99</td></tr><tr><td>2999.99</td></tr><tr><td>4999.99</td></tr><tr><td>1599.99</td></tr><tr><td>3199.99</td></tr><tr><td>1099.99</td></tr><tr><td>1549.99</td></tr><tr><td>1799.99</td></tr><tr><td>4999.99</td></tr><tr><td>1799.99</td></tr><tr><td>5499.99</td></tr><tr><td>7499.99</td></tr><tr><td>4499.99</td></tr><tr><td>1549.99</td></tr><tr><td>2499.99</td></tr><tr><td>4999.99</td></tr><tr><td>5499.99</td></tr><tr><td>11999.99</td></tr><tr><td>6499.99</td></tr><tr><td>6499.99</td></tr><tr><td>959.99</td></tr><tr><td>2299.99</td></tr><tr><td>4499.99</td></tr><tr><td>1899.00</td></tr><tr><td>2999.99</td></tr><tr><td>1349.00</td></tr><tr><td>1549.00</td></tr><tr><td>2499.99</td></tr><tr><td>749.99</td></tr><tr><td>749.99</td></tr><tr><td>1549.00</td></tr><tr><td>6499.99</td></tr><tr><td>1299.99</td></tr><tr><td>3199.99</td></tr><tr><td>3199.99</td></tr><tr><td>3199.99</td></tr><tr><td>3199.99</td></tr><tr><td>3199.99</td></tr><tr><td>3199.99</td></tr><tr><td>5499.99</td></tr><tr><td>749.99</td></tr><tr><td>919.99</td></tr><tr><td>919.99</td></tr><tr><td>2199.99</td></tr><tr><td>2499.99</td></tr><tr><td>2199.99</td></tr><tr><td>3499.99</td></tr><tr><td>2799.99</td></tr><tr><td>4499.99</td></tr><tr><td>2799.99</td></tr><tr><td>3499.99</td></tr><tr><td>2799.99</td></tr><tr><td>2799.99</td></tr><tr><td>2799.99</td></tr><tr><td>2599.99</td></tr><tr><td>2799.99</td></tr><tr><td>3499.99</td></tr><tr><td>2599.99</td></tr><tr><td>2299.99</td></tr><tr><td>2299.99</td></tr><tr><td>2999.99</td></tr><tr><td>2999.99</td></tr><tr><td>3499.99</td></tr><tr><td>4499.99</td></tr><tr><td>3499.99</td></tr><tr><td>4999.99</td></tr><tr><td>3599.99</td></tr><tr><td>4999.99</td></tr><tr><td>3299.99</td></tr><tr><td>3999.99</td></tr><tr><td>1799.99</td></tr><tr><td>2999.99</td></tr><tr><td>1549.00</td></tr><tr><td>1549.00</td></tr><tr><td>559.99</td></tr><tr><td>269.99</td></tr><tr><td>899.99</td></tr><tr><td>749.99</td></tr><tr><td>899.99</td></tr><tr><td>909.99</td></tr><tr><td>319.99</td></tr><tr><td>639.99</td></tr><tr><td>269.99</td></tr><tr><td>319.99</td></tr><tr><td>269.99</td></tr><tr><td>529.99</td></tr><tr><td>479.99</td></tr><tr><td>959.99</td></tr><tr><td>679.99</td></tr><tr><td>319.99</td></tr><tr><td>319.99</td></tr><tr><td>429.99</td></tr><tr><td>429.99</td></tr><tr><td>529.99</td></tr><tr><td>479.99</td></tr><tr><td>639.99</td></tr><tr><td>899.99</td></tr><tr><td>899.99</td></tr><tr><td>749.99</td></tr><tr><td>849.99</td></tr><tr><td>749.99</td></tr><tr><td>749.99</td></tr><tr><td>899.99</td></tr><tr><td>749.99</td></tr><tr><td>699.99</td></tr><tr><td>679.99</td></tr><tr><td>559.99</td></tr><tr><td>659.99</td></tr><tr><td>639.99</td></tr><tr><td>599.99</td></tr><tr><td>599.99</td></tr><tr><td>749.99</td></tr><tr><td>2599.99</td></tr><tr><td>2999.99</td></tr><tr><td>2999.99</td></tr><tr><td>2599.99</td></tr><tr><td>749.99</td></tr><tr><td>899.99</td></tr><tr><td>899.99</td></tr><tr><td>899.99</td></tr><tr><td>1259.90</td></tr><tr><td>1199.99</td></tr><tr><td>799.99</td></tr><tr><td>899.99</td></tr><tr><td>249.99</td></tr><tr><td>89.99</td></tr><tr><td>249.99</td></tr><tr><td>289.99</td></tr><tr><td>399.99</td></tr><tr><td>199.99</td></tr><tr><td>159.99</td></tr><tr><td>199.99</td></tr><tr><td>209.99</td></tr><tr><td>209.99</td></tr><tr><td>289.99</td></tr><tr><td>289.99</td></tr><tr><td>229.99</td></tr><tr><td>229.99</td></tr><tr><td>319.99</td></tr><tr><td>369.99</td></tr><tr><td>369.99</td></tr><tr><td>319.99</td></tr><tr><td>489.99</td></tr><tr><td>319.99</td></tr><tr><td>279.99</td></tr><tr><td>319.99</td></tr><tr><td>319.99</td></tr><tr><td>279.99</td></tr><tr><td>279.99</td></tr><tr><td>279.99</td></tr><tr><td>389.99</td></tr><tr><td>319.99</td></tr><tr><td>369.99</td></tr><tr><td>319.99</td></tr><tr><td>369.99</td></tr><tr><td>319.99</td></tr><tr><td>369.99</td></tr><tr><td>319.99</td></tr><tr><td>369.99</td></tr><tr><td>279.99</td></tr><tr><td>279.99</td></tr><tr><td>559.99</td></tr><tr><td>799.99</td></tr><tr><td>899.99</td></tr><tr><td>449.99</td></tr><tr><td>2599.99</td></tr><tr><td>679.99</td></tr><tr><td>749.99</td></tr><tr><td>899.99</td></tr><tr><td>749.99</td></tr><tr><td>749.99</td></tr><tr><td>899.99</td></tr><tr><td>899.99</td></tr><tr><td>749.99</td></tr><tr><td>699.99</td></tr><tr><td>449.99</td></tr><tr><td>679.99</td></tr><tr><td>559.99</td></tr><tr><td>1699.99</td></tr><tr><td>1999.99</td></tr><tr><td>1999.99</td></tr><tr><td>2799.99</td></tr><tr><td>3799.99</td></tr><tr><td>3199.99</td></tr></table>"
                    },
                    "metadata": {
                        "azdata_chartOptions": {
                            "type": "bar",
                            "dataDirection": "horizontal",
                            "columnsAsLabels": true,
                            "labelFirstColumn": false,
                            "legendPosition": "none",
                            "dataType": "number"
                        }
                    }
                }
            ],
            "execution_count": 15
        },
        {
            "cell_type": "markdown",
            "source": [
                "# Minimum, maximum, átlag hossza a termékek neveinek"
            ],
            "metadata": {
                "azdata_cell_guid": "acb4d192-1c03-49e7-a015-f0d762621cd4"
            },
            "attachments": {}
        },
        {
            "cell_type": "code",
            "source": [
                "SELECT MIN(LEN(product_name)) AS string_length_min, \r\n",
                "       MAX(LEN(product_name)) AS string_length_max, \r\n",
                "       AVG(LEN(product_name)) AS string_length_avg, \r\n",
                "       STDEV(LEN(product_name)) AS string_length_stddev, \r\n",
                "       VAR(LEN(product_name)) AS string_length_var\r\n",
                "FROM products\r\n",
                "WHERE product_name IS NOT NULL\r\n",
                "AND LEN(product_name) > 0"
            ],
            "metadata": {
                "azdata_cell_guid": "98e0b412-8290-4051-bd54-029f4ae4923d",
                "language": "sql"
            },
            "outputs": [
                {
                    "output_type": "display_data",
                    "data": {
                        "text/html": "(1 row affected)"
                    },
                    "metadata": {}
                },
                {
                    "output_type": "display_data",
                    "data": {
                        "text/html": "Total execution time: 00:00:00.006"
                    },
                    "metadata": {}
                },
                {
                    "output_type": "execute_result",
                    "metadata": {},
                    "execution_count": 2,
                    "data": {
                        "application/vnd.dataresource+json": {
                            "schema": {
                                "fields": [
                                    {
                                        "name": "string_length_min"
                                    },
                                    {
                                        "name": "string_length_max"
                                    },
                                    {
                                        "name": "string_length_avg"
                                    },
                                    {
                                        "name": "string_length_stddev"
                                    },
                                    {
                                        "name": "string_length_var"
                                    }
                                ]
                            },
                            "data": [
                                {
                                    "string_length_min": "15",
                                    "string_length_max": "53",
                                    "string_length_avg": "31",
                                    "string_length_stddev": "8,078641410565174",
                                    "string_length_var": "65,26444704049845"
                                }
                            ]
                        },
                        "text/html": [
                            "<table>",
                            "<tr><th>string_length_min</th><th>string_length_max</th><th>string_length_avg</th><th>string_length_stddev</th><th>string_length_var</th></tr>",
                            "<tr><td>15</td><td>53</td><td>31</td><td>8,078641410565174</td><td>65,26444704049845</td></tr>",
                            "</table>"
                        ]
                    }
                }
            ],
            "execution_count": 2
        },
        {
            "cell_type": "markdown",
            "source": [
                "# Üres, és null értékek keresése a product\\_name oszlopban"
            ],
            "metadata": {
                "azdata_cell_guid": "bd7ec93c-2591-4bd1-b3fb-7ffa5b135167"
            },
            "attachments": {}
        },
        {
            "cell_type": "code",
            "source": [
                "SELECT row_type,\r\n",
                "    COUNT(*) row_count\r\n",
                "FROM \r\n",
                "    (SELECT \r\n",
                "        CASE WHEN product_name IS NULL THEN 'Null'\r\n",
                "            WHEN LEN(product_name) = 0 THEN 'Üres'\r\n",
                "            ELSE 'Nem üres' \r\n",
                "            END AS row_type\r\n",
                "        FROM products) rows\r\n",
                "GROUP BY row_type"
            ],
            "metadata": {
                "azdata_cell_guid": "2b707242-51a0-401a-b7cb-5944d145d01b",
                "language": "sql",
                "tags": []
            },
            "outputs": [
                {
                    "output_type": "display_data",
                    "data": {
                        "text/html": "(1 row affected)"
                    },
                    "metadata": {}
                },
                {
                    "output_type": "display_data",
                    "data": {
                        "text/html": "Total execution time: 00:00:00.014"
                    },
                    "metadata": {}
                },
                {
                    "output_type": "execute_result",
                    "metadata": {},
                    "execution_count": 4,
                    "data": {
                        "application/vnd.dataresource+json": {
                            "schema": {
                                "fields": [
                                    {
                                        "name": "row_type"
                                    },
                                    {
                                        "name": "row_count"
                                    }
                                ]
                            },
                            "data": [
                                {
                                    "row_type": "Nem üres",
                                    "row_count": "321"
                                }
                            ]
                        },
                        "text/html": [
                            "<table>",
                            "<tr><th>row_type</th><th>row_count</th></tr>",
                            "<tr><td>Nem üres</td><td>321</td></tr>",
                            "</table>"
                        ]
                    }
                }
            ],
            "execution_count": 4
        },
        {
            "cell_type": "markdown",
            "source": [
                "# Egyedi értékek száma a product\\_name oszlopban"
            ],
            "metadata": {
                "azdata_cell_guid": "7d5439bc-e5d1-4708-a423-d9780788f8e2"
            },
            "attachments": {}
        },
        {
            "cell_type": "code",
            "source": [
                "SELECT COUNT(DISTINCT list_price) AS 'egyedi értékek'\r\n",
                "FROM products\r\n",
                "WHERE list_price IS NOT NULL"
            ],
            "metadata": {
                "azdata_cell_guid": "a8996278-642b-4a2b-9b45-783f2fa8358c",
                "language": "sql"
            },
            "outputs": [
                {
                    "output_type": "display_data",
                    "data": {
                        "text/html": "(1 row affected)"
                    },
                    "metadata": {}
                },
                {
                    "output_type": "display_data",
                    "data": {
                        "text/html": "Total execution time: 00:00:00.010"
                    },
                    "metadata": {}
                },
                {
                    "output_type": "execute_result",
                    "metadata": {},
                    "execution_count": 6,
                    "data": {
                        "application/vnd.dataresource+json": {
                            "schema": {
                                "fields": [
                                    {
                                        "name": "egyedi értékek"
                                    }
                                ]
                            },
                            "data": [
                                {
                                    "egyedi értékek": "106"
                                }
                            ]
                        },
                        "text/html": [
                            "<table>",
                            "<tr><th>egyedi értékek</th></tr>",
                            "<tr><td>106</td></tr>",
                            "</table>"
                        ]
                    }
                }
            ],
            "execution_count": 6
        },
        {
            "cell_type": "markdown",
            "source": [
                "# model\\_year oszlop minimuma, maximuma, átlaga"
            ],
            "metadata": {
                "azdata_cell_guid": "31886ebe-5a73-437d-9446-b0a3abf7a15a"
            },
            "attachments": {}
        },
        {
            "cell_type": "code",
            "source": [
                "SELECT MIN(model_year) AS value_min, \r\n",
                "       MAX(model_year) AS value_max, \r\n",
                "       AVG(model_year) AS value_avg\r\n",
                "FROM products\r\n",
                "WHERE model_year IS NOT NULL"
            ],
            "metadata": {
                "azdata_cell_guid": "d58565f1-11bb-41a7-8544-6bc2c567066e",
                "language": "sql"
            },
            "outputs": [
                {
                    "output_type": "display_data",
                    "data": {
                        "text/html": "(1 row affected)"
                    },
                    "metadata": {}
                },
                {
                    "output_type": "display_data",
                    "data": {
                        "text/html": "Total execution time: 00:00:00.014"
                    },
                    "metadata": {}
                },
                {
                    "output_type": "execute_result",
                    "metadata": {},
                    "execution_count": 8,
                    "data": {
                        "application/vnd.dataresource+json": {
                            "schema": {
                                "fields": [
                                    {
                                        "name": "value_min"
                                    },
                                    {
                                        "name": "value_max"
                                    },
                                    {
                                        "name": "value_avg"
                                    }
                                ]
                            },
                            "data": [
                                {
                                    "value_min": "2016",
                                    "value_max": "2019",
                                    "value_avg": "2017"
                                }
                            ]
                        },
                        "text/html": [
                            "<table>",
                            "<tr><th>value_min</th><th>value_max</th><th>value_avg</th></tr>",
                            "<tr><td>2016</td><td>2019</td><td>2017</td></tr>",
                            "</table>"
                        ]
                    }
                }
            ],
            "execution_count": 8
        }
    ]
}