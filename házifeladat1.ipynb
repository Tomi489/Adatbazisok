{
    "metadata": {
        "kernelspec": {
            "name": "SQL",
            "display_name": "SQL",
            "language": "sql"
        },
        "language_info": {
            "name": "sql",
            "version": ""
        }
    },
    "nbformat_minor": 2,
    "nbformat": 4,
    "cells": [
        {
            "cell_type": "markdown",
            "source": [
                "# A választott adatbázisom a bike\\_store, azon belül a products táblát adatprofilozom."
            ],
            "metadata": {
                "azdata_cell_guid": "9911a1be-584d-46a6-aebf-9f4a62fb7c66"
            },
            "attachments": {}
        },
        {
            "cell_type": "markdown",
            "source": [
                "# Sorok száma"
            ],
            "metadata": {
                "azdata_cell_guid": "8efa8540-b3d2-4734-b356-174cb54b25a4"
            },
            "attachments": {}
        },
        {
            "cell_type": "code",
            "source": [
                "SELECT COUNT(*) AS sorok_szama\r\n",
                "FROM products"
            ],
            "metadata": {
                "azdata_cell_guid": "19266732-f975-43d1-be35-18acef9919d1",
                "language": "sql"
            },
            "outputs": [
                {
                    "output_type": "display_data",
                    "data": {
                        "text/html": "(1 row affected)"
                    },
                    "metadata": {}
                },
                {
                    "output_type": "display_data",
                    "data": {
                        "text/html": "Total execution time: 00:00:00.006"
                    },
                    "metadata": {}
                },
                {
                    "output_type": "execute_result",
                    "execution_count": 6,
                    "data": {
                        "application/vnd.dataresource+json": {
                            "schema": {
                                "fields": [
                                    {
                                        "name": "sorok_szama"
                                    }
                                ]
                            },
                            "data": [
                                {
                                    "sorok_szama": "321"
                                }
                            ]
                        },
                        "text/html": "<table><tr><th>sorok_szama</th></tr><tr><td>321</td></tr></table>"
                    },
                    "metadata": {}
                }
            ],
            "execution_count": 6
        },
        {
            "cell_type": "markdown",
            "source": [
                "# Null értékek száma a list\\_price oszlopban"
            ],
            "metadata": {
                "azdata_cell_guid": "1a83c80f-e8ea-4065-9da4-5205003cc18b"
            },
            "attachments": {}
        },
        {
            "cell_type": "code",
            "source": [
                "SELECT COUNT(list_price)\r\n",
                "FROM products\r\n",
                "WHERE list_price IS NULL"
            ],
            "metadata": {
                "azdata_cell_guid": "5ab48104-14b2-4561-b81a-e48e8383f50d",
                "language": "sql"
            },
            "outputs": [
                {
                    "output_type": "display_data",
                    "data": {
                        "text/html": "(1 row affected)"
                    },
                    "metadata": {}
                },
                {
                    "output_type": "display_data",
                    "data": {
                        "text/html": "Total execution time: 00:00:00.005"
                    },
                    "metadata": {}
                },
                {
                    "output_type": "execute_result",
                    "execution_count": 9,
                    "data": {
                        "application/vnd.dataresource+json": {
                            "schema": {
                                "fields": [
                                    {
                                        "name": "(No column name)"
                                    }
                                ]
                            },
                            "data": [
                                {
                                    "(No column name)": "0"
                                }
                            ]
                        },
                        "text/html": "<table><tr><th>(No column name)</th></tr><tr><td>0</td></tr></table>"
                    },
                    "metadata": {}
                }
            ],
            "execution_count": 9
        },
        {
            "cell_type": "markdown",
            "source": [
                "# list\\_price oszlop minimuma, maximuma, átlaga, szórása, varianciája"
            ],
            "metadata": {
                "azdata_cell_guid": "e99c3ba2-43d0-4b48-88de-6fab7e656a0a"
            },
            "attachments": {}
        },
        {
            "cell_type": "code",
            "source": [
                "SELECT MIN(list_price) AS value_min, \r\n",
                "       MAX(list_price) AS value_max, \r\n",
                "       AVG(list_price) AS value_avg, \r\n",
                "       STDEV(list_price) AS value_stddev, \r\n",
                "       VAR(list_price) AS value_var\r\n",
                "FROM products\r\n",
                "WHERE list_price IS NOT NULL"
            ],
            "metadata": {
                "azdata_cell_guid": "27d286cb-976e-4527-91f8-8bcbb518d869",
                "language": "sql",
                "tags": []
            },
            "outputs": [
                {
                    "output_type": "display_data",
                    "data": {
                        "text/html": "(1 row affected)"
                    },
                    "metadata": {}
                },
                {
                    "output_type": "display_data",
                    "data": {
                        "text/html": "Total execution time: 00:00:00.020"
                    },
                    "metadata": {}
                },
                {
                    "output_type": "execute_result",
                    "execution_count": 8,
                    "data": {
                        "application/vnd.dataresource+json": {
                            "schema": {
                                "fields": [
                                    {
                                        "name": "value_min"
                                    },
                                    {
                                        "name": "value_max"
                                    },
                                    {
                                        "name": "value_avg"
                                    },
                                    {
                                        "name": "value_stddev"
                                    },
                                    {
                                        "name": "value_var"
                                    }
                                ]
                            },
                            "data": [
                                {
                                    "value_min": "89.99",
                                    "value_max": "11999.99",
                                    "value_avg": "1520.591401",
                                    "value_stddev": "1612,1527653545156",
                                    "value_var": "2599036,538840212"
                                }
                            ]
                        },
                        "text/html": "<table><tr><th>value_min</th><th>value_max</th><th>value_avg</th><th>value_stddev</th><th>value_var</th></tr><tr><td>89.99</td><td>11999.99</td><td>1520.591401</td><td>1612,1527653545156</td><td>2599036,538840212</td></tr></table>"
                    },
                    "metadata": {}
                }
            ],
            "execution_count": 8
        },
        {
            "cell_type": "markdown",
            "source": [
                "# 200 dollár alatti, 200 és 1000 dollár közti, és fölötti értékek száma"
            ],
            "metadata": {
                "azdata_cell_guid": "62a20505-c63f-4f5a-9864-52deb46c7fa4"
            },
            "attachments": {}
        },
        {
            "cell_type": "code",
            "source": [
                "DECLARE \r\n",
                "@min int = 200,\r\n",
                "@max int = 1000;   \r\n",
                "\r\n",
                "SELECT \r\n",
                "    SUM(CASE WHEN list_price < @min THEN 1 ELSE 0 end) AS below_range,\r\n",
                "    SUM(CASE WHEN list_price BETWEEN @min and @max THEN 1 ELSE 0 end) AS within_range,\r\n",
                "    SUM(CASE WHEN list_price > @max THEN 1 ELSE 0 end) AS above_range\r\n",
                "FROM products"
            ],
            "metadata": {
                "azdata_cell_guid": "2bfe2e38-e485-4213-a310-b3f9d6ae4c31",
                "language": "sql"
            },
            "outputs": [
                {
                    "output_type": "display_data",
                    "data": {
                        "text/html": "(1 row affected)"
                    },
                    "metadata": {}
                },
                {
                    "output_type": "display_data",
                    "data": {
                        "text/html": "Total execution time: 00:00:00.016"
                    },
                    "metadata": {}
                },
                {
                    "output_type": "execute_result",
                    "execution_count": 14,
                    "data": {
                        "application/vnd.dataresource+json": {
                            "schema": {
                                "fields": [
                                    {
                                        "name": "below_range"
                                    },
                                    {
                                        "name": "within_range"
                                    },
                                    {
                                        "name": "above_range"
                                    }
                                ]
                            },
                            "data": [
                                {
                                    "below_range": "9",
                                    "within_range": "186",
                                    "above_range": "126"
                                }
                            ]
                        },
                        "text/html": "<table><tr><th>below_range</th><th>within_range</th><th>above_range</th></tr><tr><td>9</td><td>186</td><td>126</td></tr></table>"
                    },
                    "metadata": {}
                }
            ],
            "execution_count": 14
        },
        {
            "cell_type": "markdown",
            "source": [
                "# Árak eloszlása"
            ],
            "metadata": {
                "azdata_cell_guid": "ef58dded-b45f-46de-befc-5fc45427c908"
            },
            "attachments": {}
        },
        {
            "cell_type": "code",
            "source": [
                "SELECT list_price\r\n",
                "FROM products"
            ],
            "metadata": {
                "azdata_cell_guid": "baeb6057-c799-445a-92bc-c9d3270b9bf8",
                "language": "sql"
            },
            "outputs": [
                {
                    "output_type": "display_data",
                    "data": {
                        "text/html": "(321 rows affected)"
                    },
                    "metadata": {}
                },
                {
                    "output_type": "display_data",
                    "data": {
                        "text/html": "Total execution time: 00:00:00.039"
                    },
                    "metadata": {}
                },
                {
                    "output_type": "execute_result",
                    "execution_count": 15,
                    "data": {
                        "application/vnd.dataresource+json": {
                            "schema": {
                                "fields": [
                                    {
                                        "name": "list_price"
                                    }
                                ]
                            },
                            "data": [
                                {
                                    "list_price": "379.99"
                                },
                                {
                                    "list_price": "749.99"
                                },
                                {
                                    "list_price": "999.99"
                                },
                                {
                                    "list_price": "2899.99"
                                },
                                {
                                    "list_price": "1320.99"
                                },
                                {
                                    "list_price": "469.99"
                                },
                                {
                                    "list_price": "3999.99"
                                },
                                {
                                    "list_price": "1799.99"
                                },
                                {
                                    "list_price": "2999.99"
                                },
                                {
                                    "list_price": "1549.00"
                                },
                                {
                                    "list_price": "1680.99"
                                },
                                {
                                    "list_price": "549.99"
                                },
                                {
                                    "list_price": "269.99"
                                },
                                {
                                    "list_price": "269.99"
                                },
                                {
                                    "list_price": "529.99"
                                },
                                {
                                    "list_price": "599.99"
                                },
                                {
                                    "list_price": "429.00"
                                },
                                {
                                    "list_price": "449.00"
                                },
                                {
                                    "list_price": "449.00"
                                },
                                {
                                    "list_price": "599.99"
                                },
                                {
                                    "list_price": "269.99"
                                },
                                {
                                    "list_price": "269.99"
                                },
                                {
                                    "list_price": "299.99"
                                },
                                {
                                    "list_price": "549.99"
                                },
                                {
                                    "list_price": "499.99"
                                },
                                {
                                    "list_price": "599.99"
                                },
                                {
                                    "list_price": "999.99"
                                },
                                {
                                    "list_price": "2499.99"
                                },
                                {
                                    "list_price": "999.99"
                                },
                                {
                                    "list_price": "999.99"
                                },
                                {
                                    "list_price": "1632.99"
                                },
                                {
                                    "list_price": "469.99"
                                },
                                {
                                    "list_price": "469.99"
                                },
                                {
                                    "list_price": "469.99"
                                },
                                {
                                    "list_price": "832.99"
                                },
                                {
                                    "list_price": "832.99"
                                },
                                {
                                    "list_price": "379.99"
                                },
                                {
                                    "list_price": "549.99"
                                },
                                {
                                    "list_price": "1499.99"
                                },
                                {
                                    "list_price": "4999.99"
                                },
                                {
                                    "list_price": "1469.99"
                                },
                                {
                                    "list_price": "2299.99"
                                },
                                {
                                    "list_price": "5299.99"
                                },
                                {
                                    "list_price": "539.99"
                                },
                                {
                                    "list_price": "869.99"
                                },
                                {
                                    "list_price": "1409.99"
                                },
                                {
                                    "list_price": "5299.99"
                                },
                                {
                                    "list_price": "1499.99"
                                },
                                {
                                    "list_price": "3499.99"
                                },
                                {
                                    "list_price": "5999.99"
                                },
                                {
                                    "list_price": "6499.99"
                                },
                                {
                                    "list_price": "875.99"
                                },
                                {
                                    "list_price": "749.99"
                                },
                                {
                                    "list_price": "3199.99"
                                },
                                {
                                    "list_price": "2699.99"
                                },
                                {
                                    "list_price": "5499.99"
                                },
                                {
                                    "list_price": "1999.99"
                                },
                                {
                                    "list_price": "4999.99"
                                },
                                {
                                    "list_price": "2599.99"
                                },
                                {
                                    "list_price": "1559.99"
                                },
                                {
                                    "list_price": "4999.99"
                                },
                                {
                                    "list_price": "3499.99"
                                },
                                {
                                    "list_price": "3499.99"
                                },
                                {
                                    "list_price": "489.99"
                                },
                                {
                                    "list_price": "346.99"
                                },
                                {
                                    "list_price": "250.99"
                                },
                                {
                                    "list_price": "250.99"
                                },
                                {
                                    "list_price": "449.99"
                                },
                                {
                                    "list_price": "416.99"
                                },
                                {
                                    "list_price": "659.99"
                                },
                                {
                                    "list_price": "416.99"
                                },
                                {
                                    "list_price": "619.99"
                                },
                                {
                                    "list_price": "749.99"
                                },
                                {
                                    "list_price": "439.99"
                                },
                                {
                                    "list_price": "599.99"
                                },
                                {
                                    "list_price": "299.99"
                                },
                                {
                                    "list_price": "799.99"
                                },
                                {
                                    "list_price": "647.99"
                                },
                                {
                                    "list_price": "402.99"
                                },
                                {
                                    "list_price": "761.99"
                                },
                                {
                                    "list_price": "1099.99"
                                },
                                {
                                    "list_price": "659.99"
                                },
                                {
                                    "list_price": "149.99"
                                },
                                {
                                    "list_price": "109.99"
                                },
                                {
                                    "list_price": "329.99"
                                },
                                {
                                    "list_price": "149.99"
                                },
                                {
                                    "list_price": "189.99"
                                },
                                {
                                    "list_price": "189.99"
                                },
                                {
                                    "list_price": "209.99"
                                },
                                {
                                    "list_price": "209.99"
                                },
                                {
                                    "list_price": "349.99"
                                },
                                {
                                    "list_price": "209.99"
                                },
                                {
                                    "list_price": "209.99"
                                },
                                {
                                    "list_price": "249.99"
                                },
                                {
                                    "list_price": "299.99"
                                },
                                {
                                    "list_price": "349.99"
                                },
                                {
                                    "list_price": "349.99"
                                },
                                {
                                    "list_price": "489.99"
                                },
                                {
                                    "list_price": "299.99"
                                },
                                {
                                    "list_price": "489.99"
                                },
                                {
                                    "list_price": "339.99"
                                },
                                {
                                    "list_price": "489.99"
                                },
                                {
                                    "list_price": "551.99"
                                },
                                {
                                    "list_price": "481.99"
                                },
                                {
                                    "list_price": "533.99"
                                },
                                {
                                    "list_price": "449.99"
                                },
                                {
                                    "list_price": "416.99"
                                },
                                {
                                    "list_price": "449.99"
                                },
                                {
                                    "list_price": "416.99"
                                },
                                {
                                    "list_price": "470.99"
                                },
                                {
                                    "list_price": "470.99"
                                },
                                {
                                    "list_price": "379.99"
                                },
                                {
                                    "list_price": "489.99"
                                },
                                {
                                    "list_price": "579.99"
                                },
                                {
                                    "list_price": "3199.99"
                                },
                                {
                                    "list_price": "749.99"
                                },
                                {
                                    "list_price": "1469.99"
                                },
                                {
                                    "list_price": "999.99"
                                },
                                {
                                    "list_price": "469.99"
                                },
                                {
                                    "list_price": "2499.99"
                                },
                                {
                                    "list_price": "2499.99"
                                },
                                {
                                    "list_price": "2499.99"
                                },
                                {
                                    "list_price": "999.99"
                                },
                                {
                                    "list_price": "1499.00"
                                },
                                {
                                    "list_price": "469.99"
                                },
                                {
                                    "list_price": "469.99"
                                },
                                {
                                    "list_price": "469.99"
                                },
                                {
                                    "list_price": "1899.00"
                                },
                                {
                                    "list_price": "919.99"
                                },
                                {
                                    "list_price": "919.99"
                                },
                                {
                                    "list_price": "2599.00"
                                },
                                {
                                    "list_price": "1499.99"
                                },
                                {
                                    "list_price": "1499.99"
                                },
                                {
                                    "list_price": "1499.99"
                                },
                                {
                                    "list_price": "1499.99"
                                },
                                {
                                    "list_price": "1799.99"
                                },
                                {
                                    "list_price": "2599.00"
                                },
                                {
                                    "list_price": "2249.99"
                                },
                                {
                                    "list_price": "2999.99"
                                },
                                {
                                    "list_price": "4999.99"
                                },
                                {
                                    "list_price": "1599.99"
                                },
                                {
                                    "list_price": "3199.99"
                                },
                                {
                                    "list_price": "1099.99"
                                },
                                {
                                    "list_price": "1549.99"
                                },
                                {
                                    "list_price": "1799.99"
                                },
                                {
                                    "list_price": "4999.99"
                                },
                                {
                                    "list_price": "1799.99"
                                },
                                {
                                    "list_price": "5499.99"
                                },
                                {
                                    "list_price": "7499.99"
                                },
                                {
                                    "list_price": "4499.99"
                                },
                                {
                                    "list_price": "1549.99"
                                },
                                {
                                    "list_price": "2499.99"
                                },
                                {
                                    "list_price": "4999.99"
                                },
                                {
                                    "list_price": "5499.99"
                                },
                                {
                                    "list_price": "11999.99"
                                },
                                {
                                    "list_price": "6499.99"
                                },
                                {
                                    "list_price": "6499.99"
                                },
                                {
                                    "list_price": "959.99"
                                },
                                {
                                    "list_price": "2299.99"
                                },
                                {
                                    "list_price": "4499.99"
                                },
                                {
                                    "list_price": "1899.00"
                                },
                                {
                                    "list_price": "2999.99"
                                },
                                {
                                    "list_price": "1349.00"
                                },
                                {
                                    "list_price": "1549.00"
                                },
                                {
                                    "list_price": "2499.99"
                                },
                                {
                                    "list_price": "749.99"
                                },
                                {
                                    "list_price": "749.99"
                                },
                                {
                                    "list_price": "1549.00"
                                },
                                {
                                    "list_price": "6499.99"
                                },
                                {
                                    "list_price": "1299.99"
                                },
                                {
                                    "list_price": "3199.99"
                                },
                                {
                                    "list_price": "3199.99"
                                },
                                {
                                    "list_price": "3199.99"
                                },
                                {
                                    "list_price": "3199.99"
                                },
                                {
                                    "list_price": "3199.99"
                                },
                                {
                                    "list_price": "3199.99"
                                },
                                {
                                    "list_price": "5499.99"
                                },
                                {
                                    "list_price": "749.99"
                                },
                                {
                                    "list_price": "919.99"
                                },
                                {
                                    "list_price": "919.99"
                                },
                                {
                                    "list_price": "2199.99"
                                },
                                {
                                    "list_price": "2499.99"
                                },
                                {
                                    "list_price": "2199.99"
                                },
                                {
                                    "list_price": "3499.99"
                                },
                                {
                                    "list_price": "2799.99"
                                },
                                {
                                    "list_price": "4499.99"
                                },
                                {
                                    "list_price": "2799.99"
                                },
                                {
                                    "list_price": "3499.99"
                                },
                                {
                                    "list_price": "2799.99"
                                },
                                {
                                    "list_price": "2799.99"
                                },
                                {
                                    "list_price": "2799.99"
                                },
                                {
                                    "list_price": "2599.99"
                                },
                                {
                                    "list_price": "2799.99"
                                },
                                {
                                    "list_price": "3499.99"
                                },
                                {
                                    "list_price": "2599.99"
                                },
                                {
                                    "list_price": "2299.99"
                                },
                                {
                                    "list_price": "2299.99"
                                },
                                {
                                    "list_price": "2999.99"
                                },
                                {
                                    "list_price": "2999.99"
                                },
                                {
                                    "list_price": "3499.99"
                                },
                                {
                                    "list_price": "4499.99"
                                },
                                {
                                    "list_price": "3499.99"
                                },
                                {
                                    "list_price": "4999.99"
                                },
                                {
                                    "list_price": "3599.99"
                                },
                                {
                                    "list_price": "4999.99"
                                },
                                {
                                    "list_price": "3299.99"
                                },
                                {
                                    "list_price": "3999.99"
                                },
                                {
                                    "list_price": "1799.99"
                                },
                                {
                                    "list_price": "2999.99"
                                },
                                {
                                    "list_price": "1549.00"
                                },
                                {
                                    "list_price": "1549.00"
                                },
                                {
                                    "list_price": "559.99"
                                },
                                {
                                    "list_price": "269.99"
                                },
                                {
                                    "list_price": "899.99"
                                },
                                {
                                    "list_price": "749.99"
                                },
                                {
                                    "list_price": "899.99"
                                },
                                {
                                    "list_price": "909.99"
                                },
                                {
                                    "list_price": "319.99"
                                },
                                {
                                    "list_price": "639.99"
                                },
                                {
                                    "list_price": "269.99"
                                },
                                {
                                    "list_price": "319.99"
                                },
                                {
                                    "list_price": "269.99"
                                },
                                {
                                    "list_price": "529.99"
                                },
                                {
                                    "list_price": "479.99"
                                },
                                {
                                    "list_price": "959.99"
                                },
                                {
                                    "list_price": "679.99"
                                },
                                {
                                    "list_price": "319.99"
                                },
                                {
                                    "list_price": "319.99"
                                },
                                {
                                    "list_price": "429.99"
                                },
                                {
                                    "list_price": "429.99"
                                },
                                {
                                    "list_price": "529.99"
                                },
                                {
                                    "list_price": "479.99"
                                },
                                {
                                    "list_price": "639.99"
                                },
                                {
                                    "list_price": "899.99"
                                },
                                {
                                    "list_price": "899.99"
                                },
                                {
                                    "list_price": "749.99"
                                },
                                {
                                    "list_price": "849.99"
                                },
                                {
                                    "list_price": "749.99"
                                },
                                {
                                    "list_price": "749.99"
                                },
                                {
                                    "list_price": "899.99"
                                },
                                {
                                    "list_price": "749.99"
                                },
                                {
                                    "list_price": "699.99"
                                },
                                {
                                    "list_price": "679.99"
                                },
                                {
                                    "list_price": "559.99"
                                },
                                {
                                    "list_price": "659.99"
                                },
                                {
                                    "list_price": "639.99"
                                },
                                {
                                    "list_price": "599.99"
                                },
                                {
                                    "list_price": "599.99"
                                },
                                {
                                    "list_price": "749.99"
                                },
                                {
                                    "list_price": "2599.99"
                                },
                                {
                                    "list_price": "2999.99"
                                },
                                {
                                    "list_price": "2999.99"
                                },
                                {
                                    "list_price": "2599.99"
                                },
                                {
                                    "list_price": "749.99"
                                },
                                {
                                    "list_price": "899.99"
                                },
                                {
                                    "list_price": "899.99"
                                },
                                {
                                    "list_price": "899.99"
                                },
                                {
                                    "list_price": "1259.90"
                                },
                                {
                                    "list_price": "1199.99"
                                },
                                {
                                    "list_price": "799.99"
                                },
                                {
                                    "list_price": "899.99"
                                },
                                {
                                    "list_price": "249.99"
                                },
                                {
                                    "list_price": "89.99"
                                },
                                {
                                    "list_price": "249.99"
                                },
                                {
                                    "list_price": "289.99"
                                },
                                {
                                    "list_price": "399.99"
                                },
                                {
                                    "list_price": "199.99"
                                },
                                {
                                    "list_price": "159.99"
                                },
                                {
                                    "list_price": "199.99"
                                },
                                {
                                    "list_price": "209.99"
                                },
                                {
                                    "list_price": "209.99"
                                },
                                {
                                    "list_price": "289.99"
                                },
                                {
                                    "list_price": "289.99"
                                },
                                {
                                    "list_price": "229.99"
                                },
                                {
                                    "list_price": "229.99"
                                },
                                {
                                    "list_price": "319.99"
                                },
                                {
                                    "list_price": "369.99"
                                },
                                {
                                    "list_price": "369.99"
                                },
                                {
                                    "list_price": "319.99"
                                },
                                {
                                    "list_price": "489.99"
                                },
                                {
                                    "list_price": "319.99"
                                },
                                {
                                    "list_price": "279.99"
                                },
                                {
                                    "list_price": "319.99"
                                },
                                {
                                    "list_price": "319.99"
                                },
                                {
                                    "list_price": "279.99"
                                },
                                {
                                    "list_price": "279.99"
                                },
                                {
                                    "list_price": "279.99"
                                },
                                {
                                    "list_price": "389.99"
                                },
                                {
                                    "list_price": "319.99"
                                },
                                {
                                    "list_price": "369.99"
                                },
                                {
                                    "list_price": "319.99"
                                },
                                {
                                    "list_price": "369.99"
                                },
                                {
                                    "list_price": "319.99"
                                },
                                {
                                    "list_price": "369.99"
                                },
                                {
                                    "list_price": "319.99"
                                },
                                {
                                    "list_price": "369.99"
                                },
                                {
                                    "list_price": "279.99"
                                },
                                {
                                    "list_price": "279.99"
                                },
                                {
                                    "list_price": "559.99"
                                },
                                {
                                    "list_price": "799.99"
                                },
                                {
                                    "list_price": "899.99"
                                },
                                {
                                    "list_price": "449.99"
                                },
                                {
                                    "list_price": "2599.99"
                                },
                                {
                                    "list_price": "679.99"
                                },
                                {
                                    "list_price": "749.99"
                                },
                                {
                                    "list_price": "899.99"
                                },
                                {
                                    "list_price": "749.99"
                                },
                                {
                                    "list_price": "749.99"
                                },
                                {
                                    "list_price": "899.99"
                                },
                                {
                                    "list_price": "899.99"
                                },
                                {
                                    "list_price": "749.99"
                                },
                                {
                                    "list_price": "699.99"
                                },
                                {
                                    "list_price": "449.99"
                                },
                                {
                                    "list_price": "679.99"
                                },
                                {
                                    "list_price": "559.99"
                                },
                                {
                                    "list_price": "1699.99"
                                },
                                {
                                    "list_price": "1999.99"
                                },
                                {
                                    "list_price": "1999.99"
                                },
                                {
                                    "list_price": "2799.99"
                                },
                                {
                                    "list_price": "3799.99"
                                },
                                {
                                    "list_price": "3199.99"
                                }
                            ]
                        },
                        "text/html": "<table><tr><th>list_price</th></tr><tr><td>379.99</td></tr><tr><td>749.99</td></tr><tr><td>999.99</td></tr><tr><td>2899.99</td></tr><tr><td>1320.99</td></tr><tr><td>469.99</td></tr><tr><td>3999.99</td></tr><tr><td>1799.99</td></tr><tr><td>2999.99</td></tr><tr><td>1549.00</td></tr><tr><td>1680.99</td></tr><tr><td>549.99</td></tr><tr><td>269.99</td></tr><tr><td>269.99</td></tr><tr><td>529.99</td></tr><tr><td>599.99</td></tr><tr><td>429.00</td></tr><tr><td>449.00</td></tr><tr><td>449.00</td></tr><tr><td>599.99</td></tr><tr><td>269.99</td></tr><tr><td>269.99</td></tr><tr><td>299.99</td></tr><tr><td>549.99</td></tr><tr><td>499.99</td></tr><tr><td>599.99</td></tr><tr><td>999.99</td></tr><tr><td>2499.99</td></tr><tr><td>999.99</td></tr><tr><td>999.99</td></tr><tr><td>1632.99</td></tr><tr><td>469.99</td></tr><tr><td>469.99</td></tr><tr><td>469.99</td></tr><tr><td>832.99</td></tr><tr><td>832.99</td></tr><tr><td>379.99</td></tr><tr><td>549.99</td></tr><tr><td>1499.99</td></tr><tr><td>4999.99</td></tr><tr><td>1469.99</td></tr><tr><td>2299.99</td></tr><tr><td>5299.99</td></tr><tr><td>539.99</td></tr><tr><td>869.99</td></tr><tr><td>1409.99</td></tr><tr><td>5299.99</td></tr><tr><td>1499.99</td></tr><tr><td>3499.99</td></tr><tr><td>5999.99</td></tr><tr><td>6499.99</td></tr><tr><td>875.99</td></tr><tr><td>749.99</td></tr><tr><td>3199.99</td></tr><tr><td>2699.99</td></tr><tr><td>5499.99</td></tr><tr><td>1999.99</td></tr><tr><td>4999.99</td></tr><tr><td>2599.99</td></tr><tr><td>1559.99</td></tr><tr><td>4999.99</td></tr><tr><td>3499.99</td></tr><tr><td>3499.99</td></tr><tr><td>489.99</td></tr><tr><td>346.99</td></tr><tr><td>250.99</td></tr><tr><td>250.99</td></tr><tr><td>449.99</td></tr><tr><td>416.99</td></tr><tr><td>659.99</td></tr><tr><td>416.99</td></tr><tr><td>619.99</td></tr><tr><td>749.99</td></tr><tr><td>439.99</td></tr><tr><td>599.99</td></tr><tr><td>299.99</td></tr><tr><td>799.99</td></tr><tr><td>647.99</td></tr><tr><td>402.99</td></tr><tr><td>761.99</td></tr><tr><td>1099.99</td></tr><tr><td>659.99</td></tr><tr><td>149.99</td></tr><tr><td>109.99</td></tr><tr><td>329.99</td></tr><tr><td>149.99</td></tr><tr><td>189.99</td></tr><tr><td>189.99</td></tr><tr><td>209.99</td></tr><tr><td>209.99</td></tr><tr><td>349.99</td></tr><tr><td>209.99</td></tr><tr><td>209.99</td></tr><tr><td>249.99</td></tr><tr><td>299.99</td></tr><tr><td>349.99</td></tr><tr><td>349.99</td></tr><tr><td>489.99</td></tr><tr><td>299.99</td></tr><tr><td>489.99</td></tr><tr><td>339.99</td></tr><tr><td>489.99</td></tr><tr><td>551.99</td></tr><tr><td>481.99</td></tr><tr><td>533.99</td></tr><tr><td>449.99</td></tr><tr><td>416.99</td></tr><tr><td>449.99</td></tr><tr><td>416.99</td></tr><tr><td>470.99</td></tr><tr><td>470.99</td></tr><tr><td>379.99</td></tr><tr><td>489.99</td></tr><tr><td>579.99</td></tr><tr><td>3199.99</td></tr><tr><td>749.99</td></tr><tr><td>1469.99</td></tr><tr><td>999.99</td></tr><tr><td>469.99</td></tr><tr><td>2499.99</td></tr><tr><td>2499.99</td></tr><tr><td>2499.99</td></tr><tr><td>999.99</td></tr><tr><td>1499.00</td></tr><tr><td>469.99</td></tr><tr><td>469.99</td></tr><tr><td>469.99</td></tr><tr><td>1899.00</td></tr><tr><td>919.99</td></tr><tr><td>919.99</td></tr><tr><td>2599.00</td></tr><tr><td>1499.99</td></tr><tr><td>1499.99</td></tr><tr><td>1499.99</td></tr><tr><td>1499.99</td></tr><tr><td>1799.99</td></tr><tr><td>2599.00</td></tr><tr><td>2249.99</td></tr><tr><td>2999.99</td></tr><tr><td>4999.99</td></tr><tr><td>1599.99</td></tr><tr><td>3199.99</td></tr><tr><td>1099.99</td></tr><tr><td>1549.99</td></tr><tr><td>1799.99</td></tr><tr><td>4999.99</td></tr><tr><td>1799.99</td></tr><tr><td>5499.99</td></tr><tr><td>7499.99</td></tr><tr><td>4499.99</td></tr><tr><td>1549.99</td></tr><tr><td>2499.99</td></tr><tr><td>4999.99</td></tr><tr><td>5499.99</td></tr><tr><td>11999.99</td></tr><tr><td>6499.99</td></tr><tr><td>6499.99</td></tr><tr><td>959.99</td></tr><tr><td>2299.99</td></tr><tr><td>4499.99</td></tr><tr><td>1899.00</td></tr><tr><td>2999.99</td></tr><tr><td>1349.00</td></tr><tr><td>1549.00</td></tr><tr><td>2499.99</td></tr><tr><td>749.99</td></tr><tr><td>749.99</td></tr><tr><td>1549.00</td></tr><tr><td>6499.99</td></tr><tr><td>1299.99</td></tr><tr><td>3199.99</td></tr><tr><td>3199.99</td></tr><tr><td>3199.99</td></tr><tr><td>3199.99</td></tr><tr><td>3199.99</td></tr><tr><td>3199.99</td></tr><tr><td>5499.99</td></tr><tr><td>749.99</td></tr><tr><td>919.99</td></tr><tr><td>919.99</td></tr><tr><td>2199.99</td></tr><tr><td>2499.99</td></tr><tr><td>2199.99</td></tr><tr><td>3499.99</td></tr><tr><td>2799.99</td></tr><tr><td>4499.99</td></tr><tr><td>2799.99</td></tr><tr><td>3499.99</td></tr><tr><td>2799.99</td></tr><tr><td>2799.99</td></tr><tr><td>2799.99</td></tr><tr><td>2599.99</td></tr><tr><td>2799.99</td></tr><tr><td>3499.99</td></tr><tr><td>2599.99</td></tr><tr><td>2299.99</td></tr><tr><td>2299.99</td></tr><tr><td>2999.99</td></tr><tr><td>2999.99</td></tr><tr><td>3499.99</td></tr><tr><td>4499.99</td></tr><tr><td>3499.99</td></tr><tr><td>4999.99</td></tr><tr><td>3599.99</td></tr><tr><td>4999.99</td></tr><tr><td>3299.99</td></tr><tr><td>3999.99</td></tr><tr><td>1799.99</td></tr><tr><td>2999.99</td></tr><tr><td>1549.00</td></tr><tr><td>1549.00</td></tr><tr><td>559.99</td></tr><tr><td>269.99</td></tr><tr><td>899.99</td></tr><tr><td>749.99</td></tr><tr><td>899.99</td></tr><tr><td>909.99</td></tr><tr><td>319.99</td></tr><tr><td>639.99</td></tr><tr><td>269.99</td></tr><tr><td>319.99</td></tr><tr><td>269.99</td></tr><tr><td>529.99</td></tr><tr><td>479.99</td></tr><tr><td>959.99</td></tr><tr><td>679.99</td></tr><tr><td>319.99</td></tr><tr><td>319.99</td></tr><tr><td>429.99</td></tr><tr><td>429.99</td></tr><tr><td>529.99</td></tr><tr><td>479.99</td></tr><tr><td>639.99</td></tr><tr><td>899.99</td></tr><tr><td>899.99</td></tr><tr><td>749.99</td></tr><tr><td>849.99</td></tr><tr><td>749.99</td></tr><tr><td>749.99</td></tr><tr><td>899.99</td></tr><tr><td>749.99</td></tr><tr><td>699.99</td></tr><tr><td>679.99</td></tr><tr><td>559.99</td></tr><tr><td>659.99</td></tr><tr><td>639.99</td></tr><tr><td>599.99</td></tr><tr><td>599.99</td></tr><tr><td>749.99</td></tr><tr><td>2599.99</td></tr><tr><td>2999.99</td></tr><tr><td>2999.99</td></tr><tr><td>2599.99</td></tr><tr><td>749.99</td></tr><tr><td>899.99</td></tr><tr><td>899.99</td></tr><tr><td>899.99</td></tr><tr><td>1259.90</td></tr><tr><td>1199.99</td></tr><tr><td>799.99</td></tr><tr><td>899.99</td></tr><tr><td>249.99</td></tr><tr><td>89.99</td></tr><tr><td>249.99</td></tr><tr><td>289.99</td></tr><tr><td>399.99</td></tr><tr><td>199.99</td></tr><tr><td>159.99</td></tr><tr><td>199.99</td></tr><tr><td>209.99</td></tr><tr><td>209.99</td></tr><tr><td>289.99</td></tr><tr><td>289.99</td></tr><tr><td>229.99</td></tr><tr><td>229.99</td></tr><tr><td>319.99</td></tr><tr><td>369.99</td></tr><tr><td>369.99</td></tr><tr><td>319.99</td></tr><tr><td>489.99</td></tr><tr><td>319.99</td></tr><tr><td>279.99</td></tr><tr><td>319.99</td></tr><tr><td>319.99</td></tr><tr><td>279.99</td></tr><tr><td>279.99</td></tr><tr><td>279.99</td></tr><tr><td>389.99</td></tr><tr><td>319.99</td></tr><tr><td>369.99</td></tr><tr><td>319.99</td></tr><tr><td>369.99</td></tr><tr><td>319.99</td></tr><tr><td>369.99</td></tr><tr><td>319.99</td></tr><tr><td>369.99</td></tr><tr><td>279.99</td></tr><tr><td>279.99</td></tr><tr><td>559.99</td></tr><tr><td>799.99</td></tr><tr><td>899.99</td></tr><tr><td>449.99</td></tr><tr><td>2599.99</td></tr><tr><td>679.99</td></tr><tr><td>749.99</td></tr><tr><td>899.99</td></tr><tr><td>749.99</td></tr><tr><td>749.99</td></tr><tr><td>899.99</td></tr><tr><td>899.99</td></tr><tr><td>749.99</td></tr><tr><td>699.99</td></tr><tr><td>449.99</td></tr><tr><td>679.99</td></tr><tr><td>559.99</td></tr><tr><td>1699.99</td></tr><tr><td>1999.99</td></tr><tr><td>1999.99</td></tr><tr><td>2799.99</td></tr><tr><td>3799.99</td></tr><tr><td>3199.99</td></tr></table>"
                    },
                    "metadata": {
                        "azdata_chartOptions": {
                            "type": "bar",
                            "dataDirection": "horizontal",
                            "columnsAsLabels": true,
                            "labelFirstColumn": false,
                            "legendPosition": "none",
                            "dataType": "number"
                        }
                    }
                }
            ],
            "execution_count": 15
        },
        {
            "cell_type": "markdown",
            "source": [
                "# Minimum, maximum, átlag hossza a termékek neveinek"
            ],
            "metadata": {
                "azdata_cell_guid": "acb4d192-1c03-49e7-a015-f0d762621cd4"
            },
            "attachments": {}
        },
        {
            "cell_type": "code",
            "source": [
                "SELECT MIN(LEN(product_name)) AS string_length_min, \r\n",
                "       MAX(LEN(product_name)) AS string_length_max, \r\n",
                "       AVG(LEN(product_name)) AS string_length_avg, \r\n",
                "       STDEV(LEN(product_name)) AS string_length_stddev, \r\n",
                "       VAR(LEN(product_name)) AS string_length_var\r\n",
                "FROM products\r\n",
                "WHERE product_name IS NOT NULL\r\n",
                "AND LEN(product_name) > 0"
            ],
            "metadata": {
                "azdata_cell_guid": "98e0b412-8290-4051-bd54-029f4ae4923d",
                "language": "sql"
            },
            "outputs": [
                {
                    "output_type": "display_data",
                    "data": {
                        "text/html": "(1 row affected)"
                    },
                    "metadata": {}
                },
                {
                    "output_type": "display_data",
                    "data": {
                        "text/html": "Total execution time: 00:00:00.006"
                    },
                    "metadata": {}
                },
                {
                    "output_type": "execute_result",
                    "metadata": {},
                    "execution_count": 2,
                    "data": {
                        "application/vnd.dataresource+json": {
                            "schema": {
                                "fields": [
                                    {
                                        "name": "string_length_min"
                                    },
                                    {
                                        "name": "string_length_max"
                                    },
                                    {
                                        "name": "string_length_avg"
                                    },
                                    {
                                        "name": "string_length_stddev"
                                    },
                                    {
                                        "name": "string_length_var"
                                    }
                                ]
                            },
                            "data": [
                                {
                                    "string_length_min": "15",
                                    "string_length_max": "53",
                                    "string_length_avg": "31",
                                    "string_length_stddev": "8,078641410565174",
                                    "string_length_var": "65,26444704049845"
                                }
                            ]
                        },
                        "text/html": [
                            "<table>",
                            "<tr><th>string_length_min</th><th>string_length_max</th><th>string_length_avg</th><th>string_length_stddev</th><th>string_length_var</th></tr>",
                            "<tr><td>15</td><td>53</td><td>31</td><td>8,078641410565174</td><td>65,26444704049845</td></tr>",
                            "</table>"
                        ]
                    }
                }
            ],
            "execution_count": 2
        },
        {
            "cell_type": "markdown",
            "source": [
                "# Üres, és null értékek keresése a product\\_name oszlopban"
            ],
            "metadata": {
                "azdata_cell_guid": "bd7ec93c-2591-4bd1-b3fb-7ffa5b135167"
            },
            "attachments": {}
        },
        {
            "cell_type": "code",
            "source": [
                "SELECT row_type,\r\n",
                "    COUNT(*) row_count\r\n",
                "FROM \r\n",
                "    (SELECT \r\n",
                "        CASE WHEN product_name IS NULL THEN 'Null'\r\n",
                "            WHEN LEN(product_name) = 0 THEN 'Üres'\r\n",
                "            ELSE 'Nem üres' \r\n",
                "            END AS row_type\r\n",
                "        FROM products) rows\r\n",
                "GROUP BY row_type"
            ],
            "metadata": {
                "azdata_cell_guid": "2b707242-51a0-401a-b7cb-5944d145d01b",
                "language": "sql",
                "tags": []
            },
            "outputs": [
                {
                    "output_type": "display_data",
                    "data": {
                        "text/html": "(1 row affected)"
                    },
                    "metadata": {}
                },
                {
                    "output_type": "display_data",
                    "data": {
                        "text/html": "Total execution time: 00:00:00.014"
                    },
                    "metadata": {}
                },
                {
                    "output_type": "execute_result",
                    "metadata": {},
                    "execution_count": 4,
                    "data": {
                        "application/vnd.dataresource+json": {
                            "schema": {
                                "fields": [
                                    {
                                        "name": "row_type"
                                    },
                                    {
                                        "name": "row_count"
                                    }
                                ]
                            },
                            "data": [
                                {
                                    "row_type": "Nem üres",
                                    "row_count": "321"
                                }
                            ]
                        },
                        "text/html": [
                            "<table>",
                            "<tr><th>row_type</th><th>row_count</th></tr>",
                            "<tr><td>Nem üres</td><td>321</td></tr>",
                            "</table>"
                        ]
                    }
                }
            ],
            "execution_count": 4
        },
        {
            "cell_type": "markdown",
            "source": [
                "# Egyedi értékek száma a product\\_name oszlopban"
            ],
            "metadata": {
                "azdata_cell_guid": "7d5439bc-e5d1-4708-a423-d9780788f8e2"
            },
            "attachments": {}
        },
        {
            "cell_type": "code",
            "source": [
                "SELECT COUNT(DISTINCT list_price) AS 'egyedi értékek'\r\n",
                "FROM products\r\n",
                "WHERE list_price IS NOT NULL"
            ],
            "metadata": {
                "azdata_cell_guid": "a8996278-642b-4a2b-9b45-783f2fa8358c",
                "language": "sql"
            },
            "outputs": [
                {
                    "output_type": "display_data",
                    "data": {
                        "text/html": "(1 row affected)"
                    },
                    "metadata": {}
                },
                {
                    "output_type": "display_data",
                    "data": {
                        "text/html": "Total execution time: 00:00:00.010"
                    },
                    "metadata": {}
                },
                {
                    "output_type": "execute_result",
                    "metadata": {},
                    "execution_count": 6,
                    "data": {
                        "application/vnd.dataresource+json": {
                            "schema": {
                                "fields": [
                                    {
                                        "name": "egyedi értékek"
                                    }
                                ]
                            },
                            "data": [
                                {
                                    "egyedi értékek": "106"
                                }
                            ]
                        },
                        "text/html": [
                            "<table>",
                            "<tr><th>egyedi értékek</th></tr>",
                            "<tr><td>106</td></tr>",
                            "</table>"
                        ]
                    }
                }
            ],
            "execution_count": 6
        },
        {
            "cell_type": "markdown",
            "source": [
                "# model\\_year oszlop minimuma, maximuma, átlaga"
            ],
            "metadata": {
                "azdata_cell_guid": "31886ebe-5a73-437d-9446-b0a3abf7a15a"
            },
            "attachments": {}
        },
        {
            "cell_type": "code",
            "source": [
                "SELECT MIN(model_year) AS value_min, \r\n",
                "       MAX(model_year) AS value_max, \r\n",
                "       AVG(model_year) AS value_avg\r\n",
                "FROM products\r\n",
                "WHERE model_year IS NOT NULL"
            ],
            "metadata": {
                "azdata_cell_guid": "d58565f1-11bb-41a7-8544-6bc2c567066e",
                "language": "sql"
            },
            "outputs": [
                {
                    "output_type": "display_data",
                    "data": {
                        "text/html": "(1 row affected)"
                    },
                    "metadata": {}
                },
                {
                    "output_type": "display_data",
                    "data": {
                        "text/html": "Total execution time: 00:00:00.014"
                    },
                    "metadata": {}
                },
                {
                    "output_type": "execute_result",
                    "metadata": {},
                    "execution_count": 8,
                    "data": {
                        "application/vnd.dataresource+json": {
                            "schema": {
                                "fields": [
                                    {
                                        "name": "value_min"
                                    },
                                    {
                                        "name": "value_max"
                                    },
                                    {
                                        "name": "value_avg"
                                    }
                                ]
                            },
                            "data": [
                                {
                                    "value_min": "2016",
                                    "value_max": "2019",
                                    "value_avg": "2017"
                                }
                            ]
                        },
                        "text/html": [
                            "<table>",
                            "<tr><th>value_min</th><th>value_max</th><th>value_avg</th></tr>",
                            "<tr><td>2016</td><td>2019</td><td>2017</td></tr>",
                            "</table>"
                        ]
                    }
                }
            ],
            "execution_count": 8
        }
    ]
}