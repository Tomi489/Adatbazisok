{
    "metadata": {
        "kernelspec": {
            "name": "SQL",
            "display_name": "SQL",
            "language": "sql"
        },
        "language_info": {
            "name": "sql",
            "version": ""
        }
    },
    "nbformat_minor": 2,
    "nbformat": 4,
    "cells": [
        {
            "cell_type": "code",
            "source": [
                "SELECT tipus, hely, CAST(AVG(csillagok_szama) OVER(PARTITION BY tipus, hely)AS DECIMAL(10,2)) as 'átlagcsillagok'\r\n",
                "FROM szallashely\r\n",
                "WHERE SZALLAS_NEV IN(\r\n",
                "    SELECT SZALLAS_NEV\r\n",
                "    FROM szallashely\r\n",
                "    WHERE CHARINDEX('-', SZALLAS_NEV,0) =0\r\n",
                ")"
            ],
            "metadata": {
                "azdata_cell_guid": "ae343ac7-ff89-47d7-8ca2-c5ffb4b48251",
                "language": "sql"
            },
            "outputs": [
                {
                    "output_type": "display_data",
                    "data": {
                        "text/html": "(20 rows affected)"
                    },
                    "metadata": {}
                },
                {
                    "output_type": "display_data",
                    "data": {
                        "text/html": "Total execution time: 00:00:00.007"
                    },
                    "metadata": {}
                },
                {
                    "output_type": "execute_result",
                    "metadata": {},
                    "execution_count": 18,
                    "data": {
                        "application/vnd.dataresource+json": {
                            "schema": {
                                "fields": [
                                    {
                                        "name": "tipus"
                                    },
                                    {
                                        "name": "hely"
                                    },
                                    {
                                        "name": "átlagcsillagok"
                                    }
                                ]
                            },
                            "data": [
                                {
                                    "tipus": "Apartman",
                                    "hely": "Balaton-dél",
                                    "átlagcsillagok": "0.00"
                                },
                                {
                                    "tipus": "Apartman",
                                    "hely": "Dél-Somogy",
                                    "átlagcsillagok": "0.00"
                                },
                                {
                                    "tipus": "Apartman",
                                    "hely": "Hajdúbihar megye",
                                    "átlagcsillagok": "0.00"
                                },
                                {
                                    "tipus": "Diákszálló",
                                    "hely": "Budapest",
                                    "átlagcsillagok": "0.00"
                                },
                                {
                                    "tipus": "Hotel",
                                    "hely": "Balaton-dél",
                                    "átlagcsillagok": "3.00"
                                },
                                {
                                    "tipus": "Hotel",
                                    "hely": "Balaton-dél",
                                    "átlagcsillagok": "3.00"
                                },
                                {
                                    "tipus": "Hotel",
                                    "hely": "Budapest",
                                    "átlagcsillagok": "3.00"
                                },
                                {
                                    "tipus": "Hotel",
                                    "hely": "Budapest",
                                    "átlagcsillagok": "3.00"
                                },
                                {
                                    "tipus": "Hotel",
                                    "hely": "Pest megye",
                                    "átlagcsillagok": "3.00"
                                },
                                {
                                    "tipus": "Hotel",
                                    "hely": "Tolna megye",
                                    "átlagcsillagok": "4.00"
                                },
                                {
                                    "tipus": "panzió",
                                    "hely": "Balaton-dél",
                                    "átlagcsillagok": "3.00"
                                },
                                {
                                    "tipus": "panzió",
                                    "hely": "Balaton-dél",
                                    "átlagcsillagok": "3.00"
                                },
                                {
                                    "tipus": "panzió",
                                    "hely": "Békés megye",
                                    "átlagcsillagok": "3.00"
                                },
                                {
                                    "tipus": "panzió",
                                    "hely": "Budapest",
                                    "átlagcsillagok": "3.00"
                                },
                                {
                                    "tipus": "panzió",
                                    "hely": "Csongrád megye",
                                    "átlagcsillagok": "3.00"
                                },
                                {
                                    "tipus": "vendégház",
                                    "hely": "Balaton-dél",
                                    "átlagcsillagok": "0.00"
                                },
                                {
                                    "tipus": "vendégház",
                                    "hely": "Balaton-észak",
                                    "átlagcsillagok": "0.00"
                                },
                                {
                                    "tipus": "vendégház",
                                    "hely": "Csongrád megye",
                                    "átlagcsillagok": "0.00"
                                },
                                {
                                    "tipus": "vendégház",
                                    "hely": "Dél-Somogy",
                                    "átlagcsillagok": "0.00"
                                },
                                {
                                    "tipus": "vendégház",
                                    "hely": "Dél-Somogy",
                                    "átlagcsillagok": "0.00"
                                }
                            ]
                        },
                        "text/html": [
                            "<table>",
                            "<tr><th>tipus</th><th>hely</th><th>átlagcsillagok</th></tr>",
                            "<tr><td>Apartman</td><td>Balaton-dél</td><td>0.00</td></tr>",
                            "<tr><td>Apartman</td><td>Dél-Somogy</td><td>0.00</td></tr>",
                            "<tr><td>Apartman</td><td>Hajdúbihar megye</td><td>0.00</td></tr>",
                            "<tr><td>Diákszálló</td><td>Budapest</td><td>0.00</td></tr>",
                            "<tr><td>Hotel</td><td>Balaton-dél</td><td>3.00</td></tr>",
                            "<tr><td>Hotel</td><td>Balaton-dél</td><td>3.00</td></tr>",
                            "<tr><td>Hotel</td><td>Budapest</td><td>3.00</td></tr>",
                            "<tr><td>Hotel</td><td>Budapest</td><td>3.00</td></tr>",
                            "<tr><td>Hotel</td><td>Pest megye</td><td>3.00</td></tr>",
                            "<tr><td>Hotel</td><td>Tolna megye</td><td>4.00</td></tr>",
                            "<tr><td>panzió</td><td>Balaton-dél</td><td>3.00</td></tr>",
                            "<tr><td>panzió</td><td>Balaton-dél</td><td>3.00</td></tr>",
                            "<tr><td>panzió</td><td>Békés megye</td><td>3.00</td></tr>",
                            "<tr><td>panzió</td><td>Budapest</td><td>3.00</td></tr>",
                            "<tr><td>panzió</td><td>Csongrád megye</td><td>3.00</td></tr>",
                            "<tr><td>vendégház</td><td>Balaton-dél</td><td>0.00</td></tr>",
                            "<tr><td>vendégház</td><td>Balaton-észak</td><td>0.00</td></tr>",
                            "<tr><td>vendégház</td><td>Csongrád megye</td><td>0.00</td></tr>",
                            "<tr><td>vendégház</td><td>Dél-Somogy</td><td>0.00</td></tr>",
                            "<tr><td>vendégház</td><td>Dél-Somogy</td><td>0.00</td></tr>",
                            "</table>"
                        ]
                    }
                }
            ],
            "execution_count": 18
        },
        {
            "cell_type": "code",
            "source": [
                "SELECT SZOBA_ID, FEROHELY, DENSE_RANK() OVER(PARTITION BY SZOBA_ID ORDER BY COUNT(FOGlalas_PK), FEROHELY)\r\n",
                "FROM szoba sz JOIN Foglalas f ON sz.SZOBA_ID=f.SZOBA_FK\r\n",
                "GROUP BY SZOBA_ID"
            ],
            "metadata": {
                "azdata_cell_guid": "6bded54e-cdd8-43c6-909c-1a290784353b",
                "language": "sql"
            },
            "outputs": [
                {
                    "output_type": "error",
                    "evalue": "Msg 8120, Level 16, State 1, Line 1\r\nColumn 'szoba.FEROHELY' is invalid in the select list because it is not contained in either an aggregate function or the GROUP BY clause.",
                    "ename": "",
                    "traceback": []
                },
                {
                    "output_type": "display_data",
                    "data": {
                        "text/html": "Total execution time: 00:00:00.002"
                    },
                    "metadata": {}
                }
            ],
            "execution_count": 23
        },
        {
            "cell_type": "code",
            "source": [
                "SELECT *\r\n",
                "FROM foglalas f join Vendeg v ON f.UGYFEL_FK = v.USERNEV\r\n",
                "WHERE usernev=\r\n",
                "(\r\n",
                "    SELECT USERNEV\r\n",
                "      FROM Vendeg\r\n",
                "      WHERE szul_dat >\r\n",
                "   ( \r\n",
                "    \r\n",
                "     SELECT MAX(szul_dat)\r\n",
                "\r\n",
                "     FROM Vendeg\r\n",
                "\r\n",
                "     ) \r\n",
                "\r\n",
                ")\r\n",
                "\r\n",
                ""
            ],
            "metadata": {
                "azdata_cell_guid": "a857c17b-bae5-4ab2-839d-90fcdfd2efb5",
                "language": "sql"
            },
            "outputs": [
                {
                    "output_type": "display_data",
                    "data": {
                        "text/html": "(0 rows affected)"
                    },
                    "metadata": {}
                },
                {
                    "output_type": "display_data",
                    "data": {
                        "text/html": "Total execution time: 00:00:00.012"
                    },
                    "metadata": {}
                },
                {
                    "output_type": "execute_result",
                    "metadata": {},
                    "execution_count": 27,
                    "data": {
                        "application/vnd.dataresource+json": {
                            "schema": {
                                "fields": [
                                    {
                                        "name": "FOGLALAS_PK"
                                    },
                                    {
                                        "name": "UGYFEL_FK"
                                    },
                                    {
                                        "name": "SZOBA_FK"
                                    },
                                    {
                                        "name": "METTOL"
                                    },
                                    {
                                        "name": "MEDDIG"
                                    },
                                    {
                                        "name": "FELNOTT_SZAM"
                                    },
                                    {
                                        "name": "GYERMEK_SZAM"
                                    },
                                    {
                                        "name": "USERNEV"
                                    },
                                    {
                                        "name": "NEV"
                                    },
                                    {
                                        "name": "EMAIL"
                                    },
                                    {
                                        "name": "SZAML_CIM"
                                    },
                                    {
                                        "name": "SZUL_DAT"
                                    }
                                ]
                            },
                            "data": []
                        },
                        "text/html": [
                            "<table>",
                            "<tr><th>FOGLALAS_PK</th><th>UGYFEL_FK</th><th>SZOBA_FK</th><th>METTOL</th><th>MEDDIG</th><th>FELNOTT_SZAM</th><th>GYERMEK_SZAM</th><th>USERNEV</th><th>NEV</th><th>EMAIL</th><th>SZAML_CIM</th><th>SZUL_DAT</th></tr>",
                            "</table>"
                        ]
                    }
                }
            ],
            "execution_count": 27
        },
        {
            "cell_type": "code",
            "source": [
                ""
            ],
            "metadata": {
                "azdata_cell_guid": "79dae5cb-c4ad-4bec-abc2-6f8bb60f2179",
                "language": "sql"
            },
            "outputs": [],
            "execution_count": null
        }
    ]
}